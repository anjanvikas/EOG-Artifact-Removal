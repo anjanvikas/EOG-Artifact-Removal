{
 "cells": [
  {
   "cell_type": "code",
   "execution_count": 117,
   "id": "4fd4fb7d",
   "metadata": {},
   "outputs": [],
   "source": [
    "import numpy as np\n",
    "import mne\n",
    "import pandas as pd\n",
    "import os"
   ]
  },
  {
   "cell_type": "code",
   "execution_count": 118,
   "id": "69479879",
   "metadata": {},
   "outputs": [],
   "source": [
    "electrode_names_file=r\"C:\\Users\\DELL\\Desktop\\20credit\\EEG_eye_artifact\\electrode_data\\10_20_elc_electrodes.txt\"\n",
    "electrode_pos_file=r\"C:\\Users\\DELL\\Desktop\\20credit\\EEG_eye_artifact\\electrode_data\\1020_elc_position.txt\""
   ]
  },
  {
   "cell_type": "code",
   "execution_count": 119,
   "id": "890aeb1c",
   "metadata": {},
   "outputs": [],
   "source": [
    "def readFile(fileName):\n",
    "        fileObj = open(fileName, \"r\") #opens the file in read mode\n",
    "        words = fileObj.read().splitlines() #puts the file into an array\n",
    "        fileObj.close()\n",
    "        return words"
   ]
  },
  {
   "cell_type": "code",
   "execution_count": 120,
   "id": "4b45d859",
   "metadata": {},
   "outputs": [],
   "source": [
    "electrode_names=readFile(electrode_names_file)\n",
    "electrode_pos=readFile(electrode_pos_file)"
   ]
  },
  {
   "cell_type": "code",
   "execution_count": 121,
   "id": "31275aaf",
   "metadata": {},
   "outputs": [],
   "source": [
    "for i in range(len(electrode_names)):\n",
    "    temp=electrode_pos[i].split(\" \")\n",
    "    nparray=[]\n",
    "    for j in range(len(temp)):\n",
    "        if temp[j]!='':\n",
    "            nparray.append(float(temp[j]))  \n",
    "    electrode_pos[i]=np.array(nparray)"
   ]
  },
  {
   "cell_type": "code",
   "execution_count": 122,
   "id": "541febb7",
   "metadata": {},
   "outputs": [],
   "source": [
    "electrode_dict={}\n",
    "for i in range(len(electrode_names)):\n",
    "    electrode_dict[electrode_names[i]]=electrode_pos[i]"
   ]
  },
  {
   "cell_type": "code",
   "execution_count": 123,
   "id": "aa21db24",
   "metadata": {},
   "outputs": [
    {
     "name": "stderr",
     "output_type": "stream",
     "text": [
      "C:\\Users\\DELL\\anaconda3\\lib\\site-packages\\pymatreader\\utils.py:122: UserWarning: Complex objects (like classes) are not supported. They are imported on a best effort base but your mileage will vary.\n",
      "  warn('Complex objects (like classes) are not supported. '\n"
     ]
    },
    {
     "name": "stdout",
     "output_type": "stream",
     "text": [
      "Extracting parameters from C:\\Users\\DELL\\Desktop\\20credit\\EEG_eye_artifact\\study01\\study01_p01_prep.set...\n",
      "Not setting metadata\n",
      "52 matching events found\n",
      "No baseline correction applied\n"
     ]
    },
    {
     "name": "stderr",
     "output_type": "stream",
     "text": [
      "C:\\Users\\DELL\\AppData\\Local\\Temp\\ipykernel_14424\\374036335.py:1: RuntimeWarning: At least one epoch has multiple events. Only the latency of the first event will be retained.\n",
      "  study1=mne.io.read_epochs_eeglab(r\"C:\\Users\\DELL\\Desktop\\20credit\\EEG_eye_artifact\\study01\\study01_p01_prep.set\")\n",
      "C:\\Users\\DELL\\AppData\\Local\\Temp\\ipykernel_14424\\374036335.py:1: RuntimeWarning: Unknown types found, setting as type EEG:\n",
      "artifact: ['eye-art', 'eye-blink', 'eye-d', 'eye-fix', 'eye-l', 'eye-r', 'eye-u']\n",
      "eoglpf: ['HEOG_lpf', 'REOG_lpf', 'VEOG_lpf']\n",
      "label: ['artifactclasses']\n",
      "paradigm: ['block']\n",
      "snap: ['target_S', 'target_X', 'target_Z']\n",
      "state: ['label']\n",
      "  study1=mne.io.read_epochs_eeglab(r\"C:\\Users\\DELL\\Desktop\\20credit\\EEG_eye_artifact\\study01\\study01_p01_prep.set\")\n",
      "C:\\Users\\DELL\\AppData\\Local\\Temp\\ipykernel_14424\\374036335.py:1: RuntimeWarning: Data file name in EEG.data (ebs_prep.fdt) is incorrect, the file name must have changed on disk, using the correct file name (study01_p01_prep.fdt).\n",
      "  study1=mne.io.read_epochs_eeglab(r\"C:\\Users\\DELL\\Desktop\\20credit\\EEG_eye_artifact\\study01\\study01_p01_prep.set\")\n"
     ]
    },
    {
     "name": "stdout",
     "output_type": "stream",
     "text": [
      "0 projection items activated\n",
      "Ready.\n"
     ]
    },
    {
     "name": "stderr",
     "output_type": "stream",
     "text": [
      "C:\\Users\\DELL\\AppData\\Local\\Temp\\ipykernel_14424\\374036335.py:1: RuntimeWarning: Not setting positions of 3 eog channels found in montage:\n",
      "['HEOG', 'VEOG', 'REOG']\n",
      "Consider setting the channel types to be of EEG/sEEG/ECoG/DBS/fNIRS using inst.set_channel_types before calling inst.set_montage, or omit these channels when creating your montage.\n",
      "  study1=mne.io.read_epochs_eeglab(r\"C:\\Users\\DELL\\Desktop\\20credit\\EEG_eye_artifact\\study01\\study01_p01_prep.set\")\n",
      "C:\\Users\\DELL\\anaconda3\\lib\\site-packages\\pymatreader\\utils.py:122: UserWarning: Complex objects (like classes) are not supported. They are imported on a best effort base but your mileage will vary.\n",
      "  warn('Complex objects (like classes) are not supported. '\n"
     ]
    },
    {
     "name": "stdout",
     "output_type": "stream",
     "text": [
      "Extracting parameters from C:\\Users\\DELL\\Desktop\\20credit\\EEG_eye_artifact\\study02\\study02_p02_prep.set...\n",
      "Not setting metadata\n",
      "45 matching events found\n",
      "No baseline correction applied\n",
      "0 projection items activated\n",
      "Ready.\n"
     ]
    },
    {
     "name": "stderr",
     "output_type": "stream",
     "text": [
      "C:\\Users\\DELL\\AppData\\Local\\Temp\\ipykernel_14424\\374036335.py:2: RuntimeWarning: At least one epoch has multiple events. Only the latency of the first event will be retained.\n",
      "  study2=mne.io.read_epochs_eeglab(r\"C:\\Users\\DELL\\Desktop\\20credit\\EEG_eye_artifact\\study02\\study02_p02_prep.set\")\n",
      "C:\\Users\\DELL\\AppData\\Local\\Temp\\ipykernel_14424\\374036335.py:2: RuntimeWarning: Unknown types found, setting as type EEG:\n",
      "artifact: ['eye-art', 'eye-blink', 'eye-d', 'eye-fix', 'eye-l', 'eye-r', 'eye-u']\n",
      "eoglpf: ['HEOG_lpf', 'REOG_lpf', 'VEOG_lpf']\n",
      "label: ['artifactclasses']\n",
      "paradigm: ['block']\n",
      "snap: ['target_S', 'target_X', 'target_Z']\n",
      "state: ['label']\n",
      "  study2=mne.io.read_epochs_eeglab(r\"C:\\Users\\DELL\\Desktop\\20credit\\EEG_eye_artifact\\study02\\study02_p02_prep.set\")\n",
      "C:\\Users\\DELL\\AppData\\Local\\Temp\\ipykernel_14424\\374036335.py:2: RuntimeWarning: Data file name in EEG.data (ebs_prep.fdt) is incorrect, the file name must have changed on disk, using the correct file name (study02_p02_prep.fdt).\n",
      "  study2=mne.io.read_epochs_eeglab(r\"C:\\Users\\DELL\\Desktop\\20credit\\EEG_eye_artifact\\study02\\study02_p02_prep.set\")\n",
      "C:\\Users\\DELL\\AppData\\Local\\Temp\\ipykernel_14424\\374036335.py:2: RuntimeWarning: Not setting positions of 3 eog channels found in montage:\n",
      "['HEOG', 'VEOG', 'REOG']\n",
      "Consider setting the channel types to be of EEG/sEEG/ECoG/DBS/fNIRS using inst.set_channel_types before calling inst.set_montage, or omit these channels when creating your montage.\n",
      "  study2=mne.io.read_epochs_eeglab(r\"C:\\Users\\DELL\\Desktop\\20credit\\EEG_eye_artifact\\study02\\study02_p02_prep.set\")\n",
      "C:\\Users\\DELL\\anaconda3\\lib\\site-packages\\pymatreader\\utils.py:122: UserWarning: Complex objects (like classes) are not supported. They are imported on a best effort base but your mileage will vary.\n",
      "  warn('Complex objects (like classes) are not supported. '\n"
     ]
    },
    {
     "name": "stdout",
     "output_type": "stream",
     "text": [
      "Extracting parameters from C:\\Users\\DELL\\Desktop\\20credit\\EEG_eye_artifact\\study03\\study03_p03_prep.set...\n",
      "Not setting metadata\n",
      "46 matching events found\n",
      "No baseline correction applied\n",
      "0 projection items activated\n",
      "Ready.\n"
     ]
    },
    {
     "name": "stderr",
     "output_type": "stream",
     "text": [
      "C:\\Users\\DELL\\AppData\\Local\\Temp\\ipykernel_14424\\374036335.py:3: RuntimeWarning: At least one epoch has multiple events. Only the latency of the first event will be retained.\n",
      "  study3=mne.io.read_epochs_eeglab(r\"C:\\Users\\DELL\\Desktop\\20credit\\EEG_eye_artifact\\study03\\study03_p03_prep.set\")\n",
      "C:\\Users\\DELL\\AppData\\Local\\Temp\\ipykernel_14424\\374036335.py:3: RuntimeWarning: Unknown types found, setting as type EEG:\n",
      "artifact: ['eye-art', 'eye-blink', 'eye-d', 'eye-fix', 'eye-l', 'eye-r', 'eye-u']\n",
      "eoglpf: ['HEOG_lpf', 'REOG_lpf', 'VEOG_lpf']\n",
      "label: ['artifactclasses']\n",
      "paradigm: ['block']\n",
      "state: ['label']\n",
      "  study3=mne.io.read_epochs_eeglab(r\"C:\\Users\\DELL\\Desktop\\20credit\\EEG_eye_artifact\\study03\\study03_p03_prep.set\")\n",
      "C:\\Users\\DELL\\AppData\\Local\\Temp\\ipykernel_14424\\374036335.py:3: RuntimeWarning: Data file name in EEG.data (ebs_prep.fdt) is incorrect, the file name must have changed on disk, using the correct file name (study03_p03_prep.fdt).\n",
      "  study3=mne.io.read_epochs_eeglab(r\"C:\\Users\\DELL\\Desktop\\20credit\\EEG_eye_artifact\\study03\\study03_p03_prep.set\")\n",
      "C:\\Users\\DELL\\AppData\\Local\\Temp\\ipykernel_14424\\374036335.py:3: RuntimeWarning: Not setting positions of 3 eog channels found in montage:\n",
      "['HEOG', 'VEOG', 'REOG']\n",
      "Consider setting the channel types to be of EEG/sEEG/ECoG/DBS/fNIRS using inst.set_channel_types before calling inst.set_montage, or omit these channels when creating your montage.\n",
      "  study3=mne.io.read_epochs_eeglab(r\"C:\\Users\\DELL\\Desktop\\20credit\\EEG_eye_artifact\\study03\\study03_p03_prep.set\")\n",
      "C:\\Users\\DELL\\anaconda3\\lib\\site-packages\\pymatreader\\utils.py:122: UserWarning: Complex objects (like classes) are not supported. They are imported on a best effort base but your mileage will vary.\n",
      "  warn('Complex objects (like classes) are not supported. '\n"
     ]
    },
    {
     "name": "stdout",
     "output_type": "stream",
     "text": [
      "Extracting parameters from C:\\Users\\DELL\\Desktop\\20credit\\EEG_eye_artifact\\study04\\study04_p03_prep.set...\n",
      "Not setting metadata\n",
      "48 matching events found\n",
      "No baseline correction applied\n",
      "0 projection items activated\n",
      "Ready.\n"
     ]
    },
    {
     "name": "stderr",
     "output_type": "stream",
     "text": [
      "C:\\Users\\DELL\\AppData\\Local\\Temp\\ipykernel_14424\\374036335.py:4: RuntimeWarning: At least one epoch has multiple events. Only the latency of the first event will be retained.\n",
      "  study4=mne.io.read_epochs_eeglab(r\"C:\\Users\\DELL\\Desktop\\20credit\\EEG_eye_artifact\\study04\\study04_p03_prep.set\")\n",
      "C:\\Users\\DELL\\AppData\\Local\\Temp\\ipykernel_14424\\374036335.py:4: RuntimeWarning: Unknown types found, setting as type EEG:\n",
      "artifact: ['eye-art', 'eye-blink', 'eye-d', 'eye-fix', 'eye-l', 'eye-r', 'eye-u']\n",
      "eoglpf: ['HEOG_lpf', 'VEOG_lpf']\n",
      "label: ['artifactclasses']\n",
      "paradigm: ['block']\n",
      "state: ['label']\n",
      "  study4=mne.io.read_epochs_eeglab(r\"C:\\Users\\DELL\\Desktop\\20credit\\EEG_eye_artifact\\study04\\study04_p03_prep.set\")\n",
      "C:\\Users\\DELL\\AppData\\Local\\Temp\\ipykernel_14424\\374036335.py:4: RuntimeWarning: Data file name in EEG.data (ebs_prep.fdt) is incorrect, the file name must have changed on disk, using the correct file name (study04_p03_prep.fdt).\n",
      "  study4=mne.io.read_epochs_eeglab(r\"C:\\Users\\DELL\\Desktop\\20credit\\EEG_eye_artifact\\study04\\study04_p03_prep.set\")\n",
      "C:\\Users\\DELL\\AppData\\Local\\Temp\\ipykernel_14424\\374036335.py:4: RuntimeWarning: Not setting positions of 4 eog channels found in montage:\n",
      "['HEOG', 'VEOGL', 'VEOGR', 'VEOG']\n",
      "Consider setting the channel types to be of EEG/sEEG/ECoG/DBS/fNIRS using inst.set_channel_types before calling inst.set_montage, or omit these channels when creating your montage.\n",
      "  study4=mne.io.read_epochs_eeglab(r\"C:\\Users\\DELL\\Desktop\\20credit\\EEG_eye_artifact\\study04\\study04_p03_prep.set\")\n",
      "C:\\Users\\DELL\\anaconda3\\lib\\site-packages\\pymatreader\\utils.py:122: UserWarning: Complex objects (like classes) are not supported. They are imported on a best effort base but your mileage will vary.\n",
      "  warn('Complex objects (like classes) are not supported. '\n"
     ]
    },
    {
     "name": "stdout",
     "output_type": "stream",
     "text": [
      "Extracting parameters from C:\\Users\\DELL\\Desktop\\20credit\\EEG_eye_artifact\\study05\\study05_p06_prep.set...\n",
      "Not setting metadata\n"
     ]
    },
    {
     "name": "stderr",
     "output_type": "stream",
     "text": [
      "C:\\Users\\DELL\\AppData\\Local\\Temp\\ipykernel_14424\\374036335.py:5: RuntimeWarning: At least one epoch has multiple events. Only the latency of the first event will be retained.\n",
      "  study5=mne.io.read_epochs_eeglab(r\"C:\\Users\\DELL\\Desktop\\20credit\\EEG_eye_artifact\\study05\\study05_p06_prep.set\")\n",
      "C:\\Users\\DELL\\AppData\\Local\\Temp\\ipykernel_14424\\374036335.py:5: RuntimeWarning: Unknown types found, setting as type EEG:\n",
      "artifact: ['eye-art', 'eye-blink', 'eye-d', 'eye-fix', 'eye-l', 'eye-r', 'eye-u']\n",
      "eoglpf: ['HEOG_lpf', 'REOG_lpf', 'VEOG_lpf']\n",
      "label: ['artifactclasses']\n",
      "paradigm: ['block']\n",
      "state: ['label']\n",
      "  study5=mne.io.read_epochs_eeglab(r\"C:\\Users\\DELL\\Desktop\\20credit\\EEG_eye_artifact\\study05\\study05_p06_prep.set\")\n",
      "C:\\Users\\DELL\\AppData\\Local\\Temp\\ipykernel_14424\\374036335.py:5: RuntimeWarning: Data file name in EEG.data (ebs_prep.fdt) is incorrect, the file name must have changed on disk, using the correct file name (study05_p06_prep.fdt).\n",
      "  study5=mne.io.read_epochs_eeglab(r\"C:\\Users\\DELL\\Desktop\\20credit\\EEG_eye_artifact\\study05\\study05_p06_prep.set\")\n"
     ]
    },
    {
     "name": "stdout",
     "output_type": "stream",
     "text": [
      "59 matching events found\n",
      "No baseline correction applied\n",
      "0 projection items activated\n",
      "Ready.\n"
     ]
    },
    {
     "name": "stderr",
     "output_type": "stream",
     "text": [
      "C:\\Users\\DELL\\AppData\\Local\\Temp\\ipykernel_14424\\374036335.py:5: RuntimeWarning: Not setting positions of 3 eog channels found in montage:\n",
      "['HEOG', 'VEOG', 'REOG']\n",
      "Consider setting the channel types to be of EEG/sEEG/ECoG/DBS/fNIRS using inst.set_channel_types before calling inst.set_montage, or omit these channels when creating your montage.\n",
      "  study5=mne.io.read_epochs_eeglab(r\"C:\\Users\\DELL\\Desktop\\20credit\\EEG_eye_artifact\\study05\\study05_p06_prep.set\")\n"
     ]
    }
   ],
   "source": [
    "study1=mne.io.read_epochs_eeglab(r\"C:\\Users\\DELL\\Desktop\\20credit\\EEG_eye_artifact\\study01\\study01_p01_prep.set\")\n",
    "study2=mne.io.read_epochs_eeglab(r\"C:\\Users\\DELL\\Desktop\\20credit\\EEG_eye_artifact\\study02\\study02_p02_prep.set\")\n",
    "study3=mne.io.read_epochs_eeglab(r\"C:\\Users\\DELL\\Desktop\\20credit\\EEG_eye_artifact\\study03\\study03_p03_prep.set\")\n",
    "study4=mne.io.read_epochs_eeglab(r\"C:\\Users\\DELL\\Desktop\\20credit\\EEG_eye_artifact\\study04\\study04_p03_prep.set\")\n",
    "study5=mne.io.read_epochs_eeglab(r\"C:\\Users\\DELL\\Desktop\\20credit\\EEG_eye_artifact\\study05\\study05_p06_prep.set\")"
   ]
  },
  {
   "cell_type": "code",
   "execution_count": 124,
   "id": "e6eae84d",
   "metadata": {},
   "outputs": [
    {
     "data": {
      "text/html": [
       "<table class=\"table table-hover table-striped table-sm table-responsive small\">\n",
       "    <tr>\n",
       "        <th>Number of events</th>\n",
       "        <td>59</td>\n",
       "    </tr>\n",
       "    <tr>\n",
       "        <th>Events</th>\n",
       "        \n",
       "        <td>1/fixation: 33<br/>2/eye-l/eye-r/eye-l/eye-r/eye-l/eye-r/eye-l/eye-r/eye-l/eye-r/eye-l/eye-r/eye-l/eye-r/eye-l/eye-r: 1<br/>2/eye-r/eye-l/eye-r/eye-l/eye-r/eye-l/eye-r/eye-l/eye-r/eye-l/eye-r/eye-l/eye-r/eye-l/eye-r/eye-l/eye-r: 8<br/>3/eye-d/eye-u/eye-d/eye-u/eye-d/eye-u/eye-d/eye-u/eye-d/eye-u/eye-d/eye-u/eye-d/eye-u/eye-d: 1<br/>3/eye-d/eye-u/eye-u/eye-d/eye-u/eye-d/eye-u/eye-d/eye-u/eye-d/eye-u/eye-d/eye-u/eye-d/eye-u: 1<br/>3/eye-u/eye-d/eye-u/eye-d/eye-u/eye-d/eye-u/eye-d/eye-u/eye-d/eye-u/eye-d/eye-u/eye-d/eye-u: 1<br/>3/eye-u/eye-d/eye-u/eye-d/eye-u/eye-d/eye-u/eye-d/eye-u/eye-d/eye-u/eye-d/eye-u/eye-d/eye-u/eye-d: 3<br/>3/eye-u/eye-d/eye-u/eye-d/eye-u/eye-d/eye-u/eye-d/eye-u/eye-d/eye-u/eye-d/eye-u/eye-u/eye-d: 1<br/>3/eye-u/eye-d/eye-u/eye-d/eye-u/eye-d/eye-u/eye-d/eye-u/eye-u/eye-d/eye-u/eye-d/eye-u/eye-u/eye-d/eye-d: 1<br/>3/eye-u/eye-u/eye-d/eye-u/eye-d/eye-u/eye-d/eye-u/eye-d/eye-u/eye-d/eye-u/eye-d/eye-u/eye-d: 1<br/>4/blink/blink/blink/blink/blink/blink/blink/blink/blink/blink/blink: 3<br/>4/blink/blink/blink/blink/blink/blink/blink/blink/blink/blink/blink/blink/blink: 1<br/>4/blink/blink/blink/blink/blink/blink/blink/blink/blink/blink/blink/blink/blink/blink: 3<br/>4/blink/blink/blink/blink/blink/blink/blink/blink/blink/blink/blink/blink/blink/blink/blink: 1</td>\n",
       "        \n",
       "    </tr>\n",
       "    <tr>\n",
       "        <th>Time range</th>\n",
       "        <td>0.000 – 7.996 sec</td>\n",
       "    </tr>\n",
       "    <tr>\n",
       "        <th>Baseline</th>\n",
       "        <td>off</td>\n",
       "    </tr>\n",
       "</table>"
      ],
      "text/plain": [
       "<EpochsEEGLAB |  59 events (all good), 0 - 7.99609 sec, baseline off, ~71.1 MB, data loaded,\n",
       " '2/eye-r/eye-l/eye-r/eye-l/eye-r/eye-l/eye-r/eye-l/eye-r/eye-l/eye-r/eye-l/eye-r/eye-l/eye-r/eye-l/eye-r': 8\n",
       " '2/eye-l/eye-r/eye-l/eye-r/eye-l/eye-r/eye-l/eye-r/eye-l/eye-r/eye-l/eye-r/eye-l/eye-r/eye-l/eye-r': 1\n",
       " '3/eye-u/eye-u/eye-d/eye-u/eye-d/eye-u/eye-d/eye-u/eye-d/eye-u/eye-d/eye-u/eye-d/eye-u/eye-d': 1\n",
       " '3/eye-u/eye-d/eye-u/eye-d/eye-u/eye-d/eye-u/eye-d/eye-u/eye-d/eye-u/eye-d/eye-u/eye-d/eye-u': 1\n",
       " '3/eye-u/eye-d/eye-u/eye-d/eye-u/eye-d/eye-u/eye-d/eye-u/eye-d/eye-u/eye-d/eye-u/eye-d/eye-u/eye-d': 3\n",
       " '3/eye-u/eye-d/eye-u/eye-d/eye-u/eye-d/eye-u/eye-d/eye-u/eye-u/eye-d/eye-u/eye-d/eye-u/eye-u/eye-d/eye-d': 1\n",
       " '3/eye-d/eye-u/eye-u/eye-d/eye-u/eye-d/eye-u/eye-d/eye-u/eye-d/eye-u/eye-d/eye-u/eye-d/eye-u': 1\n",
       " '3/eye-u/eye-d/eye-u/eye-d/eye-u/eye-d/eye-u/eye-d/eye-u/eye-d/eye-u/eye-d/eye-u/eye-u/eye-d': 1\n",
       " '3/eye-d/eye-u/eye-d/eye-u/eye-d/eye-u/eye-d/eye-u/eye-d/eye-u/eye-d/eye-u/eye-d/eye-u/eye-d': 1\n",
       " '4/blink/blink/blink/blink/blink/blink/blink/blink/blink/blink/blink': 3\n",
       " and 4 more events ...>"
      ]
     },
     "execution_count": 124,
     "metadata": {},
     "output_type": "execute_result"
    }
   ],
   "source": [
    "study1.pick('eeg')\n",
    "study2.pick('eeg')\n",
    "study3.pick('eeg')\n",
    "study4.pick('eeg')\n",
    "study5.pick('eeg')"
   ]
  },
  {
   "cell_type": "code",
   "execution_count": 125,
   "id": "47b1a794",
   "metadata": {},
   "outputs": [],
   "source": [
    "column_names1=list(study1.ch_names)\n",
    "column_names2=list(study2.ch_names)\n",
    "column_names3=list(study3.ch_names)\n",
    "column_names4=list(study4.ch_names)\n",
    "column_names5=list(study5.ch_names)"
   ]
  },
  {
   "cell_type": "code",
   "execution_count": 126,
   "id": "88f000f8",
   "metadata": {},
   "outputs": [],
   "source": [
    "ourelect_pos1=[]\n",
    "ourelect_pos2=[]\n",
    "ourelect_pos3=[]\n",
    "ourelect_pos4=[]\n",
    "ourelect_pos5=[]"
   ]
  },
  {
   "cell_type": "code",
   "execution_count": 127,
   "id": "86ee2310",
   "metadata": {},
   "outputs": [],
   "source": [
    "exclude1=[]\n",
    "exclude2=[]\n",
    "exclude3=[]\n",
    "exclude4=[]\n",
    "exclude5=[]"
   ]
  },
  {
   "cell_type": "code",
   "execution_count": 128,
   "id": "a889a17a",
   "metadata": {},
   "outputs": [],
   "source": [
    "\n",
    "def find_elect_pos(electrode_dict,column_names):\n",
    "    ourelect_pos=[]\n",
    "    exclude=[]\n",
    "    for i in range(len(column_names)):\n",
    "        if column_names[i] in electrode_dict:\n",
    "            ourelect_pos.append(electrode_dict[column_names[i]])\n",
    "        else:\n",
    "            exclude.append(column_names[i])\n",
    "    return ourelect_pos,exclude"
   ]
  },
  {
   "cell_type": "code",
   "execution_count": 129,
   "id": "04bc59d1",
   "metadata": {},
   "outputs": [
    {
     "name": "stderr",
     "output_type": "stream",
     "text": [
      "C:\\Users\\DELL\\AppData\\Local\\Temp\\ipykernel_14424\\1874744114.py:1: VisibleDeprecationWarning: Creating an ndarray from ragged nested sequences (which is a list-or-tuple of lists-or-tuples-or ndarrays with different lengths or shapes) is deprecated. If you meant to do this, you must specify 'dtype=object' when creating the ndarray.\n",
      "  ourelect_pos1,exclude1=np.array(find_elect_pos(electrode_dict,column_names1))\n",
      "C:\\Users\\DELL\\AppData\\Local\\Temp\\ipykernel_14424\\1874744114.py:2: VisibleDeprecationWarning: Creating an ndarray from ragged nested sequences (which is a list-or-tuple of lists-or-tuples-or ndarrays with different lengths or shapes) is deprecated. If you meant to do this, you must specify 'dtype=object' when creating the ndarray.\n",
      "  ourelect_pos2,exclude2=np.array(find_elect_pos(electrode_dict,column_names2))\n",
      "C:\\Users\\DELL\\AppData\\Local\\Temp\\ipykernel_14424\\1874744114.py:3: VisibleDeprecationWarning: Creating an ndarray from ragged nested sequences (which is a list-or-tuple of lists-or-tuples-or ndarrays with different lengths or shapes) is deprecated. If you meant to do this, you must specify 'dtype=object' when creating the ndarray.\n",
      "  ourelect_pos3,exclude3=np.array(find_elect_pos(electrode_dict,column_names3))\n",
      "C:\\Users\\DELL\\AppData\\Local\\Temp\\ipykernel_14424\\1874744114.py:4: VisibleDeprecationWarning: Creating an ndarray from ragged nested sequences (which is a list-or-tuple of lists-or-tuples-or ndarrays with different lengths or shapes) is deprecated. If you meant to do this, you must specify 'dtype=object' when creating the ndarray.\n",
      "  ourelect_pos4,exclude4=np.array(find_elect_pos(electrode_dict,column_names4))\n",
      "C:\\Users\\DELL\\AppData\\Local\\Temp\\ipykernel_14424\\1874744114.py:5: VisibleDeprecationWarning: Creating an ndarray from ragged nested sequences (which is a list-or-tuple of lists-or-tuples-or ndarrays with different lengths or shapes) is deprecated. If you meant to do this, you must specify 'dtype=object' when creating the ndarray.\n",
      "  ourelect_pos5,exclude5=np.array(find_elect_pos(electrode_dict,column_names5))\n"
     ]
    }
   ],
   "source": [
    "ourelect_pos1,exclude1=np.array(find_elect_pos(electrode_dict,column_names1))\n",
    "ourelect_pos2,exclude2=np.array(find_elect_pos(electrode_dict,column_names2))\n",
    "ourelect_pos3,exclude3=np.array(find_elect_pos(electrode_dict,column_names3))\n",
    "ourelect_pos4,exclude4=np.array(find_elect_pos(electrode_dict,column_names4))\n",
    "ourelect_pos5,exclude5=np.array(find_elect_pos(electrode_dict,column_names5))"
   ]
  },
  {
   "cell_type": "code",
   "execution_count": 130,
   "id": "80b7f3e5",
   "metadata": {},
   "outputs": [],
   "source": [
    "ourelect_pos=[ourelect_pos1,\n",
    "             ourelect_pos2,\n",
    "             ourelect_pos3,\n",
    "             ourelect_pos4,\n",
    "             ourelect_pos5]\n",
    "exclude=[\n",
    "    exclude1,\n",
    "    exclude2,\n",
    "    exclude3,\n",
    "    exclude4,\n",
    "    exclude5\n",
    "]"
   ]
  },
  {
   "cell_type": "code",
   "execution_count": 131,
   "id": "328ce881",
   "metadata": {},
   "outputs": [
    {
     "name": "stdout",
     "output_type": "stream",
     "text": [
      "57 23\n",
      "63 23\n",
      "63 20\n",
      "61 15\n",
      "34 43\n"
     ]
    }
   ],
   "source": [
    "for i in range(5):\n",
    "    print(len(ourelect_pos[i]),len(exclude[i]))"
   ]
  },
  {
   "cell_type": "code",
   "execution_count": 132,
   "id": "bc8c9be5",
   "metadata": {},
   "outputs": [],
   "source": [
    "for i in range(5):\n",
    "    np.save(r\"C:\\Users\\DELL\\Desktop\\20credit\\EEG_eye_artifact\\electrode_data\\ourelectpos\"+str(i),ourelect_pos[i])"
   ]
  },
  {
   "cell_type": "code",
   "execution_count": 133,
   "id": "79c8720b",
   "metadata": {},
   "outputs": [],
   "source": [
    "import os\n",
    "path = r\"C:\\Users\\DELL\\Desktop\\20credit\\EEG_eye_artifact\\wholedata\"\n",
    "\n",
    "preprocessedpath=r\"C:\\Users\\DELL\\Desktop\\20credit\\EEG_eye_artifact\\preprocessed\"\n",
    "if not os.path.exists(r\"C:\\Users\\DELL\\Desktop\\20credit\\EEG_eye_artifact\\preprocessed\"):\n",
    "    os.makedirs(r\"C:\\Users\\DELL\\Desktop\\20credit\\EEG_eye_artifact\\preprocessed\")\n",
    "    "
   ]
  },
  {
   "cell_type": "code",
   "execution_count": 134,
   "id": "072e5624",
   "metadata": {},
   "outputs": [
    {
     "name": "stderr",
     "output_type": "stream",
     "text": [
      "C:\\Users\\DELL\\anaconda3\\lib\\site-packages\\pymatreader\\utils.py:122: UserWarning: Complex objects (like classes) are not supported. They are imported on a best effort base but your mileage will vary.\n",
      "  warn('Complex objects (like classes) are not supported. '\n"
     ]
    },
    {
     "name": "stdout",
     "output_type": "stream",
     "text": [
      "Extracting parameters from C:\\Users\\DELL\\Desktop\\20credit\\EEG_eye_artifact\\wholedata\\study01_p01_prep.set...\n",
      "Not setting metadata\n",
      "52 matching events found\n",
      "No baseline correction applied\n"
     ]
    },
    {
     "name": "stderr",
     "output_type": "stream",
     "text": [
      "C:\\Users\\DELL\\AppData\\Local\\Temp\\ipykernel_14424\\3542807486.py:14: RuntimeWarning: At least one epoch has multiple events. Only the latency of the first event will be retained.\n",
      "  data=mne.io.read_epochs_eeglab(srcpath)\n",
      "C:\\Users\\DELL\\AppData\\Local\\Temp\\ipykernel_14424\\3542807486.py:14: RuntimeWarning: Unknown types found, setting as type EEG:\n",
      "artifact: ['eye-art', 'eye-blink', 'eye-d', 'eye-fix', 'eye-l', 'eye-r', 'eye-u']\n",
      "eoglpf: ['HEOG_lpf', 'REOG_lpf', 'VEOG_lpf']\n",
      "label: ['artifactclasses']\n",
      "paradigm: ['block']\n",
      "snap: ['target_S', 'target_X', 'target_Z']\n",
      "state: ['label']\n",
      "  data=mne.io.read_epochs_eeglab(srcpath)\n",
      "C:\\Users\\DELL\\AppData\\Local\\Temp\\ipykernel_14424\\3542807486.py:14: RuntimeWarning: Data file name in EEG.data (ebs_prep.fdt) is incorrect, the file name must have changed on disk, using the correct file name (study01_p01_prep.fdt).\n",
      "  data=mne.io.read_epochs_eeglab(srcpath)\n"
     ]
    },
    {
     "name": "stdout",
     "output_type": "stream",
     "text": [
      "0 projection items activated\n",
      "Ready.\n"
     ]
    },
    {
     "name": "stderr",
     "output_type": "stream",
     "text": [
      "C:\\Users\\DELL\\AppData\\Local\\Temp\\ipykernel_14424\\3542807486.py:14: RuntimeWarning: Not setting positions of 3 eog channels found in montage:\n",
      "['HEOG', 'VEOG', 'REOG']\n",
      "Consider setting the channel types to be of EEG/sEEG/ECoG/DBS/fNIRS using inst.set_channel_types before calling inst.set_montage, or omit these channels when creating your montage.\n",
      "  data=mne.io.read_epochs_eeglab(srcpath)\n"
     ]
    },
    {
     "name": "stdout",
     "output_type": "stream",
     "text": [
      "Setting up band-pass filter from 1 - 63 Hz\n",
      "\n",
      "FIR filter parameters\n",
      "---------------------\n",
      "Designing a one-pass, zero-phase, non-causal bandpass filter:\n",
      "- Windowed time-domain design (firwin) method\n",
      "- Hamming window with 0.0194 passband ripple and 53 dB stopband attenuation\n",
      "- Lower passband edge: 1.00\n",
      "- Lower transition bandwidth: 1.00 Hz (-6 dB cutoff frequency: 0.50 Hz)\n",
      "- Upper passband edge: 63.00 Hz\n",
      "- Upper transition bandwidth: 1.00 Hz (-6 dB cutoff frequency: 63.50 Hz)\n",
      "- Filter length: 423 samples (3.305 sec)\n",
      "\n"
     ]
    },
    {
     "name": "stderr",
     "output_type": "stream",
     "text": [
      "[Parallel(n_jobs=1)]: Using backend SequentialBackend with 1 concurrent workers.\n",
      "[Parallel(n_jobs=1)]: Done   1 out of   1 | elapsed:    0.0s remaining:    0.0s\n",
      "[Parallel(n_jobs=1)]: Done   2 out of   2 | elapsed:    0.0s remaining:    0.0s\n",
      "[Parallel(n_jobs=1)]: Done   3 out of   3 | elapsed:    0.0s remaining:    0.0s\n",
      "[Parallel(n_jobs=1)]: Done   4 out of   4 | elapsed:    0.0s remaining:    0.0s\n",
      "[Parallel(n_jobs=1)]: Done 4160 out of 4160 | elapsed:    1.8s finished\n"
     ]
    },
    {
     "name": "stdout",
     "output_type": "stream",
     "text": [
      "study01_p01_prep.set 1024 0 52 53248 (57, 1024)\n",
      "study01_p01_prep.set 1024 1024 52 53248 (57, 1024)\n",
      "study01_p01_prep.set 1024 2048 52 53248 (57, 1024)\n",
      "study01_p01_prep.set 1024 3072 52 53248 (57, 1024)\n",
      "study01_p01_prep.set 1024 4096 52 53248 (57, 1024)\n",
      "study01_p01_prep.set 1024 5120 52 53248 (57, 1024)\n",
      "study01_p01_prep.set 1024 6144 52 53248 (57, 1024)\n",
      "study01_p01_prep.set 1024 7168 52 53248 (57, 1024)\n",
      "study01_p01_prep.set 1024 8192 52 53248 (57, 1024)\n",
      "study01_p01_prep.set 1024 9216 52 53248 (57, 1024)\n",
      "study01_p01_prep.set 1024 10240 52 53248 (57, 1024)\n",
      "study01_p01_prep.set 1024 11264 52 53248 (57, 1024)\n",
      "study01_p01_prep.set 1024 12288 52 53248 (57, 1024)\n",
      "study01_p01_prep.set 1024 13312 52 53248 (57, 1024)\n",
      "study01_p01_prep.set 1024 14336 52 53248 (57, 1024)\n",
      "study01_p01_prep.set 1024 15360 52 53248 (57, 1024)\n",
      "study01_p01_prep.set 1024 16384 52 53248 (57, 1024)\n",
      "study01_p01_prep.set 1024 17408 52 53248 (57, 1024)\n",
      "study01_p01_prep.set 1024 18432 52 53248 (57, 1024)\n",
      "study01_p01_prep.set 1024 19456 52 53248 (57, 1024)\n",
      "study01_p01_prep.set 1024 20480 52 53248 (57, 1024)\n",
      "study01_p01_prep.set 1024 21504 52 53248 (57, 1024)\n",
      "study01_p01_prep.set 1024 22528 52 53248 (57, 1024)\n",
      "study01_p01_prep.set 1024 23552 52 53248 (57, 1024)\n",
      "study01_p01_prep.set 1024 24576 52 53248 (57, 1024)\n",
      "study01_p01_prep.set 1024 25600 52 53248 (57, 1024)\n",
      "study01_p01_prep.set 1024 26624 52 53248 (57, 1024)\n",
      "study01_p01_prep.set 1024 27648 52 53248 (57, 1024)\n",
      "study01_p01_prep.set 1024 28672 52 53248 (57, 1024)\n",
      "study01_p01_prep.set 1024 29696 52 53248 (57, 1024)\n",
      "study01_p01_prep.set 1024 30720 52 53248 (57, 1024)\n",
      "study01_p01_prep.set 1024 31744 52 53248 (57, 1024)\n",
      "study01_p01_prep.set 1024 32768 52 53248 (57, 1024)\n",
      "study01_p01_prep.set 1024 33792 52 53248 (57, 1024)\n",
      "study01_p01_prep.set 1024 34816 52 53248 (57, 1024)\n",
      "study01_p01_prep.set 1024 35840 52 53248 (57, 1024)\n",
      "study01_p01_prep.set 1024 36864 52 53248 (57, 1024)\n",
      "study01_p01_prep.set 1024 37888 52 53248 (57, 1024)\n",
      "study01_p01_prep.set 1024 38912 52 53248 (57, 1024)\n",
      "study01_p01_prep.set 1024 39936 52 53248 (57, 1024)\n",
      "study01_p01_prep.set 1024 40960 52 53248 (57, 1024)\n",
      "study01_p01_prep.set 1024 41984 52 53248 (57, 1024)\n",
      "study01_p01_prep.set 1024 43008 52 53248 (57, 1024)\n",
      "study01_p01_prep.set 1024 44032 52 53248 (57, 1024)\n",
      "study01_p01_prep.set 1024 45056 52 53248 (57, 1024)\n",
      "study01_p01_prep.set 1024 46080 52 53248 (57, 1024)\n",
      "study01_p01_prep.set 1024 47104 52 53248 (57, 1024)\n",
      "study01_p01_prep.set 1024 48128 52 53248 (57, 1024)\n",
      "study01_p01_prep.set 1024 49152 52 53248 (57, 1024)\n",
      "study01_p01_prep.set 1024 50176 52 53248 (57, 1024)\n",
      "study01_p01_prep.set 1024 51200 52 53248 (57, 1024)\n",
      "study01_p01_prep.set 1024 52224 52 53248 (57, 1024)\n"
     ]
    },
    {
     "name": "stderr",
     "output_type": "stream",
     "text": [
      "C:\\Users\\DELL\\anaconda3\\lib\\site-packages\\pymatreader\\utils.py:122: UserWarning: Complex objects (like classes) are not supported. They are imported on a best effort base but your mileage will vary.\n",
      "  warn('Complex objects (like classes) are not supported. '\n"
     ]
    },
    {
     "name": "stdout",
     "output_type": "stream",
     "text": [
      "Extracting parameters from C:\\Users\\DELL\\Desktop\\20credit\\EEG_eye_artifact\\wholedata\\study01_p02_prep.set...\n",
      "Not setting metadata\n",
      "51 matching events found\n",
      "No baseline correction applied\n",
      "0 projection items activated\n"
     ]
    },
    {
     "name": "stderr",
     "output_type": "stream",
     "text": [
      "C:\\Users\\DELL\\AppData\\Local\\Temp\\ipykernel_14424\\3542807486.py:14: RuntimeWarning: At least one epoch has multiple events. Only the latency of the first event will be retained.\n",
      "  data=mne.io.read_epochs_eeglab(srcpath)\n",
      "C:\\Users\\DELL\\AppData\\Local\\Temp\\ipykernel_14424\\3542807486.py:14: RuntimeWarning: Unknown types found, setting as type EEG:\n",
      "artifact: ['eye-art', 'eye-blink', 'eye-d', 'eye-fix', 'eye-l', 'eye-r', 'eye-u']\n",
      "eoglpf: ['HEOG_lpf', 'REOG_lpf', 'VEOG_lpf']\n",
      "label: ['artifactclasses']\n",
      "paradigm: ['block']\n",
      "snap: ['target_S', 'target_X', 'target_Z']\n",
      "state: ['label']\n",
      "  data=mne.io.read_epochs_eeglab(srcpath)\n",
      "C:\\Users\\DELL\\AppData\\Local\\Temp\\ipykernel_14424\\3542807486.py:14: RuntimeWarning: Data file name in EEG.data (ebs_prep.fdt) is incorrect, the file name must have changed on disk, using the correct file name (study01_p02_prep.fdt).\n",
      "  data=mne.io.read_epochs_eeglab(srcpath)\n"
     ]
    },
    {
     "name": "stdout",
     "output_type": "stream",
     "text": [
      "Ready.\n"
     ]
    },
    {
     "name": "stderr",
     "output_type": "stream",
     "text": [
      "C:\\Users\\DELL\\AppData\\Local\\Temp\\ipykernel_14424\\3542807486.py:14: RuntimeWarning: Not setting positions of 3 eog channels found in montage:\n",
      "['HEOG', 'VEOG', 'REOG']\n",
      "Consider setting the channel types to be of EEG/sEEG/ECoG/DBS/fNIRS using inst.set_channel_types before calling inst.set_montage, or omit these channels when creating your montage.\n",
      "  data=mne.io.read_epochs_eeglab(srcpath)\n"
     ]
    },
    {
     "name": "stdout",
     "output_type": "stream",
     "text": [
      "Setting up band-pass filter from 1 - 63 Hz\n",
      "\n",
      "FIR filter parameters\n",
      "---------------------\n",
      "Designing a one-pass, zero-phase, non-causal bandpass filter:\n",
      "- Windowed time-domain design (firwin) method\n",
      "- Hamming window with 0.0194 passband ripple and 53 dB stopband attenuation\n",
      "- Lower passband edge: 1.00\n",
      "- Lower transition bandwidth: 1.00 Hz (-6 dB cutoff frequency: 0.50 Hz)\n",
      "- Upper passband edge: 63.00 Hz\n",
      "- Upper transition bandwidth: 1.00 Hz (-6 dB cutoff frequency: 63.50 Hz)\n",
      "- Filter length: 423 samples (3.305 sec)\n",
      "\n"
     ]
    },
    {
     "name": "stderr",
     "output_type": "stream",
     "text": [
      "[Parallel(n_jobs=1)]: Using backend SequentialBackend with 1 concurrent workers.\n",
      "[Parallel(n_jobs=1)]: Done   1 out of   1 | elapsed:    0.0s remaining:    0.0s\n",
      "[Parallel(n_jobs=1)]: Done   2 out of   2 | elapsed:    0.0s remaining:    0.0s\n",
      "[Parallel(n_jobs=1)]: Done   3 out of   3 | elapsed:    0.0s remaining:    0.0s\n",
      "[Parallel(n_jobs=1)]: Done   4 out of   4 | elapsed:    0.0s remaining:    0.0s\n",
      "[Parallel(n_jobs=1)]: Done 4080 out of 4080 | elapsed:    1.9s finished\n"
     ]
    },
    {
     "name": "stdout",
     "output_type": "stream",
     "text": [
      "study01_p02_prep.set 1024 0 51 52224 (57, 1024)\n",
      "study01_p02_prep.set 1024 1024 51 52224 (57, 1024)\n",
      "study01_p02_prep.set 1024 2048 51 52224 (57, 1024)\n",
      "study01_p02_prep.set 1024 3072 51 52224 (57, 1024)\n",
      "study01_p02_prep.set 1024 4096 51 52224 (57, 1024)\n",
      "study01_p02_prep.set 1024 5120 51 52224 (57, 1024)\n",
      "study01_p02_prep.set 1024 6144 51 52224 (57, 1024)\n",
      "study01_p02_prep.set 1024 7168 51 52224 (57, 1024)\n",
      "study01_p02_prep.set 1024 8192 51 52224 (57, 1024)\n",
      "study01_p02_prep.set 1024 9216 51 52224 (57, 1024)\n",
      "study01_p02_prep.set 1024 10240 51 52224 (57, 1024)\n",
      "study01_p02_prep.set 1024 11264 51 52224 (57, 1024)\n",
      "study01_p02_prep.set 1024 12288 51 52224 (57, 1024)\n",
      "study01_p02_prep.set 1024 13312 51 52224 (57, 1024)\n",
      "study01_p02_prep.set 1024 14336 51 52224 (57, 1024)\n",
      "study01_p02_prep.set 1024 15360 51 52224 (57, 1024)\n",
      "study01_p02_prep.set 1024 16384 51 52224 (57, 1024)\n",
      "study01_p02_prep.set 1024 17408 51 52224 (57, 1024)\n",
      "study01_p02_prep.set 1024 18432 51 52224 (57, 1024)\n",
      "study01_p02_prep.set 1024 19456 51 52224 (57, 1024)\n",
      "study01_p02_prep.set 1024 20480 51 52224 (57, 1024)\n",
      "study01_p02_prep.set 1024 21504 51 52224 (57, 1024)\n",
      "study01_p02_prep.set 1024 22528 51 52224 (57, 1024)\n",
      "study01_p02_prep.set 1024 23552 51 52224 (57, 1024)\n",
      "study01_p02_prep.set 1024 24576 51 52224 (57, 1024)\n",
      "study01_p02_prep.set 1024 25600 51 52224 (57, 1024)\n",
      "study01_p02_prep.set 1024 26624 51 52224 (57, 1024)\n",
      "study01_p02_prep.set 1024 27648 51 52224 (57, 1024)\n",
      "study01_p02_prep.set 1024 28672 51 52224 (57, 1024)\n",
      "study01_p02_prep.set 1024 29696 51 52224 (57, 1024)\n",
      "study01_p02_prep.set 1024 30720 51 52224 (57, 1024)\n",
      "study01_p02_prep.set 1024 31744 51 52224 (57, 1024)\n",
      "study01_p02_prep.set 1024 32768 51 52224 (57, 1024)\n",
      "study01_p02_prep.set 1024 33792 51 52224 (57, 1024)\n",
      "study01_p02_prep.set 1024 34816 51 52224 (57, 1024)\n",
      "study01_p02_prep.set 1024 35840 51 52224 (57, 1024)\n",
      "study01_p02_prep.set 1024 36864 51 52224 (57, 1024)\n",
      "study01_p02_prep.set 1024 37888 51 52224 (57, 1024)\n",
      "study01_p02_prep.set 1024 38912 51 52224 (57, 1024)\n",
      "study01_p02_prep.set 1024 39936 51 52224 (57, 1024)\n",
      "study01_p02_prep.set 1024 40960 51 52224 (57, 1024)\n",
      "study01_p02_prep.set 1024 41984 51 52224 (57, 1024)\n",
      "study01_p02_prep.set 1024 43008 51 52224 (57, 1024)\n",
      "study01_p02_prep.set 1024 44032 51 52224 (57, 1024)\n",
      "study01_p02_prep.set 1024 45056 51 52224 (57, 1024)\n",
      "study01_p02_prep.set 1024 46080 51 52224 (57, 1024)\n",
      "study01_p02_prep.set 1024 47104 51 52224 (57, 1024)\n",
      "study01_p02_prep.set 1024 48128 51 52224 (57, 1024)\n",
      "study01_p02_prep.set 1024 49152 51 52224 (57, 1024)\n",
      "study01_p02_prep.set 1024 50176 51 52224 (57, 1024)\n",
      "study01_p02_prep.set 1024 51200 51 52224 (57, 1024)\n"
     ]
    },
    {
     "name": "stderr",
     "output_type": "stream",
     "text": [
      "C:\\Users\\DELL\\anaconda3\\lib\\site-packages\\pymatreader\\utils.py:122: UserWarning: Complex objects (like classes) are not supported. They are imported on a best effort base but your mileage will vary.\n",
      "  warn('Complex objects (like classes) are not supported. '\n"
     ]
    },
    {
     "name": "stdout",
     "output_type": "stream",
     "text": [
      "Extracting parameters from C:\\Users\\DELL\\Desktop\\20credit\\EEG_eye_artifact\\wholedata\\study01_p03_prep.set...\n",
      "Not setting metadata\n",
      "51 matching events found\n",
      "No baseline correction applied\n",
      "0 projection items activated\n"
     ]
    },
    {
     "name": "stderr",
     "output_type": "stream",
     "text": [
      "C:\\Users\\DELL\\AppData\\Local\\Temp\\ipykernel_14424\\3542807486.py:14: RuntimeWarning: At least one epoch has multiple events. Only the latency of the first event will be retained.\n",
      "  data=mne.io.read_epochs_eeglab(srcpath)\n",
      "C:\\Users\\DELL\\AppData\\Local\\Temp\\ipykernel_14424\\3542807486.py:14: RuntimeWarning: Unknown types found, setting as type EEG:\n",
      "artifact: ['eye-art', 'eye-blink', 'eye-d', 'eye-fix', 'eye-l', 'eye-r', 'eye-u']\n",
      "eoglpf: ['HEOG_lpf', 'REOG_lpf', 'VEOG_lpf']\n",
      "label: ['artifactclasses']\n",
      "paradigm: ['block']\n",
      "snap: ['target_S', 'target_X', 'target_Z']\n",
      "state: ['label']\n",
      "  data=mne.io.read_epochs_eeglab(srcpath)\n",
      "C:\\Users\\DELL\\AppData\\Local\\Temp\\ipykernel_14424\\3542807486.py:14: RuntimeWarning: Data file name in EEG.data (ebs_prep.fdt) is incorrect, the file name must have changed on disk, using the correct file name (study01_p03_prep.fdt).\n",
      "  data=mne.io.read_epochs_eeglab(srcpath)\n",
      "C:\\Users\\DELL\\AppData\\Local\\Temp\\ipykernel_14424\\3542807486.py:14: RuntimeWarning: Not setting positions of 3 eog channels found in montage:\n",
      "['HEOG', 'VEOG', 'REOG']\n",
      "Consider setting the channel types to be of EEG/sEEG/ECoG/DBS/fNIRS using inst.set_channel_types before calling inst.set_montage, or omit these channels when creating your montage.\n",
      "  data=mne.io.read_epochs_eeglab(srcpath)\n"
     ]
    },
    {
     "name": "stdout",
     "output_type": "stream",
     "text": [
      "Ready.\n",
      "Setting up band-pass filter from 1 - 63 Hz\n",
      "\n",
      "FIR filter parameters\n",
      "---------------------\n",
      "Designing a one-pass, zero-phase, non-causal bandpass filter:\n",
      "- Windowed time-domain design (firwin) method\n",
      "- Hamming window with 0.0194 passband ripple and 53 dB stopband attenuation\n",
      "- Lower passband edge: 1.00\n",
      "- Lower transition bandwidth: 1.00 Hz (-6 dB cutoff frequency: 0.50 Hz)\n",
      "- Upper passband edge: 63.00 Hz\n",
      "- Upper transition bandwidth: 1.00 Hz (-6 dB cutoff frequency: 63.50 Hz)\n",
      "- Filter length: 423 samples (3.305 sec)\n",
      "\n"
     ]
    },
    {
     "name": "stderr",
     "output_type": "stream",
     "text": [
      "[Parallel(n_jobs=1)]: Using backend SequentialBackend with 1 concurrent workers.\n",
      "[Parallel(n_jobs=1)]: Done   1 out of   1 | elapsed:    0.0s remaining:    0.0s\n",
      "[Parallel(n_jobs=1)]: Done   2 out of   2 | elapsed:    0.0s remaining:    0.0s\n",
      "[Parallel(n_jobs=1)]: Done   3 out of   3 | elapsed:    0.0s remaining:    0.0s\n",
      "[Parallel(n_jobs=1)]: Done   4 out of   4 | elapsed:    0.0s remaining:    0.0s\n",
      "[Parallel(n_jobs=1)]: Done 4080 out of 4080 | elapsed:    1.9s finished\n"
     ]
    },
    {
     "name": "stdout",
     "output_type": "stream",
     "text": [
      "study01_p03_prep.set 1024 0 51 52224 (57, 1024)\n",
      "study01_p03_prep.set 1024 1024 51 52224 (57, 1024)\n",
      "study01_p03_prep.set 1024 2048 51 52224 (57, 1024)\n",
      "study01_p03_prep.set 1024 3072 51 52224 (57, 1024)\n",
      "study01_p03_prep.set 1024 4096 51 52224 (57, 1024)\n",
      "study01_p03_prep.set 1024 5120 51 52224 (57, 1024)\n",
      "study01_p03_prep.set 1024 6144 51 52224 (57, 1024)\n",
      "study01_p03_prep.set 1024 7168 51 52224 (57, 1024)\n",
      "study01_p03_prep.set 1024 8192 51 52224 (57, 1024)\n",
      "study01_p03_prep.set 1024 9216 51 52224 (57, 1024)\n",
      "study01_p03_prep.set 1024 10240 51 52224 (57, 1024)\n",
      "study01_p03_prep.set 1024 11264 51 52224 (57, 1024)\n",
      "study01_p03_prep.set 1024 12288 51 52224 (57, 1024)\n",
      "study01_p03_prep.set 1024 13312 51 52224 (57, 1024)\n",
      "study01_p03_prep.set 1024 14336 51 52224 (57, 1024)\n",
      "study01_p03_prep.set 1024 15360 51 52224 (57, 1024)\n",
      "study01_p03_prep.set 1024 16384 51 52224 (57, 1024)\n",
      "study01_p03_prep.set 1024 17408 51 52224 (57, 1024)\n",
      "study01_p03_prep.set 1024 18432 51 52224 (57, 1024)\n",
      "study01_p03_prep.set 1024 19456 51 52224 (57, 1024)\n",
      "study01_p03_prep.set 1024 20480 51 52224 (57, 1024)\n",
      "study01_p03_prep.set 1024 21504 51 52224 (57, 1024)\n",
      "study01_p03_prep.set 1024 22528 51 52224 (57, 1024)\n",
      "study01_p03_prep.set 1024 23552 51 52224 (57, 1024)\n",
      "study01_p03_prep.set 1024 24576 51 52224 (57, 1024)\n",
      "study01_p03_prep.set 1024 25600 51 52224 (57, 1024)\n",
      "study01_p03_prep.set 1024 26624 51 52224 (57, 1024)\n",
      "study01_p03_prep.set 1024 27648 51 52224 (57, 1024)\n",
      "study01_p03_prep.set 1024 28672 51 52224 (57, 1024)\n",
      "study01_p03_prep.set 1024 29696 51 52224 (57, 1024)\n",
      "study01_p03_prep.set 1024 30720 51 52224 (57, 1024)\n",
      "study01_p03_prep.set 1024 31744 51 52224 (57, 1024)\n",
      "study01_p03_prep.set 1024 32768 51 52224 (57, 1024)\n",
      "study01_p03_prep.set 1024 33792 51 52224 (57, 1024)\n",
      "study01_p03_prep.set 1024 34816 51 52224 (57, 1024)\n",
      "study01_p03_prep.set 1024 35840 51 52224 (57, 1024)\n",
      "study01_p03_prep.set 1024 36864 51 52224 (57, 1024)\n",
      "study01_p03_prep.set 1024 37888 51 52224 (57, 1024)\n",
      "study01_p03_prep.set 1024 38912 51 52224 (57, 1024)\n",
      "study01_p03_prep.set 1024 39936 51 52224 (57, 1024)\n",
      "study01_p03_prep.set 1024 40960 51 52224 (57, 1024)\n",
      "study01_p03_prep.set 1024 41984 51 52224 (57, 1024)\n",
      "study01_p03_prep.set 1024 43008 51 52224 (57, 1024)\n",
      "study01_p03_prep.set 1024 44032 51 52224 (57, 1024)\n",
      "study01_p03_prep.set 1024 45056 51 52224 (57, 1024)\n",
      "study01_p03_prep.set 1024 46080 51 52224 (57, 1024)\n",
      "study01_p03_prep.set 1024 47104 51 52224 (57, 1024)\n",
      "study01_p03_prep.set 1024 48128 51 52224 (57, 1024)\n",
      "study01_p03_prep.set 1024 49152 51 52224 (57, 1024)\n",
      "study01_p03_prep.set 1024 50176 51 52224 (57, 1024)\n",
      "study01_p03_prep.set 1024 51200 51 52224 (57, 1024)\n"
     ]
    },
    {
     "name": "stderr",
     "output_type": "stream",
     "text": [
      "C:\\Users\\DELL\\anaconda3\\lib\\site-packages\\pymatreader\\utils.py:122: UserWarning: Complex objects (like classes) are not supported. They are imported on a best effort base but your mileage will vary.\n",
      "  warn('Complex objects (like classes) are not supported. '\n"
     ]
    },
    {
     "name": "stdout",
     "output_type": "stream",
     "text": [
      "Extracting parameters from C:\\Users\\DELL\\Desktop\\20credit\\EEG_eye_artifact\\wholedata\\study01_p04_prep.set...\n",
      "Not setting metadata\n",
      "47 matching events found\n",
      "No baseline correction applied\n",
      "0 projection items activated\n",
      "Ready.\n"
     ]
    },
    {
     "name": "stderr",
     "output_type": "stream",
     "text": [
      "C:\\Users\\DELL\\AppData\\Local\\Temp\\ipykernel_14424\\3542807486.py:14: RuntimeWarning: At least one epoch has multiple events. Only the latency of the first event will be retained.\n",
      "  data=mne.io.read_epochs_eeglab(srcpath)\n",
      "C:\\Users\\DELL\\AppData\\Local\\Temp\\ipykernel_14424\\3542807486.py:14: RuntimeWarning: Unknown types found, setting as type EEG:\n",
      "artifact: ['eye-art', 'eye-blink', 'eye-d', 'eye-fix', 'eye-l', 'eye-r', 'eye-u']\n",
      "eoglpf: ['HEOG_lpf', 'REOG_lpf', 'VEOG_lpf']\n",
      "label: ['artifactclasses']\n",
      "paradigm: ['block']\n",
      "snap: ['target_S', 'target_X', 'target_Z']\n",
      "state: ['label']\n",
      "  data=mne.io.read_epochs_eeglab(srcpath)\n",
      "C:\\Users\\DELL\\AppData\\Local\\Temp\\ipykernel_14424\\3542807486.py:14: RuntimeWarning: Data file name in EEG.data (ebs_prep.fdt) is incorrect, the file name must have changed on disk, using the correct file name (study01_p04_prep.fdt).\n",
      "  data=mne.io.read_epochs_eeglab(srcpath)\n",
      "C:\\Users\\DELL\\AppData\\Local\\Temp\\ipykernel_14424\\3542807486.py:14: RuntimeWarning: Not setting positions of 3 eog channels found in montage:\n",
      "['HEOG', 'VEOG', 'REOG']\n",
      "Consider setting the channel types to be of EEG/sEEG/ECoG/DBS/fNIRS using inst.set_channel_types before calling inst.set_montage, or omit these channels when creating your montage.\n",
      "  data=mne.io.read_epochs_eeglab(srcpath)\n"
     ]
    },
    {
     "name": "stdout",
     "output_type": "stream",
     "text": [
      "Setting up band-pass filter from 1 - 63 Hz\n",
      "\n",
      "FIR filter parameters\n",
      "---------------------\n",
      "Designing a one-pass, zero-phase, non-causal bandpass filter:\n",
      "- Windowed time-domain design (firwin) method\n",
      "- Hamming window with 0.0194 passband ripple and 53 dB stopband attenuation\n",
      "- Lower passband edge: 1.00\n",
      "- Lower transition bandwidth: 1.00 Hz (-6 dB cutoff frequency: 0.50 Hz)\n",
      "- Upper passband edge: 63.00 Hz\n",
      "- Upper transition bandwidth: 1.00 Hz (-6 dB cutoff frequency: 63.50 Hz)\n",
      "- Filter length: 423 samples (3.305 sec)\n",
      "\n"
     ]
    },
    {
     "name": "stderr",
     "output_type": "stream",
     "text": [
      "[Parallel(n_jobs=1)]: Using backend SequentialBackend with 1 concurrent workers.\n",
      "[Parallel(n_jobs=1)]: Done   1 out of   1 | elapsed:    0.0s remaining:    0.0s\n",
      "[Parallel(n_jobs=1)]: Done   2 out of   2 | elapsed:    0.0s remaining:    0.0s\n",
      "[Parallel(n_jobs=1)]: Done   3 out of   3 | elapsed:    0.0s remaining:    0.0s\n",
      "[Parallel(n_jobs=1)]: Done   4 out of   4 | elapsed:    0.0s remaining:    0.0s\n",
      "[Parallel(n_jobs=1)]: Done 3760 out of 3760 | elapsed:    1.6s finished\n"
     ]
    },
    {
     "name": "stdout",
     "output_type": "stream",
     "text": [
      "study01_p04_prep.set 1024 0 47 48128 (57, 1024)\n",
      "study01_p04_prep.set 1024 1024 47 48128 (57, 1024)\n",
      "study01_p04_prep.set 1024 2048 47 48128 (57, 1024)\n",
      "study01_p04_prep.set 1024 3072 47 48128 (57, 1024)\n",
      "study01_p04_prep.set 1024 4096 47 48128 (57, 1024)\n",
      "study01_p04_prep.set 1024 5120 47 48128 (57, 1024)\n",
      "study01_p04_prep.set 1024 6144 47 48128 (57, 1024)\n",
      "study01_p04_prep.set 1024 7168 47 48128 (57, 1024)\n",
      "study01_p04_prep.set 1024 8192 47 48128 (57, 1024)\n",
      "study01_p04_prep.set 1024 9216 47 48128 (57, 1024)\n",
      "study01_p04_prep.set 1024 10240 47 48128 (57, 1024)\n",
      "study01_p04_prep.set 1024 11264 47 48128 (57, 1024)\n",
      "study01_p04_prep.set 1024 12288 47 48128 (57, 1024)\n",
      "study01_p04_prep.set 1024 13312 47 48128 (57, 1024)\n",
      "study01_p04_prep.set 1024 14336 47 48128 (57, 1024)\n",
      "study01_p04_prep.set 1024 15360 47 48128 (57, 1024)\n",
      "study01_p04_prep.set 1024 16384 47 48128 (57, 1024)\n",
      "study01_p04_prep.set 1024 17408 47 48128 (57, 1024)\n",
      "study01_p04_prep.set 1024 18432 47 48128 (57, 1024)\n",
      "study01_p04_prep.set 1024 19456 47 48128 (57, 1024)\n",
      "study01_p04_prep.set 1024 20480 47 48128 (57, 1024)\n",
      "study01_p04_prep.set 1024 21504 47 48128 (57, 1024)\n",
      "study01_p04_prep.set 1024 22528 47 48128 (57, 1024)\n",
      "study01_p04_prep.set 1024 23552 47 48128 (57, 1024)\n",
      "study01_p04_prep.set 1024 24576 47 48128 (57, 1024)\n",
      "study01_p04_prep.set 1024 25600 47 48128 (57, 1024)\n",
      "study01_p04_prep.set 1024 26624 47 48128 (57, 1024)\n",
      "study01_p04_prep.set 1024 27648 47 48128 (57, 1024)\n",
      "study01_p04_prep.set 1024 28672 47 48128 (57, 1024)\n",
      "study01_p04_prep.set 1024 29696 47 48128 (57, 1024)\n",
      "study01_p04_prep.set 1024 30720 47 48128 (57, 1024)\n",
      "study01_p04_prep.set 1024 31744 47 48128 (57, 1024)\n",
      "study01_p04_prep.set 1024 32768 47 48128 (57, 1024)\n",
      "study01_p04_prep.set 1024 33792 47 48128 (57, 1024)\n",
      "study01_p04_prep.set 1024 34816 47 48128 (57, 1024)\n",
      "study01_p04_prep.set 1024 35840 47 48128 (57, 1024)\n",
      "study01_p04_prep.set 1024 36864 47 48128 (57, 1024)\n",
      "study01_p04_prep.set 1024 37888 47 48128 (57, 1024)\n",
      "study01_p04_prep.set 1024 38912 47 48128 (57, 1024)\n",
      "study01_p04_prep.set 1024 39936 47 48128 (57, 1024)\n",
      "study01_p04_prep.set 1024 40960 47 48128 (57, 1024)\n",
      "study01_p04_prep.set 1024 41984 47 48128 (57, 1024)\n",
      "study01_p04_prep.set 1024 43008 47 48128 (57, 1024)\n",
      "study01_p04_prep.set 1024 44032 47 48128 (57, 1024)\n",
      "study01_p04_prep.set 1024 45056 47 48128 (57, 1024)\n",
      "study01_p04_prep.set 1024 46080 47 48128 (57, 1024)\n",
      "study01_p04_prep.set 1024 47104 47 48128 (57, 1024)\n"
     ]
    },
    {
     "name": "stderr",
     "output_type": "stream",
     "text": [
      "C:\\Users\\DELL\\anaconda3\\lib\\site-packages\\pymatreader\\utils.py:122: UserWarning: Complex objects (like classes) are not supported. They are imported on a best effort base but your mileage will vary.\n",
      "  warn('Complex objects (like classes) are not supported. '\n"
     ]
    },
    {
     "name": "stdout",
     "output_type": "stream",
     "text": [
      "Extracting parameters from C:\\Users\\DELL\\Desktop\\20credit\\EEG_eye_artifact\\wholedata\\study01_p05_prep.set...\n",
      "Not setting metadata\n",
      "52 matching events found\n",
      "No baseline correction applied\n",
      "0 projection items activated\n",
      "Ready.\n"
     ]
    },
    {
     "name": "stderr",
     "output_type": "stream",
     "text": [
      "C:\\Users\\DELL\\AppData\\Local\\Temp\\ipykernel_14424\\3542807486.py:14: RuntimeWarning: At least one epoch has multiple events. Only the latency of the first event will be retained.\n",
      "  data=mne.io.read_epochs_eeglab(srcpath)\n",
      "C:\\Users\\DELL\\AppData\\Local\\Temp\\ipykernel_14424\\3542807486.py:14: RuntimeWarning: Unknown types found, setting as type EEG:\n",
      "artifact: ['eye-art', 'eye-blink', 'eye-d', 'eye-fix', 'eye-l', 'eye-r', 'eye-u']\n",
      "eoglpf: ['HEOG_lpf', 'REOG_lpf', 'VEOG_lpf']\n",
      "label: ['artifactclasses']\n",
      "paradigm: ['block']\n",
      "snap: ['target_S', 'target_X', 'target_Z']\n",
      "state: ['label']\n",
      "  data=mne.io.read_epochs_eeglab(srcpath)\n",
      "C:\\Users\\DELL\\AppData\\Local\\Temp\\ipykernel_14424\\3542807486.py:14: RuntimeWarning: Data file name in EEG.data (ebs_prep.fdt) is incorrect, the file name must have changed on disk, using the correct file name (study01_p05_prep.fdt).\n",
      "  data=mne.io.read_epochs_eeglab(srcpath)\n",
      "C:\\Users\\DELL\\AppData\\Local\\Temp\\ipykernel_14424\\3542807486.py:14: RuntimeWarning: Not setting positions of 3 eog channels found in montage:\n",
      "['HEOG', 'VEOG', 'REOG']\n",
      "Consider setting the channel types to be of EEG/sEEG/ECoG/DBS/fNIRS using inst.set_channel_types before calling inst.set_montage, or omit these channels when creating your montage.\n",
      "  data=mne.io.read_epochs_eeglab(srcpath)\n"
     ]
    },
    {
     "name": "stdout",
     "output_type": "stream",
     "text": [
      "Setting up band-pass filter from 1 - 63 Hz\n",
      "\n",
      "FIR filter parameters\n",
      "---------------------\n",
      "Designing a one-pass, zero-phase, non-causal bandpass filter:\n",
      "- Windowed time-domain design (firwin) method\n",
      "- Hamming window with 0.0194 passband ripple and 53 dB stopband attenuation\n",
      "- Lower passband edge: 1.00\n",
      "- Lower transition bandwidth: 1.00 Hz (-6 dB cutoff frequency: 0.50 Hz)\n",
      "- Upper passband edge: 63.00 Hz\n",
      "- Upper transition bandwidth: 1.00 Hz (-6 dB cutoff frequency: 63.50 Hz)\n",
      "- Filter length: 423 samples (3.305 sec)\n",
      "\n"
     ]
    },
    {
     "name": "stderr",
     "output_type": "stream",
     "text": [
      "[Parallel(n_jobs=1)]: Using backend SequentialBackend with 1 concurrent workers.\n",
      "[Parallel(n_jobs=1)]: Done   1 out of   1 | elapsed:    0.0s remaining:    0.0s\n",
      "[Parallel(n_jobs=1)]: Done   2 out of   2 | elapsed:    0.0s remaining:    0.0s\n",
      "[Parallel(n_jobs=1)]: Done   3 out of   3 | elapsed:    0.0s remaining:    0.0s\n",
      "[Parallel(n_jobs=1)]: Done   4 out of   4 | elapsed:    0.0s remaining:    0.0s\n",
      "[Parallel(n_jobs=1)]: Done 4160 out of 4160 | elapsed:    1.8s finished\n"
     ]
    },
    {
     "name": "stdout",
     "output_type": "stream",
     "text": [
      "study01_p05_prep.set 1024 0 52 53248 (57, 1024)\n",
      "study01_p05_prep.set 1024 1024 52 53248 (57, 1024)\n",
      "study01_p05_prep.set 1024 2048 52 53248 (57, 1024)\n",
      "study01_p05_prep.set 1024 3072 52 53248 (57, 1024)\n",
      "study01_p05_prep.set 1024 4096 52 53248 (57, 1024)\n",
      "study01_p05_prep.set 1024 5120 52 53248 (57, 1024)\n",
      "study01_p05_prep.set 1024 6144 52 53248 (57, 1024)\n",
      "study01_p05_prep.set 1024 7168 52 53248 (57, 1024)\n",
      "study01_p05_prep.set 1024 8192 52 53248 (57, 1024)\n",
      "study01_p05_prep.set 1024 9216 52 53248 (57, 1024)\n",
      "study01_p05_prep.set 1024 10240 52 53248 (57, 1024)\n",
      "study01_p05_prep.set 1024 11264 52 53248 (57, 1024)\n",
      "study01_p05_prep.set 1024 12288 52 53248 (57, 1024)\n",
      "study01_p05_prep.set 1024 13312 52 53248 (57, 1024)\n",
      "study01_p05_prep.set 1024 14336 52 53248 (57, 1024)\n",
      "study01_p05_prep.set 1024 15360 52 53248 (57, 1024)\n",
      "study01_p05_prep.set 1024 16384 52 53248 (57, 1024)\n",
      "study01_p05_prep.set 1024 17408 52 53248 (57, 1024)\n",
      "study01_p05_prep.set 1024 18432 52 53248 (57, 1024)\n",
      "study01_p05_prep.set 1024 19456 52 53248 (57, 1024)\n",
      "study01_p05_prep.set 1024 20480 52 53248 (57, 1024)\n",
      "study01_p05_prep.set 1024 21504 52 53248 (57, 1024)\n",
      "study01_p05_prep.set 1024 22528 52 53248 (57, 1024)\n",
      "study01_p05_prep.set 1024 23552 52 53248 (57, 1024)\n",
      "study01_p05_prep.set 1024 24576 52 53248 (57, 1024)\n",
      "study01_p05_prep.set 1024 25600 52 53248 (57, 1024)\n",
      "study01_p05_prep.set 1024 26624 52 53248 (57, 1024)\n",
      "study01_p05_prep.set 1024 27648 52 53248 (57, 1024)\n",
      "study01_p05_prep.set 1024 28672 52 53248 (57, 1024)\n",
      "study01_p05_prep.set 1024 29696 52 53248 (57, 1024)\n",
      "study01_p05_prep.set 1024 30720 52 53248 (57, 1024)\n",
      "study01_p05_prep.set 1024 31744 52 53248 (57, 1024)\n",
      "study01_p05_prep.set 1024 32768 52 53248 (57, 1024)\n",
      "study01_p05_prep.set 1024 33792 52 53248 (57, 1024)\n",
      "study01_p05_prep.set 1024 34816 52 53248 (57, 1024)\n",
      "study01_p05_prep.set 1024 35840 52 53248 (57, 1024)\n",
      "study01_p05_prep.set 1024 36864 52 53248 (57, 1024)\n",
      "study01_p05_prep.set 1024 37888 52 53248 (57, 1024)\n",
      "study01_p05_prep.set 1024 38912 52 53248 (57, 1024)\n",
      "study01_p05_prep.set 1024 39936 52 53248 (57, 1024)\n",
      "study01_p05_prep.set 1024 40960 52 53248 (57, 1024)\n",
      "study01_p05_prep.set 1024 41984 52 53248 (57, 1024)\n",
      "study01_p05_prep.set 1024 43008 52 53248 (57, 1024)\n",
      "study01_p05_prep.set 1024 44032 52 53248 (57, 1024)\n",
      "study01_p05_prep.set 1024 45056 52 53248 (57, 1024)\n",
      "study01_p05_prep.set 1024 46080 52 53248 (57, 1024)\n",
      "study01_p05_prep.set 1024 47104 52 53248 (57, 1024)\n",
      "study01_p05_prep.set 1024 48128 52 53248 (57, 1024)\n",
      "study01_p05_prep.set 1024 49152 52 53248 (57, 1024)\n",
      "study01_p05_prep.set 1024 50176 52 53248 (57, 1024)\n",
      "study01_p05_prep.set 1024 51200 52 53248 (57, 1024)\n",
      "study01_p05_prep.set 1024 52224 52 53248 (57, 1024)\n"
     ]
    },
    {
     "name": "stderr",
     "output_type": "stream",
     "text": [
      "C:\\Users\\DELL\\anaconda3\\lib\\site-packages\\pymatreader\\utils.py:122: UserWarning: Complex objects (like classes) are not supported. They are imported on a best effort base but your mileage will vary.\n",
      "  warn('Complex objects (like classes) are not supported. '\n"
     ]
    },
    {
     "name": "stdout",
     "output_type": "stream",
     "text": [
      "Extracting parameters from C:\\Users\\DELL\\Desktop\\20credit\\EEG_eye_artifact\\wholedata\\study02_p02_prep.set...\n",
      "Not setting metadata\n",
      "45 matching events found\n",
      "No baseline correction applied\n"
     ]
    },
    {
     "name": "stderr",
     "output_type": "stream",
     "text": [
      "C:\\Users\\DELL\\AppData\\Local\\Temp\\ipykernel_14424\\3542807486.py:14: RuntimeWarning: At least one epoch has multiple events. Only the latency of the first event will be retained.\n",
      "  data=mne.io.read_epochs_eeglab(srcpath)\n",
      "C:\\Users\\DELL\\AppData\\Local\\Temp\\ipykernel_14424\\3542807486.py:14: RuntimeWarning: Unknown types found, setting as type EEG:\n",
      "artifact: ['eye-art', 'eye-blink', 'eye-d', 'eye-fix', 'eye-l', 'eye-r', 'eye-u']\n",
      "eoglpf: ['HEOG_lpf', 'REOG_lpf', 'VEOG_lpf']\n",
      "label: ['artifactclasses']\n",
      "paradigm: ['block']\n",
      "snap: ['target_S', 'target_X', 'target_Z']\n",
      "state: ['label']\n",
      "  data=mne.io.read_epochs_eeglab(srcpath)\n",
      "C:\\Users\\DELL\\AppData\\Local\\Temp\\ipykernel_14424\\3542807486.py:14: RuntimeWarning: Data file name in EEG.data (ebs_prep.fdt) is incorrect, the file name must have changed on disk, using the correct file name (study02_p02_prep.fdt).\n",
      "  data=mne.io.read_epochs_eeglab(srcpath)\n"
     ]
    },
    {
     "name": "stdout",
     "output_type": "stream",
     "text": [
      "0 projection items activated\n",
      "Ready.\n"
     ]
    },
    {
     "name": "stderr",
     "output_type": "stream",
     "text": [
      "C:\\Users\\DELL\\AppData\\Local\\Temp\\ipykernel_14424\\3542807486.py:14: RuntimeWarning: Not setting positions of 3 eog channels found in montage:\n",
      "['HEOG', 'VEOG', 'REOG']\n",
      "Consider setting the channel types to be of EEG/sEEG/ECoG/DBS/fNIRS using inst.set_channel_types before calling inst.set_montage, or omit these channels when creating your montage.\n",
      "  data=mne.io.read_epochs_eeglab(srcpath)\n"
     ]
    },
    {
     "name": "stdout",
     "output_type": "stream",
     "text": [
      "Setting up band-pass filter from 1 - 63 Hz\n",
      "\n",
      "FIR filter parameters\n",
      "---------------------\n",
      "Designing a one-pass, zero-phase, non-causal bandpass filter:\n",
      "- Windowed time-domain design (firwin) method\n",
      "- Hamming window with 0.0194 passband ripple and 53 dB stopband attenuation\n",
      "- Lower passband edge: 1.00\n",
      "- Lower transition bandwidth: 1.00 Hz (-6 dB cutoff frequency: 0.50 Hz)\n",
      "- Upper passband edge: 63.00 Hz\n",
      "- Upper transition bandwidth: 1.00 Hz (-6 dB cutoff frequency: 63.50 Hz)\n",
      "- Filter length: 423 samples (3.305 sec)\n",
      "\n"
     ]
    },
    {
     "name": "stderr",
     "output_type": "stream",
     "text": [
      "[Parallel(n_jobs=1)]: Using backend SequentialBackend with 1 concurrent workers.\n",
      "[Parallel(n_jobs=1)]: Done   1 out of   1 | elapsed:    0.0s remaining:    0.0s\n",
      "[Parallel(n_jobs=1)]: Done   2 out of   2 | elapsed:    0.0s remaining:    0.0s\n",
      "[Parallel(n_jobs=1)]: Done   3 out of   3 | elapsed:    0.0s remaining:    0.0s\n",
      "[Parallel(n_jobs=1)]: Done   4 out of   4 | elapsed:    0.0s remaining:    0.0s\n",
      "[Parallel(n_jobs=1)]: Done 3870 out of 3870 | elapsed:    1.7s finished\n"
     ]
    },
    {
     "name": "stdout",
     "output_type": "stream",
     "text": [
      "study02_p02_prep.set 1024 0 45 46080 (63, 1024)\n",
      "study02_p02_prep.set 1024 1024 45 46080 (63, 1024)\n",
      "study02_p02_prep.set 1024 2048 45 46080 (63, 1024)\n",
      "study02_p02_prep.set 1024 3072 45 46080 (63, 1024)\n",
      "study02_p02_prep.set 1024 4096 45 46080 (63, 1024)\n",
      "study02_p02_prep.set 1024 5120 45 46080 (63, 1024)\n",
      "study02_p02_prep.set 1024 6144 45 46080 (63, 1024)\n",
      "study02_p02_prep.set 1024 7168 45 46080 (63, 1024)\n",
      "study02_p02_prep.set 1024 8192 45 46080 (63, 1024)\n",
      "study02_p02_prep.set 1024 9216 45 46080 (63, 1024)\n",
      "study02_p02_prep.set 1024 10240 45 46080 (63, 1024)\n",
      "study02_p02_prep.set 1024 11264 45 46080 (63, 1024)\n",
      "study02_p02_prep.set 1024 12288 45 46080 (63, 1024)\n",
      "study02_p02_prep.set 1024 13312 45 46080 (63, 1024)\n",
      "study02_p02_prep.set 1024 14336 45 46080 (63, 1024)\n",
      "study02_p02_prep.set 1024 15360 45 46080 (63, 1024)\n",
      "study02_p02_prep.set 1024 16384 45 46080 (63, 1024)\n",
      "study02_p02_prep.set 1024 17408 45 46080 (63, 1024)\n",
      "study02_p02_prep.set 1024 18432 45 46080 (63, 1024)\n",
      "study02_p02_prep.set 1024 19456 45 46080 (63, 1024)\n",
      "study02_p02_prep.set 1024 20480 45 46080 (63, 1024)\n",
      "study02_p02_prep.set 1024 21504 45 46080 (63, 1024)\n",
      "study02_p02_prep.set 1024 22528 45 46080 (63, 1024)\n",
      "study02_p02_prep.set 1024 23552 45 46080 (63, 1024)\n",
      "study02_p02_prep.set 1024 24576 45 46080 (63, 1024)\n",
      "study02_p02_prep.set 1024 25600 45 46080 (63, 1024)\n",
      "study02_p02_prep.set 1024 26624 45 46080 (63, 1024)\n",
      "study02_p02_prep.set 1024 27648 45 46080 (63, 1024)\n",
      "study02_p02_prep.set 1024 28672 45 46080 (63, 1024)\n",
      "study02_p02_prep.set 1024 29696 45 46080 (63, 1024)\n",
      "study02_p02_prep.set 1024 30720 45 46080 (63, 1024)\n",
      "study02_p02_prep.set 1024 31744 45 46080 (63, 1024)\n",
      "study02_p02_prep.set 1024 32768 45 46080 (63, 1024)\n",
      "study02_p02_prep.set 1024 33792 45 46080 (63, 1024)\n",
      "study02_p02_prep.set 1024 34816 45 46080 (63, 1024)\n",
      "study02_p02_prep.set 1024 35840 45 46080 (63, 1024)\n",
      "study02_p02_prep.set 1024 36864 45 46080 (63, 1024)\n",
      "study02_p02_prep.set 1024 37888 45 46080 (63, 1024)\n",
      "study02_p02_prep.set 1024 38912 45 46080 (63, 1024)\n",
      "study02_p02_prep.set 1024 39936 45 46080 (63, 1024)\n",
      "study02_p02_prep.set 1024 40960 45 46080 (63, 1024)\n",
      "study02_p02_prep.set 1024 41984 45 46080 (63, 1024)\n",
      "study02_p02_prep.set 1024 43008 45 46080 (63, 1024)\n",
      "study02_p02_prep.set 1024 44032 45 46080 (63, 1024)\n",
      "study02_p02_prep.set 1024 45056 45 46080 (63, 1024)\n"
     ]
    },
    {
     "name": "stderr",
     "output_type": "stream",
     "text": [
      "C:\\Users\\DELL\\anaconda3\\lib\\site-packages\\pymatreader\\utils.py:122: UserWarning: Complex objects (like classes) are not supported. They are imported on a best effort base but your mileage will vary.\n",
      "  warn('Complex objects (like classes) are not supported. '\n"
     ]
    },
    {
     "name": "stdout",
     "output_type": "stream",
     "text": [
      "Extracting parameters from C:\\Users\\DELL\\Desktop\\20credit\\EEG_eye_artifact\\wholedata\\study02_p03_prep.set...\n",
      "Not setting metadata\n",
      "49 matching events found\n",
      "No baseline correction applied\n"
     ]
    },
    {
     "name": "stderr",
     "output_type": "stream",
     "text": [
      "C:\\Users\\DELL\\AppData\\Local\\Temp\\ipykernel_14424\\3542807486.py:14: RuntimeWarning: At least one epoch has multiple events. Only the latency of the first event will be retained.\n",
      "  data=mne.io.read_epochs_eeglab(srcpath)\n",
      "C:\\Users\\DELL\\AppData\\Local\\Temp\\ipykernel_14424\\3542807486.py:14: RuntimeWarning: Unknown types found, setting as type EEG:\n",
      "artifact: ['eye-art', 'eye-blink', 'eye-d', 'eye-fix', 'eye-l', 'eye-r', 'eye-u']\n",
      "eoglpf: ['HEOG_lpf', 'REOG_lpf', 'VEOG_lpf']\n",
      "label: ['artifactclasses']\n",
      "paradigm: ['block']\n",
      "snap: ['target_S', 'target_X', 'target_Z']\n",
      "state: ['label']\n",
      "  data=mne.io.read_epochs_eeglab(srcpath)\n",
      "C:\\Users\\DELL\\AppData\\Local\\Temp\\ipykernel_14424\\3542807486.py:14: RuntimeWarning: Data file name in EEG.data (ebs_prep.fdt) is incorrect, the file name must have changed on disk, using the correct file name (study02_p03_prep.fdt).\n",
      "  data=mne.io.read_epochs_eeglab(srcpath)\n"
     ]
    },
    {
     "name": "stdout",
     "output_type": "stream",
     "text": [
      "0 projection items activated\n",
      "Ready.\n"
     ]
    },
    {
     "name": "stderr",
     "output_type": "stream",
     "text": [
      "C:\\Users\\DELL\\AppData\\Local\\Temp\\ipykernel_14424\\3542807486.py:14: RuntimeWarning: Not setting positions of 3 eog channels found in montage:\n",
      "['HEOG', 'VEOG', 'REOG']\n",
      "Consider setting the channel types to be of EEG/sEEG/ECoG/DBS/fNIRS using inst.set_channel_types before calling inst.set_montage, or omit these channels when creating your montage.\n",
      "  data=mne.io.read_epochs_eeglab(srcpath)\n"
     ]
    },
    {
     "name": "stdout",
     "output_type": "stream",
     "text": [
      "Setting up band-pass filter from 1 - 63 Hz\n",
      "\n",
      "FIR filter parameters\n",
      "---------------------\n",
      "Designing a one-pass, zero-phase, non-causal bandpass filter:\n",
      "- Windowed time-domain design (firwin) method\n",
      "- Hamming window with 0.0194 passband ripple and 53 dB stopband attenuation\n",
      "- Lower passband edge: 1.00\n",
      "- Lower transition bandwidth: 1.00 Hz (-6 dB cutoff frequency: 0.50 Hz)\n",
      "- Upper passband edge: 63.00 Hz\n",
      "- Upper transition bandwidth: 1.00 Hz (-6 dB cutoff frequency: 63.50 Hz)\n",
      "- Filter length: 423 samples (3.305 sec)\n",
      "\n"
     ]
    },
    {
     "name": "stderr",
     "output_type": "stream",
     "text": [
      "[Parallel(n_jobs=1)]: Using backend SequentialBackend with 1 concurrent workers.\n",
      "[Parallel(n_jobs=1)]: Done   1 out of   1 | elapsed:    0.0s remaining:    0.0s\n",
      "[Parallel(n_jobs=1)]: Done   2 out of   2 | elapsed:    0.0s remaining:    0.0s\n",
      "[Parallel(n_jobs=1)]: Done   3 out of   3 | elapsed:    0.0s remaining:    0.0s\n",
      "[Parallel(n_jobs=1)]: Done   4 out of   4 | elapsed:    0.0s remaining:    0.0s\n",
      "[Parallel(n_jobs=1)]: Done 4214 out of 4214 | elapsed:    1.8s finished\n"
     ]
    },
    {
     "name": "stdout",
     "output_type": "stream",
     "text": [
      "study02_p03_prep.set 1024 0 49 50176 (63, 1024)\n",
      "study02_p03_prep.set 1024 1024 49 50176 (63, 1024)\n",
      "study02_p03_prep.set 1024 2048 49 50176 (63, 1024)\n",
      "study02_p03_prep.set 1024 3072 49 50176 (63, 1024)\n",
      "study02_p03_prep.set 1024 4096 49 50176 (63, 1024)\n",
      "study02_p03_prep.set 1024 5120 49 50176 (63, 1024)\n",
      "study02_p03_prep.set 1024 6144 49 50176 (63, 1024)\n",
      "study02_p03_prep.set 1024 7168 49 50176 (63, 1024)\n",
      "study02_p03_prep.set 1024 8192 49 50176 (63, 1024)\n",
      "study02_p03_prep.set 1024 9216 49 50176 (63, 1024)\n",
      "study02_p03_prep.set 1024 10240 49 50176 (63, 1024)\n",
      "study02_p03_prep.set 1024 11264 49 50176 (63, 1024)\n",
      "study02_p03_prep.set 1024 12288 49 50176 (63, 1024)\n",
      "study02_p03_prep.set 1024 13312 49 50176 (63, 1024)\n",
      "study02_p03_prep.set 1024 14336 49 50176 (63, 1024)\n",
      "study02_p03_prep.set 1024 15360 49 50176 (63, 1024)\n",
      "study02_p03_prep.set 1024 16384 49 50176 (63, 1024)\n",
      "study02_p03_prep.set 1024 17408 49 50176 (63, 1024)\n",
      "study02_p03_prep.set 1024 18432 49 50176 (63, 1024)\n",
      "study02_p03_prep.set 1024 19456 49 50176 (63, 1024)\n",
      "study02_p03_prep.set 1024 20480 49 50176 (63, 1024)\n",
      "study02_p03_prep.set 1024 21504 49 50176 (63, 1024)\n",
      "study02_p03_prep.set 1024 22528 49 50176 (63, 1024)\n",
      "study02_p03_prep.set 1024 23552 49 50176 (63, 1024)\n",
      "study02_p03_prep.set 1024 24576 49 50176 (63, 1024)\n",
      "study02_p03_prep.set 1024 25600 49 50176 (63, 1024)\n",
      "study02_p03_prep.set 1024 26624 49 50176 (63, 1024)\n",
      "study02_p03_prep.set 1024 27648 49 50176 (63, 1024)\n",
      "study02_p03_prep.set 1024 28672 49 50176 (63, 1024)\n",
      "study02_p03_prep.set 1024 29696 49 50176 (63, 1024)\n",
      "study02_p03_prep.set 1024 30720 49 50176 (63, 1024)\n",
      "study02_p03_prep.set 1024 31744 49 50176 (63, 1024)\n",
      "study02_p03_prep.set 1024 32768 49 50176 (63, 1024)\n",
      "study02_p03_prep.set 1024 33792 49 50176 (63, 1024)\n",
      "study02_p03_prep.set 1024 34816 49 50176 (63, 1024)\n",
      "study02_p03_prep.set 1024 35840 49 50176 (63, 1024)\n",
      "study02_p03_prep.set 1024 36864 49 50176 (63, 1024)\n",
      "study02_p03_prep.set 1024 37888 49 50176 (63, 1024)\n",
      "study02_p03_prep.set 1024 38912 49 50176 (63, 1024)\n",
      "study02_p03_prep.set 1024 39936 49 50176 (63, 1024)\n",
      "study02_p03_prep.set 1024 40960 49 50176 (63, 1024)\n",
      "study02_p03_prep.set 1024 41984 49 50176 (63, 1024)\n",
      "study02_p03_prep.set 1024 43008 49 50176 (63, 1024)\n",
      "study02_p03_prep.set 1024 44032 49 50176 (63, 1024)\n",
      "study02_p03_prep.set 1024 45056 49 50176 (63, 1024)\n",
      "study02_p03_prep.set 1024 46080 49 50176 (63, 1024)\n",
      "study02_p03_prep.set 1024 47104 49 50176 (63, 1024)\n",
      "study02_p03_prep.set 1024 48128 49 50176 (63, 1024)\n",
      "study02_p03_prep.set 1024 49152 49 50176 (63, 1024)\n"
     ]
    },
    {
     "name": "stderr",
     "output_type": "stream",
     "text": [
      "C:\\Users\\DELL\\anaconda3\\lib\\site-packages\\pymatreader\\utils.py:122: UserWarning: Complex objects (like classes) are not supported. They are imported on a best effort base but your mileage will vary.\n",
      "  warn('Complex objects (like classes) are not supported. '\n"
     ]
    },
    {
     "name": "stdout",
     "output_type": "stream",
     "text": [
      "Extracting parameters from C:\\Users\\DELL\\Desktop\\20credit\\EEG_eye_artifact\\wholedata\\study02_p06_prep.set...\n",
      "Not setting metadata\n",
      "46 matching events found\n",
      "No baseline correction applied\n",
      "0 projection items activated\n",
      "Ready.\n"
     ]
    },
    {
     "name": "stderr",
     "output_type": "stream",
     "text": [
      "C:\\Users\\DELL\\AppData\\Local\\Temp\\ipykernel_14424\\3542807486.py:14: RuntimeWarning: At least one epoch has multiple events. Only the latency of the first event will be retained.\n",
      "  data=mne.io.read_epochs_eeglab(srcpath)\n",
      "C:\\Users\\DELL\\AppData\\Local\\Temp\\ipykernel_14424\\3542807486.py:14: RuntimeWarning: Unknown types found, setting as type EEG:\n",
      "artifact: ['eye-art', 'eye-blink', 'eye-d', 'eye-fix', 'eye-l', 'eye-r', 'eye-u']\n",
      "eoglpf: ['HEOG_lpf', 'REOG_lpf', 'VEOG_lpf']\n",
      "label: ['artifactclasses']\n",
      "paradigm: ['block']\n",
      "snap: ['target_S', 'target_X', 'target_Z']\n",
      "state: ['label']\n",
      "  data=mne.io.read_epochs_eeglab(srcpath)\n",
      "C:\\Users\\DELL\\AppData\\Local\\Temp\\ipykernel_14424\\3542807486.py:14: RuntimeWarning: Data file name in EEG.data (ebs_prep.fdt) is incorrect, the file name must have changed on disk, using the correct file name (study02_p06_prep.fdt).\n",
      "  data=mne.io.read_epochs_eeglab(srcpath)\n",
      "C:\\Users\\DELL\\AppData\\Local\\Temp\\ipykernel_14424\\3542807486.py:14: RuntimeWarning: Not setting positions of 3 eog channels found in montage:\n",
      "['HEOG', 'VEOG', 'REOG']\n",
      "Consider setting the channel types to be of EEG/sEEG/ECoG/DBS/fNIRS using inst.set_channel_types before calling inst.set_montage, or omit these channels when creating your montage.\n",
      "  data=mne.io.read_epochs_eeglab(srcpath)\n"
     ]
    },
    {
     "name": "stdout",
     "output_type": "stream",
     "text": [
      "Setting up band-pass filter from 1 - 63 Hz\n",
      "\n",
      "FIR filter parameters\n",
      "---------------------\n",
      "Designing a one-pass, zero-phase, non-causal bandpass filter:\n",
      "- Windowed time-domain design (firwin) method\n",
      "- Hamming window with 0.0194 passband ripple and 53 dB stopband attenuation\n",
      "- Lower passband edge: 1.00\n",
      "- Lower transition bandwidth: 1.00 Hz (-6 dB cutoff frequency: 0.50 Hz)\n",
      "- Upper passband edge: 63.00 Hz\n",
      "- Upper transition bandwidth: 1.00 Hz (-6 dB cutoff frequency: 63.50 Hz)\n",
      "- Filter length: 423 samples (3.305 sec)\n",
      "\n"
     ]
    },
    {
     "name": "stderr",
     "output_type": "stream",
     "text": [
      "[Parallel(n_jobs=1)]: Using backend SequentialBackend with 1 concurrent workers.\n",
      "[Parallel(n_jobs=1)]: Done   1 out of   1 | elapsed:    0.0s remaining:    0.0s\n",
      "[Parallel(n_jobs=1)]: Done   2 out of   2 | elapsed:    0.0s remaining:    0.0s\n",
      "[Parallel(n_jobs=1)]: Done   3 out of   3 | elapsed:    0.0s remaining:    0.0s\n",
      "[Parallel(n_jobs=1)]: Done   4 out of   4 | elapsed:    0.0s remaining:    0.0s\n",
      "[Parallel(n_jobs=1)]: Done 3956 out of 3956 | elapsed:    1.7s finished\n"
     ]
    },
    {
     "name": "stdout",
     "output_type": "stream",
     "text": [
      "study02_p06_prep.set 1024 0 46 47104 (63, 1024)\n",
      "study02_p06_prep.set 1024 1024 46 47104 (63, 1024)\n",
      "study02_p06_prep.set 1024 2048 46 47104 (63, 1024)\n",
      "study02_p06_prep.set 1024 3072 46 47104 (63, 1024)\n",
      "study02_p06_prep.set 1024 4096 46 47104 (63, 1024)\n",
      "study02_p06_prep.set 1024 5120 46 47104 (63, 1024)\n",
      "study02_p06_prep.set 1024 6144 46 47104 (63, 1024)\n",
      "study02_p06_prep.set 1024 7168 46 47104 (63, 1024)\n",
      "study02_p06_prep.set 1024 8192 46 47104 (63, 1024)\n",
      "study02_p06_prep.set 1024 9216 46 47104 (63, 1024)\n",
      "study02_p06_prep.set 1024 10240 46 47104 (63, 1024)\n",
      "study02_p06_prep.set 1024 11264 46 47104 (63, 1024)\n",
      "study02_p06_prep.set 1024 12288 46 47104 (63, 1024)\n",
      "study02_p06_prep.set 1024 13312 46 47104 (63, 1024)\n",
      "study02_p06_prep.set 1024 14336 46 47104 (63, 1024)\n",
      "study02_p06_prep.set 1024 15360 46 47104 (63, 1024)\n",
      "study02_p06_prep.set 1024 16384 46 47104 (63, 1024)\n",
      "study02_p06_prep.set 1024 17408 46 47104 (63, 1024)\n",
      "study02_p06_prep.set 1024 18432 46 47104 (63, 1024)\n",
      "study02_p06_prep.set 1024 19456 46 47104 (63, 1024)\n",
      "study02_p06_prep.set 1024 20480 46 47104 (63, 1024)\n",
      "study02_p06_prep.set 1024 21504 46 47104 (63, 1024)\n",
      "study02_p06_prep.set 1024 22528 46 47104 (63, 1024)\n",
      "study02_p06_prep.set 1024 23552 46 47104 (63, 1024)\n",
      "study02_p06_prep.set 1024 24576 46 47104 (63, 1024)\n",
      "study02_p06_prep.set 1024 25600 46 47104 (63, 1024)\n",
      "study02_p06_prep.set 1024 26624 46 47104 (63, 1024)\n",
      "study02_p06_prep.set 1024 27648 46 47104 (63, 1024)\n",
      "study02_p06_prep.set 1024 28672 46 47104 (63, 1024)\n",
      "study02_p06_prep.set 1024 29696 46 47104 (63, 1024)\n",
      "study02_p06_prep.set 1024 30720 46 47104 (63, 1024)\n",
      "study02_p06_prep.set 1024 31744 46 47104 (63, 1024)\n",
      "study02_p06_prep.set 1024 32768 46 47104 (63, 1024)\n",
      "study02_p06_prep.set 1024 33792 46 47104 (63, 1024)\n",
      "study02_p06_prep.set 1024 34816 46 47104 (63, 1024)\n",
      "study02_p06_prep.set 1024 35840 46 47104 (63, 1024)\n",
      "study02_p06_prep.set 1024 36864 46 47104 (63, 1024)\n",
      "study02_p06_prep.set 1024 37888 46 47104 (63, 1024)\n",
      "study02_p06_prep.set 1024 38912 46 47104 (63, 1024)\n",
      "study02_p06_prep.set 1024 39936 46 47104 (63, 1024)\n",
      "study02_p06_prep.set 1024 40960 46 47104 (63, 1024)\n",
      "study02_p06_prep.set 1024 41984 46 47104 (63, 1024)\n",
      "study02_p06_prep.set 1024 43008 46 47104 (63, 1024)\n",
      "study02_p06_prep.set 1024 44032 46 47104 (63, 1024)\n",
      "study02_p06_prep.set 1024 45056 46 47104 (63, 1024)\n",
      "study02_p06_prep.set 1024 46080 46 47104 (63, 1024)\n"
     ]
    },
    {
     "name": "stderr",
     "output_type": "stream",
     "text": [
      "C:\\Users\\DELL\\anaconda3\\lib\\site-packages\\pymatreader\\utils.py:122: UserWarning: Complex objects (like classes) are not supported. They are imported on a best effort base but your mileage will vary.\n",
      "  warn('Complex objects (like classes) are not supported. '\n"
     ]
    },
    {
     "name": "stdout",
     "output_type": "stream",
     "text": [
      "Extracting parameters from C:\\Users\\DELL\\Desktop\\20credit\\EEG_eye_artifact\\wholedata\\study02_p07_prep.set...\n",
      "Not setting metadata\n",
      "48 matching events found\n",
      "No baseline correction applied\n"
     ]
    },
    {
     "name": "stderr",
     "output_type": "stream",
     "text": [
      "C:\\Users\\DELL\\AppData\\Local\\Temp\\ipykernel_14424\\3542807486.py:14: RuntimeWarning: At least one epoch has multiple events. Only the latency of the first event will be retained.\n",
      "  data=mne.io.read_epochs_eeglab(srcpath)\n",
      "C:\\Users\\DELL\\AppData\\Local\\Temp\\ipykernel_14424\\3542807486.py:14: RuntimeWarning: Unknown types found, setting as type EEG:\n",
      "artifact: ['eye-art', 'eye-blink', 'eye-d', 'eye-fix', 'eye-l', 'eye-r', 'eye-u']\n",
      "eoglpf: ['HEOG_lpf', 'REOG_lpf', 'VEOG_lpf']\n",
      "label: ['artifactclasses']\n",
      "paradigm: ['block']\n",
      "snap: ['target_S', 'target_X', 'target_Z']\n",
      "state: ['label']\n",
      "  data=mne.io.read_epochs_eeglab(srcpath)\n",
      "C:\\Users\\DELL\\AppData\\Local\\Temp\\ipykernel_14424\\3542807486.py:14: RuntimeWarning: Data file name in EEG.data (ebs_prep.fdt) is incorrect, the file name must have changed on disk, using the correct file name (study02_p07_prep.fdt).\n",
      "  data=mne.io.read_epochs_eeglab(srcpath)\n"
     ]
    },
    {
     "name": "stdout",
     "output_type": "stream",
     "text": [
      "0 projection items activated\n",
      "Ready.\n"
     ]
    },
    {
     "name": "stderr",
     "output_type": "stream",
     "text": [
      "C:\\Users\\DELL\\AppData\\Local\\Temp\\ipykernel_14424\\3542807486.py:14: RuntimeWarning: Not setting positions of 3 eog channels found in montage:\n",
      "['HEOG', 'VEOG', 'REOG']\n",
      "Consider setting the channel types to be of EEG/sEEG/ECoG/DBS/fNIRS using inst.set_channel_types before calling inst.set_montage, or omit these channels when creating your montage.\n",
      "  data=mne.io.read_epochs_eeglab(srcpath)\n"
     ]
    },
    {
     "name": "stdout",
     "output_type": "stream",
     "text": [
      "Setting up band-pass filter from 1 - 63 Hz\n",
      "\n",
      "FIR filter parameters\n",
      "---------------------\n",
      "Designing a one-pass, zero-phase, non-causal bandpass filter:\n",
      "- Windowed time-domain design (firwin) method\n",
      "- Hamming window with 0.0194 passband ripple and 53 dB stopband attenuation\n",
      "- Lower passband edge: 1.00\n",
      "- Lower transition bandwidth: 1.00 Hz (-6 dB cutoff frequency: 0.50 Hz)\n",
      "- Upper passband edge: 63.00 Hz\n",
      "- Upper transition bandwidth: 1.00 Hz (-6 dB cutoff frequency: 63.50 Hz)\n",
      "- Filter length: 423 samples (3.305 sec)\n",
      "\n"
     ]
    },
    {
     "name": "stderr",
     "output_type": "stream",
     "text": [
      "[Parallel(n_jobs=1)]: Using backend SequentialBackend with 1 concurrent workers.\n",
      "[Parallel(n_jobs=1)]: Done   1 out of   1 | elapsed:    0.0s remaining:    0.0s\n",
      "[Parallel(n_jobs=1)]: Done   2 out of   2 | elapsed:    0.0s remaining:    0.0s\n",
      "[Parallel(n_jobs=1)]: Done   3 out of   3 | elapsed:    0.0s remaining:    0.0s\n",
      "[Parallel(n_jobs=1)]: Done   4 out of   4 | elapsed:    0.0s remaining:    0.0s\n",
      "[Parallel(n_jobs=1)]: Done 4128 out of 4128 | elapsed:    2.0s finished\n"
     ]
    },
    {
     "name": "stdout",
     "output_type": "stream",
     "text": [
      "study02_p07_prep.set 1024 0 48 49152 (63, 1024)\n",
      "study02_p07_prep.set 1024 1024 48 49152 (63, 1024)\n",
      "study02_p07_prep.set 1024 2048 48 49152 (63, 1024)\n",
      "study02_p07_prep.set 1024 3072 48 49152 (63, 1024)\n",
      "study02_p07_prep.set 1024 4096 48 49152 (63, 1024)\n",
      "study02_p07_prep.set 1024 5120 48 49152 (63, 1024)\n",
      "study02_p07_prep.set 1024 6144 48 49152 (63, 1024)\n",
      "study02_p07_prep.set 1024 7168 48 49152 (63, 1024)\n",
      "study02_p07_prep.set 1024 8192 48 49152 (63, 1024)\n",
      "study02_p07_prep.set 1024 9216 48 49152 (63, 1024)\n",
      "study02_p07_prep.set 1024 10240 48 49152 (63, 1024)\n",
      "study02_p07_prep.set 1024 11264 48 49152 (63, 1024)\n",
      "study02_p07_prep.set 1024 12288 48 49152 (63, 1024)\n",
      "study02_p07_prep.set 1024 13312 48 49152 (63, 1024)\n",
      "study02_p07_prep.set 1024 14336 48 49152 (63, 1024)\n",
      "study02_p07_prep.set 1024 15360 48 49152 (63, 1024)\n",
      "study02_p07_prep.set 1024 16384 48 49152 (63, 1024)\n",
      "study02_p07_prep.set 1024 17408 48 49152 (63, 1024)\n",
      "study02_p07_prep.set 1024 18432 48 49152 (63, 1024)\n",
      "study02_p07_prep.set 1024 19456 48 49152 (63, 1024)\n",
      "study02_p07_prep.set 1024 20480 48 49152 (63, 1024)\n",
      "study02_p07_prep.set 1024 21504 48 49152 (63, 1024)\n",
      "study02_p07_prep.set 1024 22528 48 49152 (63, 1024)\n",
      "study02_p07_prep.set 1024 23552 48 49152 (63, 1024)\n",
      "study02_p07_prep.set 1024 24576 48 49152 (63, 1024)\n",
      "study02_p07_prep.set 1024 25600 48 49152 (63, 1024)\n",
      "study02_p07_prep.set 1024 26624 48 49152 (63, 1024)\n",
      "study02_p07_prep.set 1024 27648 48 49152 (63, 1024)\n",
      "study02_p07_prep.set 1024 28672 48 49152 (63, 1024)\n",
      "study02_p07_prep.set 1024 29696 48 49152 (63, 1024)\n",
      "study02_p07_prep.set 1024 30720 48 49152 (63, 1024)\n",
      "study02_p07_prep.set 1024 31744 48 49152 (63, 1024)\n",
      "study02_p07_prep.set 1024 32768 48 49152 (63, 1024)\n",
      "study02_p07_prep.set 1024 33792 48 49152 (63, 1024)\n",
      "study02_p07_prep.set 1024 34816 48 49152 (63, 1024)\n",
      "study02_p07_prep.set 1024 35840 48 49152 (63, 1024)\n",
      "study02_p07_prep.set 1024 36864 48 49152 (63, 1024)\n",
      "study02_p07_prep.set 1024 37888 48 49152 (63, 1024)\n",
      "study02_p07_prep.set 1024 38912 48 49152 (63, 1024)\n",
      "study02_p07_prep.set 1024 39936 48 49152 (63, 1024)\n",
      "study02_p07_prep.set 1024 40960 48 49152 (63, 1024)\n",
      "study02_p07_prep.set 1024 41984 48 49152 (63, 1024)\n",
      "study02_p07_prep.set 1024 43008 48 49152 (63, 1024)\n",
      "study02_p07_prep.set 1024 44032 48 49152 (63, 1024)\n",
      "study02_p07_prep.set 1024 45056 48 49152 (63, 1024)\n",
      "study02_p07_prep.set 1024 46080 48 49152 (63, 1024)\n",
      "study02_p07_prep.set 1024 47104 48 49152 (63, 1024)\n",
      "study02_p07_prep.set 1024 48128 48 49152 (63, 1024)\n"
     ]
    },
    {
     "name": "stderr",
     "output_type": "stream",
     "text": [
      "C:\\Users\\DELL\\anaconda3\\lib\\site-packages\\pymatreader\\utils.py:122: UserWarning: Complex objects (like classes) are not supported. They are imported on a best effort base but your mileage will vary.\n",
      "  warn('Complex objects (like classes) are not supported. '\n"
     ]
    },
    {
     "name": "stdout",
     "output_type": "stream",
     "text": [
      "Extracting parameters from C:\\Users\\DELL\\Desktop\\20credit\\EEG_eye_artifact\\wholedata\\study02_p08_prep.set...\n",
      "Not setting metadata\n",
      "45 matching events found\n",
      "No baseline correction applied\n",
      "0 projection items activated\n",
      "Ready.\n"
     ]
    },
    {
     "name": "stderr",
     "output_type": "stream",
     "text": [
      "C:\\Users\\DELL\\AppData\\Local\\Temp\\ipykernel_14424\\3542807486.py:14: RuntimeWarning: At least one epoch has multiple events. Only the latency of the first event will be retained.\n",
      "  data=mne.io.read_epochs_eeglab(srcpath)\n",
      "C:\\Users\\DELL\\AppData\\Local\\Temp\\ipykernel_14424\\3542807486.py:14: RuntimeWarning: Unknown types found, setting as type EEG:\n",
      "artifact: ['eye-art', 'eye-blink', 'eye-d', 'eye-fix', 'eye-l', 'eye-r', 'eye-u']\n",
      "eoglpf: ['HEOG_lpf', 'REOG_lpf', 'VEOG_lpf']\n",
      "label: ['artifactclasses']\n",
      "paradigm: ['block']\n",
      "snap: ['target_S', 'target_X', 'target_Z']\n",
      "state: ['label']\n",
      "  data=mne.io.read_epochs_eeglab(srcpath)\n",
      "C:\\Users\\DELL\\AppData\\Local\\Temp\\ipykernel_14424\\3542807486.py:14: RuntimeWarning: Data file name in EEG.data (ebs_prep.fdt) is incorrect, the file name must have changed on disk, using the correct file name (study02_p08_prep.fdt).\n",
      "  data=mne.io.read_epochs_eeglab(srcpath)\n",
      "C:\\Users\\DELL\\AppData\\Local\\Temp\\ipykernel_14424\\3542807486.py:14: RuntimeWarning: Not setting positions of 3 eog channels found in montage:\n",
      "['HEOG', 'VEOG', 'REOG']\n",
      "Consider setting the channel types to be of EEG/sEEG/ECoG/DBS/fNIRS using inst.set_channel_types before calling inst.set_montage, or omit these channels when creating your montage.\n",
      "  data=mne.io.read_epochs_eeglab(srcpath)\n"
     ]
    },
    {
     "name": "stdout",
     "output_type": "stream",
     "text": [
      "Setting up band-pass filter from 1 - 63 Hz\n",
      "\n",
      "FIR filter parameters\n",
      "---------------------\n",
      "Designing a one-pass, zero-phase, non-causal bandpass filter:\n",
      "- Windowed time-domain design (firwin) method\n",
      "- Hamming window with 0.0194 passband ripple and 53 dB stopband attenuation\n",
      "- Lower passband edge: 1.00\n",
      "- Lower transition bandwidth: 1.00 Hz (-6 dB cutoff frequency: 0.50 Hz)\n",
      "- Upper passband edge: 63.00 Hz\n",
      "- Upper transition bandwidth: 1.00 Hz (-6 dB cutoff frequency: 63.50 Hz)\n",
      "- Filter length: 423 samples (3.305 sec)\n",
      "\n"
     ]
    },
    {
     "name": "stderr",
     "output_type": "stream",
     "text": [
      "[Parallel(n_jobs=1)]: Using backend SequentialBackend with 1 concurrent workers.\n",
      "[Parallel(n_jobs=1)]: Done   1 out of   1 | elapsed:    0.0s remaining:    0.0s\n",
      "[Parallel(n_jobs=1)]: Done   2 out of   2 | elapsed:    0.0s remaining:    0.0s\n",
      "[Parallel(n_jobs=1)]: Done   3 out of   3 | elapsed:    0.0s remaining:    0.0s\n",
      "[Parallel(n_jobs=1)]: Done   4 out of   4 | elapsed:    0.0s remaining:    0.0s\n",
      "[Parallel(n_jobs=1)]: Done 3870 out of 3870 | elapsed:    1.6s finished\n"
     ]
    },
    {
     "name": "stdout",
     "output_type": "stream",
     "text": [
      "study02_p08_prep.set 1024 0 45 46080 (63, 1024)\n",
      "study02_p08_prep.set 1024 1024 45 46080 (63, 1024)\n",
      "study02_p08_prep.set 1024 2048 45 46080 (63, 1024)\n",
      "study02_p08_prep.set 1024 3072 45 46080 (63, 1024)\n",
      "study02_p08_prep.set 1024 4096 45 46080 (63, 1024)\n",
      "study02_p08_prep.set 1024 5120 45 46080 (63, 1024)\n",
      "study02_p08_prep.set 1024 6144 45 46080 (63, 1024)\n",
      "study02_p08_prep.set 1024 7168 45 46080 (63, 1024)\n",
      "study02_p08_prep.set 1024 8192 45 46080 (63, 1024)\n",
      "study02_p08_prep.set 1024 9216 45 46080 (63, 1024)\n",
      "study02_p08_prep.set 1024 10240 45 46080 (63, 1024)\n",
      "study02_p08_prep.set 1024 11264 45 46080 (63, 1024)\n",
      "study02_p08_prep.set 1024 12288 45 46080 (63, 1024)\n",
      "study02_p08_prep.set 1024 13312 45 46080 (63, 1024)\n",
      "study02_p08_prep.set 1024 14336 45 46080 (63, 1024)\n",
      "study02_p08_prep.set 1024 15360 45 46080 (63, 1024)\n",
      "study02_p08_prep.set 1024 16384 45 46080 (63, 1024)\n",
      "study02_p08_prep.set 1024 17408 45 46080 (63, 1024)\n",
      "study02_p08_prep.set 1024 18432 45 46080 (63, 1024)\n",
      "study02_p08_prep.set 1024 19456 45 46080 (63, 1024)\n",
      "study02_p08_prep.set 1024 20480 45 46080 (63, 1024)\n",
      "study02_p08_prep.set 1024 21504 45 46080 (63, 1024)\n",
      "study02_p08_prep.set 1024 22528 45 46080 (63, 1024)\n",
      "study02_p08_prep.set 1024 23552 45 46080 (63, 1024)\n",
      "study02_p08_prep.set 1024 24576 45 46080 (63, 1024)\n",
      "study02_p08_prep.set 1024 25600 45 46080 (63, 1024)\n",
      "study02_p08_prep.set 1024 26624 45 46080 (63, 1024)\n",
      "study02_p08_prep.set 1024 27648 45 46080 (63, 1024)\n",
      "study02_p08_prep.set 1024 28672 45 46080 (63, 1024)\n",
      "study02_p08_prep.set 1024 29696 45 46080 (63, 1024)\n",
      "study02_p08_prep.set 1024 30720 45 46080 (63, 1024)\n",
      "study02_p08_prep.set 1024 31744 45 46080 (63, 1024)\n",
      "study02_p08_prep.set 1024 32768 45 46080 (63, 1024)\n",
      "study02_p08_prep.set 1024 33792 45 46080 (63, 1024)\n",
      "study02_p08_prep.set 1024 34816 45 46080 (63, 1024)\n",
      "study02_p08_prep.set 1024 35840 45 46080 (63, 1024)\n",
      "study02_p08_prep.set 1024 36864 45 46080 (63, 1024)\n",
      "study02_p08_prep.set 1024 37888 45 46080 (63, 1024)\n",
      "study02_p08_prep.set 1024 38912 45 46080 (63, 1024)\n",
      "study02_p08_prep.set 1024 39936 45 46080 (63, 1024)\n",
      "study02_p08_prep.set 1024 40960 45 46080 (63, 1024)\n",
      "study02_p08_prep.set 1024 41984 45 46080 (63, 1024)\n",
      "study02_p08_prep.set 1024 43008 45 46080 (63, 1024)\n",
      "study02_p08_prep.set 1024 44032 45 46080 (63, 1024)\n",
      "study02_p08_prep.set 1024 45056 45 46080 (63, 1024)\n"
     ]
    },
    {
     "name": "stderr",
     "output_type": "stream",
     "text": [
      "C:\\Users\\DELL\\anaconda3\\lib\\site-packages\\pymatreader\\utils.py:122: UserWarning: Complex objects (like classes) are not supported. They are imported on a best effort base but your mileage will vary.\n",
      "  warn('Complex objects (like classes) are not supported. '\n"
     ]
    },
    {
     "name": "stdout",
     "output_type": "stream",
     "text": [
      "Extracting parameters from C:\\Users\\DELL\\Desktop\\20credit\\EEG_eye_artifact\\wholedata\\study02_p09_prep.set...\n",
      "Not setting metadata\n",
      "51 matching events found\n",
      "No baseline correction applied\n"
     ]
    },
    {
     "name": "stderr",
     "output_type": "stream",
     "text": [
      "C:\\Users\\DELL\\AppData\\Local\\Temp\\ipykernel_14424\\3542807486.py:14: RuntimeWarning: At least one epoch has multiple events. Only the latency of the first event will be retained.\n",
      "  data=mne.io.read_epochs_eeglab(srcpath)\n",
      "C:\\Users\\DELL\\AppData\\Local\\Temp\\ipykernel_14424\\3542807486.py:14: RuntimeWarning: Unknown types found, setting as type EEG:\n",
      "artifact: ['eye-art', 'eye-blink', 'eye-d', 'eye-fix', 'eye-l', 'eye-r', 'eye-u']\n",
      "eoglpf: ['HEOG_lpf', 'REOG_lpf', 'VEOG_lpf']\n",
      "label: ['artifactclasses']\n",
      "paradigm: ['block']\n",
      "snap: ['target_S', 'target_X', 'target_Z']\n",
      "state: ['label']\n",
      "  data=mne.io.read_epochs_eeglab(srcpath)\n",
      "C:\\Users\\DELL\\AppData\\Local\\Temp\\ipykernel_14424\\3542807486.py:14: RuntimeWarning: Data file name in EEG.data (ebs_prep.fdt) is incorrect, the file name must have changed on disk, using the correct file name (study02_p09_prep.fdt).\n",
      "  data=mne.io.read_epochs_eeglab(srcpath)\n"
     ]
    },
    {
     "name": "stdout",
     "output_type": "stream",
     "text": [
      "0 projection items activated\n",
      "Ready.\n"
     ]
    },
    {
     "name": "stderr",
     "output_type": "stream",
     "text": [
      "C:\\Users\\DELL\\AppData\\Local\\Temp\\ipykernel_14424\\3542807486.py:14: RuntimeWarning: Not setting positions of 3 eog channels found in montage:\n",
      "['HEOG', 'VEOG', 'REOG']\n",
      "Consider setting the channel types to be of EEG/sEEG/ECoG/DBS/fNIRS using inst.set_channel_types before calling inst.set_montage, or omit these channels when creating your montage.\n",
      "  data=mne.io.read_epochs_eeglab(srcpath)\n"
     ]
    },
    {
     "name": "stdout",
     "output_type": "stream",
     "text": [
      "Setting up band-pass filter from 1 - 63 Hz\n",
      "\n",
      "FIR filter parameters\n",
      "---------------------\n",
      "Designing a one-pass, zero-phase, non-causal bandpass filter:\n",
      "- Windowed time-domain design (firwin) method\n",
      "- Hamming window with 0.0194 passband ripple and 53 dB stopband attenuation\n",
      "- Lower passband edge: 1.00\n",
      "- Lower transition bandwidth: 1.00 Hz (-6 dB cutoff frequency: 0.50 Hz)\n",
      "- Upper passband edge: 63.00 Hz\n",
      "- Upper transition bandwidth: 1.00 Hz (-6 dB cutoff frequency: 63.50 Hz)\n",
      "- Filter length: 423 samples (3.305 sec)\n",
      "\n"
     ]
    },
    {
     "name": "stderr",
     "output_type": "stream",
     "text": [
      "[Parallel(n_jobs=1)]: Using backend SequentialBackend with 1 concurrent workers.\n",
      "[Parallel(n_jobs=1)]: Done   1 out of   1 | elapsed:    0.0s remaining:    0.0s\n",
      "[Parallel(n_jobs=1)]: Done   2 out of   2 | elapsed:    0.0s remaining:    0.0s\n",
      "[Parallel(n_jobs=1)]: Done   3 out of   3 | elapsed:    0.0s remaining:    0.0s\n",
      "[Parallel(n_jobs=1)]: Done   4 out of   4 | elapsed:    0.0s remaining:    0.0s\n",
      "[Parallel(n_jobs=1)]: Done 4386 out of 4386 | elapsed:    1.9s finished\n"
     ]
    },
    {
     "name": "stdout",
     "output_type": "stream",
     "text": [
      "study02_p09_prep.set 1024 0 51 52224 (63, 1024)\n",
      "study02_p09_prep.set 1024 1024 51 52224 (63, 1024)\n",
      "study02_p09_prep.set 1024 2048 51 52224 (63, 1024)\n",
      "study02_p09_prep.set 1024 3072 51 52224 (63, 1024)\n",
      "study02_p09_prep.set 1024 4096 51 52224 (63, 1024)\n",
      "study02_p09_prep.set 1024 5120 51 52224 (63, 1024)\n",
      "study02_p09_prep.set 1024 6144 51 52224 (63, 1024)\n",
      "study02_p09_prep.set 1024 7168 51 52224 (63, 1024)\n",
      "study02_p09_prep.set 1024 8192 51 52224 (63, 1024)\n",
      "study02_p09_prep.set 1024 9216 51 52224 (63, 1024)\n",
      "study02_p09_prep.set 1024 10240 51 52224 (63, 1024)\n",
      "study02_p09_prep.set 1024 11264 51 52224 (63, 1024)\n",
      "study02_p09_prep.set 1024 12288 51 52224 (63, 1024)\n",
      "study02_p09_prep.set 1024 13312 51 52224 (63, 1024)\n",
      "study02_p09_prep.set 1024 14336 51 52224 (63, 1024)\n",
      "study02_p09_prep.set 1024 15360 51 52224 (63, 1024)\n",
      "study02_p09_prep.set 1024 16384 51 52224 (63, 1024)\n",
      "study02_p09_prep.set 1024 17408 51 52224 (63, 1024)\n",
      "study02_p09_prep.set 1024 18432 51 52224 (63, 1024)\n",
      "study02_p09_prep.set 1024 19456 51 52224 (63, 1024)\n",
      "study02_p09_prep.set 1024 20480 51 52224 (63, 1024)\n",
      "study02_p09_prep.set 1024 21504 51 52224 (63, 1024)\n",
      "study02_p09_prep.set 1024 22528 51 52224 (63, 1024)\n",
      "study02_p09_prep.set 1024 23552 51 52224 (63, 1024)\n",
      "study02_p09_prep.set 1024 24576 51 52224 (63, 1024)\n",
      "study02_p09_prep.set 1024 25600 51 52224 (63, 1024)\n",
      "study02_p09_prep.set 1024 26624 51 52224 (63, 1024)\n",
      "study02_p09_prep.set 1024 27648 51 52224 (63, 1024)\n",
      "study02_p09_prep.set 1024 28672 51 52224 (63, 1024)\n",
      "study02_p09_prep.set 1024 29696 51 52224 (63, 1024)\n",
      "study02_p09_prep.set 1024 30720 51 52224 (63, 1024)\n",
      "study02_p09_prep.set 1024 31744 51 52224 (63, 1024)\n",
      "study02_p09_prep.set 1024 32768 51 52224 (63, 1024)\n",
      "study02_p09_prep.set 1024 33792 51 52224 (63, 1024)\n",
      "study02_p09_prep.set 1024 34816 51 52224 (63, 1024)\n",
      "study02_p09_prep.set 1024 35840 51 52224 (63, 1024)\n",
      "study02_p09_prep.set 1024 36864 51 52224 (63, 1024)\n",
      "study02_p09_prep.set 1024 37888 51 52224 (63, 1024)\n",
      "study02_p09_prep.set 1024 38912 51 52224 (63, 1024)\n",
      "study02_p09_prep.set 1024 39936 51 52224 (63, 1024)\n",
      "study02_p09_prep.set 1024 40960 51 52224 (63, 1024)\n",
      "study02_p09_prep.set 1024 41984 51 52224 (63, 1024)\n",
      "study02_p09_prep.set 1024 43008 51 52224 (63, 1024)\n",
      "study02_p09_prep.set 1024 44032 51 52224 (63, 1024)\n",
      "study02_p09_prep.set 1024 45056 51 52224 (63, 1024)\n",
      "study02_p09_prep.set 1024 46080 51 52224 (63, 1024)\n",
      "study02_p09_prep.set 1024 47104 51 52224 (63, 1024)\n",
      "study02_p09_prep.set 1024 48128 51 52224 (63, 1024)\n",
      "study02_p09_prep.set 1024 49152 51 52224 (63, 1024)\n",
      "study02_p09_prep.set 1024 50176 51 52224 (63, 1024)\n",
      "study02_p09_prep.set 1024 51200 51 52224 (63, 1024)\n"
     ]
    },
    {
     "name": "stderr",
     "output_type": "stream",
     "text": [
      "C:\\Users\\DELL\\anaconda3\\lib\\site-packages\\pymatreader\\utils.py:122: UserWarning: Complex objects (like classes) are not supported. They are imported on a best effort base but your mileage will vary.\n",
      "  warn('Complex objects (like classes) are not supported. '\n"
     ]
    },
    {
     "name": "stdout",
     "output_type": "stream",
     "text": [
      "Extracting parameters from C:\\Users\\DELL\\Desktop\\20credit\\EEG_eye_artifact\\wholedata\\study02_p10_prep.set...\n",
      "Not setting metadata\n",
      "49 matching events found\n"
     ]
    },
    {
     "name": "stderr",
     "output_type": "stream",
     "text": [
      "C:\\Users\\DELL\\AppData\\Local\\Temp\\ipykernel_14424\\3542807486.py:14: RuntimeWarning: At least one epoch has multiple events. Only the latency of the first event will be retained.\n",
      "  data=mne.io.read_epochs_eeglab(srcpath)\n",
      "C:\\Users\\DELL\\AppData\\Local\\Temp\\ipykernel_14424\\3542807486.py:14: RuntimeWarning: Unknown types found, setting as type EEG:\n",
      "artifact: ['eye-art', 'eye-blink', 'eye-d', 'eye-fix', 'eye-l', 'eye-r', 'eye-u']\n",
      "eoglpf: ['HEOG_lpf', 'REOG_lpf', 'VEOG_lpf']\n",
      "label: ['artifactclasses']\n",
      "paradigm: ['block']\n",
      "snap: ['target_S', 'target_X', 'target_Z']\n",
      "state: ['label']\n",
      "  data=mne.io.read_epochs_eeglab(srcpath)\n",
      "C:\\Users\\DELL\\AppData\\Local\\Temp\\ipykernel_14424\\3542807486.py:14: RuntimeWarning: Data file name in EEG.data (ebs_prep.fdt) is incorrect, the file name must have changed on disk, using the correct file name (study02_p10_prep.fdt).\n",
      "  data=mne.io.read_epochs_eeglab(srcpath)\n"
     ]
    },
    {
     "name": "stdout",
     "output_type": "stream",
     "text": [
      "No baseline correction applied\n",
      "0 projection items activated\n",
      "Ready.\n"
     ]
    },
    {
     "name": "stderr",
     "output_type": "stream",
     "text": [
      "C:\\Users\\DELL\\AppData\\Local\\Temp\\ipykernel_14424\\3542807486.py:14: RuntimeWarning: Not setting positions of 3 eog channels found in montage:\n",
      "['HEOG', 'VEOG', 'REOG']\n",
      "Consider setting the channel types to be of EEG/sEEG/ECoG/DBS/fNIRS using inst.set_channel_types before calling inst.set_montage, or omit these channels when creating your montage.\n",
      "  data=mne.io.read_epochs_eeglab(srcpath)\n"
     ]
    },
    {
     "name": "stdout",
     "output_type": "stream",
     "text": [
      "Setting up band-pass filter from 1 - 63 Hz\n",
      "\n",
      "FIR filter parameters\n",
      "---------------------\n",
      "Designing a one-pass, zero-phase, non-causal bandpass filter:\n",
      "- Windowed time-domain design (firwin) method\n",
      "- Hamming window with 0.0194 passband ripple and 53 dB stopband attenuation\n",
      "- Lower passband edge: 1.00\n",
      "- Lower transition bandwidth: 1.00 Hz (-6 dB cutoff frequency: 0.50 Hz)\n",
      "- Upper passband edge: 63.00 Hz\n",
      "- Upper transition bandwidth: 1.00 Hz (-6 dB cutoff frequency: 63.50 Hz)\n",
      "- Filter length: 423 samples (3.305 sec)\n",
      "\n"
     ]
    },
    {
     "name": "stderr",
     "output_type": "stream",
     "text": [
      "[Parallel(n_jobs=1)]: Using backend SequentialBackend with 1 concurrent workers.\n",
      "[Parallel(n_jobs=1)]: Done   1 out of   1 | elapsed:    0.0s remaining:    0.0s\n",
      "[Parallel(n_jobs=1)]: Done   2 out of   2 | elapsed:    0.0s remaining:    0.0s\n",
      "[Parallel(n_jobs=1)]: Done   3 out of   3 | elapsed:    0.0s remaining:    0.0s\n",
      "[Parallel(n_jobs=1)]: Done   4 out of   4 | elapsed:    0.0s remaining:    0.0s\n",
      "[Parallel(n_jobs=1)]: Done 4214 out of 4214 | elapsed:    1.9s finished\n"
     ]
    },
    {
     "name": "stdout",
     "output_type": "stream",
     "text": [
      "study02_p10_prep.set 1024 0 49 50176 (63, 1024)\n",
      "study02_p10_prep.set 1024 1024 49 50176 (63, 1024)\n",
      "study02_p10_prep.set 1024 2048 49 50176 (63, 1024)\n",
      "study02_p10_prep.set 1024 3072 49 50176 (63, 1024)\n",
      "study02_p10_prep.set 1024 4096 49 50176 (63, 1024)\n",
      "study02_p10_prep.set 1024 5120 49 50176 (63, 1024)\n",
      "study02_p10_prep.set 1024 6144 49 50176 (63, 1024)\n",
      "study02_p10_prep.set 1024 7168 49 50176 (63, 1024)\n",
      "study02_p10_prep.set 1024 8192 49 50176 (63, 1024)\n",
      "study02_p10_prep.set 1024 9216 49 50176 (63, 1024)\n",
      "study02_p10_prep.set 1024 10240 49 50176 (63, 1024)\n",
      "study02_p10_prep.set 1024 11264 49 50176 (63, 1024)\n",
      "study02_p10_prep.set 1024 12288 49 50176 (63, 1024)\n",
      "study02_p10_prep.set 1024 13312 49 50176 (63, 1024)\n",
      "study02_p10_prep.set 1024 14336 49 50176 (63, 1024)\n",
      "study02_p10_prep.set 1024 15360 49 50176 (63, 1024)\n",
      "study02_p10_prep.set 1024 16384 49 50176 (63, 1024)\n",
      "study02_p10_prep.set 1024 17408 49 50176 (63, 1024)\n",
      "study02_p10_prep.set 1024 18432 49 50176 (63, 1024)\n",
      "study02_p10_prep.set 1024 19456 49 50176 (63, 1024)\n",
      "study02_p10_prep.set 1024 20480 49 50176 (63, 1024)\n",
      "study02_p10_prep.set 1024 21504 49 50176 (63, 1024)\n",
      "study02_p10_prep.set 1024 22528 49 50176 (63, 1024)\n",
      "study02_p10_prep.set 1024 23552 49 50176 (63, 1024)\n",
      "study02_p10_prep.set 1024 24576 49 50176 (63, 1024)\n",
      "study02_p10_prep.set 1024 25600 49 50176 (63, 1024)\n",
      "study02_p10_prep.set 1024 26624 49 50176 (63, 1024)\n",
      "study02_p10_prep.set 1024 27648 49 50176 (63, 1024)\n",
      "study02_p10_prep.set 1024 28672 49 50176 (63, 1024)\n",
      "study02_p10_prep.set 1024 29696 49 50176 (63, 1024)\n",
      "study02_p10_prep.set 1024 30720 49 50176 (63, 1024)\n",
      "study02_p10_prep.set 1024 31744 49 50176 (63, 1024)\n",
      "study02_p10_prep.set 1024 32768 49 50176 (63, 1024)\n",
      "study02_p10_prep.set 1024 33792 49 50176 (63, 1024)\n",
      "study02_p10_prep.set 1024 34816 49 50176 (63, 1024)\n",
      "study02_p10_prep.set 1024 35840 49 50176 (63, 1024)\n",
      "study02_p10_prep.set 1024 36864 49 50176 (63, 1024)\n",
      "study02_p10_prep.set 1024 37888 49 50176 (63, 1024)\n",
      "study02_p10_prep.set 1024 38912 49 50176 (63, 1024)\n",
      "study02_p10_prep.set 1024 39936 49 50176 (63, 1024)\n",
      "study02_p10_prep.set 1024 40960 49 50176 (63, 1024)\n",
      "study02_p10_prep.set 1024 41984 49 50176 (63, 1024)\n",
      "study02_p10_prep.set 1024 43008 49 50176 (63, 1024)\n",
      "study02_p10_prep.set 1024 44032 49 50176 (63, 1024)\n",
      "study02_p10_prep.set 1024 45056 49 50176 (63, 1024)\n",
      "study02_p10_prep.set 1024 46080 49 50176 (63, 1024)\n",
      "study02_p10_prep.set 1024 47104 49 50176 (63, 1024)\n",
      "study02_p10_prep.set 1024 48128 49 50176 (63, 1024)\n",
      "study02_p10_prep.set 1024 49152 49 50176 (63, 1024)\n"
     ]
    },
    {
     "name": "stderr",
     "output_type": "stream",
     "text": [
      "C:\\Users\\DELL\\anaconda3\\lib\\site-packages\\pymatreader\\utils.py:122: UserWarning: Complex objects (like classes) are not supported. They are imported on a best effort base but your mileage will vary.\n",
      "  warn('Complex objects (like classes) are not supported. '\n"
     ]
    },
    {
     "name": "stdout",
     "output_type": "stream",
     "text": [
      "Extracting parameters from C:\\Users\\DELL\\Desktop\\20credit\\EEG_eye_artifact\\wholedata\\study02_p11_prep.set...\n",
      "Not setting metadata\n",
      "50 matching events found\n",
      "No baseline correction applied\n",
      "0 projection items activated\n",
      "Ready.\n"
     ]
    },
    {
     "name": "stderr",
     "output_type": "stream",
     "text": [
      "C:\\Users\\DELL\\AppData\\Local\\Temp\\ipykernel_14424\\3542807486.py:14: RuntimeWarning: At least one epoch has multiple events. Only the latency of the first event will be retained.\n",
      "  data=mne.io.read_epochs_eeglab(srcpath)\n",
      "C:\\Users\\DELL\\AppData\\Local\\Temp\\ipykernel_14424\\3542807486.py:14: RuntimeWarning: Unknown types found, setting as type EEG:\n",
      "artifact: ['eye-art', 'eye-blink', 'eye-d', 'eye-fix', 'eye-l', 'eye-r', 'eye-u']\n",
      "eoglpf: ['HEOG_lpf', 'REOG_lpf', 'VEOG_lpf']\n",
      "label: ['artifactclasses']\n",
      "paradigm: ['block']\n",
      "snap: ['target_S', 'target_X', 'target_Z']\n",
      "state: ['label']\n",
      "  data=mne.io.read_epochs_eeglab(srcpath)\n",
      "C:\\Users\\DELL\\AppData\\Local\\Temp\\ipykernel_14424\\3542807486.py:14: RuntimeWarning: Data file name in EEG.data (ebs_prep.fdt) is incorrect, the file name must have changed on disk, using the correct file name (study02_p11_prep.fdt).\n",
      "  data=mne.io.read_epochs_eeglab(srcpath)\n",
      "C:\\Users\\DELL\\AppData\\Local\\Temp\\ipykernel_14424\\3542807486.py:14: RuntimeWarning: Not setting positions of 3 eog channels found in montage:\n",
      "['HEOG', 'VEOG', 'REOG']\n",
      "Consider setting the channel types to be of EEG/sEEG/ECoG/DBS/fNIRS using inst.set_channel_types before calling inst.set_montage, or omit these channels when creating your montage.\n",
      "  data=mne.io.read_epochs_eeglab(srcpath)\n"
     ]
    },
    {
     "name": "stdout",
     "output_type": "stream",
     "text": [
      "Setting up band-pass filter from 1 - 63 Hz\n",
      "\n",
      "FIR filter parameters\n",
      "---------------------\n",
      "Designing a one-pass, zero-phase, non-causal bandpass filter:\n",
      "- Windowed time-domain design (firwin) method\n",
      "- Hamming window with 0.0194 passband ripple and 53 dB stopband attenuation\n",
      "- Lower passband edge: 1.00\n",
      "- Lower transition bandwidth: 1.00 Hz (-6 dB cutoff frequency: 0.50 Hz)\n",
      "- Upper passband edge: 63.00 Hz\n",
      "- Upper transition bandwidth: 1.00 Hz (-6 dB cutoff frequency: 63.50 Hz)\n",
      "- Filter length: 423 samples (3.305 sec)\n",
      "\n"
     ]
    },
    {
     "name": "stderr",
     "output_type": "stream",
     "text": [
      "[Parallel(n_jobs=1)]: Using backend SequentialBackend with 1 concurrent workers.\n",
      "[Parallel(n_jobs=1)]: Done   1 out of   1 | elapsed:    0.0s remaining:    0.0s\n",
      "[Parallel(n_jobs=1)]: Done   2 out of   2 | elapsed:    0.0s remaining:    0.0s\n",
      "[Parallel(n_jobs=1)]: Done   3 out of   3 | elapsed:    0.0s remaining:    0.0s\n",
      "[Parallel(n_jobs=1)]: Done   4 out of   4 | elapsed:    0.0s remaining:    0.0s\n",
      "[Parallel(n_jobs=1)]: Done 4300 out of 4300 | elapsed:    1.9s finished\n"
     ]
    },
    {
     "name": "stdout",
     "output_type": "stream",
     "text": [
      "study02_p11_prep.set 1024 0 50 51200 (63, 1024)\n",
      "study02_p11_prep.set 1024 1024 50 51200 (63, 1024)\n",
      "study02_p11_prep.set 1024 2048 50 51200 (63, 1024)\n",
      "study02_p11_prep.set 1024 3072 50 51200 (63, 1024)\n",
      "study02_p11_prep.set 1024 4096 50 51200 (63, 1024)\n",
      "study02_p11_prep.set 1024 5120 50 51200 (63, 1024)\n",
      "study02_p11_prep.set 1024 6144 50 51200 (63, 1024)\n",
      "study02_p11_prep.set 1024 7168 50 51200 (63, 1024)\n",
      "study02_p11_prep.set 1024 8192 50 51200 (63, 1024)\n",
      "study02_p11_prep.set 1024 9216 50 51200 (63, 1024)\n",
      "study02_p11_prep.set 1024 10240 50 51200 (63, 1024)\n",
      "study02_p11_prep.set 1024 11264 50 51200 (63, 1024)\n",
      "study02_p11_prep.set 1024 12288 50 51200 (63, 1024)\n",
      "study02_p11_prep.set 1024 13312 50 51200 (63, 1024)\n",
      "study02_p11_prep.set 1024 14336 50 51200 (63, 1024)\n",
      "study02_p11_prep.set 1024 15360 50 51200 (63, 1024)\n",
      "study02_p11_prep.set 1024 16384 50 51200 (63, 1024)\n",
      "study02_p11_prep.set 1024 17408 50 51200 (63, 1024)\n",
      "study02_p11_prep.set 1024 18432 50 51200 (63, 1024)\n",
      "study02_p11_prep.set 1024 19456 50 51200 (63, 1024)\n",
      "study02_p11_prep.set 1024 20480 50 51200 (63, 1024)\n",
      "study02_p11_prep.set 1024 21504 50 51200 (63, 1024)\n",
      "study02_p11_prep.set 1024 22528 50 51200 (63, 1024)\n",
      "study02_p11_prep.set 1024 23552 50 51200 (63, 1024)\n",
      "study02_p11_prep.set 1024 24576 50 51200 (63, 1024)\n",
      "study02_p11_prep.set 1024 25600 50 51200 (63, 1024)\n",
      "study02_p11_prep.set 1024 26624 50 51200 (63, 1024)\n",
      "study02_p11_prep.set 1024 27648 50 51200 (63, 1024)\n",
      "study02_p11_prep.set 1024 28672 50 51200 (63, 1024)\n",
      "study02_p11_prep.set 1024 29696 50 51200 (63, 1024)\n",
      "study02_p11_prep.set 1024 30720 50 51200 (63, 1024)\n",
      "study02_p11_prep.set 1024 31744 50 51200 (63, 1024)\n",
      "study02_p11_prep.set 1024 32768 50 51200 (63, 1024)\n",
      "study02_p11_prep.set 1024 33792 50 51200 (63, 1024)\n",
      "study02_p11_prep.set 1024 34816 50 51200 (63, 1024)\n",
      "study02_p11_prep.set 1024 35840 50 51200 (63, 1024)\n",
      "study02_p11_prep.set 1024 36864 50 51200 (63, 1024)\n",
      "study02_p11_prep.set 1024 37888 50 51200 (63, 1024)\n",
      "study02_p11_prep.set 1024 38912 50 51200 (63, 1024)\n",
      "study02_p11_prep.set 1024 39936 50 51200 (63, 1024)\n",
      "study02_p11_prep.set 1024 40960 50 51200 (63, 1024)\n",
      "study02_p11_prep.set 1024 41984 50 51200 (63, 1024)\n",
      "study02_p11_prep.set 1024 43008 50 51200 (63, 1024)\n",
      "study02_p11_prep.set 1024 44032 50 51200 (63, 1024)\n",
      "study02_p11_prep.set 1024 45056 50 51200 (63, 1024)\n",
      "study02_p11_prep.set 1024 46080 50 51200 (63, 1024)\n",
      "study02_p11_prep.set 1024 47104 50 51200 (63, 1024)\n",
      "study02_p11_prep.set 1024 48128 50 51200 (63, 1024)\n",
      "study02_p11_prep.set 1024 49152 50 51200 (63, 1024)\n",
      "study02_p11_prep.set 1024 50176 50 51200 (63, 1024)\n"
     ]
    },
    {
     "name": "stderr",
     "output_type": "stream",
     "text": [
      "C:\\Users\\DELL\\anaconda3\\lib\\site-packages\\pymatreader\\utils.py:122: UserWarning: Complex objects (like classes) are not supported. They are imported on a best effort base but your mileage will vary.\n",
      "  warn('Complex objects (like classes) are not supported. '\n"
     ]
    },
    {
     "name": "stdout",
     "output_type": "stream",
     "text": [
      "Extracting parameters from C:\\Users\\DELL\\Desktop\\20credit\\EEG_eye_artifact\\wholedata\\study02_p12_prep.set...\n",
      "Not setting metadata\n",
      "49 matching events found\n",
      "No baseline correction applied\n",
      "0 projection items activated\n"
     ]
    },
    {
     "name": "stderr",
     "output_type": "stream",
     "text": [
      "C:\\Users\\DELL\\AppData\\Local\\Temp\\ipykernel_14424\\3542807486.py:14: RuntimeWarning: At least one epoch has multiple events. Only the latency of the first event will be retained.\n",
      "  data=mne.io.read_epochs_eeglab(srcpath)\n",
      "C:\\Users\\DELL\\AppData\\Local\\Temp\\ipykernel_14424\\3542807486.py:14: RuntimeWarning: Unknown types found, setting as type EEG:\n",
      "artifact: ['eye-art', 'eye-blink', 'eye-d', 'eye-fix', 'eye-l', 'eye-r', 'eye-u']\n",
      "eoglpf: ['HEOG_lpf', 'REOG_lpf', 'VEOG_lpf']\n",
      "label: ['artifactclasses']\n",
      "paradigm: ['block']\n",
      "snap: ['target_S', 'target_X', 'target_Z']\n",
      "state: ['label']\n",
      "  data=mne.io.read_epochs_eeglab(srcpath)\n",
      "C:\\Users\\DELL\\AppData\\Local\\Temp\\ipykernel_14424\\3542807486.py:14: RuntimeWarning: Data file name in EEG.data (ebs_prep.fdt) is incorrect, the file name must have changed on disk, using the correct file name (study02_p12_prep.fdt).\n",
      "  data=mne.io.read_epochs_eeglab(srcpath)\n",
      "C:\\Users\\DELL\\AppData\\Local\\Temp\\ipykernel_14424\\3542807486.py:14: RuntimeWarning: Not setting positions of 3 eog channels found in montage:\n",
      "['HEOG', 'VEOG', 'REOG']\n",
      "Consider setting the channel types to be of EEG/sEEG/ECoG/DBS/fNIRS using inst.set_channel_types before calling inst.set_montage, or omit these channels when creating your montage.\n",
      "  data=mne.io.read_epochs_eeglab(srcpath)\n"
     ]
    },
    {
     "name": "stdout",
     "output_type": "stream",
     "text": [
      "Ready.\n",
      "Setting up band-pass filter from 1 - 63 Hz\n",
      "\n",
      "FIR filter parameters\n",
      "---------------------\n",
      "Designing a one-pass, zero-phase, non-causal bandpass filter:\n",
      "- Windowed time-domain design (firwin) method\n",
      "- Hamming window with 0.0194 passband ripple and 53 dB stopband attenuation\n",
      "- Lower passband edge: 1.00\n",
      "- Lower transition bandwidth: 1.00 Hz (-6 dB cutoff frequency: 0.50 Hz)\n",
      "- Upper passband edge: 63.00 Hz\n",
      "- Upper transition bandwidth: 1.00 Hz (-6 dB cutoff frequency: 63.50 Hz)\n",
      "- Filter length: 423 samples (3.305 sec)\n",
      "\n"
     ]
    },
    {
     "name": "stderr",
     "output_type": "stream",
     "text": [
      "[Parallel(n_jobs=1)]: Using backend SequentialBackend with 1 concurrent workers.\n",
      "[Parallel(n_jobs=1)]: Done   1 out of   1 | elapsed:    0.0s remaining:    0.0s\n",
      "[Parallel(n_jobs=1)]: Done   2 out of   2 | elapsed:    0.0s remaining:    0.0s\n",
      "[Parallel(n_jobs=1)]: Done   3 out of   3 | elapsed:    0.0s remaining:    0.0s\n",
      "[Parallel(n_jobs=1)]: Done   4 out of   4 | elapsed:    0.0s remaining:    0.0s\n",
      "[Parallel(n_jobs=1)]: Done 4214 out of 4214 | elapsed:    1.8s finished\n"
     ]
    },
    {
     "name": "stdout",
     "output_type": "stream",
     "text": [
      "study02_p12_prep.set 1024 0 49 50176 (63, 1024)\n",
      "study02_p12_prep.set 1024 1024 49 50176 (63, 1024)\n",
      "study02_p12_prep.set 1024 2048 49 50176 (63, 1024)\n",
      "study02_p12_prep.set 1024 3072 49 50176 (63, 1024)\n",
      "study02_p12_prep.set 1024 4096 49 50176 (63, 1024)\n",
      "study02_p12_prep.set 1024 5120 49 50176 (63, 1024)\n",
      "study02_p12_prep.set 1024 6144 49 50176 (63, 1024)\n",
      "study02_p12_prep.set 1024 7168 49 50176 (63, 1024)\n",
      "study02_p12_prep.set 1024 8192 49 50176 (63, 1024)\n",
      "study02_p12_prep.set 1024 9216 49 50176 (63, 1024)\n",
      "study02_p12_prep.set 1024 10240 49 50176 (63, 1024)\n",
      "study02_p12_prep.set 1024 11264 49 50176 (63, 1024)\n",
      "study02_p12_prep.set 1024 12288 49 50176 (63, 1024)\n",
      "study02_p12_prep.set 1024 13312 49 50176 (63, 1024)\n",
      "study02_p12_prep.set 1024 14336 49 50176 (63, 1024)\n",
      "study02_p12_prep.set 1024 15360 49 50176 (63, 1024)\n",
      "study02_p12_prep.set 1024 16384 49 50176 (63, 1024)\n",
      "study02_p12_prep.set 1024 17408 49 50176 (63, 1024)\n",
      "study02_p12_prep.set 1024 18432 49 50176 (63, 1024)\n",
      "study02_p12_prep.set 1024 19456 49 50176 (63, 1024)\n",
      "study02_p12_prep.set 1024 20480 49 50176 (63, 1024)\n",
      "study02_p12_prep.set 1024 21504 49 50176 (63, 1024)\n",
      "study02_p12_prep.set 1024 22528 49 50176 (63, 1024)\n",
      "study02_p12_prep.set 1024 23552 49 50176 (63, 1024)\n",
      "study02_p12_prep.set 1024 24576 49 50176 (63, 1024)\n",
      "study02_p12_prep.set 1024 25600 49 50176 (63, 1024)\n",
      "study02_p12_prep.set 1024 26624 49 50176 (63, 1024)\n",
      "study02_p12_prep.set 1024 27648 49 50176 (63, 1024)\n",
      "study02_p12_prep.set 1024 28672 49 50176 (63, 1024)\n",
      "study02_p12_prep.set 1024 29696 49 50176 (63, 1024)\n",
      "study02_p12_prep.set 1024 30720 49 50176 (63, 1024)\n",
      "study02_p12_prep.set 1024 31744 49 50176 (63, 1024)\n",
      "study02_p12_prep.set 1024 32768 49 50176 (63, 1024)\n",
      "study02_p12_prep.set 1024 33792 49 50176 (63, 1024)\n",
      "study02_p12_prep.set 1024 34816 49 50176 (63, 1024)\n",
      "study02_p12_prep.set 1024 35840 49 50176 (63, 1024)\n",
      "study02_p12_prep.set 1024 36864 49 50176 (63, 1024)\n",
      "study02_p12_prep.set 1024 37888 49 50176 (63, 1024)\n",
      "study02_p12_prep.set 1024 38912 49 50176 (63, 1024)\n",
      "study02_p12_prep.set 1024 39936 49 50176 (63, 1024)\n",
      "study02_p12_prep.set 1024 40960 49 50176 (63, 1024)\n",
      "study02_p12_prep.set 1024 41984 49 50176 (63, 1024)\n",
      "study02_p12_prep.set 1024 43008 49 50176 (63, 1024)\n",
      "study02_p12_prep.set 1024 44032 49 50176 (63, 1024)\n",
      "study02_p12_prep.set 1024 45056 49 50176 (63, 1024)\n",
      "study02_p12_prep.set 1024 46080 49 50176 (63, 1024)\n",
      "study02_p12_prep.set 1024 47104 49 50176 (63, 1024)\n",
      "study02_p12_prep.set 1024 48128 49 50176 (63, 1024)\n",
      "study02_p12_prep.set 1024 49152 49 50176 (63, 1024)\n"
     ]
    },
    {
     "name": "stderr",
     "output_type": "stream",
     "text": [
      "C:\\Users\\DELL\\anaconda3\\lib\\site-packages\\pymatreader\\utils.py:122: UserWarning: Complex objects (like classes) are not supported. They are imported on a best effort base but your mileage will vary.\n",
      "  warn('Complex objects (like classes) are not supported. '\n"
     ]
    },
    {
     "name": "stdout",
     "output_type": "stream",
     "text": [
      "Extracting parameters from C:\\Users\\DELL\\Desktop\\20credit\\EEG_eye_artifact\\wholedata\\study02_p13_prep.set...\n",
      "Not setting metadata\n",
      "48 matching events found\n",
      "No baseline correction applied\n",
      "0 projection items activated\n"
     ]
    },
    {
     "name": "stderr",
     "output_type": "stream",
     "text": [
      "C:\\Users\\DELL\\AppData\\Local\\Temp\\ipykernel_14424\\3542807486.py:14: RuntimeWarning: At least one epoch has multiple events. Only the latency of the first event will be retained.\n",
      "  data=mne.io.read_epochs_eeglab(srcpath)\n",
      "C:\\Users\\DELL\\AppData\\Local\\Temp\\ipykernel_14424\\3542807486.py:14: RuntimeWarning: Unknown types found, setting as type EEG:\n",
      "artifact: ['eye-art', 'eye-blink', 'eye-d', 'eye-fix', 'eye-l', 'eye-r', 'eye-u']\n",
      "eoglpf: ['HEOG_lpf', 'REOG_lpf', 'VEOG_lpf']\n",
      "label: ['artifactclasses']\n",
      "paradigm: ['block']\n",
      "snap: ['target_S', 'target_X', 'target_Z']\n",
      "state: ['label']\n",
      "  data=mne.io.read_epochs_eeglab(srcpath)\n",
      "C:\\Users\\DELL\\AppData\\Local\\Temp\\ipykernel_14424\\3542807486.py:14: RuntimeWarning: Data file name in EEG.data (ebs_prep.fdt) is incorrect, the file name must have changed on disk, using the correct file name (study02_p13_prep.fdt).\n",
      "  data=mne.io.read_epochs_eeglab(srcpath)\n"
     ]
    },
    {
     "name": "stdout",
     "output_type": "stream",
     "text": [
      "Ready.\n"
     ]
    },
    {
     "name": "stderr",
     "output_type": "stream",
     "text": [
      "C:\\Users\\DELL\\AppData\\Local\\Temp\\ipykernel_14424\\3542807486.py:14: RuntimeWarning: Not setting positions of 3 eog channels found in montage:\n",
      "['HEOG', 'VEOG', 'REOG']\n",
      "Consider setting the channel types to be of EEG/sEEG/ECoG/DBS/fNIRS using inst.set_channel_types before calling inst.set_montage, or omit these channels when creating your montage.\n",
      "  data=mne.io.read_epochs_eeglab(srcpath)\n"
     ]
    },
    {
     "name": "stdout",
     "output_type": "stream",
     "text": [
      "Setting up band-pass filter from 1 - 63 Hz\n",
      "\n",
      "FIR filter parameters\n",
      "---------------------\n",
      "Designing a one-pass, zero-phase, non-causal bandpass filter:\n",
      "- Windowed time-domain design (firwin) method\n",
      "- Hamming window with 0.0194 passband ripple and 53 dB stopband attenuation\n",
      "- Lower passband edge: 1.00\n",
      "- Lower transition bandwidth: 1.00 Hz (-6 dB cutoff frequency: 0.50 Hz)\n",
      "- Upper passband edge: 63.00 Hz\n",
      "- Upper transition bandwidth: 1.00 Hz (-6 dB cutoff frequency: 63.50 Hz)\n",
      "- Filter length: 423 samples (3.305 sec)\n",
      "\n"
     ]
    },
    {
     "name": "stderr",
     "output_type": "stream",
     "text": [
      "[Parallel(n_jobs=1)]: Using backend SequentialBackend with 1 concurrent workers.\n",
      "[Parallel(n_jobs=1)]: Done   1 out of   1 | elapsed:    0.0s remaining:    0.0s\n",
      "[Parallel(n_jobs=1)]: Done   2 out of   2 | elapsed:    0.0s remaining:    0.0s\n",
      "[Parallel(n_jobs=1)]: Done   3 out of   3 | elapsed:    0.0s remaining:    0.0s\n",
      "[Parallel(n_jobs=1)]: Done   4 out of   4 | elapsed:    0.0s remaining:    0.0s\n",
      "[Parallel(n_jobs=1)]: Done 4128 out of 4128 | elapsed:    1.8s finished\n"
     ]
    },
    {
     "name": "stdout",
     "output_type": "stream",
     "text": [
      "study02_p13_prep.set 1024 0 48 49152 (63, 1024)\n",
      "study02_p13_prep.set 1024 1024 48 49152 (63, 1024)\n",
      "study02_p13_prep.set 1024 2048 48 49152 (63, 1024)\n",
      "study02_p13_prep.set 1024 3072 48 49152 (63, 1024)\n",
      "study02_p13_prep.set 1024 4096 48 49152 (63, 1024)\n",
      "study02_p13_prep.set 1024 5120 48 49152 (63, 1024)\n",
      "study02_p13_prep.set 1024 6144 48 49152 (63, 1024)\n",
      "study02_p13_prep.set 1024 7168 48 49152 (63, 1024)\n",
      "study02_p13_prep.set 1024 8192 48 49152 (63, 1024)\n",
      "study02_p13_prep.set 1024 9216 48 49152 (63, 1024)\n",
      "study02_p13_prep.set 1024 10240 48 49152 (63, 1024)\n",
      "study02_p13_prep.set 1024 11264 48 49152 (63, 1024)\n",
      "study02_p13_prep.set 1024 12288 48 49152 (63, 1024)\n",
      "study02_p13_prep.set 1024 13312 48 49152 (63, 1024)\n",
      "study02_p13_prep.set 1024 14336 48 49152 (63, 1024)\n",
      "study02_p13_prep.set 1024 15360 48 49152 (63, 1024)\n",
      "study02_p13_prep.set 1024 16384 48 49152 (63, 1024)\n",
      "study02_p13_prep.set 1024 17408 48 49152 (63, 1024)\n",
      "study02_p13_prep.set 1024 18432 48 49152 (63, 1024)\n",
      "study02_p13_prep.set 1024 19456 48 49152 (63, 1024)\n",
      "study02_p13_prep.set 1024 20480 48 49152 (63, 1024)\n",
      "study02_p13_prep.set 1024 21504 48 49152 (63, 1024)\n",
      "study02_p13_prep.set 1024 22528 48 49152 (63, 1024)\n",
      "study02_p13_prep.set 1024 23552 48 49152 (63, 1024)\n",
      "study02_p13_prep.set 1024 24576 48 49152 (63, 1024)\n",
      "study02_p13_prep.set 1024 25600 48 49152 (63, 1024)\n",
      "study02_p13_prep.set 1024 26624 48 49152 (63, 1024)\n",
      "study02_p13_prep.set 1024 27648 48 49152 (63, 1024)\n",
      "study02_p13_prep.set 1024 28672 48 49152 (63, 1024)\n",
      "study02_p13_prep.set 1024 29696 48 49152 (63, 1024)\n",
      "study02_p13_prep.set 1024 30720 48 49152 (63, 1024)\n",
      "study02_p13_prep.set 1024 31744 48 49152 (63, 1024)\n",
      "study02_p13_prep.set 1024 32768 48 49152 (63, 1024)\n",
      "study02_p13_prep.set 1024 33792 48 49152 (63, 1024)\n",
      "study02_p13_prep.set 1024 34816 48 49152 (63, 1024)\n",
      "study02_p13_prep.set 1024 35840 48 49152 (63, 1024)\n",
      "study02_p13_prep.set 1024 36864 48 49152 (63, 1024)\n",
      "study02_p13_prep.set 1024 37888 48 49152 (63, 1024)\n",
      "study02_p13_prep.set 1024 38912 48 49152 (63, 1024)\n",
      "study02_p13_prep.set 1024 39936 48 49152 (63, 1024)\n",
      "study02_p13_prep.set 1024 40960 48 49152 (63, 1024)\n",
      "study02_p13_prep.set 1024 41984 48 49152 (63, 1024)\n",
      "study02_p13_prep.set 1024 43008 48 49152 (63, 1024)\n",
      "study02_p13_prep.set 1024 44032 48 49152 (63, 1024)\n",
      "study02_p13_prep.set 1024 45056 48 49152 (63, 1024)\n",
      "study02_p13_prep.set 1024 46080 48 49152 (63, 1024)\n",
      "study02_p13_prep.set 1024 47104 48 49152 (63, 1024)\n",
      "study02_p13_prep.set 1024 48128 48 49152 (63, 1024)\n"
     ]
    },
    {
     "name": "stderr",
     "output_type": "stream",
     "text": [
      "C:\\Users\\DELL\\anaconda3\\lib\\site-packages\\pymatreader\\utils.py:122: UserWarning: Complex objects (like classes) are not supported. They are imported on a best effort base but your mileage will vary.\n",
      "  warn('Complex objects (like classes) are not supported. '\n"
     ]
    },
    {
     "name": "stdout",
     "output_type": "stream",
     "text": [
      "Extracting parameters from C:\\Users\\DELL\\Desktop\\20credit\\EEG_eye_artifact\\wholedata\\study02_p14_prep.set...\n",
      "Not setting metadata\n",
      "49 matching events found\n",
      "No baseline correction applied\n",
      "0 projection items activated\n",
      "Ready.\n"
     ]
    },
    {
     "name": "stderr",
     "output_type": "stream",
     "text": [
      "C:\\Users\\DELL\\AppData\\Local\\Temp\\ipykernel_14424\\3542807486.py:14: RuntimeWarning: At least one epoch has multiple events. Only the latency of the first event will be retained.\n",
      "  data=mne.io.read_epochs_eeglab(srcpath)\n",
      "C:\\Users\\DELL\\AppData\\Local\\Temp\\ipykernel_14424\\3542807486.py:14: RuntimeWarning: Unknown types found, setting as type EEG:\n",
      "artifact: ['eye-art', 'eye-blink', 'eye-d', 'eye-fix', 'eye-l', 'eye-r', 'eye-u']\n",
      "eoglpf: ['HEOG_lpf', 'REOG_lpf', 'VEOG_lpf']\n",
      "label: ['artifactclasses']\n",
      "paradigm: ['block']\n",
      "snap: ['target_S', 'target_X', 'target_Z']\n",
      "state: ['label']\n",
      "  data=mne.io.read_epochs_eeglab(srcpath)\n",
      "C:\\Users\\DELL\\AppData\\Local\\Temp\\ipykernel_14424\\3542807486.py:14: RuntimeWarning: Data file name in EEG.data (ebs_prep.fdt) is incorrect, the file name must have changed on disk, using the correct file name (study02_p14_prep.fdt).\n",
      "  data=mne.io.read_epochs_eeglab(srcpath)\n",
      "C:\\Users\\DELL\\AppData\\Local\\Temp\\ipykernel_14424\\3542807486.py:14: RuntimeWarning: Not setting positions of 3 eog channels found in montage:\n",
      "['HEOG', 'VEOG', 'REOG']\n",
      "Consider setting the channel types to be of EEG/sEEG/ECoG/DBS/fNIRS using inst.set_channel_types before calling inst.set_montage, or omit these channels when creating your montage.\n",
      "  data=mne.io.read_epochs_eeglab(srcpath)\n"
     ]
    },
    {
     "name": "stdout",
     "output_type": "stream",
     "text": [
      "Setting up band-pass filter from 1 - 63 Hz\n",
      "\n",
      "FIR filter parameters\n",
      "---------------------\n",
      "Designing a one-pass, zero-phase, non-causal bandpass filter:\n",
      "- Windowed time-domain design (firwin) method\n",
      "- Hamming window with 0.0194 passband ripple and 53 dB stopband attenuation\n",
      "- Lower passband edge: 1.00\n",
      "- Lower transition bandwidth: 1.00 Hz (-6 dB cutoff frequency: 0.50 Hz)\n",
      "- Upper passband edge: 63.00 Hz\n",
      "- Upper transition bandwidth: 1.00 Hz (-6 dB cutoff frequency: 63.50 Hz)\n",
      "- Filter length: 423 samples (3.305 sec)\n",
      "\n"
     ]
    },
    {
     "name": "stderr",
     "output_type": "stream",
     "text": [
      "[Parallel(n_jobs=1)]: Using backend SequentialBackend with 1 concurrent workers.\n",
      "[Parallel(n_jobs=1)]: Done   1 out of   1 | elapsed:    0.0s remaining:    0.0s\n",
      "[Parallel(n_jobs=1)]: Done   2 out of   2 | elapsed:    0.0s remaining:    0.0s\n",
      "[Parallel(n_jobs=1)]: Done   3 out of   3 | elapsed:    0.0s remaining:    0.0s\n",
      "[Parallel(n_jobs=1)]: Done   4 out of   4 | elapsed:    0.0s remaining:    0.0s\n",
      "[Parallel(n_jobs=1)]: Done 4214 out of 4214 | elapsed:    1.8s finished\n"
     ]
    },
    {
     "name": "stdout",
     "output_type": "stream",
     "text": [
      "study02_p14_prep.set 1024 0 49 50176 (63, 1024)\n",
      "study02_p14_prep.set 1024 1024 49 50176 (63, 1024)\n",
      "study02_p14_prep.set 1024 2048 49 50176 (63, 1024)\n",
      "study02_p14_prep.set 1024 3072 49 50176 (63, 1024)\n",
      "study02_p14_prep.set 1024 4096 49 50176 (63, 1024)\n",
      "study02_p14_prep.set 1024 5120 49 50176 (63, 1024)\n",
      "study02_p14_prep.set 1024 6144 49 50176 (63, 1024)\n",
      "study02_p14_prep.set 1024 7168 49 50176 (63, 1024)\n",
      "study02_p14_prep.set 1024 8192 49 50176 (63, 1024)\n",
      "study02_p14_prep.set 1024 9216 49 50176 (63, 1024)\n",
      "study02_p14_prep.set 1024 10240 49 50176 (63, 1024)\n",
      "study02_p14_prep.set 1024 11264 49 50176 (63, 1024)\n",
      "study02_p14_prep.set 1024 12288 49 50176 (63, 1024)\n",
      "study02_p14_prep.set 1024 13312 49 50176 (63, 1024)\n",
      "study02_p14_prep.set 1024 14336 49 50176 (63, 1024)\n",
      "study02_p14_prep.set 1024 15360 49 50176 (63, 1024)\n",
      "study02_p14_prep.set 1024 16384 49 50176 (63, 1024)\n",
      "study02_p14_prep.set 1024 17408 49 50176 (63, 1024)\n",
      "study02_p14_prep.set 1024 18432 49 50176 (63, 1024)\n",
      "study02_p14_prep.set 1024 19456 49 50176 (63, 1024)\n",
      "study02_p14_prep.set 1024 20480 49 50176 (63, 1024)\n",
      "study02_p14_prep.set 1024 21504 49 50176 (63, 1024)\n",
      "study02_p14_prep.set 1024 22528 49 50176 (63, 1024)\n",
      "study02_p14_prep.set 1024 23552 49 50176 (63, 1024)\n",
      "study02_p14_prep.set 1024 24576 49 50176 (63, 1024)\n",
      "study02_p14_prep.set 1024 25600 49 50176 (63, 1024)\n",
      "study02_p14_prep.set 1024 26624 49 50176 (63, 1024)\n",
      "study02_p14_prep.set 1024 27648 49 50176 (63, 1024)\n",
      "study02_p14_prep.set 1024 28672 49 50176 (63, 1024)\n",
      "study02_p14_prep.set 1024 29696 49 50176 (63, 1024)\n",
      "study02_p14_prep.set 1024 30720 49 50176 (63, 1024)\n",
      "study02_p14_prep.set 1024 31744 49 50176 (63, 1024)\n",
      "study02_p14_prep.set 1024 32768 49 50176 (63, 1024)\n",
      "study02_p14_prep.set 1024 33792 49 50176 (63, 1024)\n",
      "study02_p14_prep.set 1024 34816 49 50176 (63, 1024)\n",
      "study02_p14_prep.set 1024 35840 49 50176 (63, 1024)\n",
      "study02_p14_prep.set 1024 36864 49 50176 (63, 1024)\n",
      "study02_p14_prep.set 1024 37888 49 50176 (63, 1024)\n",
      "study02_p14_prep.set 1024 38912 49 50176 (63, 1024)\n",
      "study02_p14_prep.set 1024 39936 49 50176 (63, 1024)\n",
      "study02_p14_prep.set 1024 40960 49 50176 (63, 1024)\n",
      "study02_p14_prep.set 1024 41984 49 50176 (63, 1024)\n",
      "study02_p14_prep.set 1024 43008 49 50176 (63, 1024)\n",
      "study02_p14_prep.set 1024 44032 49 50176 (63, 1024)\n",
      "study02_p14_prep.set 1024 45056 49 50176 (63, 1024)\n",
      "study02_p14_prep.set 1024 46080 49 50176 (63, 1024)\n",
      "study02_p14_prep.set 1024 47104 49 50176 (63, 1024)\n",
      "study02_p14_prep.set 1024 48128 49 50176 (63, 1024)\n",
      "study02_p14_prep.set 1024 49152 49 50176 (63, 1024)\n"
     ]
    },
    {
     "name": "stderr",
     "output_type": "stream",
     "text": [
      "C:\\Users\\DELL\\anaconda3\\lib\\site-packages\\pymatreader\\utils.py:122: UserWarning: Complex objects (like classes) are not supported. They are imported on a best effort base but your mileage will vary.\n",
      "  warn('Complex objects (like classes) are not supported. '\n"
     ]
    },
    {
     "name": "stdout",
     "output_type": "stream",
     "text": [
      "Extracting parameters from C:\\Users\\DELL\\Desktop\\20credit\\EEG_eye_artifact\\wholedata\\study02_p15_prep.set...\n",
      "Not setting metadata\n",
      "50 matching events found\n",
      "No baseline correction applied\n"
     ]
    },
    {
     "name": "stderr",
     "output_type": "stream",
     "text": [
      "C:\\Users\\DELL\\AppData\\Local\\Temp\\ipykernel_14424\\3542807486.py:14: RuntimeWarning: At least one epoch has multiple events. Only the latency of the first event will be retained.\n",
      "  data=mne.io.read_epochs_eeglab(srcpath)\n",
      "C:\\Users\\DELL\\AppData\\Local\\Temp\\ipykernel_14424\\3542807486.py:14: RuntimeWarning: Unknown types found, setting as type EEG:\n",
      "artifact: ['eye-art', 'eye-blink', 'eye-d', 'eye-fix', 'eye-l', 'eye-r', 'eye-u']\n",
      "eoglpf: ['HEOG_lpf', 'REOG_lpf', 'VEOG_lpf']\n",
      "label: ['artifactclasses']\n",
      "paradigm: ['block']\n",
      "snap: ['target_S', 'target_X', 'target_Z']\n",
      "state: ['label']\n",
      "  data=mne.io.read_epochs_eeglab(srcpath)\n",
      "C:\\Users\\DELL\\AppData\\Local\\Temp\\ipykernel_14424\\3542807486.py:14: RuntimeWarning: Data file name in EEG.data (ebs_prep.fdt) is incorrect, the file name must have changed on disk, using the correct file name (study02_p15_prep.fdt).\n",
      "  data=mne.io.read_epochs_eeglab(srcpath)\n"
     ]
    },
    {
     "name": "stdout",
     "output_type": "stream",
     "text": [
      "0 projection items activated\n",
      "Ready.\n"
     ]
    },
    {
     "name": "stderr",
     "output_type": "stream",
     "text": [
      "C:\\Users\\DELL\\AppData\\Local\\Temp\\ipykernel_14424\\3542807486.py:14: RuntimeWarning: Not setting positions of 3 eog channels found in montage:\n",
      "['HEOG', 'VEOG', 'REOG']\n",
      "Consider setting the channel types to be of EEG/sEEG/ECoG/DBS/fNIRS using inst.set_channel_types before calling inst.set_montage, or omit these channels when creating your montage.\n",
      "  data=mne.io.read_epochs_eeglab(srcpath)\n"
     ]
    },
    {
     "name": "stdout",
     "output_type": "stream",
     "text": [
      "Setting up band-pass filter from 1 - 63 Hz\n",
      "\n",
      "FIR filter parameters\n",
      "---------------------\n",
      "Designing a one-pass, zero-phase, non-causal bandpass filter:\n",
      "- Windowed time-domain design (firwin) method\n",
      "- Hamming window with 0.0194 passband ripple and 53 dB stopband attenuation\n",
      "- Lower passband edge: 1.00\n",
      "- Lower transition bandwidth: 1.00 Hz (-6 dB cutoff frequency: 0.50 Hz)\n",
      "- Upper passband edge: 63.00 Hz\n",
      "- Upper transition bandwidth: 1.00 Hz (-6 dB cutoff frequency: 63.50 Hz)\n",
      "- Filter length: 423 samples (3.305 sec)\n",
      "\n"
     ]
    },
    {
     "name": "stderr",
     "output_type": "stream",
     "text": [
      "[Parallel(n_jobs=1)]: Using backend SequentialBackend with 1 concurrent workers.\n",
      "[Parallel(n_jobs=1)]: Done   1 out of   1 | elapsed:    0.0s remaining:    0.0s\n",
      "[Parallel(n_jobs=1)]: Done   2 out of   2 | elapsed:    0.0s remaining:    0.0s\n",
      "[Parallel(n_jobs=1)]: Done   3 out of   3 | elapsed:    0.0s remaining:    0.0s\n",
      "[Parallel(n_jobs=1)]: Done   4 out of   4 | elapsed:    0.0s remaining:    0.0s\n",
      "[Parallel(n_jobs=1)]: Done 4300 out of 4300 | elapsed:    1.8s finished\n"
     ]
    },
    {
     "name": "stdout",
     "output_type": "stream",
     "text": [
      "study02_p15_prep.set 1024 0 50 51200 (63, 1024)\n",
      "study02_p15_prep.set 1024 1024 50 51200 (63, 1024)\n",
      "study02_p15_prep.set 1024 2048 50 51200 (63, 1024)\n",
      "study02_p15_prep.set 1024 3072 50 51200 (63, 1024)\n",
      "study02_p15_prep.set 1024 4096 50 51200 (63, 1024)\n",
      "study02_p15_prep.set 1024 5120 50 51200 (63, 1024)\n",
      "study02_p15_prep.set 1024 6144 50 51200 (63, 1024)\n",
      "study02_p15_prep.set 1024 7168 50 51200 (63, 1024)\n",
      "study02_p15_prep.set 1024 8192 50 51200 (63, 1024)\n",
      "study02_p15_prep.set 1024 9216 50 51200 (63, 1024)\n",
      "study02_p15_prep.set 1024 10240 50 51200 (63, 1024)\n",
      "study02_p15_prep.set 1024 11264 50 51200 (63, 1024)\n",
      "study02_p15_prep.set 1024 12288 50 51200 (63, 1024)\n",
      "study02_p15_prep.set 1024 13312 50 51200 (63, 1024)\n",
      "study02_p15_prep.set 1024 14336 50 51200 (63, 1024)\n",
      "study02_p15_prep.set 1024 15360 50 51200 (63, 1024)\n",
      "study02_p15_prep.set 1024 16384 50 51200 (63, 1024)\n",
      "study02_p15_prep.set 1024 17408 50 51200 (63, 1024)\n",
      "study02_p15_prep.set 1024 18432 50 51200 (63, 1024)\n",
      "study02_p15_prep.set 1024 19456 50 51200 (63, 1024)\n",
      "study02_p15_prep.set 1024 20480 50 51200 (63, 1024)\n",
      "study02_p15_prep.set 1024 21504 50 51200 (63, 1024)\n",
      "study02_p15_prep.set 1024 22528 50 51200 (63, 1024)\n",
      "study02_p15_prep.set 1024 23552 50 51200 (63, 1024)\n",
      "study02_p15_prep.set 1024 24576 50 51200 (63, 1024)\n",
      "study02_p15_prep.set 1024 25600 50 51200 (63, 1024)\n",
      "study02_p15_prep.set 1024 26624 50 51200 (63, 1024)\n",
      "study02_p15_prep.set 1024 27648 50 51200 (63, 1024)\n",
      "study02_p15_prep.set 1024 28672 50 51200 (63, 1024)\n",
      "study02_p15_prep.set 1024 29696 50 51200 (63, 1024)\n",
      "study02_p15_prep.set 1024 30720 50 51200 (63, 1024)\n",
      "study02_p15_prep.set 1024 31744 50 51200 (63, 1024)\n",
      "study02_p15_prep.set 1024 32768 50 51200 (63, 1024)\n",
      "study02_p15_prep.set 1024 33792 50 51200 (63, 1024)\n",
      "study02_p15_prep.set 1024 34816 50 51200 (63, 1024)\n",
      "study02_p15_prep.set 1024 35840 50 51200 (63, 1024)\n",
      "study02_p15_prep.set 1024 36864 50 51200 (63, 1024)\n",
      "study02_p15_prep.set 1024 37888 50 51200 (63, 1024)\n",
      "study02_p15_prep.set 1024 38912 50 51200 (63, 1024)\n",
      "study02_p15_prep.set 1024 39936 50 51200 (63, 1024)\n",
      "study02_p15_prep.set 1024 40960 50 51200 (63, 1024)\n",
      "study02_p15_prep.set 1024 41984 50 51200 (63, 1024)\n",
      "study02_p15_prep.set 1024 43008 50 51200 (63, 1024)\n",
      "study02_p15_prep.set 1024 44032 50 51200 (63, 1024)\n",
      "study02_p15_prep.set 1024 45056 50 51200 (63, 1024)\n",
      "study02_p15_prep.set 1024 46080 50 51200 (63, 1024)\n",
      "study02_p15_prep.set 1024 47104 50 51200 (63, 1024)\n",
      "study02_p15_prep.set 1024 48128 50 51200 (63, 1024)\n",
      "study02_p15_prep.set 1024 49152 50 51200 (63, 1024)\n",
      "study02_p15_prep.set 1024 50176 50 51200 (63, 1024)\n"
     ]
    },
    {
     "name": "stderr",
     "output_type": "stream",
     "text": [
      "C:\\Users\\DELL\\anaconda3\\lib\\site-packages\\pymatreader\\utils.py:122: UserWarning: Complex objects (like classes) are not supported. They are imported on a best effort base but your mileage will vary.\n",
      "  warn('Complex objects (like classes) are not supported. '\n"
     ]
    },
    {
     "name": "stdout",
     "output_type": "stream",
     "text": [
      "Extracting parameters from C:\\Users\\DELL\\Desktop\\20credit\\EEG_eye_artifact\\wholedata\\study02_p16_prep.set...\n",
      "Not setting metadata\n",
      "50 matching events found\n",
      "No baseline correction applied\n"
     ]
    },
    {
     "name": "stderr",
     "output_type": "stream",
     "text": [
      "C:\\Users\\DELL\\AppData\\Local\\Temp\\ipykernel_14424\\3542807486.py:14: RuntimeWarning: At least one epoch has multiple events. Only the latency of the first event will be retained.\n",
      "  data=mne.io.read_epochs_eeglab(srcpath)\n",
      "C:\\Users\\DELL\\AppData\\Local\\Temp\\ipykernel_14424\\3542807486.py:14: RuntimeWarning: Unknown types found, setting as type EEG:\n",
      "artifact: ['eye-art', 'eye-blink', 'eye-d', 'eye-fix', 'eye-l', 'eye-r', 'eye-u']\n",
      "eoglpf: ['HEOG_lpf', 'REOG_lpf', 'VEOG_lpf']\n",
      "label: ['artifactclasses']\n",
      "paradigm: ['block']\n",
      "snap: ['target_S', 'target_X', 'target_Z']\n",
      "state: ['label']\n",
      "  data=mne.io.read_epochs_eeglab(srcpath)\n",
      "C:\\Users\\DELL\\AppData\\Local\\Temp\\ipykernel_14424\\3542807486.py:14: RuntimeWarning: Data file name in EEG.data (ebs_prep.fdt) is incorrect, the file name must have changed on disk, using the correct file name (study02_p16_prep.fdt).\n",
      "  data=mne.io.read_epochs_eeglab(srcpath)\n"
     ]
    },
    {
     "name": "stdout",
     "output_type": "stream",
     "text": [
      "0 projection items activated\n",
      "Ready.\n"
     ]
    },
    {
     "name": "stderr",
     "output_type": "stream",
     "text": [
      "C:\\Users\\DELL\\AppData\\Local\\Temp\\ipykernel_14424\\3542807486.py:14: RuntimeWarning: Not setting positions of 3 eog channels found in montage:\n",
      "['HEOG', 'VEOG', 'REOG']\n",
      "Consider setting the channel types to be of EEG/sEEG/ECoG/DBS/fNIRS using inst.set_channel_types before calling inst.set_montage, or omit these channels when creating your montage.\n",
      "  data=mne.io.read_epochs_eeglab(srcpath)\n"
     ]
    },
    {
     "name": "stdout",
     "output_type": "stream",
     "text": [
      "Setting up band-pass filter from 1 - 63 Hz\n",
      "\n",
      "FIR filter parameters\n",
      "---------------------\n",
      "Designing a one-pass, zero-phase, non-causal bandpass filter:\n",
      "- Windowed time-domain design (firwin) method\n",
      "- Hamming window with 0.0194 passband ripple and 53 dB stopband attenuation\n",
      "- Lower passband edge: 1.00\n",
      "- Lower transition bandwidth: 1.00 Hz (-6 dB cutoff frequency: 0.50 Hz)\n",
      "- Upper passband edge: 63.00 Hz\n",
      "- Upper transition bandwidth: 1.00 Hz (-6 dB cutoff frequency: 63.50 Hz)\n",
      "- Filter length: 423 samples (3.305 sec)\n",
      "\n"
     ]
    },
    {
     "name": "stderr",
     "output_type": "stream",
     "text": [
      "[Parallel(n_jobs=1)]: Using backend SequentialBackend with 1 concurrent workers.\n",
      "[Parallel(n_jobs=1)]: Done   1 out of   1 | elapsed:    0.0s remaining:    0.0s\n",
      "[Parallel(n_jobs=1)]: Done   2 out of   2 | elapsed:    0.0s remaining:    0.0s\n",
      "[Parallel(n_jobs=1)]: Done   3 out of   3 | elapsed:    0.0s remaining:    0.0s\n",
      "[Parallel(n_jobs=1)]: Done   4 out of   4 | elapsed:    0.0s remaining:    0.0s\n",
      "[Parallel(n_jobs=1)]: Done 4300 out of 4300 | elapsed:    1.9s finished\n"
     ]
    },
    {
     "name": "stdout",
     "output_type": "stream",
     "text": [
      "study02_p16_prep.set 1024 0 50 51200 (63, 1024)\n",
      "study02_p16_prep.set 1024 1024 50 51200 (63, 1024)\n",
      "study02_p16_prep.set 1024 2048 50 51200 (63, 1024)\n",
      "study02_p16_prep.set 1024 3072 50 51200 (63, 1024)\n",
      "study02_p16_prep.set 1024 4096 50 51200 (63, 1024)\n",
      "study02_p16_prep.set 1024 5120 50 51200 (63, 1024)\n",
      "study02_p16_prep.set 1024 6144 50 51200 (63, 1024)\n",
      "study02_p16_prep.set 1024 7168 50 51200 (63, 1024)\n",
      "study02_p16_prep.set 1024 8192 50 51200 (63, 1024)\n",
      "study02_p16_prep.set 1024 9216 50 51200 (63, 1024)\n",
      "study02_p16_prep.set 1024 10240 50 51200 (63, 1024)\n",
      "study02_p16_prep.set 1024 11264 50 51200 (63, 1024)\n",
      "study02_p16_prep.set 1024 12288 50 51200 (63, 1024)\n",
      "study02_p16_prep.set 1024 13312 50 51200 (63, 1024)\n",
      "study02_p16_prep.set 1024 14336 50 51200 (63, 1024)\n",
      "study02_p16_prep.set 1024 15360 50 51200 (63, 1024)\n",
      "study02_p16_prep.set 1024 16384 50 51200 (63, 1024)\n",
      "study02_p16_prep.set 1024 17408 50 51200 (63, 1024)\n",
      "study02_p16_prep.set 1024 18432 50 51200 (63, 1024)\n",
      "study02_p16_prep.set 1024 19456 50 51200 (63, 1024)\n",
      "study02_p16_prep.set 1024 20480 50 51200 (63, 1024)\n",
      "study02_p16_prep.set 1024 21504 50 51200 (63, 1024)\n",
      "study02_p16_prep.set 1024 22528 50 51200 (63, 1024)\n",
      "study02_p16_prep.set 1024 23552 50 51200 (63, 1024)\n",
      "study02_p16_prep.set 1024 24576 50 51200 (63, 1024)\n",
      "study02_p16_prep.set 1024 25600 50 51200 (63, 1024)\n",
      "study02_p16_prep.set 1024 26624 50 51200 (63, 1024)\n",
      "study02_p16_prep.set 1024 27648 50 51200 (63, 1024)\n",
      "study02_p16_prep.set 1024 28672 50 51200 (63, 1024)\n",
      "study02_p16_prep.set 1024 29696 50 51200 (63, 1024)\n",
      "study02_p16_prep.set 1024 30720 50 51200 (63, 1024)\n",
      "study02_p16_prep.set 1024 31744 50 51200 (63, 1024)\n",
      "study02_p16_prep.set 1024 32768 50 51200 (63, 1024)\n",
      "study02_p16_prep.set 1024 33792 50 51200 (63, 1024)\n",
      "study02_p16_prep.set 1024 34816 50 51200 (63, 1024)\n",
      "study02_p16_prep.set 1024 35840 50 51200 (63, 1024)\n",
      "study02_p16_prep.set 1024 36864 50 51200 (63, 1024)\n",
      "study02_p16_prep.set 1024 37888 50 51200 (63, 1024)\n",
      "study02_p16_prep.set 1024 38912 50 51200 (63, 1024)\n",
      "study02_p16_prep.set 1024 39936 50 51200 (63, 1024)\n",
      "study02_p16_prep.set 1024 40960 50 51200 (63, 1024)\n",
      "study02_p16_prep.set 1024 41984 50 51200 (63, 1024)\n",
      "study02_p16_prep.set 1024 43008 50 51200 (63, 1024)\n",
      "study02_p16_prep.set 1024 44032 50 51200 (63, 1024)\n",
      "study02_p16_prep.set 1024 45056 50 51200 (63, 1024)\n",
      "study02_p16_prep.set 1024 46080 50 51200 (63, 1024)\n",
      "study02_p16_prep.set 1024 47104 50 51200 (63, 1024)\n",
      "study02_p16_prep.set 1024 48128 50 51200 (63, 1024)\n",
      "study02_p16_prep.set 1024 49152 50 51200 (63, 1024)\n",
      "study02_p16_prep.set 1024 50176 50 51200 (63, 1024)\n"
     ]
    },
    {
     "name": "stderr",
     "output_type": "stream",
     "text": [
      "C:\\Users\\DELL\\anaconda3\\lib\\site-packages\\pymatreader\\utils.py:122: UserWarning: Complex objects (like classes) are not supported. They are imported on a best effort base but your mileage will vary.\n",
      "  warn('Complex objects (like classes) are not supported. '\n"
     ]
    },
    {
     "name": "stdout",
     "output_type": "stream",
     "text": [
      "Extracting parameters from C:\\Users\\DELL\\Desktop\\20credit\\EEG_eye_artifact\\wholedata\\study02_p17_prep.set...\n",
      "Not setting metadata\n",
      "52 matching events found\n",
      "No baseline correction applied\n"
     ]
    },
    {
     "name": "stderr",
     "output_type": "stream",
     "text": [
      "C:\\Users\\DELL\\AppData\\Local\\Temp\\ipykernel_14424\\3542807486.py:14: RuntimeWarning: At least one epoch has multiple events. Only the latency of the first event will be retained.\n",
      "  data=mne.io.read_epochs_eeglab(srcpath)\n",
      "C:\\Users\\DELL\\AppData\\Local\\Temp\\ipykernel_14424\\3542807486.py:14: RuntimeWarning: Unknown types found, setting as type EEG:\n",
      "artifact: ['eye-art', 'eye-blink', 'eye-d', 'eye-fix', 'eye-l', 'eye-r', 'eye-u']\n",
      "eoglpf: ['HEOG_lpf', 'REOG_lpf', 'VEOG_lpf']\n",
      "label: ['artifactclasses']\n",
      "paradigm: ['block']\n",
      "snap: ['target_S', 'target_X', 'target_Z']\n",
      "state: ['label']\n",
      "  data=mne.io.read_epochs_eeglab(srcpath)\n",
      "C:\\Users\\DELL\\AppData\\Local\\Temp\\ipykernel_14424\\3542807486.py:14: RuntimeWarning: Data file name in EEG.data (ebs_prep.fdt) is incorrect, the file name must have changed on disk, using the correct file name (study02_p17_prep.fdt).\n",
      "  data=mne.io.read_epochs_eeglab(srcpath)\n"
     ]
    },
    {
     "name": "stdout",
     "output_type": "stream",
     "text": [
      "0 projection items activated\n",
      "Ready.\n"
     ]
    },
    {
     "name": "stderr",
     "output_type": "stream",
     "text": [
      "C:\\Users\\DELL\\AppData\\Local\\Temp\\ipykernel_14424\\3542807486.py:14: RuntimeWarning: Not setting positions of 3 eog channels found in montage:\n",
      "['HEOG', 'VEOG', 'REOG']\n",
      "Consider setting the channel types to be of EEG/sEEG/ECoG/DBS/fNIRS using inst.set_channel_types before calling inst.set_montage, or omit these channels when creating your montage.\n",
      "  data=mne.io.read_epochs_eeglab(srcpath)\n"
     ]
    },
    {
     "name": "stdout",
     "output_type": "stream",
     "text": [
      "Setting up band-pass filter from 1 - 63 Hz\n",
      "\n",
      "FIR filter parameters\n",
      "---------------------\n",
      "Designing a one-pass, zero-phase, non-causal bandpass filter:\n",
      "- Windowed time-domain design (firwin) method\n",
      "- Hamming window with 0.0194 passband ripple and 53 dB stopband attenuation\n",
      "- Lower passband edge: 1.00\n",
      "- Lower transition bandwidth: 1.00 Hz (-6 dB cutoff frequency: 0.50 Hz)\n",
      "- Upper passband edge: 63.00 Hz\n",
      "- Upper transition bandwidth: 1.00 Hz (-6 dB cutoff frequency: 63.50 Hz)\n",
      "- Filter length: 423 samples (3.305 sec)\n",
      "\n"
     ]
    },
    {
     "name": "stderr",
     "output_type": "stream",
     "text": [
      "[Parallel(n_jobs=1)]: Using backend SequentialBackend with 1 concurrent workers.\n",
      "[Parallel(n_jobs=1)]: Done   1 out of   1 | elapsed:    0.0s remaining:    0.0s\n",
      "[Parallel(n_jobs=1)]: Done   2 out of   2 | elapsed:    0.0s remaining:    0.0s\n",
      "[Parallel(n_jobs=1)]: Done   3 out of   3 | elapsed:    0.0s remaining:    0.0s\n",
      "[Parallel(n_jobs=1)]: Done   4 out of   4 | elapsed:    0.0s remaining:    0.0s\n",
      "[Parallel(n_jobs=1)]: Done 4472 out of 4472 | elapsed:    2.1s finished\n"
     ]
    },
    {
     "name": "stdout",
     "output_type": "stream",
     "text": [
      "study02_p17_prep.set 1024 0 52 53248 (63, 1024)\n",
      "study02_p17_prep.set 1024 1024 52 53248 (63, 1024)\n",
      "study02_p17_prep.set 1024 2048 52 53248 (63, 1024)\n",
      "study02_p17_prep.set 1024 3072 52 53248 (63, 1024)\n",
      "study02_p17_prep.set 1024 4096 52 53248 (63, 1024)\n",
      "study02_p17_prep.set 1024 5120 52 53248 (63, 1024)\n",
      "study02_p17_prep.set 1024 6144 52 53248 (63, 1024)\n",
      "study02_p17_prep.set 1024 7168 52 53248 (63, 1024)\n",
      "study02_p17_prep.set 1024 8192 52 53248 (63, 1024)\n",
      "study02_p17_prep.set 1024 9216 52 53248 (63, 1024)\n",
      "study02_p17_prep.set 1024 10240 52 53248 (63, 1024)\n",
      "study02_p17_prep.set 1024 11264 52 53248 (63, 1024)\n",
      "study02_p17_prep.set 1024 12288 52 53248 (63, 1024)\n",
      "study02_p17_prep.set 1024 13312 52 53248 (63, 1024)\n",
      "study02_p17_prep.set 1024 14336 52 53248 (63, 1024)\n",
      "study02_p17_prep.set 1024 15360 52 53248 (63, 1024)\n",
      "study02_p17_prep.set 1024 16384 52 53248 (63, 1024)\n",
      "study02_p17_prep.set 1024 17408 52 53248 (63, 1024)\n",
      "study02_p17_prep.set 1024 18432 52 53248 (63, 1024)\n",
      "study02_p17_prep.set 1024 19456 52 53248 (63, 1024)\n",
      "study02_p17_prep.set 1024 20480 52 53248 (63, 1024)\n",
      "study02_p17_prep.set 1024 21504 52 53248 (63, 1024)\n",
      "study02_p17_prep.set 1024 22528 52 53248 (63, 1024)\n",
      "study02_p17_prep.set 1024 23552 52 53248 (63, 1024)\n",
      "study02_p17_prep.set 1024 24576 52 53248 (63, 1024)\n",
      "study02_p17_prep.set 1024 25600 52 53248 (63, 1024)\n",
      "study02_p17_prep.set 1024 26624 52 53248 (63, 1024)\n",
      "study02_p17_prep.set 1024 27648 52 53248 (63, 1024)\n",
      "study02_p17_prep.set 1024 28672 52 53248 (63, 1024)\n",
      "study02_p17_prep.set 1024 29696 52 53248 (63, 1024)\n",
      "study02_p17_prep.set 1024 30720 52 53248 (63, 1024)\n",
      "study02_p17_prep.set 1024 31744 52 53248 (63, 1024)\n",
      "study02_p17_prep.set 1024 32768 52 53248 (63, 1024)\n",
      "study02_p17_prep.set 1024 33792 52 53248 (63, 1024)\n",
      "study02_p17_prep.set 1024 34816 52 53248 (63, 1024)\n",
      "study02_p17_prep.set 1024 35840 52 53248 (63, 1024)\n",
      "study02_p17_prep.set 1024 36864 52 53248 (63, 1024)\n",
      "study02_p17_prep.set 1024 37888 52 53248 (63, 1024)\n",
      "study02_p17_prep.set 1024 38912 52 53248 (63, 1024)\n",
      "study02_p17_prep.set 1024 39936 52 53248 (63, 1024)\n",
      "study02_p17_prep.set 1024 40960 52 53248 (63, 1024)\n",
      "study02_p17_prep.set 1024 41984 52 53248 (63, 1024)\n",
      "study02_p17_prep.set 1024 43008 52 53248 (63, 1024)\n",
      "study02_p17_prep.set 1024 44032 52 53248 (63, 1024)\n",
      "study02_p17_prep.set 1024 45056 52 53248 (63, 1024)\n",
      "study02_p17_prep.set 1024 46080 52 53248 (63, 1024)\n",
      "study02_p17_prep.set 1024 47104 52 53248 (63, 1024)\n",
      "study02_p17_prep.set 1024 48128 52 53248 (63, 1024)\n",
      "study02_p17_prep.set 1024 49152 52 53248 (63, 1024)\n",
      "study02_p17_prep.set 1024 50176 52 53248 (63, 1024)\n",
      "study02_p17_prep.set 1024 51200 52 53248 (63, 1024)\n",
      "study02_p17_prep.set 1024 52224 52 53248 (63, 1024)\n"
     ]
    },
    {
     "name": "stderr",
     "output_type": "stream",
     "text": [
      "C:\\Users\\DELL\\anaconda3\\lib\\site-packages\\pymatreader\\utils.py:122: UserWarning: Complex objects (like classes) are not supported. They are imported on a best effort base but your mileage will vary.\n",
      "  warn('Complex objects (like classes) are not supported. '\n"
     ]
    },
    {
     "name": "stdout",
     "output_type": "stream",
     "text": [
      "Extracting parameters from C:\\Users\\DELL\\Desktop\\20credit\\EEG_eye_artifact\\wholedata\\study02_p18_prep.set...\n",
      "Not setting metadata\n",
      "50 matching events found\n",
      "No baseline correction applied\n"
     ]
    },
    {
     "name": "stderr",
     "output_type": "stream",
     "text": [
      "C:\\Users\\DELL\\AppData\\Local\\Temp\\ipykernel_14424\\3542807486.py:14: RuntimeWarning: At least one epoch has multiple events. Only the latency of the first event will be retained.\n",
      "  data=mne.io.read_epochs_eeglab(srcpath)\n",
      "C:\\Users\\DELL\\AppData\\Local\\Temp\\ipykernel_14424\\3542807486.py:14: RuntimeWarning: Unknown types found, setting as type EEG:\n",
      "artifact: ['eye-art', 'eye-blink', 'eye-d', 'eye-fix', 'eye-l', 'eye-r', 'eye-u']\n",
      "eoglpf: ['HEOG_lpf', 'REOG_lpf', 'VEOG_lpf']\n",
      "label: ['artifactclasses']\n",
      "paradigm: ['block']\n",
      "snap: ['target_S', 'target_X', 'target_Z']\n",
      "state: ['label']\n",
      "  data=mne.io.read_epochs_eeglab(srcpath)\n",
      "C:\\Users\\DELL\\AppData\\Local\\Temp\\ipykernel_14424\\3542807486.py:14: RuntimeWarning: Data file name in EEG.data (ebs_prep.fdt) is incorrect, the file name must have changed on disk, using the correct file name (study02_p18_prep.fdt).\n",
      "  data=mne.io.read_epochs_eeglab(srcpath)\n"
     ]
    },
    {
     "name": "stdout",
     "output_type": "stream",
     "text": [
      "0 projection items activated\n",
      "Ready.\n"
     ]
    },
    {
     "name": "stderr",
     "output_type": "stream",
     "text": [
      "C:\\Users\\DELL\\AppData\\Local\\Temp\\ipykernel_14424\\3542807486.py:14: RuntimeWarning: Not setting positions of 3 eog channels found in montage:\n",
      "['HEOG', 'VEOG', 'REOG']\n",
      "Consider setting the channel types to be of EEG/sEEG/ECoG/DBS/fNIRS using inst.set_channel_types before calling inst.set_montage, or omit these channels when creating your montage.\n",
      "  data=mne.io.read_epochs_eeglab(srcpath)\n"
     ]
    },
    {
     "name": "stdout",
     "output_type": "stream",
     "text": [
      "Setting up band-pass filter from 1 - 63 Hz\n",
      "\n",
      "FIR filter parameters\n",
      "---------------------\n",
      "Designing a one-pass, zero-phase, non-causal bandpass filter:\n",
      "- Windowed time-domain design (firwin) method\n",
      "- Hamming window with 0.0194 passband ripple and 53 dB stopband attenuation\n",
      "- Lower passband edge: 1.00\n",
      "- Lower transition bandwidth: 1.00 Hz (-6 dB cutoff frequency: 0.50 Hz)\n",
      "- Upper passband edge: 63.00 Hz\n",
      "- Upper transition bandwidth: 1.00 Hz (-6 dB cutoff frequency: 63.50 Hz)\n",
      "- Filter length: 423 samples (3.305 sec)\n",
      "\n"
     ]
    },
    {
     "name": "stderr",
     "output_type": "stream",
     "text": [
      "[Parallel(n_jobs=1)]: Using backend SequentialBackend with 1 concurrent workers.\n",
      "[Parallel(n_jobs=1)]: Done   1 out of   1 | elapsed:    0.0s remaining:    0.0s\n",
      "[Parallel(n_jobs=1)]: Done   2 out of   2 | elapsed:    0.0s remaining:    0.0s\n",
      "[Parallel(n_jobs=1)]: Done   3 out of   3 | elapsed:    0.0s remaining:    0.0s\n",
      "[Parallel(n_jobs=1)]: Done   4 out of   4 | elapsed:    0.0s remaining:    0.0s\n",
      "[Parallel(n_jobs=1)]: Done 4300 out of 4300 | elapsed:    1.9s finished\n"
     ]
    },
    {
     "name": "stdout",
     "output_type": "stream",
     "text": [
      "study02_p18_prep.set 1024 0 50 51200 (63, 1024)\n",
      "study02_p18_prep.set 1024 1024 50 51200 (63, 1024)\n",
      "study02_p18_prep.set 1024 2048 50 51200 (63, 1024)\n",
      "study02_p18_prep.set 1024 3072 50 51200 (63, 1024)\n",
      "study02_p18_prep.set 1024 4096 50 51200 (63, 1024)\n",
      "study02_p18_prep.set 1024 5120 50 51200 (63, 1024)\n",
      "study02_p18_prep.set 1024 6144 50 51200 (63, 1024)\n",
      "study02_p18_prep.set 1024 7168 50 51200 (63, 1024)\n",
      "study02_p18_prep.set 1024 8192 50 51200 (63, 1024)\n",
      "study02_p18_prep.set 1024 9216 50 51200 (63, 1024)\n",
      "study02_p18_prep.set 1024 10240 50 51200 (63, 1024)\n",
      "study02_p18_prep.set 1024 11264 50 51200 (63, 1024)\n",
      "study02_p18_prep.set 1024 12288 50 51200 (63, 1024)\n",
      "study02_p18_prep.set 1024 13312 50 51200 (63, 1024)\n",
      "study02_p18_prep.set 1024 14336 50 51200 (63, 1024)\n",
      "study02_p18_prep.set 1024 15360 50 51200 (63, 1024)\n",
      "study02_p18_prep.set 1024 16384 50 51200 (63, 1024)\n",
      "study02_p18_prep.set 1024 17408 50 51200 (63, 1024)\n",
      "study02_p18_prep.set 1024 18432 50 51200 (63, 1024)\n",
      "study02_p18_prep.set 1024 19456 50 51200 (63, 1024)\n",
      "study02_p18_prep.set 1024 20480 50 51200 (63, 1024)\n",
      "study02_p18_prep.set 1024 21504 50 51200 (63, 1024)\n",
      "study02_p18_prep.set 1024 22528 50 51200 (63, 1024)\n",
      "study02_p18_prep.set 1024 23552 50 51200 (63, 1024)\n",
      "study02_p18_prep.set 1024 24576 50 51200 (63, 1024)\n",
      "study02_p18_prep.set 1024 25600 50 51200 (63, 1024)\n",
      "study02_p18_prep.set 1024 26624 50 51200 (63, 1024)\n",
      "study02_p18_prep.set 1024 27648 50 51200 (63, 1024)\n",
      "study02_p18_prep.set 1024 28672 50 51200 (63, 1024)\n",
      "study02_p18_prep.set 1024 29696 50 51200 (63, 1024)\n",
      "study02_p18_prep.set 1024 30720 50 51200 (63, 1024)\n",
      "study02_p18_prep.set 1024 31744 50 51200 (63, 1024)\n",
      "study02_p18_prep.set 1024 32768 50 51200 (63, 1024)\n",
      "study02_p18_prep.set 1024 33792 50 51200 (63, 1024)\n",
      "study02_p18_prep.set 1024 34816 50 51200 (63, 1024)\n",
      "study02_p18_prep.set 1024 35840 50 51200 (63, 1024)\n",
      "study02_p18_prep.set 1024 36864 50 51200 (63, 1024)\n",
      "study02_p18_prep.set 1024 37888 50 51200 (63, 1024)\n",
      "study02_p18_prep.set 1024 38912 50 51200 (63, 1024)\n",
      "study02_p18_prep.set 1024 39936 50 51200 (63, 1024)\n",
      "study02_p18_prep.set 1024 40960 50 51200 (63, 1024)\n",
      "study02_p18_prep.set 1024 41984 50 51200 (63, 1024)\n",
      "study02_p18_prep.set 1024 43008 50 51200 (63, 1024)\n",
      "study02_p18_prep.set 1024 44032 50 51200 (63, 1024)\n",
      "study02_p18_prep.set 1024 45056 50 51200 (63, 1024)\n",
      "study02_p18_prep.set 1024 46080 50 51200 (63, 1024)\n",
      "study02_p18_prep.set 1024 47104 50 51200 (63, 1024)\n",
      "study02_p18_prep.set 1024 48128 50 51200 (63, 1024)\n",
      "study02_p18_prep.set 1024 49152 50 51200 (63, 1024)\n",
      "study02_p18_prep.set 1024 50176 50 51200 (63, 1024)\n"
     ]
    },
    {
     "name": "stderr",
     "output_type": "stream",
     "text": [
      "C:\\Users\\DELL\\anaconda3\\lib\\site-packages\\pymatreader\\utils.py:122: UserWarning: Complex objects (like classes) are not supported. They are imported on a best effort base but your mileage will vary.\n",
      "  warn('Complex objects (like classes) are not supported. '\n"
     ]
    },
    {
     "name": "stdout",
     "output_type": "stream",
     "text": [
      "Extracting parameters from C:\\Users\\DELL\\Desktop\\20credit\\EEG_eye_artifact\\wholedata\\study03_p03_prep.set...\n",
      "Not setting metadata\n",
      "46 matching events found\n",
      "No baseline correction applied\n",
      "0 projection items activated\n",
      "Ready.\n"
     ]
    },
    {
     "name": "stderr",
     "output_type": "stream",
     "text": [
      "C:\\Users\\DELL\\AppData\\Local\\Temp\\ipykernel_14424\\3542807486.py:14: RuntimeWarning: At least one epoch has multiple events. Only the latency of the first event will be retained.\n",
      "  data=mne.io.read_epochs_eeglab(srcpath)\n",
      "C:\\Users\\DELL\\AppData\\Local\\Temp\\ipykernel_14424\\3542807486.py:14: RuntimeWarning: Unknown types found, setting as type EEG:\n",
      "artifact: ['eye-art', 'eye-blink', 'eye-d', 'eye-fix', 'eye-l', 'eye-r', 'eye-u']\n",
      "eoglpf: ['HEOG_lpf', 'REOG_lpf', 'VEOG_lpf']\n",
      "label: ['artifactclasses']\n",
      "paradigm: ['block']\n",
      "state: ['label']\n",
      "  data=mne.io.read_epochs_eeglab(srcpath)\n",
      "C:\\Users\\DELL\\AppData\\Local\\Temp\\ipykernel_14424\\3542807486.py:14: RuntimeWarning: Data file name in EEG.data (ebs_prep.fdt) is incorrect, the file name must have changed on disk, using the correct file name (study03_p03_prep.fdt).\n",
      "  data=mne.io.read_epochs_eeglab(srcpath)\n",
      "C:\\Users\\DELL\\AppData\\Local\\Temp\\ipykernel_14424\\3542807486.py:14: RuntimeWarning: Not setting positions of 3 eog channels found in montage:\n",
      "['HEOG', 'VEOG', 'REOG']\n",
      "Consider setting the channel types to be of EEG/sEEG/ECoG/DBS/fNIRS using inst.set_channel_types before calling inst.set_montage, or omit these channels when creating your montage.\n",
      "  data=mne.io.read_epochs_eeglab(srcpath)\n"
     ]
    },
    {
     "name": "stdout",
     "output_type": "stream",
     "text": [
      "Setting up band-pass filter from 1 - 63 Hz\n",
      "\n",
      "FIR filter parameters\n",
      "---------------------\n",
      "Designing a one-pass, zero-phase, non-causal bandpass filter:\n",
      "- Windowed time-domain design (firwin) method\n",
      "- Hamming window with 0.0194 passband ripple and 53 dB stopband attenuation\n",
      "- Lower passband edge: 1.00\n",
      "- Lower transition bandwidth: 1.00 Hz (-6 dB cutoff frequency: 0.50 Hz)\n",
      "- Upper passband edge: 63.00 Hz\n",
      "- Upper transition bandwidth: 1.00 Hz (-6 dB cutoff frequency: 63.50 Hz)\n",
      "- Filter length: 423 samples (3.305 sec)\n",
      "\n"
     ]
    },
    {
     "name": "stderr",
     "output_type": "stream",
     "text": [
      "[Parallel(n_jobs=1)]: Using backend SequentialBackend with 1 concurrent workers.\n",
      "[Parallel(n_jobs=1)]: Done   1 out of   1 | elapsed:    0.0s remaining:    0.0s\n",
      "[Parallel(n_jobs=1)]: Done   2 out of   2 | elapsed:    0.0s remaining:    0.0s\n",
      "[Parallel(n_jobs=1)]: Done   3 out of   3 | elapsed:    0.0s remaining:    0.0s\n",
      "[Parallel(n_jobs=1)]: Done   4 out of   4 | elapsed:    0.0s remaining:    0.0s\n",
      "[Parallel(n_jobs=1)]: Done 3818 out of 3818 | elapsed:    1.7s finished\n"
     ]
    },
    {
     "name": "stdout",
     "output_type": "stream",
     "text": [
      "study03_p03_prep.set 1024 0 46 47104 (63, 1024)\n",
      "study03_p03_prep.set 1024 1024 46 47104 (63, 1024)\n",
      "study03_p03_prep.set 1024 2048 46 47104 (63, 1024)\n",
      "study03_p03_prep.set 1024 3072 46 47104 (63, 1024)\n",
      "study03_p03_prep.set 1024 4096 46 47104 (63, 1024)\n",
      "study03_p03_prep.set 1024 5120 46 47104 (63, 1024)\n",
      "study03_p03_prep.set 1024 6144 46 47104 (63, 1024)\n",
      "study03_p03_prep.set 1024 7168 46 47104 (63, 1024)\n",
      "study03_p03_prep.set 1024 8192 46 47104 (63, 1024)\n",
      "study03_p03_prep.set 1024 9216 46 47104 (63, 1024)\n",
      "study03_p03_prep.set 1024 10240 46 47104 (63, 1024)\n",
      "study03_p03_prep.set 1024 11264 46 47104 (63, 1024)\n",
      "study03_p03_prep.set 1024 12288 46 47104 (63, 1024)\n",
      "study03_p03_prep.set 1024 13312 46 47104 (63, 1024)\n",
      "study03_p03_prep.set 1024 14336 46 47104 (63, 1024)\n",
      "study03_p03_prep.set 1024 15360 46 47104 (63, 1024)\n",
      "study03_p03_prep.set 1024 16384 46 47104 (63, 1024)\n",
      "study03_p03_prep.set 1024 17408 46 47104 (63, 1024)\n",
      "study03_p03_prep.set 1024 18432 46 47104 (63, 1024)\n",
      "study03_p03_prep.set 1024 19456 46 47104 (63, 1024)\n",
      "study03_p03_prep.set 1024 20480 46 47104 (63, 1024)\n",
      "study03_p03_prep.set 1024 21504 46 47104 (63, 1024)\n",
      "study03_p03_prep.set 1024 22528 46 47104 (63, 1024)\n",
      "study03_p03_prep.set 1024 23552 46 47104 (63, 1024)\n",
      "study03_p03_prep.set 1024 24576 46 47104 (63, 1024)\n",
      "study03_p03_prep.set 1024 25600 46 47104 (63, 1024)\n",
      "study03_p03_prep.set 1024 26624 46 47104 (63, 1024)\n",
      "study03_p03_prep.set 1024 27648 46 47104 (63, 1024)\n",
      "study03_p03_prep.set 1024 28672 46 47104 (63, 1024)\n",
      "study03_p03_prep.set 1024 29696 46 47104 (63, 1024)\n",
      "study03_p03_prep.set 1024 30720 46 47104 (63, 1024)\n",
      "study03_p03_prep.set 1024 31744 46 47104 (63, 1024)\n",
      "study03_p03_prep.set 1024 32768 46 47104 (63, 1024)\n",
      "study03_p03_prep.set 1024 33792 46 47104 (63, 1024)\n",
      "study03_p03_prep.set 1024 34816 46 47104 (63, 1024)\n",
      "study03_p03_prep.set 1024 35840 46 47104 (63, 1024)\n",
      "study03_p03_prep.set 1024 36864 46 47104 (63, 1024)\n",
      "study03_p03_prep.set 1024 37888 46 47104 (63, 1024)\n",
      "study03_p03_prep.set 1024 38912 46 47104 (63, 1024)\n",
      "study03_p03_prep.set 1024 39936 46 47104 (63, 1024)\n",
      "study03_p03_prep.set 1024 40960 46 47104 (63, 1024)\n",
      "study03_p03_prep.set 1024 41984 46 47104 (63, 1024)\n",
      "study03_p03_prep.set 1024 43008 46 47104 (63, 1024)\n",
      "study03_p03_prep.set 1024 44032 46 47104 (63, 1024)\n",
      "study03_p03_prep.set 1024 45056 46 47104 (63, 1024)\n",
      "study03_p03_prep.set 1024 46080 46 47104 (63, 1024)\n"
     ]
    },
    {
     "name": "stderr",
     "output_type": "stream",
     "text": [
      "C:\\Users\\DELL\\anaconda3\\lib\\site-packages\\pymatreader\\utils.py:122: UserWarning: Complex objects (like classes) are not supported. They are imported on a best effort base but your mileage will vary.\n",
      "  warn('Complex objects (like classes) are not supported. '\n"
     ]
    },
    {
     "name": "stdout",
     "output_type": "stream",
     "text": [
      "Extracting parameters from C:\\Users\\DELL\\Desktop\\20credit\\EEG_eye_artifact\\wholedata\\study03_p19_prep.set...\n",
      "Not setting metadata\n"
     ]
    },
    {
     "name": "stderr",
     "output_type": "stream",
     "text": [
      "C:\\Users\\DELL\\AppData\\Local\\Temp\\ipykernel_14424\\3542807486.py:14: RuntimeWarning: At least one epoch has multiple events. Only the latency of the first event will be retained.\n",
      "  data=mne.io.read_epochs_eeglab(srcpath)\n",
      "C:\\Users\\DELL\\AppData\\Local\\Temp\\ipykernel_14424\\3542807486.py:14: RuntimeWarning: Unknown types found, setting as type EEG:\n",
      "artifact: ['eye-art', 'eye-blink', 'eye-d', 'eye-fix', 'eye-l', 'eye-r', 'eye-u']\n",
      "eoglpf: ['HEOG_lpf', 'REOG_lpf', 'VEOG_lpf']\n",
      "label: ['artifactclasses']\n",
      "paradigm: ['block']\n",
      "state: ['label']\n",
      "  data=mne.io.read_epochs_eeglab(srcpath)\n",
      "C:\\Users\\DELL\\AppData\\Local\\Temp\\ipykernel_14424\\3542807486.py:14: RuntimeWarning: Data file name in EEG.data (ebs_prep.fdt) is incorrect, the file name must have changed on disk, using the correct file name (study03_p19_prep.fdt).\n",
      "  data=mne.io.read_epochs_eeglab(srcpath)\n"
     ]
    },
    {
     "name": "stdout",
     "output_type": "stream",
     "text": [
      "47 matching events found\n",
      "No baseline correction applied\n",
      "0 projection items activated\n",
      "Ready.\n"
     ]
    },
    {
     "name": "stderr",
     "output_type": "stream",
     "text": [
      "C:\\Users\\DELL\\AppData\\Local\\Temp\\ipykernel_14424\\3542807486.py:14: RuntimeWarning: Not setting positions of 3 eog channels found in montage:\n",
      "['HEOG', 'VEOG', 'REOG']\n",
      "Consider setting the channel types to be of EEG/sEEG/ECoG/DBS/fNIRS using inst.set_channel_types before calling inst.set_montage, or omit these channels when creating your montage.\n",
      "  data=mne.io.read_epochs_eeglab(srcpath)\n"
     ]
    },
    {
     "name": "stdout",
     "output_type": "stream",
     "text": [
      "Setting up band-pass filter from 1 - 63 Hz\n",
      "\n",
      "FIR filter parameters\n",
      "---------------------\n",
      "Designing a one-pass, zero-phase, non-causal bandpass filter:\n",
      "- Windowed time-domain design (firwin) method\n",
      "- Hamming window with 0.0194 passband ripple and 53 dB stopband attenuation\n",
      "- Lower passband edge: 1.00\n",
      "- Lower transition bandwidth: 1.00 Hz (-6 dB cutoff frequency: 0.50 Hz)\n",
      "- Upper passband edge: 63.00 Hz\n",
      "- Upper transition bandwidth: 1.00 Hz (-6 dB cutoff frequency: 63.50 Hz)\n",
      "- Filter length: 423 samples (3.305 sec)\n",
      "\n"
     ]
    },
    {
     "name": "stderr",
     "output_type": "stream",
     "text": [
      "[Parallel(n_jobs=1)]: Using backend SequentialBackend with 1 concurrent workers.\n",
      "[Parallel(n_jobs=1)]: Done   1 out of   1 | elapsed:    0.0s remaining:    0.0s\n",
      "[Parallel(n_jobs=1)]: Done   2 out of   2 | elapsed:    0.0s remaining:    0.0s\n",
      "[Parallel(n_jobs=1)]: Done   3 out of   3 | elapsed:    0.0s remaining:    0.0s\n",
      "[Parallel(n_jobs=1)]: Done   4 out of   4 | elapsed:    0.0s remaining:    0.0s\n",
      "[Parallel(n_jobs=1)]: Done 3901 out of 3901 | elapsed:    1.7s finished\n"
     ]
    },
    {
     "name": "stdout",
     "output_type": "stream",
     "text": [
      "study03_p19_prep.set 1024 0 47 48128 (63, 1024)\n",
      "study03_p19_prep.set 1024 1024 47 48128 (63, 1024)\n",
      "study03_p19_prep.set 1024 2048 47 48128 (63, 1024)\n",
      "study03_p19_prep.set 1024 3072 47 48128 (63, 1024)\n",
      "study03_p19_prep.set 1024 4096 47 48128 (63, 1024)\n",
      "study03_p19_prep.set 1024 5120 47 48128 (63, 1024)\n",
      "study03_p19_prep.set 1024 6144 47 48128 (63, 1024)\n",
      "study03_p19_prep.set 1024 7168 47 48128 (63, 1024)\n",
      "study03_p19_prep.set 1024 8192 47 48128 (63, 1024)\n",
      "study03_p19_prep.set 1024 9216 47 48128 (63, 1024)\n",
      "study03_p19_prep.set 1024 10240 47 48128 (63, 1024)\n",
      "study03_p19_prep.set 1024 11264 47 48128 (63, 1024)\n",
      "study03_p19_prep.set 1024 12288 47 48128 (63, 1024)\n",
      "study03_p19_prep.set 1024 13312 47 48128 (63, 1024)\n",
      "study03_p19_prep.set 1024 14336 47 48128 (63, 1024)\n",
      "study03_p19_prep.set 1024 15360 47 48128 (63, 1024)\n",
      "study03_p19_prep.set 1024 16384 47 48128 (63, 1024)\n",
      "study03_p19_prep.set 1024 17408 47 48128 (63, 1024)\n",
      "study03_p19_prep.set 1024 18432 47 48128 (63, 1024)\n",
      "study03_p19_prep.set 1024 19456 47 48128 (63, 1024)\n",
      "study03_p19_prep.set 1024 20480 47 48128 (63, 1024)\n",
      "study03_p19_prep.set 1024 21504 47 48128 (63, 1024)\n",
      "study03_p19_prep.set 1024 22528 47 48128 (63, 1024)\n",
      "study03_p19_prep.set 1024 23552 47 48128 (63, 1024)\n",
      "study03_p19_prep.set 1024 24576 47 48128 (63, 1024)\n",
      "study03_p19_prep.set 1024 25600 47 48128 (63, 1024)\n",
      "study03_p19_prep.set 1024 26624 47 48128 (63, 1024)\n",
      "study03_p19_prep.set 1024 27648 47 48128 (63, 1024)\n",
      "study03_p19_prep.set 1024 28672 47 48128 (63, 1024)\n",
      "study03_p19_prep.set 1024 29696 47 48128 (63, 1024)\n",
      "study03_p19_prep.set 1024 30720 47 48128 (63, 1024)\n",
      "study03_p19_prep.set 1024 31744 47 48128 (63, 1024)\n",
      "study03_p19_prep.set 1024 32768 47 48128 (63, 1024)\n",
      "study03_p19_prep.set 1024 33792 47 48128 (63, 1024)\n",
      "study03_p19_prep.set 1024 34816 47 48128 (63, 1024)\n",
      "study03_p19_prep.set 1024 35840 47 48128 (63, 1024)\n",
      "study03_p19_prep.set 1024 36864 47 48128 (63, 1024)\n",
      "study03_p19_prep.set 1024 37888 47 48128 (63, 1024)\n",
      "study03_p19_prep.set 1024 38912 47 48128 (63, 1024)\n",
      "study03_p19_prep.set 1024 39936 47 48128 (63, 1024)\n",
      "study03_p19_prep.set 1024 40960 47 48128 (63, 1024)\n",
      "study03_p19_prep.set 1024 41984 47 48128 (63, 1024)\n",
      "study03_p19_prep.set 1024 43008 47 48128 (63, 1024)\n",
      "study03_p19_prep.set 1024 44032 47 48128 (63, 1024)\n",
      "study03_p19_prep.set 1024 45056 47 48128 (63, 1024)\n",
      "study03_p19_prep.set 1024 46080 47 48128 (63, 1024)\n",
      "study03_p19_prep.set 1024 47104 47 48128 (63, 1024)\n"
     ]
    },
    {
     "name": "stderr",
     "output_type": "stream",
     "text": [
      "C:\\Users\\DELL\\anaconda3\\lib\\site-packages\\pymatreader\\utils.py:122: UserWarning: Complex objects (like classes) are not supported. They are imported on a best effort base but your mileage will vary.\n",
      "  warn('Complex objects (like classes) are not supported. '\n"
     ]
    },
    {
     "name": "stdout",
     "output_type": "stream",
     "text": [
      "Extracting parameters from C:\\Users\\DELL\\Desktop\\20credit\\EEG_eye_artifact\\wholedata\\study03_p20_prep.set...\n",
      "Not setting metadata\n",
      "46 matching events found\n",
      "No baseline correction applied\n",
      "0 projection items activated\n",
      "Ready.\n"
     ]
    },
    {
     "name": "stderr",
     "output_type": "stream",
     "text": [
      "C:\\Users\\DELL\\AppData\\Local\\Temp\\ipykernel_14424\\3542807486.py:14: RuntimeWarning: At least one epoch has multiple events. Only the latency of the first event will be retained.\n",
      "  data=mne.io.read_epochs_eeglab(srcpath)\n",
      "C:\\Users\\DELL\\AppData\\Local\\Temp\\ipykernel_14424\\3542807486.py:14: RuntimeWarning: Unknown types found, setting as type EEG:\n",
      "artifact: ['eye-art', 'eye-blink', 'eye-d', 'eye-fix', 'eye-l', 'eye-r', 'eye-u']\n",
      "eoglpf: ['HEOG_lpf', 'REOG_lpf', 'VEOG_lpf']\n",
      "label: ['artifactclasses']\n",
      "paradigm: ['block']\n",
      "state: ['label']\n",
      "  data=mne.io.read_epochs_eeglab(srcpath)\n",
      "C:\\Users\\DELL\\AppData\\Local\\Temp\\ipykernel_14424\\3542807486.py:14: RuntimeWarning: Data file name in EEG.data (ebs_prep.fdt) is incorrect, the file name must have changed on disk, using the correct file name (study03_p20_prep.fdt).\n",
      "  data=mne.io.read_epochs_eeglab(srcpath)\n",
      "C:\\Users\\DELL\\AppData\\Local\\Temp\\ipykernel_14424\\3542807486.py:14: RuntimeWarning: Not setting positions of 3 eog channels found in montage:\n",
      "['HEOG', 'VEOG', 'REOG']\n",
      "Consider setting the channel types to be of EEG/sEEG/ECoG/DBS/fNIRS using inst.set_channel_types before calling inst.set_montage, or omit these channels when creating your montage.\n",
      "  data=mne.io.read_epochs_eeglab(srcpath)\n"
     ]
    },
    {
     "name": "stdout",
     "output_type": "stream",
     "text": [
      "Setting up band-pass filter from 1 - 63 Hz\n",
      "\n",
      "FIR filter parameters\n",
      "---------------------\n",
      "Designing a one-pass, zero-phase, non-causal bandpass filter:\n",
      "- Windowed time-domain design (firwin) method\n",
      "- Hamming window with 0.0194 passband ripple and 53 dB stopband attenuation\n",
      "- Lower passband edge: 1.00\n",
      "- Lower transition bandwidth: 1.00 Hz (-6 dB cutoff frequency: 0.50 Hz)\n",
      "- Upper passband edge: 63.00 Hz\n",
      "- Upper transition bandwidth: 1.00 Hz (-6 dB cutoff frequency: 63.50 Hz)\n",
      "- Filter length: 423 samples (3.305 sec)\n",
      "\n"
     ]
    },
    {
     "name": "stderr",
     "output_type": "stream",
     "text": [
      "[Parallel(n_jobs=1)]: Using backend SequentialBackend with 1 concurrent workers.\n",
      "[Parallel(n_jobs=1)]: Done   1 out of   1 | elapsed:    0.0s remaining:    0.0s\n",
      "[Parallel(n_jobs=1)]: Done   2 out of   2 | elapsed:    0.0s remaining:    0.0s\n",
      "[Parallel(n_jobs=1)]: Done   3 out of   3 | elapsed:    0.0s remaining:    0.0s\n",
      "[Parallel(n_jobs=1)]: Done   4 out of   4 | elapsed:    0.0s remaining:    0.0s\n",
      "[Parallel(n_jobs=1)]: Done 3818 out of 3818 | elapsed:    1.6s finished\n"
     ]
    },
    {
     "name": "stdout",
     "output_type": "stream",
     "text": [
      "study03_p20_prep.set 1024 0 46 47104 (63, 1024)\n",
      "study03_p20_prep.set 1024 1024 46 47104 (63, 1024)\n",
      "study03_p20_prep.set 1024 2048 46 47104 (63, 1024)\n",
      "study03_p20_prep.set 1024 3072 46 47104 (63, 1024)\n",
      "study03_p20_prep.set 1024 4096 46 47104 (63, 1024)\n",
      "study03_p20_prep.set 1024 5120 46 47104 (63, 1024)\n",
      "study03_p20_prep.set 1024 6144 46 47104 (63, 1024)\n",
      "study03_p20_prep.set 1024 7168 46 47104 (63, 1024)\n",
      "study03_p20_prep.set 1024 8192 46 47104 (63, 1024)\n",
      "study03_p20_prep.set 1024 9216 46 47104 (63, 1024)\n",
      "study03_p20_prep.set 1024 10240 46 47104 (63, 1024)\n",
      "study03_p20_prep.set 1024 11264 46 47104 (63, 1024)\n",
      "study03_p20_prep.set 1024 12288 46 47104 (63, 1024)\n",
      "study03_p20_prep.set 1024 13312 46 47104 (63, 1024)\n",
      "study03_p20_prep.set 1024 14336 46 47104 (63, 1024)\n",
      "study03_p20_prep.set 1024 15360 46 47104 (63, 1024)\n",
      "study03_p20_prep.set 1024 16384 46 47104 (63, 1024)\n",
      "study03_p20_prep.set 1024 17408 46 47104 (63, 1024)\n",
      "study03_p20_prep.set 1024 18432 46 47104 (63, 1024)\n",
      "study03_p20_prep.set 1024 19456 46 47104 (63, 1024)\n",
      "study03_p20_prep.set 1024 20480 46 47104 (63, 1024)\n",
      "study03_p20_prep.set 1024 21504 46 47104 (63, 1024)\n",
      "study03_p20_prep.set 1024 22528 46 47104 (63, 1024)\n",
      "study03_p20_prep.set 1024 23552 46 47104 (63, 1024)\n",
      "study03_p20_prep.set 1024 24576 46 47104 (63, 1024)\n",
      "study03_p20_prep.set 1024 25600 46 47104 (63, 1024)\n",
      "study03_p20_prep.set 1024 26624 46 47104 (63, 1024)\n",
      "study03_p20_prep.set 1024 27648 46 47104 (63, 1024)\n",
      "study03_p20_prep.set 1024 28672 46 47104 (63, 1024)\n",
      "study03_p20_prep.set 1024 29696 46 47104 (63, 1024)\n",
      "study03_p20_prep.set 1024 30720 46 47104 (63, 1024)\n",
      "study03_p20_prep.set 1024 31744 46 47104 (63, 1024)\n",
      "study03_p20_prep.set 1024 32768 46 47104 (63, 1024)\n",
      "study03_p20_prep.set 1024 33792 46 47104 (63, 1024)\n",
      "study03_p20_prep.set 1024 34816 46 47104 (63, 1024)\n",
      "study03_p20_prep.set 1024 35840 46 47104 (63, 1024)\n",
      "study03_p20_prep.set 1024 36864 46 47104 (63, 1024)\n",
      "study03_p20_prep.set 1024 37888 46 47104 (63, 1024)\n",
      "study03_p20_prep.set 1024 38912 46 47104 (63, 1024)\n",
      "study03_p20_prep.set 1024 39936 46 47104 (63, 1024)\n",
      "study03_p20_prep.set 1024 40960 46 47104 (63, 1024)\n",
      "study03_p20_prep.set 1024 41984 46 47104 (63, 1024)\n",
      "study03_p20_prep.set 1024 43008 46 47104 (63, 1024)\n",
      "study03_p20_prep.set 1024 44032 46 47104 (63, 1024)\n",
      "study03_p20_prep.set 1024 45056 46 47104 (63, 1024)\n",
      "study03_p20_prep.set 1024 46080 46 47104 (63, 1024)\n"
     ]
    },
    {
     "name": "stderr",
     "output_type": "stream",
     "text": [
      "C:\\Users\\DELL\\anaconda3\\lib\\site-packages\\pymatreader\\utils.py:122: UserWarning: Complex objects (like classes) are not supported. They are imported on a best effort base but your mileage will vary.\n",
      "  warn('Complex objects (like classes) are not supported. '\n"
     ]
    },
    {
     "name": "stdout",
     "output_type": "stream",
     "text": [
      "Extracting parameters from C:\\Users\\DELL\\Desktop\\20credit\\EEG_eye_artifact\\wholedata\\study03_p21_prep.set...\n",
      "Not setting metadata\n",
      "43 matching events found\n",
      "No baseline correction applied\n",
      "0 projection items activated\n",
      "Ready.\n"
     ]
    },
    {
     "name": "stderr",
     "output_type": "stream",
     "text": [
      "C:\\Users\\DELL\\AppData\\Local\\Temp\\ipykernel_14424\\3542807486.py:14: RuntimeWarning: At least one epoch has multiple events. Only the latency of the first event will be retained.\n",
      "  data=mne.io.read_epochs_eeglab(srcpath)\n",
      "C:\\Users\\DELL\\AppData\\Local\\Temp\\ipykernel_14424\\3542807486.py:14: RuntimeWarning: Unknown types found, setting as type EEG:\n",
      "artifact: ['eye-art', 'eye-blink', 'eye-d', 'eye-fix', 'eye-l', 'eye-r', 'eye-u']\n",
      "eoglpf: ['HEOG_lpf', 'REOG_lpf', 'VEOG_lpf']\n",
      "label: ['artifactclasses']\n",
      "paradigm: ['block']\n",
      "state: ['label']\n",
      "  data=mne.io.read_epochs_eeglab(srcpath)\n",
      "C:\\Users\\DELL\\AppData\\Local\\Temp\\ipykernel_14424\\3542807486.py:14: RuntimeWarning: Data file name in EEG.data (ebs_prep.fdt) is incorrect, the file name must have changed on disk, using the correct file name (study03_p21_prep.fdt).\n",
      "  data=mne.io.read_epochs_eeglab(srcpath)\n",
      "C:\\Users\\DELL\\AppData\\Local\\Temp\\ipykernel_14424\\3542807486.py:14: RuntimeWarning: Not setting positions of 3 eog channels found in montage:\n",
      "['HEOG', 'VEOG', 'REOG']\n",
      "Consider setting the channel types to be of EEG/sEEG/ECoG/DBS/fNIRS using inst.set_channel_types before calling inst.set_montage, or omit these channels when creating your montage.\n",
      "  data=mne.io.read_epochs_eeglab(srcpath)\n"
     ]
    },
    {
     "name": "stdout",
     "output_type": "stream",
     "text": [
      "Setting up band-pass filter from 1 - 63 Hz\n",
      "\n",
      "FIR filter parameters\n",
      "---------------------\n",
      "Designing a one-pass, zero-phase, non-causal bandpass filter:\n",
      "- Windowed time-domain design (firwin) method\n",
      "- Hamming window with 0.0194 passband ripple and 53 dB stopband attenuation\n",
      "- Lower passband edge: 1.00\n",
      "- Lower transition bandwidth: 1.00 Hz (-6 dB cutoff frequency: 0.50 Hz)\n",
      "- Upper passband edge: 63.00 Hz\n",
      "- Upper transition bandwidth: 1.00 Hz (-6 dB cutoff frequency: 63.50 Hz)\n",
      "- Filter length: 423 samples (3.305 sec)\n",
      "\n"
     ]
    },
    {
     "name": "stderr",
     "output_type": "stream",
     "text": [
      "[Parallel(n_jobs=1)]: Using backend SequentialBackend with 1 concurrent workers.\n",
      "[Parallel(n_jobs=1)]: Done   1 out of   1 | elapsed:    0.0s remaining:    0.0s\n",
      "[Parallel(n_jobs=1)]: Done   2 out of   2 | elapsed:    0.0s remaining:    0.0s\n",
      "[Parallel(n_jobs=1)]: Done   3 out of   3 | elapsed:    0.0s remaining:    0.0s\n",
      "[Parallel(n_jobs=1)]: Done   4 out of   4 | elapsed:    0.0s remaining:    0.0s\n",
      "[Parallel(n_jobs=1)]: Done 3569 out of 3569 | elapsed:    1.5s finished\n"
     ]
    },
    {
     "name": "stdout",
     "output_type": "stream",
     "text": [
      "study03_p21_prep.set 1024 0 43 44032 (63, 1024)\n",
      "study03_p21_prep.set 1024 1024 43 44032 (63, 1024)\n",
      "study03_p21_prep.set 1024 2048 43 44032 (63, 1024)\n",
      "study03_p21_prep.set 1024 3072 43 44032 (63, 1024)\n",
      "study03_p21_prep.set 1024 4096 43 44032 (63, 1024)\n",
      "study03_p21_prep.set 1024 5120 43 44032 (63, 1024)\n",
      "study03_p21_prep.set 1024 6144 43 44032 (63, 1024)\n",
      "study03_p21_prep.set 1024 7168 43 44032 (63, 1024)\n",
      "study03_p21_prep.set 1024 8192 43 44032 (63, 1024)\n",
      "study03_p21_prep.set 1024 9216 43 44032 (63, 1024)\n",
      "study03_p21_prep.set 1024 10240 43 44032 (63, 1024)\n",
      "study03_p21_prep.set 1024 11264 43 44032 (63, 1024)\n",
      "study03_p21_prep.set 1024 12288 43 44032 (63, 1024)\n",
      "study03_p21_prep.set 1024 13312 43 44032 (63, 1024)\n",
      "study03_p21_prep.set 1024 14336 43 44032 (63, 1024)\n",
      "study03_p21_prep.set 1024 15360 43 44032 (63, 1024)\n",
      "study03_p21_prep.set 1024 16384 43 44032 (63, 1024)\n",
      "study03_p21_prep.set 1024 17408 43 44032 (63, 1024)\n",
      "study03_p21_prep.set 1024 18432 43 44032 (63, 1024)\n",
      "study03_p21_prep.set 1024 19456 43 44032 (63, 1024)\n",
      "study03_p21_prep.set 1024 20480 43 44032 (63, 1024)\n",
      "study03_p21_prep.set 1024 21504 43 44032 (63, 1024)\n",
      "study03_p21_prep.set 1024 22528 43 44032 (63, 1024)\n",
      "study03_p21_prep.set 1024 23552 43 44032 (63, 1024)\n",
      "study03_p21_prep.set 1024 24576 43 44032 (63, 1024)\n",
      "study03_p21_prep.set 1024 25600 43 44032 (63, 1024)\n",
      "study03_p21_prep.set 1024 26624 43 44032 (63, 1024)\n",
      "study03_p21_prep.set 1024 27648 43 44032 (63, 1024)\n",
      "study03_p21_prep.set 1024 28672 43 44032 (63, 1024)\n",
      "study03_p21_prep.set 1024 29696 43 44032 (63, 1024)\n",
      "study03_p21_prep.set 1024 30720 43 44032 (63, 1024)\n",
      "study03_p21_prep.set 1024 31744 43 44032 (63, 1024)\n",
      "study03_p21_prep.set 1024 32768 43 44032 (63, 1024)\n",
      "study03_p21_prep.set 1024 33792 43 44032 (63, 1024)\n",
      "study03_p21_prep.set 1024 34816 43 44032 (63, 1024)\n",
      "study03_p21_prep.set 1024 35840 43 44032 (63, 1024)\n",
      "study03_p21_prep.set 1024 36864 43 44032 (63, 1024)\n",
      "study03_p21_prep.set 1024 37888 43 44032 (63, 1024)\n",
      "study03_p21_prep.set 1024 38912 43 44032 (63, 1024)\n",
      "study03_p21_prep.set 1024 39936 43 44032 (63, 1024)\n",
      "study03_p21_prep.set 1024 40960 43 44032 (63, 1024)\n",
      "study03_p21_prep.set 1024 41984 43 44032 (63, 1024)\n",
      "study03_p21_prep.set 1024 43008 43 44032 (63, 1024)\n"
     ]
    },
    {
     "name": "stderr",
     "output_type": "stream",
     "text": [
      "C:\\Users\\DELL\\anaconda3\\lib\\site-packages\\pymatreader\\utils.py:122: UserWarning: Complex objects (like classes) are not supported. They are imported on a best effort base but your mileage will vary.\n",
      "  warn('Complex objects (like classes) are not supported. '\n"
     ]
    },
    {
     "name": "stdout",
     "output_type": "stream",
     "text": [
      "Extracting parameters from C:\\Users\\DELL\\Desktop\\20credit\\EEG_eye_artifact\\wholedata\\study03_p22_prep.set...\n",
      "Not setting metadata\n",
      "40 matching events found\n",
      "No baseline correction applied\n",
      "0 projection items activated\n",
      "Ready.\n"
     ]
    },
    {
     "name": "stderr",
     "output_type": "stream",
     "text": [
      "C:\\Users\\DELL\\AppData\\Local\\Temp\\ipykernel_14424\\3542807486.py:14: RuntimeWarning: At least one epoch has multiple events. Only the latency of the first event will be retained.\n",
      "  data=mne.io.read_epochs_eeglab(srcpath)\n",
      "C:\\Users\\DELL\\AppData\\Local\\Temp\\ipykernel_14424\\3542807486.py:14: RuntimeWarning: Unknown types found, setting as type EEG:\n",
      "artifact: ['eye-art', 'eye-blink', 'eye-d', 'eye-fix', 'eye-l', 'eye-r', 'eye-u']\n",
      "eoglpf: ['HEOG_lpf', 'REOG_lpf', 'VEOG_lpf']\n",
      "label: ['artifactclasses']\n",
      "paradigm: ['block']\n",
      "state: ['label']\n",
      "  data=mne.io.read_epochs_eeglab(srcpath)\n",
      "C:\\Users\\DELL\\AppData\\Local\\Temp\\ipykernel_14424\\3542807486.py:14: RuntimeWarning: Data file name in EEG.data (ebs_prep.fdt) is incorrect, the file name must have changed on disk, using the correct file name (study03_p22_prep.fdt).\n",
      "  data=mne.io.read_epochs_eeglab(srcpath)\n",
      "C:\\Users\\DELL\\AppData\\Local\\Temp\\ipykernel_14424\\3542807486.py:14: RuntimeWarning: Not setting positions of 3 eog channels found in montage:\n",
      "['HEOG', 'VEOG', 'REOG']\n",
      "Consider setting the channel types to be of EEG/sEEG/ECoG/DBS/fNIRS using inst.set_channel_types before calling inst.set_montage, or omit these channels when creating your montage.\n",
      "  data=mne.io.read_epochs_eeglab(srcpath)\n"
     ]
    },
    {
     "name": "stdout",
     "output_type": "stream",
     "text": [
      "Setting up band-pass filter from 1 - 63 Hz\n",
      "\n",
      "FIR filter parameters\n",
      "---------------------\n",
      "Designing a one-pass, zero-phase, non-causal bandpass filter:\n",
      "- Windowed time-domain design (firwin) method\n",
      "- Hamming window with 0.0194 passband ripple and 53 dB stopband attenuation\n",
      "- Lower passband edge: 1.00\n",
      "- Lower transition bandwidth: 1.00 Hz (-6 dB cutoff frequency: 0.50 Hz)\n",
      "- Upper passband edge: 63.00 Hz\n",
      "- Upper transition bandwidth: 1.00 Hz (-6 dB cutoff frequency: 63.50 Hz)\n",
      "- Filter length: 423 samples (3.305 sec)\n",
      "\n"
     ]
    },
    {
     "name": "stderr",
     "output_type": "stream",
     "text": [
      "[Parallel(n_jobs=1)]: Using backend SequentialBackend with 1 concurrent workers.\n",
      "[Parallel(n_jobs=1)]: Done   1 out of   1 | elapsed:    0.0s remaining:    0.0s\n",
      "[Parallel(n_jobs=1)]: Done   2 out of   2 | elapsed:    0.0s remaining:    0.0s\n",
      "[Parallel(n_jobs=1)]: Done   3 out of   3 | elapsed:    0.0s remaining:    0.0s\n",
      "[Parallel(n_jobs=1)]: Done   4 out of   4 | elapsed:    0.0s remaining:    0.0s\n",
      "[Parallel(n_jobs=1)]: Done 3320 out of 3320 | elapsed:    1.4s finished\n"
     ]
    },
    {
     "name": "stdout",
     "output_type": "stream",
     "text": [
      "study03_p22_prep.set 1024 0 40 40960 (63, 1024)\n",
      "study03_p22_prep.set 1024 1024 40 40960 (63, 1024)\n",
      "study03_p22_prep.set 1024 2048 40 40960 (63, 1024)\n",
      "study03_p22_prep.set 1024 3072 40 40960 (63, 1024)\n",
      "study03_p22_prep.set 1024 4096 40 40960 (63, 1024)\n",
      "study03_p22_prep.set 1024 5120 40 40960 (63, 1024)\n",
      "study03_p22_prep.set 1024 6144 40 40960 (63, 1024)\n",
      "study03_p22_prep.set 1024 7168 40 40960 (63, 1024)\n",
      "study03_p22_prep.set 1024 8192 40 40960 (63, 1024)\n",
      "study03_p22_prep.set 1024 9216 40 40960 (63, 1024)\n",
      "study03_p22_prep.set 1024 10240 40 40960 (63, 1024)\n",
      "study03_p22_prep.set 1024 11264 40 40960 (63, 1024)\n",
      "study03_p22_prep.set 1024 12288 40 40960 (63, 1024)\n",
      "study03_p22_prep.set 1024 13312 40 40960 (63, 1024)\n",
      "study03_p22_prep.set 1024 14336 40 40960 (63, 1024)\n",
      "study03_p22_prep.set 1024 15360 40 40960 (63, 1024)\n",
      "study03_p22_prep.set 1024 16384 40 40960 (63, 1024)\n",
      "study03_p22_prep.set 1024 17408 40 40960 (63, 1024)\n",
      "study03_p22_prep.set 1024 18432 40 40960 (63, 1024)\n",
      "study03_p22_prep.set 1024 19456 40 40960 (63, 1024)\n",
      "study03_p22_prep.set 1024 20480 40 40960 (63, 1024)\n",
      "study03_p22_prep.set 1024 21504 40 40960 (63, 1024)\n",
      "study03_p22_prep.set 1024 22528 40 40960 (63, 1024)\n",
      "study03_p22_prep.set 1024 23552 40 40960 (63, 1024)\n",
      "study03_p22_prep.set 1024 24576 40 40960 (63, 1024)\n",
      "study03_p22_prep.set 1024 25600 40 40960 (63, 1024)\n",
      "study03_p22_prep.set 1024 26624 40 40960 (63, 1024)\n",
      "study03_p22_prep.set 1024 27648 40 40960 (63, 1024)\n",
      "study03_p22_prep.set 1024 28672 40 40960 (63, 1024)\n",
      "study03_p22_prep.set 1024 29696 40 40960 (63, 1024)\n",
      "study03_p22_prep.set 1024 30720 40 40960 (63, 1024)\n",
      "study03_p22_prep.set 1024 31744 40 40960 (63, 1024)\n",
      "study03_p22_prep.set 1024 32768 40 40960 (63, 1024)\n",
      "study03_p22_prep.set 1024 33792 40 40960 (63, 1024)\n",
      "study03_p22_prep.set 1024 34816 40 40960 (63, 1024)\n",
      "study03_p22_prep.set 1024 35840 40 40960 (63, 1024)\n",
      "study03_p22_prep.set 1024 36864 40 40960 (63, 1024)\n",
      "study03_p22_prep.set 1024 37888 40 40960 (63, 1024)\n",
      "study03_p22_prep.set 1024 38912 40 40960 (63, 1024)\n",
      "study03_p22_prep.set 1024 39936 40 40960 (63, 1024)\n"
     ]
    },
    {
     "name": "stderr",
     "output_type": "stream",
     "text": [
      "C:\\Users\\DELL\\anaconda3\\lib\\site-packages\\pymatreader\\utils.py:122: UserWarning: Complex objects (like classes) are not supported. They are imported on a best effort base but your mileage will vary.\n",
      "  warn('Complex objects (like classes) are not supported. '\n"
     ]
    },
    {
     "name": "stdout",
     "output_type": "stream",
     "text": [
      "Extracting parameters from C:\\Users\\DELL\\Desktop\\20credit\\EEG_eye_artifact\\wholedata\\study03_p23_prep.set...\n",
      "Not setting metadata\n",
      "34 matching events found\n",
      "No baseline correction applied\n",
      "0 projection items activated\n",
      "Ready.\n"
     ]
    },
    {
     "name": "stderr",
     "output_type": "stream",
     "text": [
      "C:\\Users\\DELL\\AppData\\Local\\Temp\\ipykernel_14424\\3542807486.py:14: RuntimeWarning: At least one epoch has multiple events. Only the latency of the first event will be retained.\n",
      "  data=mne.io.read_epochs_eeglab(srcpath)\n",
      "C:\\Users\\DELL\\AppData\\Local\\Temp\\ipykernel_14424\\3542807486.py:14: RuntimeWarning: Unknown types found, setting as type EEG:\n",
      "artifact: ['eye-art', 'eye-blink', 'eye-d', 'eye-fix', 'eye-l', 'eye-r', 'eye-u']\n",
      "eoglpf: ['HEOG_lpf', 'REOG_lpf', 'VEOG_lpf']\n",
      "label: ['artifactclasses']\n",
      "paradigm: ['block']\n",
      "state: ['label']\n",
      "  data=mne.io.read_epochs_eeglab(srcpath)\n",
      "C:\\Users\\DELL\\AppData\\Local\\Temp\\ipykernel_14424\\3542807486.py:14: RuntimeWarning: Data file name in EEG.data (ebs_prep.fdt) is incorrect, the file name must have changed on disk, using the correct file name (study03_p23_prep.fdt).\n",
      "  data=mne.io.read_epochs_eeglab(srcpath)\n",
      "C:\\Users\\DELL\\AppData\\Local\\Temp\\ipykernel_14424\\3542807486.py:14: RuntimeWarning: Not setting positions of 3 eog channels found in montage:\n",
      "['HEOG', 'VEOG', 'REOG']\n",
      "Consider setting the channel types to be of EEG/sEEG/ECoG/DBS/fNIRS using inst.set_channel_types before calling inst.set_montage, or omit these channels when creating your montage.\n",
      "  data=mne.io.read_epochs_eeglab(srcpath)\n"
     ]
    },
    {
     "name": "stdout",
     "output_type": "stream",
     "text": [
      "Setting up band-pass filter from 1 - 63 Hz\n",
      "\n",
      "FIR filter parameters\n",
      "---------------------\n",
      "Designing a one-pass, zero-phase, non-causal bandpass filter:\n",
      "- Windowed time-domain design (firwin) method\n",
      "- Hamming window with 0.0194 passband ripple and 53 dB stopband attenuation\n",
      "- Lower passband edge: 1.00\n",
      "- Lower transition bandwidth: 1.00 Hz (-6 dB cutoff frequency: 0.50 Hz)\n",
      "- Upper passband edge: 63.00 Hz\n",
      "- Upper transition bandwidth: 1.00 Hz (-6 dB cutoff frequency: 63.50 Hz)\n",
      "- Filter length: 423 samples (3.305 sec)\n",
      "\n"
     ]
    },
    {
     "name": "stderr",
     "output_type": "stream",
     "text": [
      "[Parallel(n_jobs=1)]: Using backend SequentialBackend with 1 concurrent workers.\n",
      "[Parallel(n_jobs=1)]: Done   1 out of   1 | elapsed:    0.0s remaining:    0.0s\n",
      "[Parallel(n_jobs=1)]: Done   2 out of   2 | elapsed:    0.0s remaining:    0.0s\n",
      "[Parallel(n_jobs=1)]: Done   3 out of   3 | elapsed:    0.0s remaining:    0.0s\n",
      "[Parallel(n_jobs=1)]: Done   4 out of   4 | elapsed:    0.0s remaining:    0.0s\n",
      "[Parallel(n_jobs=1)]: Done 2822 out of 2822 | elapsed:    1.2s finished\n"
     ]
    },
    {
     "name": "stdout",
     "output_type": "stream",
     "text": [
      "study03_p23_prep.set 1024 0 34 34816 (63, 1024)\n",
      "study03_p23_prep.set 1024 1024 34 34816 (63, 1024)\n",
      "study03_p23_prep.set 1024 2048 34 34816 (63, 1024)\n",
      "study03_p23_prep.set 1024 3072 34 34816 (63, 1024)\n",
      "study03_p23_prep.set 1024 4096 34 34816 (63, 1024)\n",
      "study03_p23_prep.set 1024 5120 34 34816 (63, 1024)\n",
      "study03_p23_prep.set 1024 6144 34 34816 (63, 1024)\n",
      "study03_p23_prep.set 1024 7168 34 34816 (63, 1024)\n",
      "study03_p23_prep.set 1024 8192 34 34816 (63, 1024)\n",
      "study03_p23_prep.set 1024 9216 34 34816 (63, 1024)\n",
      "study03_p23_prep.set 1024 10240 34 34816 (63, 1024)\n",
      "study03_p23_prep.set 1024 11264 34 34816 (63, 1024)\n",
      "study03_p23_prep.set 1024 12288 34 34816 (63, 1024)\n",
      "study03_p23_prep.set 1024 13312 34 34816 (63, 1024)\n",
      "study03_p23_prep.set 1024 14336 34 34816 (63, 1024)\n",
      "study03_p23_prep.set 1024 15360 34 34816 (63, 1024)\n",
      "study03_p23_prep.set 1024 16384 34 34816 (63, 1024)\n",
      "study03_p23_prep.set 1024 17408 34 34816 (63, 1024)\n",
      "study03_p23_prep.set 1024 18432 34 34816 (63, 1024)\n",
      "study03_p23_prep.set 1024 19456 34 34816 (63, 1024)\n",
      "study03_p23_prep.set 1024 20480 34 34816 (63, 1024)\n",
      "study03_p23_prep.set 1024 21504 34 34816 (63, 1024)\n",
      "study03_p23_prep.set 1024 22528 34 34816 (63, 1024)\n",
      "study03_p23_prep.set 1024 23552 34 34816 (63, 1024)\n",
      "study03_p23_prep.set 1024 24576 34 34816 (63, 1024)\n",
      "study03_p23_prep.set 1024 25600 34 34816 (63, 1024)\n",
      "study03_p23_prep.set 1024 26624 34 34816 (63, 1024)\n",
      "study03_p23_prep.set 1024 27648 34 34816 (63, 1024)\n",
      "study03_p23_prep.set 1024 28672 34 34816 (63, 1024)\n",
      "study03_p23_prep.set 1024 29696 34 34816 (63, 1024)\n",
      "study03_p23_prep.set 1024 30720 34 34816 (63, 1024)\n",
      "study03_p23_prep.set 1024 31744 34 34816 (63, 1024)\n",
      "study03_p23_prep.set 1024 32768 34 34816 (63, 1024)\n",
      "study03_p23_prep.set 1024 33792 34 34816 (63, 1024)\n"
     ]
    },
    {
     "name": "stderr",
     "output_type": "stream",
     "text": [
      "C:\\Users\\DELL\\anaconda3\\lib\\site-packages\\pymatreader\\utils.py:122: UserWarning: Complex objects (like classes) are not supported. They are imported on a best effort base but your mileage will vary.\n",
      "  warn('Complex objects (like classes) are not supported. '\n"
     ]
    },
    {
     "name": "stdout",
     "output_type": "stream",
     "text": [
      "Extracting parameters from C:\\Users\\DELL\\Desktop\\20credit\\EEG_eye_artifact\\wholedata\\study03_p24_prep.set...\n",
      "Not setting metadata\n",
      "41 matching events found\n",
      "No baseline correction applied\n",
      "0 projection items activated\n",
      "Ready.\n"
     ]
    },
    {
     "name": "stderr",
     "output_type": "stream",
     "text": [
      "C:\\Users\\DELL\\AppData\\Local\\Temp\\ipykernel_14424\\3542807486.py:14: RuntimeWarning: At least one epoch has multiple events. Only the latency of the first event will be retained.\n",
      "  data=mne.io.read_epochs_eeglab(srcpath)\n",
      "C:\\Users\\DELL\\AppData\\Local\\Temp\\ipykernel_14424\\3542807486.py:14: RuntimeWarning: Unknown types found, setting as type EEG:\n",
      "artifact: ['eye-art', 'eye-blink', 'eye-d', 'eye-fix', 'eye-l', 'eye-r', 'eye-u']\n",
      "eoglpf: ['HEOG_lpf', 'REOG_lpf', 'VEOG_lpf']\n",
      "label: ['artifactclasses']\n",
      "paradigm: ['block']\n",
      "state: ['label']\n",
      "  data=mne.io.read_epochs_eeglab(srcpath)\n",
      "C:\\Users\\DELL\\AppData\\Local\\Temp\\ipykernel_14424\\3542807486.py:14: RuntimeWarning: Data file name in EEG.data (ebs_prep.fdt) is incorrect, the file name must have changed on disk, using the correct file name (study03_p24_prep.fdt).\n",
      "  data=mne.io.read_epochs_eeglab(srcpath)\n",
      "C:\\Users\\DELL\\AppData\\Local\\Temp\\ipykernel_14424\\3542807486.py:14: RuntimeWarning: Not setting positions of 3 eog channels found in montage:\n",
      "['HEOG', 'VEOG', 'REOG']\n",
      "Consider setting the channel types to be of EEG/sEEG/ECoG/DBS/fNIRS using inst.set_channel_types before calling inst.set_montage, or omit these channels when creating your montage.\n",
      "  data=mne.io.read_epochs_eeglab(srcpath)\n"
     ]
    },
    {
     "name": "stdout",
     "output_type": "stream",
     "text": [
      "Setting up band-pass filter from 1 - 63 Hz\n",
      "\n",
      "FIR filter parameters\n",
      "---------------------\n",
      "Designing a one-pass, zero-phase, non-causal bandpass filter:\n",
      "- Windowed time-domain design (firwin) method\n",
      "- Hamming window with 0.0194 passband ripple and 53 dB stopband attenuation\n",
      "- Lower passband edge: 1.00\n",
      "- Lower transition bandwidth: 1.00 Hz (-6 dB cutoff frequency: 0.50 Hz)\n",
      "- Upper passband edge: 63.00 Hz\n",
      "- Upper transition bandwidth: 1.00 Hz (-6 dB cutoff frequency: 63.50 Hz)\n",
      "- Filter length: 423 samples (3.305 sec)\n",
      "\n"
     ]
    },
    {
     "name": "stderr",
     "output_type": "stream",
     "text": [
      "[Parallel(n_jobs=1)]: Using backend SequentialBackend with 1 concurrent workers.\n",
      "[Parallel(n_jobs=1)]: Done   1 out of   1 | elapsed:    0.0s remaining:    0.0s\n",
      "[Parallel(n_jobs=1)]: Done   2 out of   2 | elapsed:    0.0s remaining:    0.0s\n",
      "[Parallel(n_jobs=1)]: Done   3 out of   3 | elapsed:    0.0s remaining:    0.0s\n",
      "[Parallel(n_jobs=1)]: Done   4 out of   4 | elapsed:    0.0s remaining:    0.0s\n",
      "[Parallel(n_jobs=1)]: Done 3403 out of 3403 | elapsed:    1.5s finished\n"
     ]
    },
    {
     "name": "stdout",
     "output_type": "stream",
     "text": [
      "study03_p24_prep.set 1024 0 41 41984 (63, 1024)\n",
      "study03_p24_prep.set 1024 1024 41 41984 (63, 1024)\n",
      "study03_p24_prep.set 1024 2048 41 41984 (63, 1024)\n",
      "study03_p24_prep.set 1024 3072 41 41984 (63, 1024)\n",
      "study03_p24_prep.set 1024 4096 41 41984 (63, 1024)\n",
      "study03_p24_prep.set 1024 5120 41 41984 (63, 1024)\n",
      "study03_p24_prep.set 1024 6144 41 41984 (63, 1024)\n",
      "study03_p24_prep.set 1024 7168 41 41984 (63, 1024)\n",
      "study03_p24_prep.set 1024 8192 41 41984 (63, 1024)\n",
      "study03_p24_prep.set 1024 9216 41 41984 (63, 1024)\n",
      "study03_p24_prep.set 1024 10240 41 41984 (63, 1024)\n",
      "study03_p24_prep.set 1024 11264 41 41984 (63, 1024)\n",
      "study03_p24_prep.set 1024 12288 41 41984 (63, 1024)\n",
      "study03_p24_prep.set 1024 13312 41 41984 (63, 1024)\n",
      "study03_p24_prep.set 1024 14336 41 41984 (63, 1024)\n",
      "study03_p24_prep.set 1024 15360 41 41984 (63, 1024)\n",
      "study03_p24_prep.set 1024 16384 41 41984 (63, 1024)\n",
      "study03_p24_prep.set 1024 17408 41 41984 (63, 1024)\n",
      "study03_p24_prep.set 1024 18432 41 41984 (63, 1024)\n",
      "study03_p24_prep.set 1024 19456 41 41984 (63, 1024)\n",
      "study03_p24_prep.set 1024 20480 41 41984 (63, 1024)\n",
      "study03_p24_prep.set 1024 21504 41 41984 (63, 1024)\n",
      "study03_p24_prep.set 1024 22528 41 41984 (63, 1024)\n",
      "study03_p24_prep.set 1024 23552 41 41984 (63, 1024)\n",
      "study03_p24_prep.set 1024 24576 41 41984 (63, 1024)\n",
      "study03_p24_prep.set 1024 25600 41 41984 (63, 1024)\n",
      "study03_p24_prep.set 1024 26624 41 41984 (63, 1024)\n",
      "study03_p24_prep.set 1024 27648 41 41984 (63, 1024)\n",
      "study03_p24_prep.set 1024 28672 41 41984 (63, 1024)\n",
      "study03_p24_prep.set 1024 29696 41 41984 (63, 1024)\n",
      "study03_p24_prep.set 1024 30720 41 41984 (63, 1024)\n",
      "study03_p24_prep.set 1024 31744 41 41984 (63, 1024)\n",
      "study03_p24_prep.set 1024 32768 41 41984 (63, 1024)\n",
      "study03_p24_prep.set 1024 33792 41 41984 (63, 1024)\n",
      "study03_p24_prep.set 1024 34816 41 41984 (63, 1024)\n",
      "study03_p24_prep.set 1024 35840 41 41984 (63, 1024)\n",
      "study03_p24_prep.set 1024 36864 41 41984 (63, 1024)\n",
      "study03_p24_prep.set 1024 37888 41 41984 (63, 1024)\n",
      "study03_p24_prep.set 1024 38912 41 41984 (63, 1024)\n",
      "study03_p24_prep.set 1024 39936 41 41984 (63, 1024)\n",
      "study03_p24_prep.set 1024 40960 41 41984 (63, 1024)\n"
     ]
    },
    {
     "name": "stderr",
     "output_type": "stream",
     "text": [
      "C:\\Users\\DELL\\anaconda3\\lib\\site-packages\\pymatreader\\utils.py:122: UserWarning: Complex objects (like classes) are not supported. They are imported on a best effort base but your mileage will vary.\n",
      "  warn('Complex objects (like classes) are not supported. '\n"
     ]
    },
    {
     "name": "stdout",
     "output_type": "stream",
     "text": [
      "Extracting parameters from C:\\Users\\DELL\\Desktop\\20credit\\EEG_eye_artifact\\wholedata\\study03_p25_prep.set...\n",
      "Not setting metadata\n",
      "40 matching events found\n",
      "No baseline correction applied\n",
      "0 projection items activated\n",
      "Ready.\n"
     ]
    },
    {
     "name": "stderr",
     "output_type": "stream",
     "text": [
      "C:\\Users\\DELL\\AppData\\Local\\Temp\\ipykernel_14424\\3542807486.py:14: RuntimeWarning: At least one epoch has multiple events. Only the latency of the first event will be retained.\n",
      "  data=mne.io.read_epochs_eeglab(srcpath)\n",
      "C:\\Users\\DELL\\AppData\\Local\\Temp\\ipykernel_14424\\3542807486.py:14: RuntimeWarning: Unknown types found, setting as type EEG:\n",
      "artifact: ['eye-art', 'eye-blink', 'eye-d', 'eye-fix', 'eye-l', 'eye-r', 'eye-u']\n",
      "eoglpf: ['HEOG_lpf', 'REOG_lpf', 'VEOG_lpf']\n",
      "label: ['artifactclasses']\n",
      "paradigm: ['block']\n",
      "state: ['label']\n",
      "  data=mne.io.read_epochs_eeglab(srcpath)\n",
      "C:\\Users\\DELL\\AppData\\Local\\Temp\\ipykernel_14424\\3542807486.py:14: RuntimeWarning: Data file name in EEG.data (ebs_prep.fdt) is incorrect, the file name must have changed on disk, using the correct file name (study03_p25_prep.fdt).\n",
      "  data=mne.io.read_epochs_eeglab(srcpath)\n",
      "C:\\Users\\DELL\\AppData\\Local\\Temp\\ipykernel_14424\\3542807486.py:14: RuntimeWarning: Not setting positions of 3 eog channels found in montage:\n",
      "['HEOG', 'VEOG', 'REOG']\n",
      "Consider setting the channel types to be of EEG/sEEG/ECoG/DBS/fNIRS using inst.set_channel_types before calling inst.set_montage, or omit these channels when creating your montage.\n",
      "  data=mne.io.read_epochs_eeglab(srcpath)\n"
     ]
    },
    {
     "name": "stdout",
     "output_type": "stream",
     "text": [
      "Setting up band-pass filter from 1 - 63 Hz\n",
      "\n",
      "FIR filter parameters\n",
      "---------------------\n",
      "Designing a one-pass, zero-phase, non-causal bandpass filter:\n",
      "- Windowed time-domain design (firwin) method\n",
      "- Hamming window with 0.0194 passband ripple and 53 dB stopband attenuation\n",
      "- Lower passband edge: 1.00\n",
      "- Lower transition bandwidth: 1.00 Hz (-6 dB cutoff frequency: 0.50 Hz)\n",
      "- Upper passband edge: 63.00 Hz\n",
      "- Upper transition bandwidth: 1.00 Hz (-6 dB cutoff frequency: 63.50 Hz)\n",
      "- Filter length: 423 samples (3.305 sec)\n",
      "\n"
     ]
    },
    {
     "name": "stderr",
     "output_type": "stream",
     "text": [
      "[Parallel(n_jobs=1)]: Using backend SequentialBackend with 1 concurrent workers.\n",
      "[Parallel(n_jobs=1)]: Done   1 out of   1 | elapsed:    0.0s remaining:    0.0s\n",
      "[Parallel(n_jobs=1)]: Done   2 out of   2 | elapsed:    0.0s remaining:    0.0s\n",
      "[Parallel(n_jobs=1)]: Done   3 out of   3 | elapsed:    0.0s remaining:    0.0s\n",
      "[Parallel(n_jobs=1)]: Done   4 out of   4 | elapsed:    0.0s remaining:    0.0s\n",
      "[Parallel(n_jobs=1)]: Done 3320 out of 3320 | elapsed:    1.4s finished\n"
     ]
    },
    {
     "name": "stdout",
     "output_type": "stream",
     "text": [
      "study03_p25_prep.set 1024 0 40 40960 (63, 1024)\n",
      "study03_p25_prep.set 1024 1024 40 40960 (63, 1024)\n",
      "study03_p25_prep.set 1024 2048 40 40960 (63, 1024)\n",
      "study03_p25_prep.set 1024 3072 40 40960 (63, 1024)\n",
      "study03_p25_prep.set 1024 4096 40 40960 (63, 1024)\n",
      "study03_p25_prep.set 1024 5120 40 40960 (63, 1024)\n",
      "study03_p25_prep.set 1024 6144 40 40960 (63, 1024)\n",
      "study03_p25_prep.set 1024 7168 40 40960 (63, 1024)\n",
      "study03_p25_prep.set 1024 8192 40 40960 (63, 1024)\n",
      "study03_p25_prep.set 1024 9216 40 40960 (63, 1024)\n",
      "study03_p25_prep.set 1024 10240 40 40960 (63, 1024)\n",
      "study03_p25_prep.set 1024 11264 40 40960 (63, 1024)\n",
      "study03_p25_prep.set 1024 12288 40 40960 (63, 1024)\n",
      "study03_p25_prep.set 1024 13312 40 40960 (63, 1024)\n",
      "study03_p25_prep.set 1024 14336 40 40960 (63, 1024)\n",
      "study03_p25_prep.set 1024 15360 40 40960 (63, 1024)\n",
      "study03_p25_prep.set 1024 16384 40 40960 (63, 1024)\n",
      "study03_p25_prep.set 1024 17408 40 40960 (63, 1024)\n",
      "study03_p25_prep.set 1024 18432 40 40960 (63, 1024)\n",
      "study03_p25_prep.set 1024 19456 40 40960 (63, 1024)\n",
      "study03_p25_prep.set 1024 20480 40 40960 (63, 1024)\n",
      "study03_p25_prep.set 1024 21504 40 40960 (63, 1024)\n",
      "study03_p25_prep.set 1024 22528 40 40960 (63, 1024)\n",
      "study03_p25_prep.set 1024 23552 40 40960 (63, 1024)\n",
      "study03_p25_prep.set 1024 24576 40 40960 (63, 1024)\n",
      "study03_p25_prep.set 1024 25600 40 40960 (63, 1024)\n",
      "study03_p25_prep.set 1024 26624 40 40960 (63, 1024)\n",
      "study03_p25_prep.set 1024 27648 40 40960 (63, 1024)\n",
      "study03_p25_prep.set 1024 28672 40 40960 (63, 1024)\n",
      "study03_p25_prep.set 1024 29696 40 40960 (63, 1024)\n",
      "study03_p25_prep.set 1024 30720 40 40960 (63, 1024)\n",
      "study03_p25_prep.set 1024 31744 40 40960 (63, 1024)\n",
      "study03_p25_prep.set 1024 32768 40 40960 (63, 1024)\n",
      "study03_p25_prep.set 1024 33792 40 40960 (63, 1024)\n",
      "study03_p25_prep.set 1024 34816 40 40960 (63, 1024)\n",
      "study03_p25_prep.set 1024 35840 40 40960 (63, 1024)\n",
      "study03_p25_prep.set 1024 36864 40 40960 (63, 1024)\n",
      "study03_p25_prep.set 1024 37888 40 40960 (63, 1024)\n",
      "study03_p25_prep.set 1024 38912 40 40960 (63, 1024)\n",
      "study03_p25_prep.set 1024 39936 40 40960 (63, 1024)\n"
     ]
    },
    {
     "name": "stderr",
     "output_type": "stream",
     "text": [
      "C:\\Users\\DELL\\anaconda3\\lib\\site-packages\\pymatreader\\utils.py:122: UserWarning: Complex objects (like classes) are not supported. They are imported on a best effort base but your mileage will vary.\n",
      "  warn('Complex objects (like classes) are not supported. '\n"
     ]
    },
    {
     "name": "stdout",
     "output_type": "stream",
     "text": [
      "Extracting parameters from C:\\Users\\DELL\\Desktop\\20credit\\EEG_eye_artifact\\wholedata\\study03_p26_prep.set...\n",
      "Not setting metadata\n",
      "42 matching events found\n",
      "No baseline correction applied\n",
      "0 projection items activated\n",
      "Ready.\n"
     ]
    },
    {
     "name": "stderr",
     "output_type": "stream",
     "text": [
      "C:\\Users\\DELL\\AppData\\Local\\Temp\\ipykernel_14424\\3542807486.py:14: RuntimeWarning: At least one epoch has multiple events. Only the latency of the first event will be retained.\n",
      "  data=mne.io.read_epochs_eeglab(srcpath)\n",
      "C:\\Users\\DELL\\AppData\\Local\\Temp\\ipykernel_14424\\3542807486.py:14: RuntimeWarning: Unknown types found, setting as type EEG:\n",
      "artifact: ['eye-art', 'eye-blink', 'eye-d', 'eye-fix', 'eye-l', 'eye-r', 'eye-u']\n",
      "eoglpf: ['HEOG_lpf', 'REOG_lpf', 'VEOG_lpf']\n",
      "label: ['artifactclasses']\n",
      "paradigm: ['block']\n",
      "state: ['label']\n",
      "  data=mne.io.read_epochs_eeglab(srcpath)\n",
      "C:\\Users\\DELL\\AppData\\Local\\Temp\\ipykernel_14424\\3542807486.py:14: RuntimeWarning: Data file name in EEG.data (ebs_prep.fdt) is incorrect, the file name must have changed on disk, using the correct file name (study03_p26_prep.fdt).\n",
      "  data=mne.io.read_epochs_eeglab(srcpath)\n",
      "C:\\Users\\DELL\\AppData\\Local\\Temp\\ipykernel_14424\\3542807486.py:14: RuntimeWarning: Not setting positions of 3 eog channels found in montage:\n",
      "['HEOG', 'VEOG', 'REOG']\n",
      "Consider setting the channel types to be of EEG/sEEG/ECoG/DBS/fNIRS using inst.set_channel_types before calling inst.set_montage, or omit these channels when creating your montage.\n",
      "  data=mne.io.read_epochs_eeglab(srcpath)\n"
     ]
    },
    {
     "name": "stdout",
     "output_type": "stream",
     "text": [
      "Setting up band-pass filter from 1 - 63 Hz\n",
      "\n",
      "FIR filter parameters\n",
      "---------------------\n",
      "Designing a one-pass, zero-phase, non-causal bandpass filter:\n",
      "- Windowed time-domain design (firwin) method\n",
      "- Hamming window with 0.0194 passband ripple and 53 dB stopband attenuation\n",
      "- Lower passband edge: 1.00\n",
      "- Lower transition bandwidth: 1.00 Hz (-6 dB cutoff frequency: 0.50 Hz)\n",
      "- Upper passband edge: 63.00 Hz\n",
      "- Upper transition bandwidth: 1.00 Hz (-6 dB cutoff frequency: 63.50 Hz)\n",
      "- Filter length: 423 samples (3.305 sec)\n",
      "\n"
     ]
    },
    {
     "name": "stderr",
     "output_type": "stream",
     "text": [
      "[Parallel(n_jobs=1)]: Using backend SequentialBackend with 1 concurrent workers.\n",
      "[Parallel(n_jobs=1)]: Done   1 out of   1 | elapsed:    0.0s remaining:    0.0s\n",
      "[Parallel(n_jobs=1)]: Done   2 out of   2 | elapsed:    0.0s remaining:    0.0s\n",
      "[Parallel(n_jobs=1)]: Done   3 out of   3 | elapsed:    0.0s remaining:    0.0s\n",
      "[Parallel(n_jobs=1)]: Done   4 out of   4 | elapsed:    0.0s remaining:    0.0s\n",
      "[Parallel(n_jobs=1)]: Done 3486 out of 3486 | elapsed:    1.5s finished\n"
     ]
    },
    {
     "name": "stdout",
     "output_type": "stream",
     "text": [
      "study03_p26_prep.set 1024 0 42 43008 (63, 1024)\n",
      "study03_p26_prep.set 1024 1024 42 43008 (63, 1024)\n",
      "study03_p26_prep.set 1024 2048 42 43008 (63, 1024)\n",
      "study03_p26_prep.set 1024 3072 42 43008 (63, 1024)\n",
      "study03_p26_prep.set 1024 4096 42 43008 (63, 1024)\n",
      "study03_p26_prep.set 1024 5120 42 43008 (63, 1024)\n",
      "study03_p26_prep.set 1024 6144 42 43008 (63, 1024)\n",
      "study03_p26_prep.set 1024 7168 42 43008 (63, 1024)\n",
      "study03_p26_prep.set 1024 8192 42 43008 (63, 1024)\n",
      "study03_p26_prep.set 1024 9216 42 43008 (63, 1024)\n",
      "study03_p26_prep.set 1024 10240 42 43008 (63, 1024)\n",
      "study03_p26_prep.set 1024 11264 42 43008 (63, 1024)\n",
      "study03_p26_prep.set 1024 12288 42 43008 (63, 1024)\n",
      "study03_p26_prep.set 1024 13312 42 43008 (63, 1024)\n",
      "study03_p26_prep.set 1024 14336 42 43008 (63, 1024)\n",
      "study03_p26_prep.set 1024 15360 42 43008 (63, 1024)\n",
      "study03_p26_prep.set 1024 16384 42 43008 (63, 1024)\n",
      "study03_p26_prep.set 1024 17408 42 43008 (63, 1024)\n",
      "study03_p26_prep.set 1024 18432 42 43008 (63, 1024)\n",
      "study03_p26_prep.set 1024 19456 42 43008 (63, 1024)\n",
      "study03_p26_prep.set 1024 20480 42 43008 (63, 1024)\n",
      "study03_p26_prep.set 1024 21504 42 43008 (63, 1024)\n",
      "study03_p26_prep.set 1024 22528 42 43008 (63, 1024)\n",
      "study03_p26_prep.set 1024 23552 42 43008 (63, 1024)\n",
      "study03_p26_prep.set 1024 24576 42 43008 (63, 1024)\n",
      "study03_p26_prep.set 1024 25600 42 43008 (63, 1024)\n",
      "study03_p26_prep.set 1024 26624 42 43008 (63, 1024)\n",
      "study03_p26_prep.set 1024 27648 42 43008 (63, 1024)\n",
      "study03_p26_prep.set 1024 28672 42 43008 (63, 1024)\n",
      "study03_p26_prep.set 1024 29696 42 43008 (63, 1024)\n",
      "study03_p26_prep.set 1024 30720 42 43008 (63, 1024)\n",
      "study03_p26_prep.set 1024 31744 42 43008 (63, 1024)\n",
      "study03_p26_prep.set 1024 32768 42 43008 (63, 1024)\n",
      "study03_p26_prep.set 1024 33792 42 43008 (63, 1024)\n",
      "study03_p26_prep.set 1024 34816 42 43008 (63, 1024)\n",
      "study03_p26_prep.set 1024 35840 42 43008 (63, 1024)\n",
      "study03_p26_prep.set 1024 36864 42 43008 (63, 1024)\n",
      "study03_p26_prep.set 1024 37888 42 43008 (63, 1024)\n",
      "study03_p26_prep.set 1024 38912 42 43008 (63, 1024)\n",
      "study03_p26_prep.set 1024 39936 42 43008 (63, 1024)\n",
      "study03_p26_prep.set 1024 40960 42 43008 (63, 1024)\n",
      "study03_p26_prep.set 1024 41984 42 43008 (63, 1024)\n"
     ]
    },
    {
     "name": "stderr",
     "output_type": "stream",
     "text": [
      "C:\\Users\\DELL\\anaconda3\\lib\\site-packages\\pymatreader\\utils.py:122: UserWarning: Complex objects (like classes) are not supported. They are imported on a best effort base but your mileage will vary.\n",
      "  warn('Complex objects (like classes) are not supported. '\n"
     ]
    },
    {
     "name": "stdout",
     "output_type": "stream",
     "text": [
      "Extracting parameters from C:\\Users\\DELL\\Desktop\\20credit\\EEG_eye_artifact\\wholedata\\study03_p27_prep.set...\n",
      "Not setting metadata\n",
      "48 matching events found\n",
      "No baseline correction applied\n"
     ]
    },
    {
     "name": "stderr",
     "output_type": "stream",
     "text": [
      "C:\\Users\\DELL\\AppData\\Local\\Temp\\ipykernel_14424\\3542807486.py:14: RuntimeWarning: At least one epoch has multiple events. Only the latency of the first event will be retained.\n",
      "  data=mne.io.read_epochs_eeglab(srcpath)\n",
      "C:\\Users\\DELL\\AppData\\Local\\Temp\\ipykernel_14424\\3542807486.py:14: RuntimeWarning: Unknown types found, setting as type EEG:\n",
      "artifact: ['eye-art', 'eye-blink', 'eye-d', 'eye-fix', 'eye-l', 'eye-r', 'eye-u']\n",
      "eoglpf: ['HEOG_lpf', 'REOG_lpf', 'VEOG_lpf']\n",
      "label: ['artifactclasses']\n",
      "paradigm: ['block']\n",
      "state: ['label']\n",
      "  data=mne.io.read_epochs_eeglab(srcpath)\n",
      "C:\\Users\\DELL\\AppData\\Local\\Temp\\ipykernel_14424\\3542807486.py:14: RuntimeWarning: Data file name in EEG.data (ebs_prep.fdt) is incorrect, the file name must have changed on disk, using the correct file name (study03_p27_prep.fdt).\n",
      "  data=mne.io.read_epochs_eeglab(srcpath)\n"
     ]
    },
    {
     "name": "stdout",
     "output_type": "stream",
     "text": [
      "0 projection items activated\n",
      "Ready.\n"
     ]
    },
    {
     "name": "stderr",
     "output_type": "stream",
     "text": [
      "C:\\Users\\DELL\\AppData\\Local\\Temp\\ipykernel_14424\\3542807486.py:14: RuntimeWarning: Not setting positions of 3 eog channels found in montage:\n",
      "['HEOG', 'VEOG', 'REOG']\n",
      "Consider setting the channel types to be of EEG/sEEG/ECoG/DBS/fNIRS using inst.set_channel_types before calling inst.set_montage, or omit these channels when creating your montage.\n",
      "  data=mne.io.read_epochs_eeglab(srcpath)\n"
     ]
    },
    {
     "name": "stdout",
     "output_type": "stream",
     "text": [
      "Setting up band-pass filter from 1 - 63 Hz\n",
      "\n",
      "FIR filter parameters\n",
      "---------------------\n",
      "Designing a one-pass, zero-phase, non-causal bandpass filter:\n",
      "- Windowed time-domain design (firwin) method\n",
      "- Hamming window with 0.0194 passband ripple and 53 dB stopband attenuation\n",
      "- Lower passband edge: 1.00\n",
      "- Lower transition bandwidth: 1.00 Hz (-6 dB cutoff frequency: 0.50 Hz)\n",
      "- Upper passband edge: 63.00 Hz\n",
      "- Upper transition bandwidth: 1.00 Hz (-6 dB cutoff frequency: 63.50 Hz)\n",
      "- Filter length: 423 samples (3.305 sec)\n",
      "\n"
     ]
    },
    {
     "name": "stderr",
     "output_type": "stream",
     "text": [
      "[Parallel(n_jobs=1)]: Using backend SequentialBackend with 1 concurrent workers.\n",
      "[Parallel(n_jobs=1)]: Done   1 out of   1 | elapsed:    0.0s remaining:    0.0s\n",
      "[Parallel(n_jobs=1)]: Done   2 out of   2 | elapsed:    0.0s remaining:    0.0s\n",
      "[Parallel(n_jobs=1)]: Done   3 out of   3 | elapsed:    0.0s remaining:    0.0s\n",
      "[Parallel(n_jobs=1)]: Done   4 out of   4 | elapsed:    0.0s remaining:    0.0s\n",
      "[Parallel(n_jobs=1)]: Done 3984 out of 3984 | elapsed:    2.0s finished\n"
     ]
    },
    {
     "name": "stdout",
     "output_type": "stream",
     "text": [
      "study03_p27_prep.set 1024 0 48 49152 (63, 1024)\n",
      "study03_p27_prep.set 1024 1024 48 49152 (63, 1024)\n",
      "study03_p27_prep.set 1024 2048 48 49152 (63, 1024)\n",
      "study03_p27_prep.set 1024 3072 48 49152 (63, 1024)\n",
      "study03_p27_prep.set 1024 4096 48 49152 (63, 1024)\n",
      "study03_p27_prep.set 1024 5120 48 49152 (63, 1024)\n",
      "study03_p27_prep.set 1024 6144 48 49152 (63, 1024)\n",
      "study03_p27_prep.set 1024 7168 48 49152 (63, 1024)\n",
      "study03_p27_prep.set 1024 8192 48 49152 (63, 1024)\n",
      "study03_p27_prep.set 1024 9216 48 49152 (63, 1024)\n",
      "study03_p27_prep.set 1024 10240 48 49152 (63, 1024)\n",
      "study03_p27_prep.set 1024 11264 48 49152 (63, 1024)\n",
      "study03_p27_prep.set 1024 12288 48 49152 (63, 1024)\n",
      "study03_p27_prep.set 1024 13312 48 49152 (63, 1024)\n",
      "study03_p27_prep.set 1024 14336 48 49152 (63, 1024)\n",
      "study03_p27_prep.set 1024 15360 48 49152 (63, 1024)\n",
      "study03_p27_prep.set 1024 16384 48 49152 (63, 1024)\n",
      "study03_p27_prep.set 1024 17408 48 49152 (63, 1024)\n",
      "study03_p27_prep.set 1024 18432 48 49152 (63, 1024)\n",
      "study03_p27_prep.set 1024 19456 48 49152 (63, 1024)\n",
      "study03_p27_prep.set 1024 20480 48 49152 (63, 1024)\n",
      "study03_p27_prep.set 1024 21504 48 49152 (63, 1024)\n",
      "study03_p27_prep.set 1024 22528 48 49152 (63, 1024)\n",
      "study03_p27_prep.set 1024 23552 48 49152 (63, 1024)\n",
      "study03_p27_prep.set 1024 24576 48 49152 (63, 1024)\n",
      "study03_p27_prep.set 1024 25600 48 49152 (63, 1024)\n",
      "study03_p27_prep.set 1024 26624 48 49152 (63, 1024)\n",
      "study03_p27_prep.set 1024 27648 48 49152 (63, 1024)\n",
      "study03_p27_prep.set 1024 28672 48 49152 (63, 1024)\n",
      "study03_p27_prep.set 1024 29696 48 49152 (63, 1024)\n",
      "study03_p27_prep.set 1024 30720 48 49152 (63, 1024)\n",
      "study03_p27_prep.set 1024 31744 48 49152 (63, 1024)\n",
      "study03_p27_prep.set 1024 32768 48 49152 (63, 1024)\n",
      "study03_p27_prep.set 1024 33792 48 49152 (63, 1024)\n",
      "study03_p27_prep.set 1024 34816 48 49152 (63, 1024)\n",
      "study03_p27_prep.set 1024 35840 48 49152 (63, 1024)\n",
      "study03_p27_prep.set 1024 36864 48 49152 (63, 1024)\n",
      "study03_p27_prep.set 1024 37888 48 49152 (63, 1024)\n",
      "study03_p27_prep.set 1024 38912 48 49152 (63, 1024)\n",
      "study03_p27_prep.set 1024 39936 48 49152 (63, 1024)\n",
      "study03_p27_prep.set 1024 40960 48 49152 (63, 1024)\n",
      "study03_p27_prep.set 1024 41984 48 49152 (63, 1024)\n",
      "study03_p27_prep.set 1024 43008 48 49152 (63, 1024)\n",
      "study03_p27_prep.set 1024 44032 48 49152 (63, 1024)\n",
      "study03_p27_prep.set 1024 45056 48 49152 (63, 1024)\n",
      "study03_p27_prep.set 1024 46080 48 49152 (63, 1024)\n",
      "study03_p27_prep.set 1024 47104 48 49152 (63, 1024)\n",
      "study03_p27_prep.set 1024 48128 48 49152 (63, 1024)\n"
     ]
    },
    {
     "name": "stderr",
     "output_type": "stream",
     "text": [
      "C:\\Users\\DELL\\anaconda3\\lib\\site-packages\\pymatreader\\utils.py:122: UserWarning: Complex objects (like classes) are not supported. They are imported on a best effort base but your mileage will vary.\n",
      "  warn('Complex objects (like classes) are not supported. '\n"
     ]
    },
    {
     "name": "stdout",
     "output_type": "stream",
     "text": [
      "Extracting parameters from C:\\Users\\DELL\\Desktop\\20credit\\EEG_eye_artifact\\wholedata\\study04_p03_prep.set...\n",
      "Not setting metadata\n",
      "48 matching events found\n",
      "No baseline correction applied\n",
      "0 projection items activated\n",
      "Ready.\n"
     ]
    },
    {
     "name": "stderr",
     "output_type": "stream",
     "text": [
      "C:\\Users\\DELL\\AppData\\Local\\Temp\\ipykernel_14424\\3542807486.py:14: RuntimeWarning: At least one epoch has multiple events. Only the latency of the first event will be retained.\n",
      "  data=mne.io.read_epochs_eeglab(srcpath)\n",
      "C:\\Users\\DELL\\AppData\\Local\\Temp\\ipykernel_14424\\3542807486.py:14: RuntimeWarning: Unknown types found, setting as type EEG:\n",
      "artifact: ['eye-art', 'eye-blink', 'eye-d', 'eye-fix', 'eye-l', 'eye-r', 'eye-u']\n",
      "eoglpf: ['HEOG_lpf', 'VEOG_lpf']\n",
      "label: ['artifactclasses']\n",
      "paradigm: ['block']\n",
      "state: ['label']\n",
      "  data=mne.io.read_epochs_eeglab(srcpath)\n",
      "C:\\Users\\DELL\\AppData\\Local\\Temp\\ipykernel_14424\\3542807486.py:14: RuntimeWarning: Data file name in EEG.data (ebs_prep.fdt) is incorrect, the file name must have changed on disk, using the correct file name (study04_p03_prep.fdt).\n",
      "  data=mne.io.read_epochs_eeglab(srcpath)\n",
      "C:\\Users\\DELL\\AppData\\Local\\Temp\\ipykernel_14424\\3542807486.py:14: RuntimeWarning: Not setting positions of 4 eog channels found in montage:\n",
      "['HEOG', 'VEOGL', 'VEOGR', 'VEOG']\n",
      "Consider setting the channel types to be of EEG/sEEG/ECoG/DBS/fNIRS using inst.set_channel_types before calling inst.set_montage, or omit these channels when creating your montage.\n",
      "  data=mne.io.read_epochs_eeglab(srcpath)\n"
     ]
    },
    {
     "name": "stdout",
     "output_type": "stream",
     "text": [
      "Setting up band-pass filter from 1 - 63 Hz\n",
      "\n",
      "FIR filter parameters\n",
      "---------------------\n",
      "Designing a one-pass, zero-phase, non-causal bandpass filter:\n",
      "- Windowed time-domain design (firwin) method\n",
      "- Hamming window with 0.0194 passband ripple and 53 dB stopband attenuation\n",
      "- Lower passband edge: 1.00\n",
      "- Lower transition bandwidth: 1.00 Hz (-6 dB cutoff frequency: 0.50 Hz)\n",
      "- Upper passband edge: 63.00 Hz\n",
      "- Upper transition bandwidth: 1.00 Hz (-6 dB cutoff frequency: 63.50 Hz)\n",
      "- Filter length: 423 samples (3.305 sec)\n",
      "\n"
     ]
    },
    {
     "name": "stderr",
     "output_type": "stream",
     "text": [
      "[Parallel(n_jobs=1)]: Using backend SequentialBackend with 1 concurrent workers.\n",
      "[Parallel(n_jobs=1)]: Done   1 out of   1 | elapsed:    0.0s remaining:    0.0s\n",
      "[Parallel(n_jobs=1)]: Done   2 out of   2 | elapsed:    0.0s remaining:    0.0s\n",
      "[Parallel(n_jobs=1)]: Done   3 out of   3 | elapsed:    0.0s remaining:    0.0s\n",
      "[Parallel(n_jobs=1)]: Done   4 out of   4 | elapsed:    0.0s remaining:    0.0s\n",
      "[Parallel(n_jobs=1)]: Done 3648 out of 3648 | elapsed:    1.6s finished\n"
     ]
    },
    {
     "name": "stdout",
     "output_type": "stream",
     "text": [
      "study04_p03_prep.set 1024 0 48 49152 (61, 1024)\n",
      "study04_p03_prep.set 1024 1024 48 49152 (61, 1024)\n",
      "study04_p03_prep.set 1024 2048 48 49152 (61, 1024)\n",
      "study04_p03_prep.set 1024 3072 48 49152 (61, 1024)\n",
      "study04_p03_prep.set 1024 4096 48 49152 (61, 1024)\n",
      "study04_p03_prep.set 1024 5120 48 49152 (61, 1024)\n",
      "study04_p03_prep.set 1024 6144 48 49152 (61, 1024)\n",
      "study04_p03_prep.set 1024 7168 48 49152 (61, 1024)\n",
      "study04_p03_prep.set 1024 8192 48 49152 (61, 1024)\n",
      "study04_p03_prep.set 1024 9216 48 49152 (61, 1024)\n",
      "study04_p03_prep.set 1024 10240 48 49152 (61, 1024)\n",
      "study04_p03_prep.set 1024 11264 48 49152 (61, 1024)\n",
      "study04_p03_prep.set 1024 12288 48 49152 (61, 1024)\n",
      "study04_p03_prep.set 1024 13312 48 49152 (61, 1024)\n",
      "study04_p03_prep.set 1024 14336 48 49152 (61, 1024)\n",
      "study04_p03_prep.set 1024 15360 48 49152 (61, 1024)\n",
      "study04_p03_prep.set 1024 16384 48 49152 (61, 1024)\n",
      "study04_p03_prep.set 1024 17408 48 49152 (61, 1024)\n",
      "study04_p03_prep.set 1024 18432 48 49152 (61, 1024)\n",
      "study04_p03_prep.set 1024 19456 48 49152 (61, 1024)\n",
      "study04_p03_prep.set 1024 20480 48 49152 (61, 1024)\n",
      "study04_p03_prep.set 1024 21504 48 49152 (61, 1024)\n",
      "study04_p03_prep.set 1024 22528 48 49152 (61, 1024)\n",
      "study04_p03_prep.set 1024 23552 48 49152 (61, 1024)\n",
      "study04_p03_prep.set 1024 24576 48 49152 (61, 1024)\n",
      "study04_p03_prep.set 1024 25600 48 49152 (61, 1024)\n",
      "study04_p03_prep.set 1024 26624 48 49152 (61, 1024)\n",
      "study04_p03_prep.set 1024 27648 48 49152 (61, 1024)\n",
      "study04_p03_prep.set 1024 28672 48 49152 (61, 1024)\n",
      "study04_p03_prep.set 1024 29696 48 49152 (61, 1024)\n",
      "study04_p03_prep.set 1024 30720 48 49152 (61, 1024)\n",
      "study04_p03_prep.set 1024 31744 48 49152 (61, 1024)\n",
      "study04_p03_prep.set 1024 32768 48 49152 (61, 1024)\n",
      "study04_p03_prep.set 1024 33792 48 49152 (61, 1024)\n",
      "study04_p03_prep.set 1024 34816 48 49152 (61, 1024)\n",
      "study04_p03_prep.set 1024 35840 48 49152 (61, 1024)\n",
      "study04_p03_prep.set 1024 36864 48 49152 (61, 1024)\n",
      "study04_p03_prep.set 1024 37888 48 49152 (61, 1024)\n",
      "study04_p03_prep.set 1024 38912 48 49152 (61, 1024)\n",
      "study04_p03_prep.set 1024 39936 48 49152 (61, 1024)\n",
      "study04_p03_prep.set 1024 40960 48 49152 (61, 1024)\n",
      "study04_p03_prep.set 1024 41984 48 49152 (61, 1024)\n",
      "study04_p03_prep.set 1024 43008 48 49152 (61, 1024)\n",
      "study04_p03_prep.set 1024 44032 48 49152 (61, 1024)\n",
      "study04_p03_prep.set 1024 45056 48 49152 (61, 1024)\n",
      "study04_p03_prep.set 1024 46080 48 49152 (61, 1024)\n",
      "study04_p03_prep.set 1024 47104 48 49152 (61, 1024)\n",
      "study04_p03_prep.set 1024 48128 48 49152 (61, 1024)\n"
     ]
    },
    {
     "name": "stderr",
     "output_type": "stream",
     "text": [
      "C:\\Users\\DELL\\anaconda3\\lib\\site-packages\\pymatreader\\utils.py:122: UserWarning: Complex objects (like classes) are not supported. They are imported on a best effort base but your mileage will vary.\n",
      "  warn('Complex objects (like classes) are not supported. '\n"
     ]
    },
    {
     "name": "stdout",
     "output_type": "stream",
     "text": [
      "Extracting parameters from C:\\Users\\DELL\\Desktop\\20credit\\EEG_eye_artifact\\wholedata\\study04_p08_prep.set...\n",
      "Not setting metadata\n",
      "39 matching events found\n",
      "No baseline correction applied\n",
      "0 projection items activated\n",
      "Ready.\n"
     ]
    },
    {
     "name": "stderr",
     "output_type": "stream",
     "text": [
      "C:\\Users\\DELL\\AppData\\Local\\Temp\\ipykernel_14424\\3542807486.py:14: RuntimeWarning: At least one epoch has multiple events. Only the latency of the first event will be retained.\n",
      "  data=mne.io.read_epochs_eeglab(srcpath)\n",
      "C:\\Users\\DELL\\AppData\\Local\\Temp\\ipykernel_14424\\3542807486.py:14: RuntimeWarning: Unknown types found, setting as type EEG:\n",
      "artifact: ['eye-art', 'eye-blink', 'eye-d', 'eye-fix', 'eye-l', 'eye-r', 'eye-u']\n",
      "eoglpf: ['HEOG_lpf', 'VEOG_lpf']\n",
      "label: ['artifactclasses']\n",
      "paradigm: ['block']\n",
      "state: ['label']\n",
      "  data=mne.io.read_epochs_eeglab(srcpath)\n",
      "C:\\Users\\DELL\\AppData\\Local\\Temp\\ipykernel_14424\\3542807486.py:14: RuntimeWarning: Data file name in EEG.data (ebs_prep.fdt) is incorrect, the file name must have changed on disk, using the correct file name (study04_p08_prep.fdt).\n",
      "  data=mne.io.read_epochs_eeglab(srcpath)\n",
      "C:\\Users\\DELL\\AppData\\Local\\Temp\\ipykernel_14424\\3542807486.py:14: RuntimeWarning: Not setting positions of 4 eog channels found in montage:\n",
      "['HEOG', 'VEOGL', 'VEOGR', 'VEOG']\n",
      "Consider setting the channel types to be of EEG/sEEG/ECoG/DBS/fNIRS using inst.set_channel_types before calling inst.set_montage, or omit these channels when creating your montage.\n",
      "  data=mne.io.read_epochs_eeglab(srcpath)\n"
     ]
    },
    {
     "name": "stdout",
     "output_type": "stream",
     "text": [
      "Setting up band-pass filter from 1 - 63 Hz\n",
      "\n",
      "FIR filter parameters\n",
      "---------------------\n",
      "Designing a one-pass, zero-phase, non-causal bandpass filter:\n",
      "- Windowed time-domain design (firwin) method\n",
      "- Hamming window with 0.0194 passband ripple and 53 dB stopband attenuation\n",
      "- Lower passband edge: 1.00\n",
      "- Lower transition bandwidth: 1.00 Hz (-6 dB cutoff frequency: 0.50 Hz)\n",
      "- Upper passband edge: 63.00 Hz\n",
      "- Upper transition bandwidth: 1.00 Hz (-6 dB cutoff frequency: 63.50 Hz)\n",
      "- Filter length: 423 samples (3.305 sec)\n",
      "\n"
     ]
    },
    {
     "name": "stderr",
     "output_type": "stream",
     "text": [
      "[Parallel(n_jobs=1)]: Using backend SequentialBackend with 1 concurrent workers.\n",
      "[Parallel(n_jobs=1)]: Done   1 out of   1 | elapsed:    0.0s remaining:    0.0s\n",
      "[Parallel(n_jobs=1)]: Done   2 out of   2 | elapsed:    0.0s remaining:    0.0s\n",
      "[Parallel(n_jobs=1)]: Done   3 out of   3 | elapsed:    0.0s remaining:    0.0s\n",
      "[Parallel(n_jobs=1)]: Done   4 out of   4 | elapsed:    0.0s remaining:    0.0s\n",
      "[Parallel(n_jobs=1)]: Done 2964 out of 2964 | elapsed:    1.2s finished\n"
     ]
    },
    {
     "name": "stdout",
     "output_type": "stream",
     "text": [
      "study04_p08_prep.set 1024 0 39 39936 (61, 1024)\n",
      "study04_p08_prep.set 1024 1024 39 39936 (61, 1024)\n",
      "study04_p08_prep.set 1024 2048 39 39936 (61, 1024)\n",
      "study04_p08_prep.set 1024 3072 39 39936 (61, 1024)\n",
      "study04_p08_prep.set 1024 4096 39 39936 (61, 1024)\n",
      "study04_p08_prep.set 1024 5120 39 39936 (61, 1024)\n",
      "study04_p08_prep.set 1024 6144 39 39936 (61, 1024)\n",
      "study04_p08_prep.set 1024 7168 39 39936 (61, 1024)\n",
      "study04_p08_prep.set 1024 8192 39 39936 (61, 1024)\n",
      "study04_p08_prep.set 1024 9216 39 39936 (61, 1024)\n",
      "study04_p08_prep.set 1024 10240 39 39936 (61, 1024)\n",
      "study04_p08_prep.set 1024 11264 39 39936 (61, 1024)\n",
      "study04_p08_prep.set 1024 12288 39 39936 (61, 1024)\n",
      "study04_p08_prep.set 1024 13312 39 39936 (61, 1024)\n",
      "study04_p08_prep.set 1024 14336 39 39936 (61, 1024)\n",
      "study04_p08_prep.set 1024 15360 39 39936 (61, 1024)\n",
      "study04_p08_prep.set 1024 16384 39 39936 (61, 1024)\n",
      "study04_p08_prep.set 1024 17408 39 39936 (61, 1024)\n",
      "study04_p08_prep.set 1024 18432 39 39936 (61, 1024)\n",
      "study04_p08_prep.set 1024 19456 39 39936 (61, 1024)\n",
      "study04_p08_prep.set 1024 20480 39 39936 (61, 1024)\n",
      "study04_p08_prep.set 1024 21504 39 39936 (61, 1024)\n",
      "study04_p08_prep.set 1024 22528 39 39936 (61, 1024)\n",
      "study04_p08_prep.set 1024 23552 39 39936 (61, 1024)\n",
      "study04_p08_prep.set 1024 24576 39 39936 (61, 1024)\n",
      "study04_p08_prep.set 1024 25600 39 39936 (61, 1024)\n",
      "study04_p08_prep.set 1024 26624 39 39936 (61, 1024)\n",
      "study04_p08_prep.set 1024 27648 39 39936 (61, 1024)\n",
      "study04_p08_prep.set 1024 28672 39 39936 (61, 1024)\n",
      "study04_p08_prep.set 1024 29696 39 39936 (61, 1024)\n",
      "study04_p08_prep.set 1024 30720 39 39936 (61, 1024)\n",
      "study04_p08_prep.set 1024 31744 39 39936 (61, 1024)\n",
      "study04_p08_prep.set 1024 32768 39 39936 (61, 1024)\n",
      "study04_p08_prep.set 1024 33792 39 39936 (61, 1024)\n",
      "study04_p08_prep.set 1024 34816 39 39936 (61, 1024)\n",
      "study04_p08_prep.set 1024 35840 39 39936 (61, 1024)\n",
      "study04_p08_prep.set 1024 36864 39 39936 (61, 1024)\n",
      "study04_p08_prep.set 1024 37888 39 39936 (61, 1024)\n",
      "study04_p08_prep.set 1024 38912 39 39936 (61, 1024)\n"
     ]
    },
    {
     "name": "stderr",
     "output_type": "stream",
     "text": [
      "C:\\Users\\DELL\\anaconda3\\lib\\site-packages\\pymatreader\\utils.py:122: UserWarning: Complex objects (like classes) are not supported. They are imported on a best effort base but your mileage will vary.\n",
      "  warn('Complex objects (like classes) are not supported. '\n"
     ]
    },
    {
     "name": "stdout",
     "output_type": "stream",
     "text": [
      "Extracting parameters from C:\\Users\\DELL\\Desktop\\20credit\\EEG_eye_artifact\\wholedata\\study04_p24_prep.set...\n",
      "Not setting metadata\n",
      "44 matching events found\n",
      "No baseline correction applied\n",
      "0 projection items activated\n",
      "Ready.\n"
     ]
    },
    {
     "name": "stderr",
     "output_type": "stream",
     "text": [
      "C:\\Users\\DELL\\AppData\\Local\\Temp\\ipykernel_14424\\3542807486.py:14: RuntimeWarning: At least one epoch has multiple events. Only the latency of the first event will be retained.\n",
      "  data=mne.io.read_epochs_eeglab(srcpath)\n",
      "C:\\Users\\DELL\\AppData\\Local\\Temp\\ipykernel_14424\\3542807486.py:14: RuntimeWarning: Unknown types found, setting as type EEG:\n",
      "artifact: ['eye-art', 'eye-blink', 'eye-d', 'eye-fix', 'eye-l', 'eye-r', 'eye-u']\n",
      "eoglpf: ['HEOG_lpf', 'VEOG_lpf']\n",
      "label: ['artifactclasses']\n",
      "paradigm: ['block']\n",
      "state: ['label']\n",
      "  data=mne.io.read_epochs_eeglab(srcpath)\n",
      "C:\\Users\\DELL\\AppData\\Local\\Temp\\ipykernel_14424\\3542807486.py:14: RuntimeWarning: Data file name in EEG.data (ebs_prep.fdt) is incorrect, the file name must have changed on disk, using the correct file name (study04_p24_prep.fdt).\n",
      "  data=mne.io.read_epochs_eeglab(srcpath)\n",
      "C:\\Users\\DELL\\AppData\\Local\\Temp\\ipykernel_14424\\3542807486.py:14: RuntimeWarning: Not setting positions of 4 eog channels found in montage:\n",
      "['HEOG', 'VEOGL', 'VEOGR', 'VEOG']\n",
      "Consider setting the channel types to be of EEG/sEEG/ECoG/DBS/fNIRS using inst.set_channel_types before calling inst.set_montage, or omit these channels when creating your montage.\n",
      "  data=mne.io.read_epochs_eeglab(srcpath)\n"
     ]
    },
    {
     "name": "stdout",
     "output_type": "stream",
     "text": [
      "Setting up band-pass filter from 1 - 63 Hz\n",
      "\n",
      "FIR filter parameters\n",
      "---------------------\n",
      "Designing a one-pass, zero-phase, non-causal bandpass filter:\n",
      "- Windowed time-domain design (firwin) method\n",
      "- Hamming window with 0.0194 passband ripple and 53 dB stopband attenuation\n",
      "- Lower passband edge: 1.00\n",
      "- Lower transition bandwidth: 1.00 Hz (-6 dB cutoff frequency: 0.50 Hz)\n",
      "- Upper passband edge: 63.00 Hz\n",
      "- Upper transition bandwidth: 1.00 Hz (-6 dB cutoff frequency: 63.50 Hz)\n",
      "- Filter length: 423 samples (3.305 sec)\n",
      "\n"
     ]
    },
    {
     "name": "stderr",
     "output_type": "stream",
     "text": [
      "[Parallel(n_jobs=1)]: Using backend SequentialBackend with 1 concurrent workers.\n",
      "[Parallel(n_jobs=1)]: Done   1 out of   1 | elapsed:    0.0s remaining:    0.0s\n",
      "[Parallel(n_jobs=1)]: Done   2 out of   2 | elapsed:    0.0s remaining:    0.0s\n",
      "[Parallel(n_jobs=1)]: Done   3 out of   3 | elapsed:    0.0s remaining:    0.0s\n",
      "[Parallel(n_jobs=1)]: Done   4 out of   4 | elapsed:    0.0s remaining:    0.0s\n",
      "[Parallel(n_jobs=1)]: Done 3344 out of 3344 | elapsed:    1.4s finished\n"
     ]
    },
    {
     "name": "stdout",
     "output_type": "stream",
     "text": [
      "study04_p24_prep.set 1024 0 44 45056 (61, 1024)\n",
      "study04_p24_prep.set 1024 1024 44 45056 (61, 1024)\n",
      "study04_p24_prep.set 1024 2048 44 45056 (61, 1024)\n",
      "study04_p24_prep.set 1024 3072 44 45056 (61, 1024)\n",
      "study04_p24_prep.set 1024 4096 44 45056 (61, 1024)\n",
      "study04_p24_prep.set 1024 5120 44 45056 (61, 1024)\n",
      "study04_p24_prep.set 1024 6144 44 45056 (61, 1024)\n",
      "study04_p24_prep.set 1024 7168 44 45056 (61, 1024)\n",
      "study04_p24_prep.set 1024 8192 44 45056 (61, 1024)\n",
      "study04_p24_prep.set 1024 9216 44 45056 (61, 1024)\n",
      "study04_p24_prep.set 1024 10240 44 45056 (61, 1024)\n",
      "study04_p24_prep.set 1024 11264 44 45056 (61, 1024)\n",
      "study04_p24_prep.set 1024 12288 44 45056 (61, 1024)\n",
      "study04_p24_prep.set 1024 13312 44 45056 (61, 1024)\n",
      "study04_p24_prep.set 1024 14336 44 45056 (61, 1024)\n",
      "study04_p24_prep.set 1024 15360 44 45056 (61, 1024)\n",
      "study04_p24_prep.set 1024 16384 44 45056 (61, 1024)\n",
      "study04_p24_prep.set 1024 17408 44 45056 (61, 1024)\n",
      "study04_p24_prep.set 1024 18432 44 45056 (61, 1024)\n",
      "study04_p24_prep.set 1024 19456 44 45056 (61, 1024)\n",
      "study04_p24_prep.set 1024 20480 44 45056 (61, 1024)\n",
      "study04_p24_prep.set 1024 21504 44 45056 (61, 1024)\n",
      "study04_p24_prep.set 1024 22528 44 45056 (61, 1024)\n",
      "study04_p24_prep.set 1024 23552 44 45056 (61, 1024)\n",
      "study04_p24_prep.set 1024 24576 44 45056 (61, 1024)\n",
      "study04_p24_prep.set 1024 25600 44 45056 (61, 1024)\n",
      "study04_p24_prep.set 1024 26624 44 45056 (61, 1024)\n",
      "study04_p24_prep.set 1024 27648 44 45056 (61, 1024)\n",
      "study04_p24_prep.set 1024 28672 44 45056 (61, 1024)\n",
      "study04_p24_prep.set 1024 29696 44 45056 (61, 1024)\n",
      "study04_p24_prep.set 1024 30720 44 45056 (61, 1024)\n",
      "study04_p24_prep.set 1024 31744 44 45056 (61, 1024)\n",
      "study04_p24_prep.set 1024 32768 44 45056 (61, 1024)\n",
      "study04_p24_prep.set 1024 33792 44 45056 (61, 1024)\n",
      "study04_p24_prep.set 1024 34816 44 45056 (61, 1024)\n",
      "study04_p24_prep.set 1024 35840 44 45056 (61, 1024)\n",
      "study04_p24_prep.set 1024 36864 44 45056 (61, 1024)\n",
      "study04_p24_prep.set 1024 37888 44 45056 (61, 1024)\n",
      "study04_p24_prep.set 1024 38912 44 45056 (61, 1024)\n",
      "study04_p24_prep.set 1024 39936 44 45056 (61, 1024)\n",
      "study04_p24_prep.set 1024 40960 44 45056 (61, 1024)\n",
      "study04_p24_prep.set 1024 41984 44 45056 (61, 1024)\n",
      "study04_p24_prep.set 1024 43008 44 45056 (61, 1024)\n",
      "study04_p24_prep.set 1024 44032 44 45056 (61, 1024)\n"
     ]
    },
    {
     "name": "stderr",
     "output_type": "stream",
     "text": [
      "C:\\Users\\DELL\\anaconda3\\lib\\site-packages\\pymatreader\\utils.py:122: UserWarning: Complex objects (like classes) are not supported. They are imported on a best effort base but your mileage will vary.\n",
      "  warn('Complex objects (like classes) are not supported. '\n"
     ]
    },
    {
     "name": "stdout",
     "output_type": "stream",
     "text": [
      "Extracting parameters from C:\\Users\\DELL\\Desktop\\20credit\\EEG_eye_artifact\\wholedata\\study04_p28_prep.set...\n",
      "Not setting metadata\n",
      "41 matching events found\n",
      "No baseline correction applied\n",
      "0 projection items activated\n",
      "Ready.\n"
     ]
    },
    {
     "name": "stderr",
     "output_type": "stream",
     "text": [
      "C:\\Users\\DELL\\AppData\\Local\\Temp\\ipykernel_14424\\3542807486.py:14: RuntimeWarning: At least one epoch has multiple events. Only the latency of the first event will be retained.\n",
      "  data=mne.io.read_epochs_eeglab(srcpath)\n",
      "C:\\Users\\DELL\\AppData\\Local\\Temp\\ipykernel_14424\\3542807486.py:14: RuntimeWarning: Unknown types found, setting as type EEG:\n",
      "artifact: ['eye-art', 'eye-blink', 'eye-d', 'eye-fix', 'eye-l', 'eye-r', 'eye-u']\n",
      "eoglpf: ['HEOG_lpf', 'VEOG_lpf']\n",
      "label: ['artifactclasses']\n",
      "paradigm: ['block']\n",
      "state: ['label']\n",
      "  data=mne.io.read_epochs_eeglab(srcpath)\n",
      "C:\\Users\\DELL\\AppData\\Local\\Temp\\ipykernel_14424\\3542807486.py:14: RuntimeWarning: Data file name in EEG.data (ebs_prep.fdt) is incorrect, the file name must have changed on disk, using the correct file name (study04_p28_prep.fdt).\n",
      "  data=mne.io.read_epochs_eeglab(srcpath)\n",
      "C:\\Users\\DELL\\AppData\\Local\\Temp\\ipykernel_14424\\3542807486.py:14: RuntimeWarning: Not setting positions of 4 eog channels found in montage:\n",
      "['HEOG', 'VEOGL', 'VEOGR', 'VEOG']\n",
      "Consider setting the channel types to be of EEG/sEEG/ECoG/DBS/fNIRS using inst.set_channel_types before calling inst.set_montage, or omit these channels when creating your montage.\n",
      "  data=mne.io.read_epochs_eeglab(srcpath)\n"
     ]
    },
    {
     "name": "stdout",
     "output_type": "stream",
     "text": [
      "Setting up band-pass filter from 1 - 63 Hz\n",
      "\n",
      "FIR filter parameters\n",
      "---------------------\n",
      "Designing a one-pass, zero-phase, non-causal bandpass filter:\n",
      "- Windowed time-domain design (firwin) method\n",
      "- Hamming window with 0.0194 passband ripple and 53 dB stopband attenuation\n",
      "- Lower passband edge: 1.00\n",
      "- Lower transition bandwidth: 1.00 Hz (-6 dB cutoff frequency: 0.50 Hz)\n",
      "- Upper passband edge: 63.00 Hz\n",
      "- Upper transition bandwidth: 1.00 Hz (-6 dB cutoff frequency: 63.50 Hz)\n",
      "- Filter length: 423 samples (3.305 sec)\n",
      "\n"
     ]
    },
    {
     "name": "stderr",
     "output_type": "stream",
     "text": [
      "[Parallel(n_jobs=1)]: Using backend SequentialBackend with 1 concurrent workers.\n",
      "[Parallel(n_jobs=1)]: Done   1 out of   1 | elapsed:    0.0s remaining:    0.0s\n",
      "[Parallel(n_jobs=1)]: Done   2 out of   2 | elapsed:    0.0s remaining:    0.0s\n",
      "[Parallel(n_jobs=1)]: Done   3 out of   3 | elapsed:    0.0s remaining:    0.0s\n",
      "[Parallel(n_jobs=1)]: Done   4 out of   4 | elapsed:    0.0s remaining:    0.0s\n",
      "[Parallel(n_jobs=1)]: Done 3116 out of 3116 | elapsed:    1.3s finished\n"
     ]
    },
    {
     "name": "stdout",
     "output_type": "stream",
     "text": [
      "study04_p28_prep.set 1024 0 41 41984 (61, 1024)\n",
      "study04_p28_prep.set 1024 1024 41 41984 (61, 1024)\n",
      "study04_p28_prep.set 1024 2048 41 41984 (61, 1024)\n",
      "study04_p28_prep.set 1024 3072 41 41984 (61, 1024)\n",
      "study04_p28_prep.set 1024 4096 41 41984 (61, 1024)\n",
      "study04_p28_prep.set 1024 5120 41 41984 (61, 1024)\n",
      "study04_p28_prep.set 1024 6144 41 41984 (61, 1024)\n",
      "study04_p28_prep.set 1024 7168 41 41984 (61, 1024)\n",
      "study04_p28_prep.set 1024 8192 41 41984 (61, 1024)\n",
      "study04_p28_prep.set 1024 9216 41 41984 (61, 1024)\n",
      "study04_p28_prep.set 1024 10240 41 41984 (61, 1024)\n",
      "study04_p28_prep.set 1024 11264 41 41984 (61, 1024)\n",
      "study04_p28_prep.set 1024 12288 41 41984 (61, 1024)\n",
      "study04_p28_prep.set 1024 13312 41 41984 (61, 1024)\n",
      "study04_p28_prep.set 1024 14336 41 41984 (61, 1024)\n",
      "study04_p28_prep.set 1024 15360 41 41984 (61, 1024)\n",
      "study04_p28_prep.set 1024 16384 41 41984 (61, 1024)\n",
      "study04_p28_prep.set 1024 17408 41 41984 (61, 1024)\n",
      "study04_p28_prep.set 1024 18432 41 41984 (61, 1024)\n",
      "study04_p28_prep.set 1024 19456 41 41984 (61, 1024)\n",
      "study04_p28_prep.set 1024 20480 41 41984 (61, 1024)\n",
      "study04_p28_prep.set 1024 21504 41 41984 (61, 1024)\n",
      "study04_p28_prep.set 1024 22528 41 41984 (61, 1024)\n",
      "study04_p28_prep.set 1024 23552 41 41984 (61, 1024)\n",
      "study04_p28_prep.set 1024 24576 41 41984 (61, 1024)\n",
      "study04_p28_prep.set 1024 25600 41 41984 (61, 1024)\n",
      "study04_p28_prep.set 1024 26624 41 41984 (61, 1024)\n",
      "study04_p28_prep.set 1024 27648 41 41984 (61, 1024)\n",
      "study04_p28_prep.set 1024 28672 41 41984 (61, 1024)\n",
      "study04_p28_prep.set 1024 29696 41 41984 (61, 1024)\n",
      "study04_p28_prep.set 1024 30720 41 41984 (61, 1024)\n",
      "study04_p28_prep.set 1024 31744 41 41984 (61, 1024)\n",
      "study04_p28_prep.set 1024 32768 41 41984 (61, 1024)\n",
      "study04_p28_prep.set 1024 33792 41 41984 (61, 1024)\n",
      "study04_p28_prep.set 1024 34816 41 41984 (61, 1024)\n",
      "study04_p28_prep.set 1024 35840 41 41984 (61, 1024)\n",
      "study04_p28_prep.set 1024 36864 41 41984 (61, 1024)\n",
      "study04_p28_prep.set 1024 37888 41 41984 (61, 1024)\n",
      "study04_p28_prep.set 1024 38912 41 41984 (61, 1024)\n",
      "study04_p28_prep.set 1024 39936 41 41984 (61, 1024)\n",
      "study04_p28_prep.set 1024 40960 41 41984 (61, 1024)\n"
     ]
    },
    {
     "name": "stderr",
     "output_type": "stream",
     "text": [
      "C:\\Users\\DELL\\anaconda3\\lib\\site-packages\\pymatreader\\utils.py:122: UserWarning: Complex objects (like classes) are not supported. They are imported on a best effort base but your mileage will vary.\n",
      "  warn('Complex objects (like classes) are not supported. '\n"
     ]
    },
    {
     "name": "stdout",
     "output_type": "stream",
     "text": [
      "Extracting parameters from C:\\Users\\DELL\\Desktop\\20credit\\EEG_eye_artifact\\wholedata\\study04_p29_prep.set...\n",
      "Not setting metadata\n",
      "47 matching events found\n",
      "No baseline correction applied\n",
      "0 projection items activated\n",
      "Ready.\n"
     ]
    },
    {
     "name": "stderr",
     "output_type": "stream",
     "text": [
      "C:\\Users\\DELL\\AppData\\Local\\Temp\\ipykernel_14424\\3542807486.py:14: RuntimeWarning: At least one epoch has multiple events. Only the latency of the first event will be retained.\n",
      "  data=mne.io.read_epochs_eeglab(srcpath)\n",
      "C:\\Users\\DELL\\AppData\\Local\\Temp\\ipykernel_14424\\3542807486.py:14: RuntimeWarning: Unknown types found, setting as type EEG:\n",
      "artifact: ['eye-art', 'eye-blink', 'eye-d', 'eye-fix', 'eye-l', 'eye-r', 'eye-u']\n",
      "eoglpf: ['HEOG_lpf', 'VEOG_lpf']\n",
      "label: ['artifactclasses']\n",
      "paradigm: ['block']\n",
      "state: ['label']\n",
      "  data=mne.io.read_epochs_eeglab(srcpath)\n",
      "C:\\Users\\DELL\\AppData\\Local\\Temp\\ipykernel_14424\\3542807486.py:14: RuntimeWarning: Data file name in EEG.data (ebs_prep.fdt) is incorrect, the file name must have changed on disk, using the correct file name (study04_p29_prep.fdt).\n",
      "  data=mne.io.read_epochs_eeglab(srcpath)\n",
      "C:\\Users\\DELL\\AppData\\Local\\Temp\\ipykernel_14424\\3542807486.py:14: RuntimeWarning: Not setting positions of 4 eog channels found in montage:\n",
      "['HEOG', 'VEOGL', 'VEOGR', 'VEOG']\n",
      "Consider setting the channel types to be of EEG/sEEG/ECoG/DBS/fNIRS using inst.set_channel_types before calling inst.set_montage, or omit these channels when creating your montage.\n",
      "  data=mne.io.read_epochs_eeglab(srcpath)\n"
     ]
    },
    {
     "name": "stdout",
     "output_type": "stream",
     "text": [
      "Setting up band-pass filter from 1 - 63 Hz\n",
      "\n",
      "FIR filter parameters\n",
      "---------------------\n",
      "Designing a one-pass, zero-phase, non-causal bandpass filter:\n",
      "- Windowed time-domain design (firwin) method\n",
      "- Hamming window with 0.0194 passband ripple and 53 dB stopband attenuation\n",
      "- Lower passband edge: 1.00\n",
      "- Lower transition bandwidth: 1.00 Hz (-6 dB cutoff frequency: 0.50 Hz)\n",
      "- Upper passband edge: 63.00 Hz\n",
      "- Upper transition bandwidth: 1.00 Hz (-6 dB cutoff frequency: 63.50 Hz)\n",
      "- Filter length: 423 samples (3.305 sec)\n",
      "\n"
     ]
    },
    {
     "name": "stderr",
     "output_type": "stream",
     "text": [
      "[Parallel(n_jobs=1)]: Using backend SequentialBackend with 1 concurrent workers.\n",
      "[Parallel(n_jobs=1)]: Done   1 out of   1 | elapsed:    0.0s remaining:    0.0s\n",
      "[Parallel(n_jobs=1)]: Done   2 out of   2 | elapsed:    0.0s remaining:    0.0s\n",
      "[Parallel(n_jobs=1)]: Done   3 out of   3 | elapsed:    0.0s remaining:    0.0s\n",
      "[Parallel(n_jobs=1)]: Done   4 out of   4 | elapsed:    0.0s remaining:    0.0s\n",
      "[Parallel(n_jobs=1)]: Done 3572 out of 3572 | elapsed:    1.5s finished\n"
     ]
    },
    {
     "name": "stdout",
     "output_type": "stream",
     "text": [
      "study04_p29_prep.set 1024 0 47 48128 (61, 1024)\n",
      "study04_p29_prep.set 1024 1024 47 48128 (61, 1024)\n",
      "study04_p29_prep.set 1024 2048 47 48128 (61, 1024)\n",
      "study04_p29_prep.set 1024 3072 47 48128 (61, 1024)\n",
      "study04_p29_prep.set 1024 4096 47 48128 (61, 1024)\n",
      "study04_p29_prep.set 1024 5120 47 48128 (61, 1024)\n",
      "study04_p29_prep.set 1024 6144 47 48128 (61, 1024)\n",
      "study04_p29_prep.set 1024 7168 47 48128 (61, 1024)\n",
      "study04_p29_prep.set 1024 8192 47 48128 (61, 1024)\n",
      "study04_p29_prep.set 1024 9216 47 48128 (61, 1024)\n",
      "study04_p29_prep.set 1024 10240 47 48128 (61, 1024)\n",
      "study04_p29_prep.set 1024 11264 47 48128 (61, 1024)\n",
      "study04_p29_prep.set 1024 12288 47 48128 (61, 1024)\n",
      "study04_p29_prep.set 1024 13312 47 48128 (61, 1024)\n",
      "study04_p29_prep.set 1024 14336 47 48128 (61, 1024)\n",
      "study04_p29_prep.set 1024 15360 47 48128 (61, 1024)\n",
      "study04_p29_prep.set 1024 16384 47 48128 (61, 1024)\n",
      "study04_p29_prep.set 1024 17408 47 48128 (61, 1024)\n",
      "study04_p29_prep.set 1024 18432 47 48128 (61, 1024)\n",
      "study04_p29_prep.set 1024 19456 47 48128 (61, 1024)\n",
      "study04_p29_prep.set 1024 20480 47 48128 (61, 1024)\n",
      "study04_p29_prep.set 1024 21504 47 48128 (61, 1024)\n",
      "study04_p29_prep.set 1024 22528 47 48128 (61, 1024)\n",
      "study04_p29_prep.set 1024 23552 47 48128 (61, 1024)\n",
      "study04_p29_prep.set 1024 24576 47 48128 (61, 1024)\n",
      "study04_p29_prep.set 1024 25600 47 48128 (61, 1024)\n",
      "study04_p29_prep.set 1024 26624 47 48128 (61, 1024)\n",
      "study04_p29_prep.set 1024 27648 47 48128 (61, 1024)\n",
      "study04_p29_prep.set 1024 28672 47 48128 (61, 1024)\n",
      "study04_p29_prep.set 1024 29696 47 48128 (61, 1024)\n",
      "study04_p29_prep.set 1024 30720 47 48128 (61, 1024)\n",
      "study04_p29_prep.set 1024 31744 47 48128 (61, 1024)\n",
      "study04_p29_prep.set 1024 32768 47 48128 (61, 1024)\n",
      "study04_p29_prep.set 1024 33792 47 48128 (61, 1024)\n",
      "study04_p29_prep.set 1024 34816 47 48128 (61, 1024)\n",
      "study04_p29_prep.set 1024 35840 47 48128 (61, 1024)\n",
      "study04_p29_prep.set 1024 36864 47 48128 (61, 1024)\n",
      "study04_p29_prep.set 1024 37888 47 48128 (61, 1024)\n",
      "study04_p29_prep.set 1024 38912 47 48128 (61, 1024)\n",
      "study04_p29_prep.set 1024 39936 47 48128 (61, 1024)\n",
      "study04_p29_prep.set 1024 40960 47 48128 (61, 1024)\n",
      "study04_p29_prep.set 1024 41984 47 48128 (61, 1024)\n",
      "study04_p29_prep.set 1024 43008 47 48128 (61, 1024)\n",
      "study04_p29_prep.set 1024 44032 47 48128 (61, 1024)\n",
      "study04_p29_prep.set 1024 45056 47 48128 (61, 1024)\n",
      "study04_p29_prep.set 1024 46080 47 48128 (61, 1024)\n",
      "study04_p29_prep.set 1024 47104 47 48128 (61, 1024)\n"
     ]
    },
    {
     "name": "stderr",
     "output_type": "stream",
     "text": [
      "C:\\Users\\DELL\\anaconda3\\lib\\site-packages\\pymatreader\\utils.py:122: UserWarning: Complex objects (like classes) are not supported. They are imported on a best effort base but your mileage will vary.\n",
      "  warn('Complex objects (like classes) are not supported. '\n"
     ]
    },
    {
     "name": "stdout",
     "output_type": "stream",
     "text": [
      "Extracting parameters from C:\\Users\\DELL\\Desktop\\20credit\\EEG_eye_artifact\\wholedata\\study04_p30_prep.set...\n",
      "Not setting metadata\n",
      "49 matching events found\n",
      "No baseline correction applied\n",
      "0 projection items activated\n",
      "Ready.\n"
     ]
    },
    {
     "name": "stderr",
     "output_type": "stream",
     "text": [
      "C:\\Users\\DELL\\AppData\\Local\\Temp\\ipykernel_14424\\3542807486.py:14: RuntimeWarning: At least one epoch has multiple events. Only the latency of the first event will be retained.\n",
      "  data=mne.io.read_epochs_eeglab(srcpath)\n",
      "C:\\Users\\DELL\\AppData\\Local\\Temp\\ipykernel_14424\\3542807486.py:14: RuntimeWarning: Unknown types found, setting as type EEG:\n",
      "artifact: ['eye-art', 'eye-blink', 'eye-d', 'eye-fix', 'eye-l', 'eye-r', 'eye-u']\n",
      "eoglpf: ['HEOG_lpf', 'VEOG_lpf']\n",
      "label: ['artifactclasses']\n",
      "paradigm: ['block']\n",
      "state: ['label']\n",
      "  data=mne.io.read_epochs_eeglab(srcpath)\n",
      "C:\\Users\\DELL\\AppData\\Local\\Temp\\ipykernel_14424\\3542807486.py:14: RuntimeWarning: Data file name in EEG.data (ebs_prep.fdt) is incorrect, the file name must have changed on disk, using the correct file name (study04_p30_prep.fdt).\n",
      "  data=mne.io.read_epochs_eeglab(srcpath)\n",
      "C:\\Users\\DELL\\AppData\\Local\\Temp\\ipykernel_14424\\3542807486.py:14: RuntimeWarning: Not setting positions of 4 eog channels found in montage:\n",
      "['HEOG', 'VEOGL', 'VEOGR', 'VEOG']\n",
      "Consider setting the channel types to be of EEG/sEEG/ECoG/DBS/fNIRS using inst.set_channel_types before calling inst.set_montage, or omit these channels when creating your montage.\n",
      "  data=mne.io.read_epochs_eeglab(srcpath)\n"
     ]
    },
    {
     "name": "stdout",
     "output_type": "stream",
     "text": [
      "Setting up band-pass filter from 1 - 63 Hz\n",
      "\n",
      "FIR filter parameters\n",
      "---------------------\n",
      "Designing a one-pass, zero-phase, non-causal bandpass filter:\n",
      "- Windowed time-domain design (firwin) method\n",
      "- Hamming window with 0.0194 passband ripple and 53 dB stopband attenuation\n",
      "- Lower passband edge: 1.00\n",
      "- Lower transition bandwidth: 1.00 Hz (-6 dB cutoff frequency: 0.50 Hz)\n",
      "- Upper passband edge: 63.00 Hz\n",
      "- Upper transition bandwidth: 1.00 Hz (-6 dB cutoff frequency: 63.50 Hz)\n",
      "- Filter length: 423 samples (3.305 sec)\n",
      "\n"
     ]
    },
    {
     "name": "stderr",
     "output_type": "stream",
     "text": [
      "[Parallel(n_jobs=1)]: Using backend SequentialBackend with 1 concurrent workers.\n",
      "[Parallel(n_jobs=1)]: Done   1 out of   1 | elapsed:    0.0s remaining:    0.0s\n",
      "[Parallel(n_jobs=1)]: Done   2 out of   2 | elapsed:    0.0s remaining:    0.0s\n",
      "[Parallel(n_jobs=1)]: Done   3 out of   3 | elapsed:    0.0s remaining:    0.0s\n",
      "[Parallel(n_jobs=1)]: Done   4 out of   4 | elapsed:    0.0s remaining:    0.0s\n",
      "[Parallel(n_jobs=1)]: Done 3724 out of 3724 | elapsed:    1.6s finished\n"
     ]
    },
    {
     "name": "stdout",
     "output_type": "stream",
     "text": [
      "study04_p30_prep.set 1024 0 49 50176 (61, 1024)\n",
      "study04_p30_prep.set 1024 1024 49 50176 (61, 1024)\n",
      "study04_p30_prep.set 1024 2048 49 50176 (61, 1024)\n",
      "study04_p30_prep.set 1024 3072 49 50176 (61, 1024)\n",
      "study04_p30_prep.set 1024 4096 49 50176 (61, 1024)\n",
      "study04_p30_prep.set 1024 5120 49 50176 (61, 1024)\n",
      "study04_p30_prep.set 1024 6144 49 50176 (61, 1024)\n",
      "study04_p30_prep.set 1024 7168 49 50176 (61, 1024)\n",
      "study04_p30_prep.set 1024 8192 49 50176 (61, 1024)\n",
      "study04_p30_prep.set 1024 9216 49 50176 (61, 1024)\n",
      "study04_p30_prep.set 1024 10240 49 50176 (61, 1024)\n",
      "study04_p30_prep.set 1024 11264 49 50176 (61, 1024)\n",
      "study04_p30_prep.set 1024 12288 49 50176 (61, 1024)\n",
      "study04_p30_prep.set 1024 13312 49 50176 (61, 1024)\n",
      "study04_p30_prep.set 1024 14336 49 50176 (61, 1024)\n",
      "study04_p30_prep.set 1024 15360 49 50176 (61, 1024)\n",
      "study04_p30_prep.set 1024 16384 49 50176 (61, 1024)\n",
      "study04_p30_prep.set 1024 17408 49 50176 (61, 1024)\n",
      "study04_p30_prep.set 1024 18432 49 50176 (61, 1024)\n",
      "study04_p30_prep.set 1024 19456 49 50176 (61, 1024)\n",
      "study04_p30_prep.set 1024 20480 49 50176 (61, 1024)\n",
      "study04_p30_prep.set 1024 21504 49 50176 (61, 1024)\n",
      "study04_p30_prep.set 1024 22528 49 50176 (61, 1024)\n",
      "study04_p30_prep.set 1024 23552 49 50176 (61, 1024)\n",
      "study04_p30_prep.set 1024 24576 49 50176 (61, 1024)\n",
      "study04_p30_prep.set 1024 25600 49 50176 (61, 1024)\n",
      "study04_p30_prep.set 1024 26624 49 50176 (61, 1024)\n",
      "study04_p30_prep.set 1024 27648 49 50176 (61, 1024)\n",
      "study04_p30_prep.set 1024 28672 49 50176 (61, 1024)\n",
      "study04_p30_prep.set 1024 29696 49 50176 (61, 1024)\n",
      "study04_p30_prep.set 1024 30720 49 50176 (61, 1024)\n",
      "study04_p30_prep.set 1024 31744 49 50176 (61, 1024)\n",
      "study04_p30_prep.set 1024 32768 49 50176 (61, 1024)\n",
      "study04_p30_prep.set 1024 33792 49 50176 (61, 1024)\n",
      "study04_p30_prep.set 1024 34816 49 50176 (61, 1024)\n",
      "study04_p30_prep.set 1024 35840 49 50176 (61, 1024)\n",
      "study04_p30_prep.set 1024 36864 49 50176 (61, 1024)\n",
      "study04_p30_prep.set 1024 37888 49 50176 (61, 1024)\n",
      "study04_p30_prep.set 1024 38912 49 50176 (61, 1024)\n",
      "study04_p30_prep.set 1024 39936 49 50176 (61, 1024)\n",
      "study04_p30_prep.set 1024 40960 49 50176 (61, 1024)\n",
      "study04_p30_prep.set 1024 41984 49 50176 (61, 1024)\n",
      "study04_p30_prep.set 1024 43008 49 50176 (61, 1024)\n",
      "study04_p30_prep.set 1024 44032 49 50176 (61, 1024)\n",
      "study04_p30_prep.set 1024 45056 49 50176 (61, 1024)\n",
      "study04_p30_prep.set 1024 46080 49 50176 (61, 1024)\n",
      "study04_p30_prep.set 1024 47104 49 50176 (61, 1024)\n",
      "study04_p30_prep.set 1024 48128 49 50176 (61, 1024)\n",
      "study04_p30_prep.set 1024 49152 49 50176 (61, 1024)\n"
     ]
    },
    {
     "name": "stderr",
     "output_type": "stream",
     "text": [
      "C:\\Users\\DELL\\anaconda3\\lib\\site-packages\\pymatreader\\utils.py:122: UserWarning: Complex objects (like classes) are not supported. They are imported on a best effort base but your mileage will vary.\n",
      "  warn('Complex objects (like classes) are not supported. '\n"
     ]
    },
    {
     "name": "stdout",
     "output_type": "stream",
     "text": [
      "Extracting parameters from C:\\Users\\DELL\\Desktop\\20credit\\EEG_eye_artifact\\wholedata\\study04_p31_prep.set...\n",
      "Not setting metadata\n",
      "43 matching events found\n",
      "No baseline correction applied\n",
      "0 projection items activated\n",
      "Ready.\n"
     ]
    },
    {
     "name": "stderr",
     "output_type": "stream",
     "text": [
      "C:\\Users\\DELL\\AppData\\Local\\Temp\\ipykernel_14424\\3542807486.py:14: RuntimeWarning: At least one epoch has multiple events. Only the latency of the first event will be retained.\n",
      "  data=mne.io.read_epochs_eeglab(srcpath)\n",
      "C:\\Users\\DELL\\AppData\\Local\\Temp\\ipykernel_14424\\3542807486.py:14: RuntimeWarning: Unknown types found, setting as type EEG:\n",
      "artifact: ['eye-art', 'eye-blink', 'eye-d', 'eye-fix', 'eye-l', 'eye-r', 'eye-u']\n",
      "eoglpf: ['HEOG_lpf', 'VEOG_lpf']\n",
      "label: ['artifactclasses']\n",
      "paradigm: ['block']\n",
      "state: ['label']\n",
      "  data=mne.io.read_epochs_eeglab(srcpath)\n",
      "C:\\Users\\DELL\\AppData\\Local\\Temp\\ipykernel_14424\\3542807486.py:14: RuntimeWarning: Data file name in EEG.data (ebs_prep.fdt) is incorrect, the file name must have changed on disk, using the correct file name (study04_p31_prep.fdt).\n",
      "  data=mne.io.read_epochs_eeglab(srcpath)\n",
      "C:\\Users\\DELL\\AppData\\Local\\Temp\\ipykernel_14424\\3542807486.py:14: RuntimeWarning: Not setting positions of 4 eog channels found in montage:\n",
      "['HEOG', 'VEOGL', 'VEOGR', 'VEOG']\n",
      "Consider setting the channel types to be of EEG/sEEG/ECoG/DBS/fNIRS using inst.set_channel_types before calling inst.set_montage, or omit these channels when creating your montage.\n",
      "  data=mne.io.read_epochs_eeglab(srcpath)\n"
     ]
    },
    {
     "name": "stdout",
     "output_type": "stream",
     "text": [
      "Setting up band-pass filter from 1 - 63 Hz\n",
      "\n",
      "FIR filter parameters\n",
      "---------------------\n",
      "Designing a one-pass, zero-phase, non-causal bandpass filter:\n",
      "- Windowed time-domain design (firwin) method\n",
      "- Hamming window with 0.0194 passband ripple and 53 dB stopband attenuation\n",
      "- Lower passband edge: 1.00\n",
      "- Lower transition bandwidth: 1.00 Hz (-6 dB cutoff frequency: 0.50 Hz)\n",
      "- Upper passband edge: 63.00 Hz\n",
      "- Upper transition bandwidth: 1.00 Hz (-6 dB cutoff frequency: 63.50 Hz)\n",
      "- Filter length: 423 samples (3.305 sec)\n",
      "\n"
     ]
    },
    {
     "name": "stderr",
     "output_type": "stream",
     "text": [
      "[Parallel(n_jobs=1)]: Using backend SequentialBackend with 1 concurrent workers.\n",
      "[Parallel(n_jobs=1)]: Done   1 out of   1 | elapsed:    0.0s remaining:    0.0s\n",
      "[Parallel(n_jobs=1)]: Done   2 out of   2 | elapsed:    0.0s remaining:    0.0s\n",
      "[Parallel(n_jobs=1)]: Done   3 out of   3 | elapsed:    0.0s remaining:    0.0s\n",
      "[Parallel(n_jobs=1)]: Done   4 out of   4 | elapsed:    0.0s remaining:    0.0s\n",
      "[Parallel(n_jobs=1)]: Done 3268 out of 3268 | elapsed:    1.4s finished\n"
     ]
    },
    {
     "name": "stdout",
     "output_type": "stream",
     "text": [
      "study04_p31_prep.set 1024 0 43 44032 (61, 1024)\n",
      "study04_p31_prep.set 1024 1024 43 44032 (61, 1024)\n",
      "study04_p31_prep.set 1024 2048 43 44032 (61, 1024)\n",
      "study04_p31_prep.set 1024 3072 43 44032 (61, 1024)\n",
      "study04_p31_prep.set 1024 4096 43 44032 (61, 1024)\n",
      "study04_p31_prep.set 1024 5120 43 44032 (61, 1024)\n",
      "study04_p31_prep.set 1024 6144 43 44032 (61, 1024)\n",
      "study04_p31_prep.set 1024 7168 43 44032 (61, 1024)\n",
      "study04_p31_prep.set 1024 8192 43 44032 (61, 1024)\n",
      "study04_p31_prep.set 1024 9216 43 44032 (61, 1024)\n",
      "study04_p31_prep.set 1024 10240 43 44032 (61, 1024)\n",
      "study04_p31_prep.set 1024 11264 43 44032 (61, 1024)\n",
      "study04_p31_prep.set 1024 12288 43 44032 (61, 1024)\n",
      "study04_p31_prep.set 1024 13312 43 44032 (61, 1024)\n",
      "study04_p31_prep.set 1024 14336 43 44032 (61, 1024)\n",
      "study04_p31_prep.set 1024 15360 43 44032 (61, 1024)\n",
      "study04_p31_prep.set 1024 16384 43 44032 (61, 1024)\n",
      "study04_p31_prep.set 1024 17408 43 44032 (61, 1024)\n",
      "study04_p31_prep.set 1024 18432 43 44032 (61, 1024)\n",
      "study04_p31_prep.set 1024 19456 43 44032 (61, 1024)\n",
      "study04_p31_prep.set 1024 20480 43 44032 (61, 1024)\n",
      "study04_p31_prep.set 1024 21504 43 44032 (61, 1024)\n",
      "study04_p31_prep.set 1024 22528 43 44032 (61, 1024)\n",
      "study04_p31_prep.set 1024 23552 43 44032 (61, 1024)\n",
      "study04_p31_prep.set 1024 24576 43 44032 (61, 1024)\n",
      "study04_p31_prep.set 1024 25600 43 44032 (61, 1024)\n",
      "study04_p31_prep.set 1024 26624 43 44032 (61, 1024)\n",
      "study04_p31_prep.set 1024 27648 43 44032 (61, 1024)\n",
      "study04_p31_prep.set 1024 28672 43 44032 (61, 1024)\n",
      "study04_p31_prep.set 1024 29696 43 44032 (61, 1024)\n",
      "study04_p31_prep.set 1024 30720 43 44032 (61, 1024)\n",
      "study04_p31_prep.set 1024 31744 43 44032 (61, 1024)\n",
      "study04_p31_prep.set 1024 32768 43 44032 (61, 1024)\n",
      "study04_p31_prep.set 1024 33792 43 44032 (61, 1024)\n",
      "study04_p31_prep.set 1024 34816 43 44032 (61, 1024)\n",
      "study04_p31_prep.set 1024 35840 43 44032 (61, 1024)\n",
      "study04_p31_prep.set 1024 36864 43 44032 (61, 1024)\n",
      "study04_p31_prep.set 1024 37888 43 44032 (61, 1024)\n",
      "study04_p31_prep.set 1024 38912 43 44032 (61, 1024)\n",
      "study04_p31_prep.set 1024 39936 43 44032 (61, 1024)\n",
      "study04_p31_prep.set 1024 40960 43 44032 (61, 1024)\n",
      "study04_p31_prep.set 1024 41984 43 44032 (61, 1024)\n",
      "study04_p31_prep.set 1024 43008 43 44032 (61, 1024)\n"
     ]
    },
    {
     "name": "stderr",
     "output_type": "stream",
     "text": [
      "C:\\Users\\DELL\\anaconda3\\lib\\site-packages\\pymatreader\\utils.py:122: UserWarning: Complex objects (like classes) are not supported. They are imported on a best effort base but your mileage will vary.\n",
      "  warn('Complex objects (like classes) are not supported. '\n"
     ]
    },
    {
     "name": "stdout",
     "output_type": "stream",
     "text": [
      "Extracting parameters from C:\\Users\\DELL\\Desktop\\20credit\\EEG_eye_artifact\\wholedata\\study04_p32_prep.set...\n",
      "Not setting metadata\n",
      "47 matching events found\n",
      "No baseline correction applied\n",
      "0 projection items activated\n",
      "Ready.\n"
     ]
    },
    {
     "name": "stderr",
     "output_type": "stream",
     "text": [
      "C:\\Users\\DELL\\AppData\\Local\\Temp\\ipykernel_14424\\3542807486.py:14: RuntimeWarning: At least one epoch has multiple events. Only the latency of the first event will be retained.\n",
      "  data=mne.io.read_epochs_eeglab(srcpath)\n",
      "C:\\Users\\DELL\\AppData\\Local\\Temp\\ipykernel_14424\\3542807486.py:14: RuntimeWarning: Unknown types found, setting as type EEG:\n",
      "artifact: ['eye-art', 'eye-blink', 'eye-d', 'eye-fix', 'eye-l', 'eye-r', 'eye-u']\n",
      "eoglpf: ['HEOG_lpf', 'VEOG_lpf']\n",
      "label: ['artifactclasses']\n",
      "paradigm: ['block']\n",
      "state: ['label']\n",
      "  data=mne.io.read_epochs_eeglab(srcpath)\n",
      "C:\\Users\\DELL\\AppData\\Local\\Temp\\ipykernel_14424\\3542807486.py:14: RuntimeWarning: Data file name in EEG.data (ebs_prep.fdt) is incorrect, the file name must have changed on disk, using the correct file name (study04_p32_prep.fdt).\n",
      "  data=mne.io.read_epochs_eeglab(srcpath)\n",
      "C:\\Users\\DELL\\AppData\\Local\\Temp\\ipykernel_14424\\3542807486.py:14: RuntimeWarning: Not setting positions of 4 eog channels found in montage:\n",
      "['HEOG', 'VEOGL', 'VEOGR', 'VEOG']\n",
      "Consider setting the channel types to be of EEG/sEEG/ECoG/DBS/fNIRS using inst.set_channel_types before calling inst.set_montage, or omit these channels when creating your montage.\n",
      "  data=mne.io.read_epochs_eeglab(srcpath)\n"
     ]
    },
    {
     "name": "stdout",
     "output_type": "stream",
     "text": [
      "Setting up band-pass filter from 1 - 63 Hz\n",
      "\n",
      "FIR filter parameters\n",
      "---------------------\n",
      "Designing a one-pass, zero-phase, non-causal bandpass filter:\n",
      "- Windowed time-domain design (firwin) method\n",
      "- Hamming window with 0.0194 passband ripple and 53 dB stopband attenuation\n",
      "- Lower passband edge: 1.00\n",
      "- Lower transition bandwidth: 1.00 Hz (-6 dB cutoff frequency: 0.50 Hz)\n",
      "- Upper passband edge: 63.00 Hz\n",
      "- Upper transition bandwidth: 1.00 Hz (-6 dB cutoff frequency: 63.50 Hz)\n",
      "- Filter length: 423 samples (3.305 sec)\n",
      "\n"
     ]
    },
    {
     "name": "stderr",
     "output_type": "stream",
     "text": [
      "[Parallel(n_jobs=1)]: Using backend SequentialBackend with 1 concurrent workers.\n",
      "[Parallel(n_jobs=1)]: Done   1 out of   1 | elapsed:    0.0s remaining:    0.0s\n",
      "[Parallel(n_jobs=1)]: Done   2 out of   2 | elapsed:    0.0s remaining:    0.0s\n",
      "[Parallel(n_jobs=1)]: Done   3 out of   3 | elapsed:    0.0s remaining:    0.0s\n",
      "[Parallel(n_jobs=1)]: Done   4 out of   4 | elapsed:    0.0s remaining:    0.0s\n",
      "[Parallel(n_jobs=1)]: Done 3572 out of 3572 | elapsed:    1.5s finished\n"
     ]
    },
    {
     "name": "stdout",
     "output_type": "stream",
     "text": [
      "study04_p32_prep.set 1024 0 47 48128 (61, 1024)\n",
      "study04_p32_prep.set 1024 1024 47 48128 (61, 1024)\n",
      "study04_p32_prep.set 1024 2048 47 48128 (61, 1024)\n",
      "study04_p32_prep.set 1024 3072 47 48128 (61, 1024)\n",
      "study04_p32_prep.set 1024 4096 47 48128 (61, 1024)\n",
      "study04_p32_prep.set 1024 5120 47 48128 (61, 1024)\n",
      "study04_p32_prep.set 1024 6144 47 48128 (61, 1024)\n",
      "study04_p32_prep.set 1024 7168 47 48128 (61, 1024)\n",
      "study04_p32_prep.set 1024 8192 47 48128 (61, 1024)\n",
      "study04_p32_prep.set 1024 9216 47 48128 (61, 1024)\n",
      "study04_p32_prep.set 1024 10240 47 48128 (61, 1024)\n",
      "study04_p32_prep.set 1024 11264 47 48128 (61, 1024)\n",
      "study04_p32_prep.set 1024 12288 47 48128 (61, 1024)\n",
      "study04_p32_prep.set 1024 13312 47 48128 (61, 1024)\n",
      "study04_p32_prep.set 1024 14336 47 48128 (61, 1024)\n",
      "study04_p32_prep.set 1024 15360 47 48128 (61, 1024)\n",
      "study04_p32_prep.set 1024 16384 47 48128 (61, 1024)\n",
      "study04_p32_prep.set 1024 17408 47 48128 (61, 1024)\n",
      "study04_p32_prep.set 1024 18432 47 48128 (61, 1024)\n",
      "study04_p32_prep.set 1024 19456 47 48128 (61, 1024)\n",
      "study04_p32_prep.set 1024 20480 47 48128 (61, 1024)\n",
      "study04_p32_prep.set 1024 21504 47 48128 (61, 1024)\n",
      "study04_p32_prep.set 1024 22528 47 48128 (61, 1024)\n",
      "study04_p32_prep.set 1024 23552 47 48128 (61, 1024)\n",
      "study04_p32_prep.set 1024 24576 47 48128 (61, 1024)\n",
      "study04_p32_prep.set 1024 25600 47 48128 (61, 1024)\n",
      "study04_p32_prep.set 1024 26624 47 48128 (61, 1024)\n",
      "study04_p32_prep.set 1024 27648 47 48128 (61, 1024)\n",
      "study04_p32_prep.set 1024 28672 47 48128 (61, 1024)\n",
      "study04_p32_prep.set 1024 29696 47 48128 (61, 1024)\n",
      "study04_p32_prep.set 1024 30720 47 48128 (61, 1024)\n",
      "study04_p32_prep.set 1024 31744 47 48128 (61, 1024)\n",
      "study04_p32_prep.set 1024 32768 47 48128 (61, 1024)\n",
      "study04_p32_prep.set 1024 33792 47 48128 (61, 1024)\n",
      "study04_p32_prep.set 1024 34816 47 48128 (61, 1024)\n",
      "study04_p32_prep.set 1024 35840 47 48128 (61, 1024)\n",
      "study04_p32_prep.set 1024 36864 47 48128 (61, 1024)\n",
      "study04_p32_prep.set 1024 37888 47 48128 (61, 1024)\n",
      "study04_p32_prep.set 1024 38912 47 48128 (61, 1024)\n",
      "study04_p32_prep.set 1024 39936 47 48128 (61, 1024)\n",
      "study04_p32_prep.set 1024 40960 47 48128 (61, 1024)\n",
      "study04_p32_prep.set 1024 41984 47 48128 (61, 1024)\n",
      "study04_p32_prep.set 1024 43008 47 48128 (61, 1024)\n",
      "study04_p32_prep.set 1024 44032 47 48128 (61, 1024)\n",
      "study04_p32_prep.set 1024 45056 47 48128 (61, 1024)\n",
      "study04_p32_prep.set 1024 46080 47 48128 (61, 1024)\n",
      "study04_p32_prep.set 1024 47104 47 48128 (61, 1024)\n"
     ]
    },
    {
     "name": "stderr",
     "output_type": "stream",
     "text": [
      "C:\\Users\\DELL\\anaconda3\\lib\\site-packages\\pymatreader\\utils.py:122: UserWarning: Complex objects (like classes) are not supported. They are imported on a best effort base but your mileage will vary.\n",
      "  warn('Complex objects (like classes) are not supported. '\n"
     ]
    },
    {
     "name": "stdout",
     "output_type": "stream",
     "text": [
      "Extracting parameters from C:\\Users\\DELL\\Desktop\\20credit\\EEG_eye_artifact\\wholedata\\study04_p33_prep.set...\n",
      "Not setting metadata\n",
      "52 matching events found\n",
      "No baseline correction applied\n",
      "0 projection items activated\n",
      "Ready.\n"
     ]
    },
    {
     "name": "stderr",
     "output_type": "stream",
     "text": [
      "C:\\Users\\DELL\\AppData\\Local\\Temp\\ipykernel_14424\\3542807486.py:14: RuntimeWarning: At least one epoch has multiple events. Only the latency of the first event will be retained.\n",
      "  data=mne.io.read_epochs_eeglab(srcpath)\n",
      "C:\\Users\\DELL\\AppData\\Local\\Temp\\ipykernel_14424\\3542807486.py:14: RuntimeWarning: Unknown types found, setting as type EEG:\n",
      "artifact: ['eye-art', 'eye-blink', 'eye-d', 'eye-fix', 'eye-l', 'eye-r', 'eye-u']\n",
      "eoglpf: ['HEOG_lpf', 'VEOG_lpf']\n",
      "label: ['artifactclasses']\n",
      "paradigm: ['block']\n",
      "state: ['label']\n",
      "  data=mne.io.read_epochs_eeglab(srcpath)\n",
      "C:\\Users\\DELL\\AppData\\Local\\Temp\\ipykernel_14424\\3542807486.py:14: RuntimeWarning: Data file name in EEG.data (ebs_prep.fdt) is incorrect, the file name must have changed on disk, using the correct file name (study04_p33_prep.fdt).\n",
      "  data=mne.io.read_epochs_eeglab(srcpath)\n",
      "C:\\Users\\DELL\\AppData\\Local\\Temp\\ipykernel_14424\\3542807486.py:14: RuntimeWarning: Not setting positions of 4 eog channels found in montage:\n",
      "['HEOG', 'VEOGL', 'VEOGR', 'VEOG']\n",
      "Consider setting the channel types to be of EEG/sEEG/ECoG/DBS/fNIRS using inst.set_channel_types before calling inst.set_montage, or omit these channels when creating your montage.\n",
      "  data=mne.io.read_epochs_eeglab(srcpath)\n"
     ]
    },
    {
     "name": "stdout",
     "output_type": "stream",
     "text": [
      "Setting up band-pass filter from 1 - 63 Hz\n",
      "\n",
      "FIR filter parameters\n",
      "---------------------\n",
      "Designing a one-pass, zero-phase, non-causal bandpass filter:\n",
      "- Windowed time-domain design (firwin) method\n",
      "- Hamming window with 0.0194 passband ripple and 53 dB stopband attenuation\n",
      "- Lower passband edge: 1.00\n",
      "- Lower transition bandwidth: 1.00 Hz (-6 dB cutoff frequency: 0.50 Hz)\n",
      "- Upper passband edge: 63.00 Hz\n",
      "- Upper transition bandwidth: 1.00 Hz (-6 dB cutoff frequency: 63.50 Hz)\n",
      "- Filter length: 423 samples (3.305 sec)\n",
      "\n"
     ]
    },
    {
     "name": "stderr",
     "output_type": "stream",
     "text": [
      "[Parallel(n_jobs=1)]: Using backend SequentialBackend with 1 concurrent workers.\n",
      "[Parallel(n_jobs=1)]: Done   1 out of   1 | elapsed:    0.0s remaining:    0.0s\n",
      "[Parallel(n_jobs=1)]: Done   2 out of   2 | elapsed:    0.0s remaining:    0.0s\n",
      "[Parallel(n_jobs=1)]: Done   3 out of   3 | elapsed:    0.0s remaining:    0.0s\n",
      "[Parallel(n_jobs=1)]: Done   4 out of   4 | elapsed:    0.0s remaining:    0.0s\n",
      "[Parallel(n_jobs=1)]: Done 3952 out of 3952 | elapsed:    1.7s finished\n"
     ]
    },
    {
     "name": "stdout",
     "output_type": "stream",
     "text": [
      "study04_p33_prep.set 1024 0 52 53248 (61, 1024)\n",
      "study04_p33_prep.set 1024 1024 52 53248 (61, 1024)\n",
      "study04_p33_prep.set 1024 2048 52 53248 (61, 1024)\n",
      "study04_p33_prep.set 1024 3072 52 53248 (61, 1024)\n",
      "study04_p33_prep.set 1024 4096 52 53248 (61, 1024)\n",
      "study04_p33_prep.set 1024 5120 52 53248 (61, 1024)\n",
      "study04_p33_prep.set 1024 6144 52 53248 (61, 1024)\n",
      "study04_p33_prep.set 1024 7168 52 53248 (61, 1024)\n",
      "study04_p33_prep.set 1024 8192 52 53248 (61, 1024)\n",
      "study04_p33_prep.set 1024 9216 52 53248 (61, 1024)\n",
      "study04_p33_prep.set 1024 10240 52 53248 (61, 1024)\n",
      "study04_p33_prep.set 1024 11264 52 53248 (61, 1024)\n",
      "study04_p33_prep.set 1024 12288 52 53248 (61, 1024)\n",
      "study04_p33_prep.set 1024 13312 52 53248 (61, 1024)\n",
      "study04_p33_prep.set 1024 14336 52 53248 (61, 1024)\n",
      "study04_p33_prep.set 1024 15360 52 53248 (61, 1024)\n",
      "study04_p33_prep.set 1024 16384 52 53248 (61, 1024)\n",
      "study04_p33_prep.set 1024 17408 52 53248 (61, 1024)\n",
      "study04_p33_prep.set 1024 18432 52 53248 (61, 1024)\n",
      "study04_p33_prep.set 1024 19456 52 53248 (61, 1024)\n",
      "study04_p33_prep.set 1024 20480 52 53248 (61, 1024)\n",
      "study04_p33_prep.set 1024 21504 52 53248 (61, 1024)\n",
      "study04_p33_prep.set 1024 22528 52 53248 (61, 1024)\n",
      "study04_p33_prep.set 1024 23552 52 53248 (61, 1024)\n",
      "study04_p33_prep.set 1024 24576 52 53248 (61, 1024)\n",
      "study04_p33_prep.set 1024 25600 52 53248 (61, 1024)\n",
      "study04_p33_prep.set 1024 26624 52 53248 (61, 1024)\n",
      "study04_p33_prep.set 1024 27648 52 53248 (61, 1024)\n",
      "study04_p33_prep.set 1024 28672 52 53248 (61, 1024)\n",
      "study04_p33_prep.set 1024 29696 52 53248 (61, 1024)\n",
      "study04_p33_prep.set 1024 30720 52 53248 (61, 1024)\n",
      "study04_p33_prep.set 1024 31744 52 53248 (61, 1024)\n",
      "study04_p33_prep.set 1024 32768 52 53248 (61, 1024)\n",
      "study04_p33_prep.set 1024 33792 52 53248 (61, 1024)\n",
      "study04_p33_prep.set 1024 34816 52 53248 (61, 1024)\n",
      "study04_p33_prep.set 1024 35840 52 53248 (61, 1024)\n",
      "study04_p33_prep.set 1024 36864 52 53248 (61, 1024)\n",
      "study04_p33_prep.set 1024 37888 52 53248 (61, 1024)\n",
      "study04_p33_prep.set 1024 38912 52 53248 (61, 1024)\n",
      "study04_p33_prep.set 1024 39936 52 53248 (61, 1024)\n",
      "study04_p33_prep.set 1024 40960 52 53248 (61, 1024)\n",
      "study04_p33_prep.set 1024 41984 52 53248 (61, 1024)\n",
      "study04_p33_prep.set 1024 43008 52 53248 (61, 1024)\n",
      "study04_p33_prep.set 1024 44032 52 53248 (61, 1024)\n",
      "study04_p33_prep.set 1024 45056 52 53248 (61, 1024)\n",
      "study04_p33_prep.set 1024 46080 52 53248 (61, 1024)\n",
      "study04_p33_prep.set 1024 47104 52 53248 (61, 1024)\n",
      "study04_p33_prep.set 1024 48128 52 53248 (61, 1024)\n",
      "study04_p33_prep.set 1024 49152 52 53248 (61, 1024)\n",
      "study04_p33_prep.set 1024 50176 52 53248 (61, 1024)\n",
      "study04_p33_prep.set 1024 51200 52 53248 (61, 1024)\n",
      "study04_p33_prep.set 1024 52224 52 53248 (61, 1024)\n"
     ]
    },
    {
     "name": "stderr",
     "output_type": "stream",
     "text": [
      "C:\\Users\\DELL\\anaconda3\\lib\\site-packages\\pymatreader\\utils.py:122: UserWarning: Complex objects (like classes) are not supported. They are imported on a best effort base but your mileage will vary.\n",
      "  warn('Complex objects (like classes) are not supported. '\n"
     ]
    },
    {
     "name": "stdout",
     "output_type": "stream",
     "text": [
      "Extracting parameters from C:\\Users\\DELL\\Desktop\\20credit\\EEG_eye_artifact\\wholedata\\study04_p34_prep.set...\n",
      "Not setting metadata\n",
      "44 matching events found\n",
      "No baseline correction applied\n",
      "0 projection items activated\n",
      "Ready.\n"
     ]
    },
    {
     "name": "stderr",
     "output_type": "stream",
     "text": [
      "C:\\Users\\DELL\\AppData\\Local\\Temp\\ipykernel_14424\\3542807486.py:14: RuntimeWarning: At least one epoch has multiple events. Only the latency of the first event will be retained.\n",
      "  data=mne.io.read_epochs_eeglab(srcpath)\n",
      "C:\\Users\\DELL\\AppData\\Local\\Temp\\ipykernel_14424\\3542807486.py:14: RuntimeWarning: Unknown types found, setting as type EEG:\n",
      "artifact: ['eye-art', 'eye-blink', 'eye-d', 'eye-fix', 'eye-l', 'eye-r', 'eye-u']\n",
      "eoglpf: ['HEOG_lpf', 'VEOG_lpf']\n",
      "label: ['artifactclasses']\n",
      "paradigm: ['block']\n",
      "state: ['label']\n",
      "  data=mne.io.read_epochs_eeglab(srcpath)\n",
      "C:\\Users\\DELL\\AppData\\Local\\Temp\\ipykernel_14424\\3542807486.py:14: RuntimeWarning: Data file name in EEG.data (ebs_prep.fdt) is incorrect, the file name must have changed on disk, using the correct file name (study04_p34_prep.fdt).\n",
      "  data=mne.io.read_epochs_eeglab(srcpath)\n",
      "C:\\Users\\DELL\\AppData\\Local\\Temp\\ipykernel_14424\\3542807486.py:14: RuntimeWarning: Not setting positions of 4 eog channels found in montage:\n",
      "['HEOG', 'VEOGL', 'VEOGR', 'VEOG']\n",
      "Consider setting the channel types to be of EEG/sEEG/ECoG/DBS/fNIRS using inst.set_channel_types before calling inst.set_montage, or omit these channels when creating your montage.\n",
      "  data=mne.io.read_epochs_eeglab(srcpath)\n"
     ]
    },
    {
     "name": "stdout",
     "output_type": "stream",
     "text": [
      "Setting up band-pass filter from 1 - 63 Hz\n",
      "\n",
      "FIR filter parameters\n",
      "---------------------\n",
      "Designing a one-pass, zero-phase, non-causal bandpass filter:\n",
      "- Windowed time-domain design (firwin) method\n",
      "- Hamming window with 0.0194 passband ripple and 53 dB stopband attenuation\n",
      "- Lower passband edge: 1.00\n",
      "- Lower transition bandwidth: 1.00 Hz (-6 dB cutoff frequency: 0.50 Hz)\n",
      "- Upper passband edge: 63.00 Hz\n",
      "- Upper transition bandwidth: 1.00 Hz (-6 dB cutoff frequency: 63.50 Hz)\n",
      "- Filter length: 423 samples (3.305 sec)\n",
      "\n"
     ]
    },
    {
     "name": "stderr",
     "output_type": "stream",
     "text": [
      "[Parallel(n_jobs=1)]: Using backend SequentialBackend with 1 concurrent workers.\n",
      "[Parallel(n_jobs=1)]: Done   1 out of   1 | elapsed:    0.0s remaining:    0.0s\n",
      "[Parallel(n_jobs=1)]: Done   2 out of   2 | elapsed:    0.0s remaining:    0.0s\n",
      "[Parallel(n_jobs=1)]: Done   3 out of   3 | elapsed:    0.0s remaining:    0.0s\n",
      "[Parallel(n_jobs=1)]: Done   4 out of   4 | elapsed:    0.0s remaining:    0.0s\n",
      "[Parallel(n_jobs=1)]: Done 3344 out of 3344 | elapsed:    1.4s finished\n"
     ]
    },
    {
     "name": "stdout",
     "output_type": "stream",
     "text": [
      "study04_p34_prep.set 1024 0 44 45056 (61, 1024)\n",
      "study04_p34_prep.set 1024 1024 44 45056 (61, 1024)\n",
      "study04_p34_prep.set 1024 2048 44 45056 (61, 1024)\n",
      "study04_p34_prep.set 1024 3072 44 45056 (61, 1024)\n",
      "study04_p34_prep.set 1024 4096 44 45056 (61, 1024)\n",
      "study04_p34_prep.set 1024 5120 44 45056 (61, 1024)\n",
      "study04_p34_prep.set 1024 6144 44 45056 (61, 1024)\n",
      "study04_p34_prep.set 1024 7168 44 45056 (61, 1024)\n",
      "study04_p34_prep.set 1024 8192 44 45056 (61, 1024)\n",
      "study04_p34_prep.set 1024 9216 44 45056 (61, 1024)\n",
      "study04_p34_prep.set 1024 10240 44 45056 (61, 1024)\n",
      "study04_p34_prep.set 1024 11264 44 45056 (61, 1024)\n",
      "study04_p34_prep.set 1024 12288 44 45056 (61, 1024)\n",
      "study04_p34_prep.set 1024 13312 44 45056 (61, 1024)\n",
      "study04_p34_prep.set 1024 14336 44 45056 (61, 1024)\n",
      "study04_p34_prep.set 1024 15360 44 45056 (61, 1024)\n",
      "study04_p34_prep.set 1024 16384 44 45056 (61, 1024)\n",
      "study04_p34_prep.set 1024 17408 44 45056 (61, 1024)\n",
      "study04_p34_prep.set 1024 18432 44 45056 (61, 1024)\n",
      "study04_p34_prep.set 1024 19456 44 45056 (61, 1024)\n",
      "study04_p34_prep.set 1024 20480 44 45056 (61, 1024)\n",
      "study04_p34_prep.set 1024 21504 44 45056 (61, 1024)\n",
      "study04_p34_prep.set 1024 22528 44 45056 (61, 1024)\n",
      "study04_p34_prep.set 1024 23552 44 45056 (61, 1024)\n",
      "study04_p34_prep.set 1024 24576 44 45056 (61, 1024)\n",
      "study04_p34_prep.set 1024 25600 44 45056 (61, 1024)\n",
      "study04_p34_prep.set 1024 26624 44 45056 (61, 1024)\n",
      "study04_p34_prep.set 1024 27648 44 45056 (61, 1024)\n",
      "study04_p34_prep.set 1024 28672 44 45056 (61, 1024)\n",
      "study04_p34_prep.set 1024 29696 44 45056 (61, 1024)\n",
      "study04_p34_prep.set 1024 30720 44 45056 (61, 1024)\n",
      "study04_p34_prep.set 1024 31744 44 45056 (61, 1024)\n",
      "study04_p34_prep.set 1024 32768 44 45056 (61, 1024)\n",
      "study04_p34_prep.set 1024 33792 44 45056 (61, 1024)\n",
      "study04_p34_prep.set 1024 34816 44 45056 (61, 1024)\n",
      "study04_p34_prep.set 1024 35840 44 45056 (61, 1024)\n",
      "study04_p34_prep.set 1024 36864 44 45056 (61, 1024)\n",
      "study04_p34_prep.set 1024 37888 44 45056 (61, 1024)\n",
      "study04_p34_prep.set 1024 38912 44 45056 (61, 1024)\n",
      "study04_p34_prep.set 1024 39936 44 45056 (61, 1024)\n",
      "study04_p34_prep.set 1024 40960 44 45056 (61, 1024)\n",
      "study04_p34_prep.set 1024 41984 44 45056 (61, 1024)\n",
      "study04_p34_prep.set 1024 43008 44 45056 (61, 1024)\n",
      "study04_p34_prep.set 1024 44032 44 45056 (61, 1024)\n"
     ]
    },
    {
     "name": "stderr",
     "output_type": "stream",
     "text": [
      "C:\\Users\\DELL\\anaconda3\\lib\\site-packages\\pymatreader\\utils.py:122: UserWarning: Complex objects (like classes) are not supported. They are imported on a best effort base but your mileage will vary.\n",
      "  warn('Complex objects (like classes) are not supported. '\n"
     ]
    },
    {
     "name": "stdout",
     "output_type": "stream",
     "text": [
      "Extracting parameters from C:\\Users\\DELL\\Desktop\\20credit\\EEG_eye_artifact\\wholedata\\study04_p35_prep.set...\n",
      "Not setting metadata\n",
      "53 matching events found\n",
      "No baseline correction applied\n",
      "0 projection items activated\n",
      "Ready.\n"
     ]
    },
    {
     "name": "stderr",
     "output_type": "stream",
     "text": [
      "C:\\Users\\DELL\\AppData\\Local\\Temp\\ipykernel_14424\\3542807486.py:14: RuntimeWarning: At least one epoch has multiple events. Only the latency of the first event will be retained.\n",
      "  data=mne.io.read_epochs_eeglab(srcpath)\n",
      "C:\\Users\\DELL\\AppData\\Local\\Temp\\ipykernel_14424\\3542807486.py:14: RuntimeWarning: Unknown types found, setting as type EEG:\n",
      "artifact: ['eye-art', 'eye-blink', 'eye-d', 'eye-fix', 'eye-l', 'eye-r', 'eye-u']\n",
      "eoglpf: ['HEOG_lpf', 'VEOG_lpf']\n",
      "label: ['artifactclasses']\n",
      "paradigm: ['block']\n",
      "state: ['label']\n",
      "  data=mne.io.read_epochs_eeglab(srcpath)\n",
      "C:\\Users\\DELL\\AppData\\Local\\Temp\\ipykernel_14424\\3542807486.py:14: RuntimeWarning: Data file name in EEG.data (ebs_prep.fdt) is incorrect, the file name must have changed on disk, using the correct file name (study04_p35_prep.fdt).\n",
      "  data=mne.io.read_epochs_eeglab(srcpath)\n",
      "C:\\Users\\DELL\\AppData\\Local\\Temp\\ipykernel_14424\\3542807486.py:14: RuntimeWarning: Not setting positions of 4 eog channels found in montage:\n",
      "['HEOG', 'VEOGL', 'VEOGR', 'VEOG']\n",
      "Consider setting the channel types to be of EEG/sEEG/ECoG/DBS/fNIRS using inst.set_channel_types before calling inst.set_montage, or omit these channels when creating your montage.\n",
      "  data=mne.io.read_epochs_eeglab(srcpath)\n"
     ]
    },
    {
     "name": "stdout",
     "output_type": "stream",
     "text": [
      "Setting up band-pass filter from 1 - 63 Hz\n",
      "\n",
      "FIR filter parameters\n",
      "---------------------\n",
      "Designing a one-pass, zero-phase, non-causal bandpass filter:\n",
      "- Windowed time-domain design (firwin) method\n",
      "- Hamming window with 0.0194 passband ripple and 53 dB stopband attenuation\n",
      "- Lower passband edge: 1.00\n",
      "- Lower transition bandwidth: 1.00 Hz (-6 dB cutoff frequency: 0.50 Hz)\n",
      "- Upper passband edge: 63.00 Hz\n",
      "- Upper transition bandwidth: 1.00 Hz (-6 dB cutoff frequency: 63.50 Hz)\n",
      "- Filter length: 423 samples (3.305 sec)\n",
      "\n"
     ]
    },
    {
     "name": "stderr",
     "output_type": "stream",
     "text": [
      "[Parallel(n_jobs=1)]: Using backend SequentialBackend with 1 concurrent workers.\n",
      "[Parallel(n_jobs=1)]: Done   1 out of   1 | elapsed:    0.0s remaining:    0.0s\n",
      "[Parallel(n_jobs=1)]: Done   2 out of   2 | elapsed:    0.0s remaining:    0.0s\n",
      "[Parallel(n_jobs=1)]: Done   3 out of   3 | elapsed:    0.0s remaining:    0.0s\n",
      "[Parallel(n_jobs=1)]: Done   4 out of   4 | elapsed:    0.0s remaining:    0.0s\n",
      "[Parallel(n_jobs=1)]: Done 4028 out of 4028 | elapsed:    1.8s finished\n"
     ]
    },
    {
     "name": "stdout",
     "output_type": "stream",
     "text": [
      "study04_p35_prep.set 1024 0 53 54272 (61, 1024)\n",
      "study04_p35_prep.set 1024 1024 53 54272 (61, 1024)\n",
      "study04_p35_prep.set 1024 2048 53 54272 (61, 1024)\n",
      "study04_p35_prep.set 1024 3072 53 54272 (61, 1024)\n",
      "study04_p35_prep.set 1024 4096 53 54272 (61, 1024)\n",
      "study04_p35_prep.set 1024 5120 53 54272 (61, 1024)\n",
      "study04_p35_prep.set 1024 6144 53 54272 (61, 1024)\n",
      "study04_p35_prep.set 1024 7168 53 54272 (61, 1024)\n",
      "study04_p35_prep.set 1024 8192 53 54272 (61, 1024)\n",
      "study04_p35_prep.set 1024 9216 53 54272 (61, 1024)\n",
      "study04_p35_prep.set 1024 10240 53 54272 (61, 1024)\n",
      "study04_p35_prep.set 1024 11264 53 54272 (61, 1024)\n",
      "study04_p35_prep.set 1024 12288 53 54272 (61, 1024)\n",
      "study04_p35_prep.set 1024 13312 53 54272 (61, 1024)\n",
      "study04_p35_prep.set 1024 14336 53 54272 (61, 1024)\n",
      "study04_p35_prep.set 1024 15360 53 54272 (61, 1024)\n",
      "study04_p35_prep.set 1024 16384 53 54272 (61, 1024)\n",
      "study04_p35_prep.set 1024 17408 53 54272 (61, 1024)\n",
      "study04_p35_prep.set 1024 18432 53 54272 (61, 1024)\n",
      "study04_p35_prep.set 1024 19456 53 54272 (61, 1024)\n",
      "study04_p35_prep.set 1024 20480 53 54272 (61, 1024)\n",
      "study04_p35_prep.set 1024 21504 53 54272 (61, 1024)\n",
      "study04_p35_prep.set 1024 22528 53 54272 (61, 1024)\n",
      "study04_p35_prep.set 1024 23552 53 54272 (61, 1024)\n",
      "study04_p35_prep.set 1024 24576 53 54272 (61, 1024)\n",
      "study04_p35_prep.set 1024 25600 53 54272 (61, 1024)\n",
      "study04_p35_prep.set 1024 26624 53 54272 (61, 1024)\n",
      "study04_p35_prep.set 1024 27648 53 54272 (61, 1024)\n",
      "study04_p35_prep.set 1024 28672 53 54272 (61, 1024)\n",
      "study04_p35_prep.set 1024 29696 53 54272 (61, 1024)\n",
      "study04_p35_prep.set 1024 30720 53 54272 (61, 1024)\n",
      "study04_p35_prep.set 1024 31744 53 54272 (61, 1024)\n",
      "study04_p35_prep.set 1024 32768 53 54272 (61, 1024)\n",
      "study04_p35_prep.set 1024 33792 53 54272 (61, 1024)\n",
      "study04_p35_prep.set 1024 34816 53 54272 (61, 1024)\n",
      "study04_p35_prep.set 1024 35840 53 54272 (61, 1024)\n",
      "study04_p35_prep.set 1024 36864 53 54272 (61, 1024)\n",
      "study04_p35_prep.set 1024 37888 53 54272 (61, 1024)\n",
      "study04_p35_prep.set 1024 38912 53 54272 (61, 1024)\n",
      "study04_p35_prep.set 1024 39936 53 54272 (61, 1024)\n",
      "study04_p35_prep.set 1024 40960 53 54272 (61, 1024)\n",
      "study04_p35_prep.set 1024 41984 53 54272 (61, 1024)\n",
      "study04_p35_prep.set 1024 43008 53 54272 (61, 1024)\n",
      "study04_p35_prep.set 1024 44032 53 54272 (61, 1024)\n",
      "study04_p35_prep.set 1024 45056 53 54272 (61, 1024)\n",
      "study04_p35_prep.set 1024 46080 53 54272 (61, 1024)\n",
      "study04_p35_prep.set 1024 47104 53 54272 (61, 1024)\n",
      "study04_p35_prep.set 1024 48128 53 54272 (61, 1024)\n",
      "study04_p35_prep.set 1024 49152 53 54272 (61, 1024)\n",
      "study04_p35_prep.set 1024 50176 53 54272 (61, 1024)\n",
      "study04_p35_prep.set 1024 51200 53 54272 (61, 1024)\n",
      "study04_p35_prep.set 1024 52224 53 54272 (61, 1024)\n",
      "study04_p35_prep.set 1024 53248 53 54272 (61, 1024)\n"
     ]
    },
    {
     "name": "stderr",
     "output_type": "stream",
     "text": [
      "C:\\Users\\DELL\\anaconda3\\lib\\site-packages\\pymatreader\\utils.py:122: UserWarning: Complex objects (like classes) are not supported. They are imported on a best effort base but your mileage will vary.\n",
      "  warn('Complex objects (like classes) are not supported. '\n"
     ]
    },
    {
     "name": "stdout",
     "output_type": "stream",
     "text": [
      "Extracting parameters from C:\\Users\\DELL\\Desktop\\20credit\\EEG_eye_artifact\\wholedata\\study04_p36_prep.set...\n",
      "Not setting metadata\n",
      "50 matching events found\n",
      "No baseline correction applied\n",
      "0 projection items activated\n",
      "Ready.\n"
     ]
    },
    {
     "name": "stderr",
     "output_type": "stream",
     "text": [
      "C:\\Users\\DELL\\AppData\\Local\\Temp\\ipykernel_14424\\3542807486.py:14: RuntimeWarning: At least one epoch has multiple events. Only the latency of the first event will be retained.\n",
      "  data=mne.io.read_epochs_eeglab(srcpath)\n",
      "C:\\Users\\DELL\\AppData\\Local\\Temp\\ipykernel_14424\\3542807486.py:14: RuntimeWarning: Unknown types found, setting as type EEG:\n",
      "artifact: ['eye-art', 'eye-blink', 'eye-d', 'eye-fix', 'eye-l', 'eye-r', 'eye-u']\n",
      "eoglpf: ['HEOG_lpf', 'VEOG_lpf']\n",
      "label: ['artifactclasses']\n",
      "paradigm: ['block']\n",
      "state: ['label']\n",
      "  data=mne.io.read_epochs_eeglab(srcpath)\n",
      "C:\\Users\\DELL\\AppData\\Local\\Temp\\ipykernel_14424\\3542807486.py:14: RuntimeWarning: Data file name in EEG.data (ebs_prep.fdt) is incorrect, the file name must have changed on disk, using the correct file name (study04_p36_prep.fdt).\n",
      "  data=mne.io.read_epochs_eeglab(srcpath)\n",
      "C:\\Users\\DELL\\AppData\\Local\\Temp\\ipykernel_14424\\3542807486.py:14: RuntimeWarning: Not setting positions of 4 eog channels found in montage:\n",
      "['HEOG', 'VEOGL', 'VEOGR', 'VEOG']\n",
      "Consider setting the channel types to be of EEG/sEEG/ECoG/DBS/fNIRS using inst.set_channel_types before calling inst.set_montage, or omit these channels when creating your montage.\n",
      "  data=mne.io.read_epochs_eeglab(srcpath)\n"
     ]
    },
    {
     "name": "stdout",
     "output_type": "stream",
     "text": [
      "Setting up band-pass filter from 1 - 63 Hz\n",
      "\n",
      "FIR filter parameters\n",
      "---------------------\n",
      "Designing a one-pass, zero-phase, non-causal bandpass filter:\n",
      "- Windowed time-domain design (firwin) method\n",
      "- Hamming window with 0.0194 passband ripple and 53 dB stopband attenuation\n",
      "- Lower passband edge: 1.00\n",
      "- Lower transition bandwidth: 1.00 Hz (-6 dB cutoff frequency: 0.50 Hz)\n",
      "- Upper passband edge: 63.00 Hz\n",
      "- Upper transition bandwidth: 1.00 Hz (-6 dB cutoff frequency: 63.50 Hz)\n",
      "- Filter length: 423 samples (3.305 sec)\n",
      "\n"
     ]
    },
    {
     "name": "stderr",
     "output_type": "stream",
     "text": [
      "[Parallel(n_jobs=1)]: Using backend SequentialBackend with 1 concurrent workers.\n",
      "[Parallel(n_jobs=1)]: Done   1 out of   1 | elapsed:    0.0s remaining:    0.0s\n",
      "[Parallel(n_jobs=1)]: Done   2 out of   2 | elapsed:    0.0s remaining:    0.0s\n",
      "[Parallel(n_jobs=1)]: Done   3 out of   3 | elapsed:    0.0s remaining:    0.0s\n",
      "[Parallel(n_jobs=1)]: Done   4 out of   4 | elapsed:    0.0s remaining:    0.0s\n",
      "[Parallel(n_jobs=1)]: Done 3800 out of 3800 | elapsed:    1.6s finished\n"
     ]
    },
    {
     "name": "stdout",
     "output_type": "stream",
     "text": [
      "study04_p36_prep.set 1024 0 50 51200 (61, 1024)\n",
      "study04_p36_prep.set 1024 1024 50 51200 (61, 1024)\n",
      "study04_p36_prep.set 1024 2048 50 51200 (61, 1024)\n",
      "study04_p36_prep.set 1024 3072 50 51200 (61, 1024)\n",
      "study04_p36_prep.set 1024 4096 50 51200 (61, 1024)\n",
      "study04_p36_prep.set 1024 5120 50 51200 (61, 1024)\n",
      "study04_p36_prep.set 1024 6144 50 51200 (61, 1024)\n",
      "study04_p36_prep.set 1024 7168 50 51200 (61, 1024)\n",
      "study04_p36_prep.set 1024 8192 50 51200 (61, 1024)\n",
      "study04_p36_prep.set 1024 9216 50 51200 (61, 1024)\n",
      "study04_p36_prep.set 1024 10240 50 51200 (61, 1024)\n",
      "study04_p36_prep.set 1024 11264 50 51200 (61, 1024)\n",
      "study04_p36_prep.set 1024 12288 50 51200 (61, 1024)\n",
      "study04_p36_prep.set 1024 13312 50 51200 (61, 1024)\n",
      "study04_p36_prep.set 1024 14336 50 51200 (61, 1024)\n",
      "study04_p36_prep.set 1024 15360 50 51200 (61, 1024)\n",
      "study04_p36_prep.set 1024 16384 50 51200 (61, 1024)\n",
      "study04_p36_prep.set 1024 17408 50 51200 (61, 1024)\n",
      "study04_p36_prep.set 1024 18432 50 51200 (61, 1024)\n",
      "study04_p36_prep.set 1024 19456 50 51200 (61, 1024)\n",
      "study04_p36_prep.set 1024 20480 50 51200 (61, 1024)\n",
      "study04_p36_prep.set 1024 21504 50 51200 (61, 1024)\n",
      "study04_p36_prep.set 1024 22528 50 51200 (61, 1024)\n",
      "study04_p36_prep.set 1024 23552 50 51200 (61, 1024)\n",
      "study04_p36_prep.set 1024 24576 50 51200 (61, 1024)\n",
      "study04_p36_prep.set 1024 25600 50 51200 (61, 1024)\n",
      "study04_p36_prep.set 1024 26624 50 51200 (61, 1024)\n",
      "study04_p36_prep.set 1024 27648 50 51200 (61, 1024)\n",
      "study04_p36_prep.set 1024 28672 50 51200 (61, 1024)\n",
      "study04_p36_prep.set 1024 29696 50 51200 (61, 1024)\n",
      "study04_p36_prep.set 1024 30720 50 51200 (61, 1024)\n",
      "study04_p36_prep.set 1024 31744 50 51200 (61, 1024)\n",
      "study04_p36_prep.set 1024 32768 50 51200 (61, 1024)\n",
      "study04_p36_prep.set 1024 33792 50 51200 (61, 1024)\n",
      "study04_p36_prep.set 1024 34816 50 51200 (61, 1024)\n",
      "study04_p36_prep.set 1024 35840 50 51200 (61, 1024)\n",
      "study04_p36_prep.set 1024 36864 50 51200 (61, 1024)\n",
      "study04_p36_prep.set 1024 37888 50 51200 (61, 1024)\n",
      "study04_p36_prep.set 1024 38912 50 51200 (61, 1024)\n",
      "study04_p36_prep.set 1024 39936 50 51200 (61, 1024)\n",
      "study04_p36_prep.set 1024 40960 50 51200 (61, 1024)\n",
      "study04_p36_prep.set 1024 41984 50 51200 (61, 1024)\n",
      "study04_p36_prep.set 1024 43008 50 51200 (61, 1024)\n",
      "study04_p36_prep.set 1024 44032 50 51200 (61, 1024)\n",
      "study04_p36_prep.set 1024 45056 50 51200 (61, 1024)\n",
      "study04_p36_prep.set 1024 46080 50 51200 (61, 1024)\n",
      "study04_p36_prep.set 1024 47104 50 51200 (61, 1024)\n",
      "study04_p36_prep.set 1024 48128 50 51200 (61, 1024)\n",
      "study04_p36_prep.set 1024 49152 50 51200 (61, 1024)\n",
      "study04_p36_prep.set 1024 50176 50 51200 (61, 1024)\n"
     ]
    },
    {
     "name": "stderr",
     "output_type": "stream",
     "text": [
      "C:\\Users\\DELL\\anaconda3\\lib\\site-packages\\pymatreader\\utils.py:122: UserWarning: Complex objects (like classes) are not supported. They are imported on a best effort base but your mileage will vary.\n",
      "  warn('Complex objects (like classes) are not supported. '\n"
     ]
    },
    {
     "name": "stdout",
     "output_type": "stream",
     "text": [
      "Extracting parameters from C:\\Users\\DELL\\Desktop\\20credit\\EEG_eye_artifact\\wholedata\\study04_p37_prep.set...\n",
      "Not setting metadata\n",
      "40 matching events found\n",
      "No baseline correction applied\n",
      "0 projection items activated\n",
      "Ready.\n"
     ]
    },
    {
     "name": "stderr",
     "output_type": "stream",
     "text": [
      "C:\\Users\\DELL\\AppData\\Local\\Temp\\ipykernel_14424\\3542807486.py:14: RuntimeWarning: At least one epoch has multiple events. Only the latency of the first event will be retained.\n",
      "  data=mne.io.read_epochs_eeglab(srcpath)\n",
      "C:\\Users\\DELL\\AppData\\Local\\Temp\\ipykernel_14424\\3542807486.py:14: RuntimeWarning: Unknown types found, setting as type EEG:\n",
      "artifact: ['eye-art', 'eye-blink', 'eye-d', 'eye-fix', 'eye-l', 'eye-r', 'eye-u']\n",
      "eoglpf: ['HEOG_lpf', 'VEOG_lpf']\n",
      "label: ['artifactclasses']\n",
      "paradigm: ['block']\n",
      "state: ['label']\n",
      "  data=mne.io.read_epochs_eeglab(srcpath)\n",
      "C:\\Users\\DELL\\AppData\\Local\\Temp\\ipykernel_14424\\3542807486.py:14: RuntimeWarning: Data file name in EEG.data (ebs_prep.fdt) is incorrect, the file name must have changed on disk, using the correct file name (study04_p37_prep.fdt).\n",
      "  data=mne.io.read_epochs_eeglab(srcpath)\n",
      "C:\\Users\\DELL\\AppData\\Local\\Temp\\ipykernel_14424\\3542807486.py:14: RuntimeWarning: Not setting positions of 4 eog channels found in montage:\n",
      "['HEOG', 'VEOGL', 'VEOGR', 'VEOG']\n",
      "Consider setting the channel types to be of EEG/sEEG/ECoG/DBS/fNIRS using inst.set_channel_types before calling inst.set_montage, or omit these channels when creating your montage.\n",
      "  data=mne.io.read_epochs_eeglab(srcpath)\n"
     ]
    },
    {
     "name": "stdout",
     "output_type": "stream",
     "text": [
      "Setting up band-pass filter from 1 - 63 Hz\n",
      "\n",
      "FIR filter parameters\n",
      "---------------------\n",
      "Designing a one-pass, zero-phase, non-causal bandpass filter:\n",
      "- Windowed time-domain design (firwin) method\n",
      "- Hamming window with 0.0194 passband ripple and 53 dB stopband attenuation\n",
      "- Lower passband edge: 1.00\n",
      "- Lower transition bandwidth: 1.00 Hz (-6 dB cutoff frequency: 0.50 Hz)\n",
      "- Upper passband edge: 63.00 Hz\n",
      "- Upper transition bandwidth: 1.00 Hz (-6 dB cutoff frequency: 63.50 Hz)\n",
      "- Filter length: 423 samples (3.305 sec)\n",
      "\n"
     ]
    },
    {
     "name": "stderr",
     "output_type": "stream",
     "text": [
      "[Parallel(n_jobs=1)]: Using backend SequentialBackend with 1 concurrent workers.\n",
      "[Parallel(n_jobs=1)]: Done   1 out of   1 | elapsed:    0.0s remaining:    0.0s\n",
      "[Parallel(n_jobs=1)]: Done   2 out of   2 | elapsed:    0.0s remaining:    0.0s\n",
      "[Parallel(n_jobs=1)]: Done   3 out of   3 | elapsed:    0.0s remaining:    0.0s\n",
      "[Parallel(n_jobs=1)]: Done   4 out of   4 | elapsed:    0.0s remaining:    0.0s\n",
      "[Parallel(n_jobs=1)]: Done 3040 out of 3040 | elapsed:    1.3s finished\n"
     ]
    },
    {
     "name": "stdout",
     "output_type": "stream",
     "text": [
      "study04_p37_prep.set 1024 0 40 40960 (61, 1024)\n",
      "study04_p37_prep.set 1024 1024 40 40960 (61, 1024)\n",
      "study04_p37_prep.set 1024 2048 40 40960 (61, 1024)\n",
      "study04_p37_prep.set 1024 3072 40 40960 (61, 1024)\n",
      "study04_p37_prep.set 1024 4096 40 40960 (61, 1024)\n",
      "study04_p37_prep.set 1024 5120 40 40960 (61, 1024)\n",
      "study04_p37_prep.set 1024 6144 40 40960 (61, 1024)\n",
      "study04_p37_prep.set 1024 7168 40 40960 (61, 1024)\n",
      "study04_p37_prep.set 1024 8192 40 40960 (61, 1024)\n",
      "study04_p37_prep.set 1024 9216 40 40960 (61, 1024)\n",
      "study04_p37_prep.set 1024 10240 40 40960 (61, 1024)\n",
      "study04_p37_prep.set 1024 11264 40 40960 (61, 1024)\n",
      "study04_p37_prep.set 1024 12288 40 40960 (61, 1024)\n",
      "study04_p37_prep.set 1024 13312 40 40960 (61, 1024)\n",
      "study04_p37_prep.set 1024 14336 40 40960 (61, 1024)\n",
      "study04_p37_prep.set 1024 15360 40 40960 (61, 1024)\n",
      "study04_p37_prep.set 1024 16384 40 40960 (61, 1024)\n",
      "study04_p37_prep.set 1024 17408 40 40960 (61, 1024)\n",
      "study04_p37_prep.set 1024 18432 40 40960 (61, 1024)\n",
      "study04_p37_prep.set 1024 19456 40 40960 (61, 1024)\n",
      "study04_p37_prep.set 1024 20480 40 40960 (61, 1024)\n",
      "study04_p37_prep.set 1024 21504 40 40960 (61, 1024)\n",
      "study04_p37_prep.set 1024 22528 40 40960 (61, 1024)\n",
      "study04_p37_prep.set 1024 23552 40 40960 (61, 1024)\n",
      "study04_p37_prep.set 1024 24576 40 40960 (61, 1024)\n",
      "study04_p37_prep.set 1024 25600 40 40960 (61, 1024)\n",
      "study04_p37_prep.set 1024 26624 40 40960 (61, 1024)\n",
      "study04_p37_prep.set 1024 27648 40 40960 (61, 1024)\n",
      "study04_p37_prep.set 1024 28672 40 40960 (61, 1024)\n",
      "study04_p37_prep.set 1024 29696 40 40960 (61, 1024)\n",
      "study04_p37_prep.set 1024 30720 40 40960 (61, 1024)\n",
      "study04_p37_prep.set 1024 31744 40 40960 (61, 1024)\n",
      "study04_p37_prep.set 1024 32768 40 40960 (61, 1024)\n",
      "study04_p37_prep.set 1024 33792 40 40960 (61, 1024)\n",
      "study04_p37_prep.set 1024 34816 40 40960 (61, 1024)\n",
      "study04_p37_prep.set 1024 35840 40 40960 (61, 1024)\n",
      "study04_p37_prep.set 1024 36864 40 40960 (61, 1024)\n",
      "study04_p37_prep.set 1024 37888 40 40960 (61, 1024)\n",
      "study04_p37_prep.set 1024 38912 40 40960 (61, 1024)\n",
      "study04_p37_prep.set 1024 39936 40 40960 (61, 1024)\n"
     ]
    },
    {
     "name": "stderr",
     "output_type": "stream",
     "text": [
      "C:\\Users\\DELL\\anaconda3\\lib\\site-packages\\pymatreader\\utils.py:122: UserWarning: Complex objects (like classes) are not supported. They are imported on a best effort base but your mileage will vary.\n",
      "  warn('Complex objects (like classes) are not supported. '\n"
     ]
    },
    {
     "name": "stdout",
     "output_type": "stream",
     "text": [
      "Extracting parameters from C:\\Users\\DELL\\Desktop\\20credit\\EEG_eye_artifact\\wholedata\\study04_p38_prep.set...\n",
      "Not setting metadata\n",
      "37 matching events found\n",
      "No baseline correction applied\n",
      "0 projection items activated\n",
      "Ready.\n"
     ]
    },
    {
     "name": "stderr",
     "output_type": "stream",
     "text": [
      "C:\\Users\\DELL\\AppData\\Local\\Temp\\ipykernel_14424\\3542807486.py:14: RuntimeWarning: At least one epoch has multiple events. Only the latency of the first event will be retained.\n",
      "  data=mne.io.read_epochs_eeglab(srcpath)\n",
      "C:\\Users\\DELL\\AppData\\Local\\Temp\\ipykernel_14424\\3542807486.py:14: RuntimeWarning: Unknown types found, setting as type EEG:\n",
      "artifact: ['eye-art', 'eye-blink', 'eye-d', 'eye-fix', 'eye-l', 'eye-r', 'eye-u']\n",
      "eoglpf: ['HEOG_lpf', 'VEOG_lpf']\n",
      "label: ['artifactclasses']\n",
      "paradigm: ['block']\n",
      "state: ['label']\n",
      "  data=mne.io.read_epochs_eeglab(srcpath)\n",
      "C:\\Users\\DELL\\AppData\\Local\\Temp\\ipykernel_14424\\3542807486.py:14: RuntimeWarning: Data file name in EEG.data (ebs_prep.fdt) is incorrect, the file name must have changed on disk, using the correct file name (study04_p38_prep.fdt).\n",
      "  data=mne.io.read_epochs_eeglab(srcpath)\n",
      "C:\\Users\\DELL\\AppData\\Local\\Temp\\ipykernel_14424\\3542807486.py:14: RuntimeWarning: Not setting positions of 4 eog channels found in montage:\n",
      "['HEOG', 'VEOGL', 'VEOGR', 'VEOG']\n",
      "Consider setting the channel types to be of EEG/sEEG/ECoG/DBS/fNIRS using inst.set_channel_types before calling inst.set_montage, or omit these channels when creating your montage.\n",
      "  data=mne.io.read_epochs_eeglab(srcpath)\n"
     ]
    },
    {
     "name": "stdout",
     "output_type": "stream",
     "text": [
      "Setting up band-pass filter from 1 - 63 Hz\n",
      "\n",
      "FIR filter parameters\n",
      "---------------------\n",
      "Designing a one-pass, zero-phase, non-causal bandpass filter:\n",
      "- Windowed time-domain design (firwin) method\n",
      "- Hamming window with 0.0194 passband ripple and 53 dB stopband attenuation\n",
      "- Lower passband edge: 1.00\n",
      "- Lower transition bandwidth: 1.00 Hz (-6 dB cutoff frequency: 0.50 Hz)\n",
      "- Upper passband edge: 63.00 Hz\n",
      "- Upper transition bandwidth: 1.00 Hz (-6 dB cutoff frequency: 63.50 Hz)\n",
      "- Filter length: 423 samples (3.305 sec)\n",
      "\n"
     ]
    },
    {
     "name": "stderr",
     "output_type": "stream",
     "text": [
      "[Parallel(n_jobs=1)]: Using backend SequentialBackend with 1 concurrent workers.\n",
      "[Parallel(n_jobs=1)]: Done   1 out of   1 | elapsed:    0.0s remaining:    0.0s\n",
      "[Parallel(n_jobs=1)]: Done   2 out of   2 | elapsed:    0.0s remaining:    0.0s\n",
      "[Parallel(n_jobs=1)]: Done   3 out of   3 | elapsed:    0.0s remaining:    0.0s\n",
      "[Parallel(n_jobs=1)]: Done   4 out of   4 | elapsed:    0.0s remaining:    0.0s\n",
      "[Parallel(n_jobs=1)]: Done 2812 out of 2812 | elapsed:    1.2s finished\n"
     ]
    },
    {
     "name": "stdout",
     "output_type": "stream",
     "text": [
      "study04_p38_prep.set 1024 0 37 37888 (61, 1024)\n",
      "study04_p38_prep.set 1024 1024 37 37888 (61, 1024)\n",
      "study04_p38_prep.set 1024 2048 37 37888 (61, 1024)\n",
      "study04_p38_prep.set 1024 3072 37 37888 (61, 1024)\n",
      "study04_p38_prep.set 1024 4096 37 37888 (61, 1024)\n",
      "study04_p38_prep.set 1024 5120 37 37888 (61, 1024)\n",
      "study04_p38_prep.set 1024 6144 37 37888 (61, 1024)\n",
      "study04_p38_prep.set 1024 7168 37 37888 (61, 1024)\n",
      "study04_p38_prep.set 1024 8192 37 37888 (61, 1024)\n",
      "study04_p38_prep.set 1024 9216 37 37888 (61, 1024)\n",
      "study04_p38_prep.set 1024 10240 37 37888 (61, 1024)\n",
      "study04_p38_prep.set 1024 11264 37 37888 (61, 1024)\n",
      "study04_p38_prep.set 1024 12288 37 37888 (61, 1024)\n",
      "study04_p38_prep.set 1024 13312 37 37888 (61, 1024)\n",
      "study04_p38_prep.set 1024 14336 37 37888 (61, 1024)\n",
      "study04_p38_prep.set 1024 15360 37 37888 (61, 1024)\n",
      "study04_p38_prep.set 1024 16384 37 37888 (61, 1024)\n",
      "study04_p38_prep.set 1024 17408 37 37888 (61, 1024)\n",
      "study04_p38_prep.set 1024 18432 37 37888 (61, 1024)\n",
      "study04_p38_prep.set 1024 19456 37 37888 (61, 1024)\n",
      "study04_p38_prep.set 1024 20480 37 37888 (61, 1024)\n",
      "study04_p38_prep.set 1024 21504 37 37888 (61, 1024)\n",
      "study04_p38_prep.set 1024 22528 37 37888 (61, 1024)\n",
      "study04_p38_prep.set 1024 23552 37 37888 (61, 1024)\n",
      "study04_p38_prep.set 1024 24576 37 37888 (61, 1024)\n",
      "study04_p38_prep.set 1024 25600 37 37888 (61, 1024)\n",
      "study04_p38_prep.set 1024 26624 37 37888 (61, 1024)\n",
      "study04_p38_prep.set 1024 27648 37 37888 (61, 1024)\n",
      "study04_p38_prep.set 1024 28672 37 37888 (61, 1024)\n",
      "study04_p38_prep.set 1024 29696 37 37888 (61, 1024)\n",
      "study04_p38_prep.set 1024 30720 37 37888 (61, 1024)\n",
      "study04_p38_prep.set 1024 31744 37 37888 (61, 1024)\n",
      "study04_p38_prep.set 1024 32768 37 37888 (61, 1024)\n",
      "study04_p38_prep.set 1024 33792 37 37888 (61, 1024)\n",
      "study04_p38_prep.set 1024 34816 37 37888 (61, 1024)\n",
      "study04_p38_prep.set 1024 35840 37 37888 (61, 1024)\n",
      "study04_p38_prep.set 1024 36864 37 37888 (61, 1024)\n"
     ]
    },
    {
     "name": "stderr",
     "output_type": "stream",
     "text": [
      "C:\\Users\\DELL\\anaconda3\\lib\\site-packages\\pymatreader\\utils.py:122: UserWarning: Complex objects (like classes) are not supported. They are imported on a best effort base but your mileage will vary.\n",
      "  warn('Complex objects (like classes) are not supported. '\n"
     ]
    },
    {
     "name": "stdout",
     "output_type": "stream",
     "text": [
      "Extracting parameters from C:\\Users\\DELL\\Desktop\\20credit\\EEG_eye_artifact\\wholedata\\study04_p39_prep.set...\n",
      "Not setting metadata\n",
      "45 matching events found\n",
      "No baseline correction applied\n",
      "0 projection items activated\n",
      "Ready.\n"
     ]
    },
    {
     "name": "stderr",
     "output_type": "stream",
     "text": [
      "C:\\Users\\DELL\\AppData\\Local\\Temp\\ipykernel_14424\\3542807486.py:14: RuntimeWarning: At least one epoch has multiple events. Only the latency of the first event will be retained.\n",
      "  data=mne.io.read_epochs_eeglab(srcpath)\n",
      "C:\\Users\\DELL\\AppData\\Local\\Temp\\ipykernel_14424\\3542807486.py:14: RuntimeWarning: Unknown types found, setting as type EEG:\n",
      "artifact: ['eye-art', 'eye-blink', 'eye-d', 'eye-fix', 'eye-l', 'eye-r', 'eye-u']\n",
      "eoglpf: ['HEOG_lpf', 'VEOG_lpf']\n",
      "label: ['artifactclasses']\n",
      "paradigm: ['block']\n",
      "state: ['label']\n",
      "  data=mne.io.read_epochs_eeglab(srcpath)\n",
      "C:\\Users\\DELL\\AppData\\Local\\Temp\\ipykernel_14424\\3542807486.py:14: RuntimeWarning: Data file name in EEG.data (ebs_prep.fdt) is incorrect, the file name must have changed on disk, using the correct file name (study04_p39_prep.fdt).\n",
      "  data=mne.io.read_epochs_eeglab(srcpath)\n",
      "C:\\Users\\DELL\\AppData\\Local\\Temp\\ipykernel_14424\\3542807486.py:14: RuntimeWarning: Not setting positions of 4 eog channels found in montage:\n",
      "['HEOG', 'VEOGL', 'VEOGR', 'VEOG']\n",
      "Consider setting the channel types to be of EEG/sEEG/ECoG/DBS/fNIRS using inst.set_channel_types before calling inst.set_montage, or omit these channels when creating your montage.\n",
      "  data=mne.io.read_epochs_eeglab(srcpath)\n"
     ]
    },
    {
     "name": "stdout",
     "output_type": "stream",
     "text": [
      "Setting up band-pass filter from 1 - 63 Hz\n",
      "\n",
      "FIR filter parameters\n",
      "---------------------\n",
      "Designing a one-pass, zero-phase, non-causal bandpass filter:\n",
      "- Windowed time-domain design (firwin) method\n",
      "- Hamming window with 0.0194 passband ripple and 53 dB stopband attenuation\n",
      "- Lower passband edge: 1.00\n",
      "- Lower transition bandwidth: 1.00 Hz (-6 dB cutoff frequency: 0.50 Hz)\n",
      "- Upper passband edge: 63.00 Hz\n",
      "- Upper transition bandwidth: 1.00 Hz (-6 dB cutoff frequency: 63.50 Hz)\n",
      "- Filter length: 423 samples (3.305 sec)\n",
      "\n"
     ]
    },
    {
     "name": "stderr",
     "output_type": "stream",
     "text": [
      "[Parallel(n_jobs=1)]: Using backend SequentialBackend with 1 concurrent workers.\n",
      "[Parallel(n_jobs=1)]: Done   1 out of   1 | elapsed:    0.0s remaining:    0.0s\n",
      "[Parallel(n_jobs=1)]: Done   2 out of   2 | elapsed:    0.0s remaining:    0.0s\n",
      "[Parallel(n_jobs=1)]: Done   3 out of   3 | elapsed:    0.0s remaining:    0.0s\n",
      "[Parallel(n_jobs=1)]: Done   4 out of   4 | elapsed:    0.0s remaining:    0.0s\n",
      "[Parallel(n_jobs=1)]: Done 3420 out of 3420 | elapsed:    1.4s finished\n"
     ]
    },
    {
     "name": "stdout",
     "output_type": "stream",
     "text": [
      "study04_p39_prep.set 1024 0 45 46080 (61, 1024)\n",
      "study04_p39_prep.set 1024 1024 45 46080 (61, 1024)\n",
      "study04_p39_prep.set 1024 2048 45 46080 (61, 1024)\n",
      "study04_p39_prep.set 1024 3072 45 46080 (61, 1024)\n",
      "study04_p39_prep.set 1024 4096 45 46080 (61, 1024)\n",
      "study04_p39_prep.set 1024 5120 45 46080 (61, 1024)\n",
      "study04_p39_prep.set 1024 6144 45 46080 (61, 1024)\n",
      "study04_p39_prep.set 1024 7168 45 46080 (61, 1024)\n",
      "study04_p39_prep.set 1024 8192 45 46080 (61, 1024)\n",
      "study04_p39_prep.set 1024 9216 45 46080 (61, 1024)\n",
      "study04_p39_prep.set 1024 10240 45 46080 (61, 1024)\n",
      "study04_p39_prep.set 1024 11264 45 46080 (61, 1024)\n",
      "study04_p39_prep.set 1024 12288 45 46080 (61, 1024)\n",
      "study04_p39_prep.set 1024 13312 45 46080 (61, 1024)\n",
      "study04_p39_prep.set 1024 14336 45 46080 (61, 1024)\n",
      "study04_p39_prep.set 1024 15360 45 46080 (61, 1024)\n",
      "study04_p39_prep.set 1024 16384 45 46080 (61, 1024)\n",
      "study04_p39_prep.set 1024 17408 45 46080 (61, 1024)\n",
      "study04_p39_prep.set 1024 18432 45 46080 (61, 1024)\n",
      "study04_p39_prep.set 1024 19456 45 46080 (61, 1024)\n",
      "study04_p39_prep.set 1024 20480 45 46080 (61, 1024)\n",
      "study04_p39_prep.set 1024 21504 45 46080 (61, 1024)\n",
      "study04_p39_prep.set 1024 22528 45 46080 (61, 1024)\n",
      "study04_p39_prep.set 1024 23552 45 46080 (61, 1024)\n",
      "study04_p39_prep.set 1024 24576 45 46080 (61, 1024)\n",
      "study04_p39_prep.set 1024 25600 45 46080 (61, 1024)\n",
      "study04_p39_prep.set 1024 26624 45 46080 (61, 1024)\n",
      "study04_p39_prep.set 1024 27648 45 46080 (61, 1024)\n",
      "study04_p39_prep.set 1024 28672 45 46080 (61, 1024)\n",
      "study04_p39_prep.set 1024 29696 45 46080 (61, 1024)\n",
      "study04_p39_prep.set 1024 30720 45 46080 (61, 1024)\n",
      "study04_p39_prep.set 1024 31744 45 46080 (61, 1024)\n",
      "study04_p39_prep.set 1024 32768 45 46080 (61, 1024)\n",
      "study04_p39_prep.set 1024 33792 45 46080 (61, 1024)\n",
      "study04_p39_prep.set 1024 34816 45 46080 (61, 1024)\n",
      "study04_p39_prep.set 1024 35840 45 46080 (61, 1024)\n",
      "study04_p39_prep.set 1024 36864 45 46080 (61, 1024)\n",
      "study04_p39_prep.set 1024 37888 45 46080 (61, 1024)\n",
      "study04_p39_prep.set 1024 38912 45 46080 (61, 1024)\n",
      "study04_p39_prep.set 1024 39936 45 46080 (61, 1024)\n",
      "study04_p39_prep.set 1024 40960 45 46080 (61, 1024)\n",
      "study04_p39_prep.set 1024 41984 45 46080 (61, 1024)\n",
      "study04_p39_prep.set 1024 43008 45 46080 (61, 1024)\n",
      "study04_p39_prep.set 1024 44032 45 46080 (61, 1024)\n",
      "study04_p39_prep.set 1024 45056 45 46080 (61, 1024)\n"
     ]
    },
    {
     "name": "stderr",
     "output_type": "stream",
     "text": [
      "C:\\Users\\DELL\\anaconda3\\lib\\site-packages\\pymatreader\\utils.py:122: UserWarning: Complex objects (like classes) are not supported. They are imported on a best effort base but your mileage will vary.\n",
      "  warn('Complex objects (like classes) are not supported. '\n"
     ]
    },
    {
     "name": "stdout",
     "output_type": "stream",
     "text": [
      "Extracting parameters from C:\\Users\\DELL\\Desktop\\20credit\\EEG_eye_artifact\\wholedata\\study05_p06_prep.set...\n",
      "Not setting metadata\n"
     ]
    },
    {
     "name": "stderr",
     "output_type": "stream",
     "text": [
      "C:\\Users\\DELL\\AppData\\Local\\Temp\\ipykernel_14424\\3542807486.py:14: RuntimeWarning: At least one epoch has multiple events. Only the latency of the first event will be retained.\n",
      "  data=mne.io.read_epochs_eeglab(srcpath)\n",
      "C:\\Users\\DELL\\AppData\\Local\\Temp\\ipykernel_14424\\3542807486.py:14: RuntimeWarning: Unknown types found, setting as type EEG:\n",
      "artifact: ['eye-art', 'eye-blink', 'eye-d', 'eye-fix', 'eye-l', 'eye-r', 'eye-u']\n",
      "eoglpf: ['HEOG_lpf', 'REOG_lpf', 'VEOG_lpf']\n",
      "label: ['artifactclasses']\n",
      "paradigm: ['block']\n",
      "state: ['label']\n",
      "  data=mne.io.read_epochs_eeglab(srcpath)\n",
      "C:\\Users\\DELL\\AppData\\Local\\Temp\\ipykernel_14424\\3542807486.py:14: RuntimeWarning: Data file name in EEG.data (ebs_prep.fdt) is incorrect, the file name must have changed on disk, using the correct file name (study05_p06_prep.fdt).\n",
      "  data=mne.io.read_epochs_eeglab(srcpath)\n"
     ]
    },
    {
     "name": "stdout",
     "output_type": "stream",
     "text": [
      "59 matching events found\n",
      "No baseline correction applied\n",
      "0 projection items activated\n",
      "Ready.\n"
     ]
    },
    {
     "name": "stderr",
     "output_type": "stream",
     "text": [
      "C:\\Users\\DELL\\AppData\\Local\\Temp\\ipykernel_14424\\3542807486.py:14: RuntimeWarning: Not setting positions of 3 eog channels found in montage:\n",
      "['HEOG', 'VEOG', 'REOG']\n",
      "Consider setting the channel types to be of EEG/sEEG/ECoG/DBS/fNIRS using inst.set_channel_types before calling inst.set_montage, or omit these channels when creating your montage.\n",
      "  data=mne.io.read_epochs_eeglab(srcpath)\n"
     ]
    },
    {
     "name": "stdout",
     "output_type": "stream",
     "text": [
      "Setting up band-pass filter from 1 - 63 Hz\n",
      "\n",
      "FIR filter parameters\n",
      "---------------------\n",
      "Designing a one-pass, zero-phase, non-causal bandpass filter:\n",
      "- Windowed time-domain design (firwin) method\n",
      "- Hamming window with 0.0194 passband ripple and 53 dB stopband attenuation\n",
      "- Lower passband edge: 1.00\n",
      "- Lower transition bandwidth: 1.00 Hz (-6 dB cutoff frequency: 0.50 Hz)\n",
      "- Upper passband edge: 63.00 Hz\n",
      "- Upper transition bandwidth: 1.00 Hz (-6 dB cutoff frequency: 63.50 Hz)\n",
      "- Filter length: 423 samples (3.305 sec)\n",
      "\n"
     ]
    },
    {
     "name": "stderr",
     "output_type": "stream",
     "text": [
      "[Parallel(n_jobs=1)]: Using backend SequentialBackend with 1 concurrent workers.\n",
      "[Parallel(n_jobs=1)]: Done   1 out of   1 | elapsed:    0.0s remaining:    0.0s\n",
      "[Parallel(n_jobs=1)]: Done   2 out of   2 | elapsed:    0.0s remaining:    0.0s\n",
      "[Parallel(n_jobs=1)]: Done   3 out of   3 | elapsed:    0.0s remaining:    0.0s\n",
      "[Parallel(n_jobs=1)]: Done   4 out of   4 | elapsed:    0.0s remaining:    0.0s\n",
      "[Parallel(n_jobs=1)]: Done 4543 out of 4543 | elapsed:    2.1s finished\n"
     ]
    },
    {
     "name": "stdout",
     "output_type": "stream",
     "text": [
      "study05_p06_prep.set 1024 0 59 60416 (34, 1024)\n",
      "study05_p06_prep.set 1024 1024 59 60416 (34, 1024)\n",
      "study05_p06_prep.set 1024 2048 59 60416 (34, 1024)\n",
      "study05_p06_prep.set 1024 3072 59 60416 (34, 1024)\n",
      "study05_p06_prep.set 1024 4096 59 60416 (34, 1024)\n",
      "study05_p06_prep.set 1024 5120 59 60416 (34, 1024)\n",
      "study05_p06_prep.set 1024 6144 59 60416 (34, 1024)\n",
      "study05_p06_prep.set 1024 7168 59 60416 (34, 1024)\n",
      "study05_p06_prep.set 1024 8192 59 60416 (34, 1024)\n",
      "study05_p06_prep.set 1024 9216 59 60416 (34, 1024)\n",
      "study05_p06_prep.set 1024 10240 59 60416 (34, 1024)\n",
      "study05_p06_prep.set 1024 11264 59 60416 (34, 1024)\n",
      "study05_p06_prep.set 1024 12288 59 60416 (34, 1024)\n",
      "study05_p06_prep.set 1024 13312 59 60416 (34, 1024)\n",
      "study05_p06_prep.set 1024 14336 59 60416 (34, 1024)\n",
      "study05_p06_prep.set 1024 15360 59 60416 (34, 1024)\n",
      "study05_p06_prep.set 1024 16384 59 60416 (34, 1024)\n",
      "study05_p06_prep.set 1024 17408 59 60416 (34, 1024)\n",
      "study05_p06_prep.set 1024 18432 59 60416 (34, 1024)\n",
      "study05_p06_prep.set 1024 19456 59 60416 (34, 1024)\n",
      "study05_p06_prep.set 1024 20480 59 60416 (34, 1024)\n",
      "study05_p06_prep.set 1024 21504 59 60416 (34, 1024)\n",
      "study05_p06_prep.set 1024 22528 59 60416 (34, 1024)\n",
      "study05_p06_prep.set 1024 23552 59 60416 (34, 1024)\n",
      "study05_p06_prep.set 1024 24576 59 60416 (34, 1024)\n",
      "study05_p06_prep.set 1024 25600 59 60416 (34, 1024)\n",
      "study05_p06_prep.set 1024 26624 59 60416 (34, 1024)\n",
      "study05_p06_prep.set 1024 27648 59 60416 (34, 1024)\n",
      "study05_p06_prep.set 1024 28672 59 60416 (34, 1024)\n",
      "study05_p06_prep.set 1024 29696 59 60416 (34, 1024)\n",
      "study05_p06_prep.set 1024 30720 59 60416 (34, 1024)\n",
      "study05_p06_prep.set 1024 31744 59 60416 (34, 1024)\n",
      "study05_p06_prep.set 1024 32768 59 60416 (34, 1024)\n",
      "study05_p06_prep.set 1024 33792 59 60416 (34, 1024)\n",
      "study05_p06_prep.set 1024 34816 59 60416 (34, 1024)\n",
      "study05_p06_prep.set 1024 35840 59 60416 (34, 1024)\n",
      "study05_p06_prep.set 1024 36864 59 60416 (34, 1024)\n",
      "study05_p06_prep.set 1024 37888 59 60416 (34, 1024)\n",
      "study05_p06_prep.set 1024 38912 59 60416 (34, 1024)\n",
      "study05_p06_prep.set 1024 39936 59 60416 (34, 1024)\n",
      "study05_p06_prep.set 1024 40960 59 60416 (34, 1024)\n",
      "study05_p06_prep.set 1024 41984 59 60416 (34, 1024)\n",
      "study05_p06_prep.set 1024 43008 59 60416 (34, 1024)\n",
      "study05_p06_prep.set 1024 44032 59 60416 (34, 1024)\n",
      "study05_p06_prep.set 1024 45056 59 60416 (34, 1024)\n",
      "study05_p06_prep.set 1024 46080 59 60416 (34, 1024)\n",
      "study05_p06_prep.set 1024 47104 59 60416 (34, 1024)\n",
      "study05_p06_prep.set 1024 48128 59 60416 (34, 1024)\n",
      "study05_p06_prep.set 1024 49152 59 60416 (34, 1024)\n",
      "study05_p06_prep.set 1024 50176 59 60416 (34, 1024)\n",
      "study05_p06_prep.set 1024 51200 59 60416 (34, 1024)\n",
      "study05_p06_prep.set 1024 52224 59 60416 (34, 1024)\n",
      "study05_p06_prep.set 1024 53248 59 60416 (34, 1024)\n",
      "study05_p06_prep.set 1024 54272 59 60416 (34, 1024)\n",
      "study05_p06_prep.set 1024 55296 59 60416 (34, 1024)\n",
      "study05_p06_prep.set 1024 56320 59 60416 (34, 1024)\n",
      "study05_p06_prep.set 1024 57344 59 60416 (34, 1024)\n",
      "study05_p06_prep.set 1024 58368 59 60416 (34, 1024)\n",
      "study05_p06_prep.set 1024 59392 59 60416 (34, 1024)\n"
     ]
    },
    {
     "name": "stderr",
     "output_type": "stream",
     "text": [
      "C:\\Users\\DELL\\anaconda3\\lib\\site-packages\\pymatreader\\utils.py:122: UserWarning: Complex objects (like classes) are not supported. They are imported on a best effort base but your mileage will vary.\n",
      "  warn('Complex objects (like classes) are not supported. '\n"
     ]
    },
    {
     "name": "stdout",
     "output_type": "stream",
     "text": [
      "Extracting parameters from C:\\Users\\DELL\\Desktop\\20credit\\EEG_eye_artifact\\wholedata\\study05_p10_prep.set...\n",
      "Not setting metadata\n"
     ]
    },
    {
     "name": "stderr",
     "output_type": "stream",
     "text": [
      "C:\\Users\\DELL\\AppData\\Local\\Temp\\ipykernel_14424\\3542807486.py:14: RuntimeWarning: At least one epoch has multiple events. Only the latency of the first event will be retained.\n",
      "  data=mne.io.read_epochs_eeglab(srcpath)\n",
      "C:\\Users\\DELL\\AppData\\Local\\Temp\\ipykernel_14424\\3542807486.py:14: RuntimeWarning: Unknown types found, setting as type EEG:\n",
      "artifact: ['eye-art', 'eye-blink', 'eye-d', 'eye-fix', 'eye-l', 'eye-r', 'eye-u']\n",
      "eoglpf: ['HEOG_lpf', 'REOG_lpf', 'VEOG_lpf']\n",
      "label: ['artifactclasses']\n",
      "paradigm: ['block']\n",
      "state: ['label']\n",
      "  data=mne.io.read_epochs_eeglab(srcpath)\n",
      "C:\\Users\\DELL\\AppData\\Local\\Temp\\ipykernel_14424\\3542807486.py:14: RuntimeWarning: Data file name in EEG.data (ebs_prep.fdt) is incorrect, the file name must have changed on disk, using the correct file name (study05_p10_prep.fdt).\n",
      "  data=mne.io.read_epochs_eeglab(srcpath)\n"
     ]
    },
    {
     "name": "stdout",
     "output_type": "stream",
     "text": [
      "58 matching events found\n",
      "No baseline correction applied\n",
      "0 projection items activated\n",
      "Ready.\n"
     ]
    },
    {
     "name": "stderr",
     "output_type": "stream",
     "text": [
      "C:\\Users\\DELL\\AppData\\Local\\Temp\\ipykernel_14424\\3542807486.py:14: RuntimeWarning: Not setting positions of 3 eog channels found in montage:\n",
      "['HEOG', 'VEOG', 'REOG']\n",
      "Consider setting the channel types to be of EEG/sEEG/ECoG/DBS/fNIRS using inst.set_channel_types before calling inst.set_montage, or omit these channels when creating your montage.\n",
      "  data=mne.io.read_epochs_eeglab(srcpath)\n"
     ]
    },
    {
     "name": "stdout",
     "output_type": "stream",
     "text": [
      "Setting up band-pass filter from 1 - 63 Hz\n",
      "\n",
      "FIR filter parameters\n",
      "---------------------\n",
      "Designing a one-pass, zero-phase, non-causal bandpass filter:\n",
      "- Windowed time-domain design (firwin) method\n",
      "- Hamming window with 0.0194 passband ripple and 53 dB stopband attenuation\n",
      "- Lower passband edge: 1.00\n",
      "- Lower transition bandwidth: 1.00 Hz (-6 dB cutoff frequency: 0.50 Hz)\n",
      "- Upper passband edge: 63.00 Hz\n",
      "- Upper transition bandwidth: 1.00 Hz (-6 dB cutoff frequency: 63.50 Hz)\n",
      "- Filter length: 423 samples (3.305 sec)\n",
      "\n"
     ]
    },
    {
     "name": "stderr",
     "output_type": "stream",
     "text": [
      "[Parallel(n_jobs=1)]: Using backend SequentialBackend with 1 concurrent workers.\n",
      "[Parallel(n_jobs=1)]: Done   1 out of   1 | elapsed:    0.0s remaining:    0.0s\n",
      "[Parallel(n_jobs=1)]: Done   2 out of   2 | elapsed:    0.0s remaining:    0.0s\n",
      "[Parallel(n_jobs=1)]: Done   3 out of   3 | elapsed:    0.0s remaining:    0.0s\n",
      "[Parallel(n_jobs=1)]: Done   4 out of   4 | elapsed:    0.0s remaining:    0.0s\n",
      "[Parallel(n_jobs=1)]: Done 4466 out of 4466 | elapsed:    1.9s finished\n"
     ]
    },
    {
     "name": "stdout",
     "output_type": "stream",
     "text": [
      "study05_p10_prep.set 1024 0 58 59392 (34, 1024)\n",
      "study05_p10_prep.set 1024 1024 58 59392 (34, 1024)\n",
      "study05_p10_prep.set 1024 2048 58 59392 (34, 1024)\n",
      "study05_p10_prep.set 1024 3072 58 59392 (34, 1024)\n",
      "study05_p10_prep.set 1024 4096 58 59392 (34, 1024)\n",
      "study05_p10_prep.set 1024 5120 58 59392 (34, 1024)\n",
      "study05_p10_prep.set 1024 6144 58 59392 (34, 1024)\n",
      "study05_p10_prep.set 1024 7168 58 59392 (34, 1024)\n",
      "study05_p10_prep.set 1024 8192 58 59392 (34, 1024)\n",
      "study05_p10_prep.set 1024 9216 58 59392 (34, 1024)\n",
      "study05_p10_prep.set 1024 10240 58 59392 (34, 1024)\n",
      "study05_p10_prep.set 1024 11264 58 59392 (34, 1024)\n",
      "study05_p10_prep.set 1024 12288 58 59392 (34, 1024)\n",
      "study05_p10_prep.set 1024 13312 58 59392 (34, 1024)\n",
      "study05_p10_prep.set 1024 14336 58 59392 (34, 1024)\n",
      "study05_p10_prep.set 1024 15360 58 59392 (34, 1024)\n",
      "study05_p10_prep.set 1024 16384 58 59392 (34, 1024)\n",
      "study05_p10_prep.set 1024 17408 58 59392 (34, 1024)\n",
      "study05_p10_prep.set 1024 18432 58 59392 (34, 1024)\n",
      "study05_p10_prep.set 1024 19456 58 59392 (34, 1024)\n",
      "study05_p10_prep.set 1024 20480 58 59392 (34, 1024)\n",
      "study05_p10_prep.set 1024 21504 58 59392 (34, 1024)\n",
      "study05_p10_prep.set 1024 22528 58 59392 (34, 1024)\n",
      "study05_p10_prep.set 1024 23552 58 59392 (34, 1024)\n",
      "study05_p10_prep.set 1024 24576 58 59392 (34, 1024)\n",
      "study05_p10_prep.set 1024 25600 58 59392 (34, 1024)\n",
      "study05_p10_prep.set 1024 26624 58 59392 (34, 1024)\n",
      "study05_p10_prep.set 1024 27648 58 59392 (34, 1024)\n",
      "study05_p10_prep.set 1024 28672 58 59392 (34, 1024)\n",
      "study05_p10_prep.set 1024 29696 58 59392 (34, 1024)\n",
      "study05_p10_prep.set 1024 30720 58 59392 (34, 1024)\n",
      "study05_p10_prep.set 1024 31744 58 59392 (34, 1024)\n",
      "study05_p10_prep.set 1024 32768 58 59392 (34, 1024)\n",
      "study05_p10_prep.set 1024 33792 58 59392 (34, 1024)\n",
      "study05_p10_prep.set 1024 34816 58 59392 (34, 1024)\n",
      "study05_p10_prep.set 1024 35840 58 59392 (34, 1024)\n",
      "study05_p10_prep.set 1024 36864 58 59392 (34, 1024)\n",
      "study05_p10_prep.set 1024 37888 58 59392 (34, 1024)\n",
      "study05_p10_prep.set 1024 38912 58 59392 (34, 1024)\n",
      "study05_p10_prep.set 1024 39936 58 59392 (34, 1024)\n",
      "study05_p10_prep.set 1024 40960 58 59392 (34, 1024)\n",
      "study05_p10_prep.set 1024 41984 58 59392 (34, 1024)\n",
      "study05_p10_prep.set 1024 43008 58 59392 (34, 1024)\n",
      "study05_p10_prep.set 1024 44032 58 59392 (34, 1024)\n",
      "study05_p10_prep.set 1024 45056 58 59392 (34, 1024)\n",
      "study05_p10_prep.set 1024 46080 58 59392 (34, 1024)\n",
      "study05_p10_prep.set 1024 47104 58 59392 (34, 1024)\n",
      "study05_p10_prep.set 1024 48128 58 59392 (34, 1024)\n",
      "study05_p10_prep.set 1024 49152 58 59392 (34, 1024)\n",
      "study05_p10_prep.set 1024 50176 58 59392 (34, 1024)\n",
      "study05_p10_prep.set 1024 51200 58 59392 (34, 1024)\n",
      "study05_p10_prep.set 1024 52224 58 59392 (34, 1024)\n",
      "study05_p10_prep.set 1024 53248 58 59392 (34, 1024)\n",
      "study05_p10_prep.set 1024 54272 58 59392 (34, 1024)\n",
      "study05_p10_prep.set 1024 55296 58 59392 (34, 1024)\n",
      "study05_p10_prep.set 1024 56320 58 59392 (34, 1024)\n",
      "study05_p10_prep.set 1024 57344 58 59392 (34, 1024)\n",
      "study05_p10_prep.set 1024 58368 58 59392 (34, 1024)\n"
     ]
    },
    {
     "name": "stderr",
     "output_type": "stream",
     "text": [
      "C:\\Users\\DELL\\anaconda3\\lib\\site-packages\\pymatreader\\utils.py:122: UserWarning: Complex objects (like classes) are not supported. They are imported on a best effort base but your mileage will vary.\n",
      "  warn('Complex objects (like classes) are not supported. '\n"
     ]
    },
    {
     "name": "stdout",
     "output_type": "stream",
     "text": [
      "Extracting parameters from C:\\Users\\DELL\\Desktop\\20credit\\EEG_eye_artifact\\wholedata\\study05_p24_prep.set...\n",
      "Not setting metadata\n",
      "51 matching events found\n"
     ]
    },
    {
     "name": "stderr",
     "output_type": "stream",
     "text": [
      "C:\\Users\\DELL\\AppData\\Local\\Temp\\ipykernel_14424\\3542807486.py:14: RuntimeWarning: At least one epoch has multiple events. Only the latency of the first event will be retained.\n",
      "  data=mne.io.read_epochs_eeglab(srcpath)\n",
      "C:\\Users\\DELL\\AppData\\Local\\Temp\\ipykernel_14424\\3542807486.py:14: RuntimeWarning: Unknown types found, setting as type EEG:\n",
      "artifact: ['eye-art', 'eye-blink', 'eye-d', 'eye-fix', 'eye-l', 'eye-r', 'eye-u']\n",
      "eoglpf: ['HEOG_lpf', 'REOG_lpf', 'VEOG_lpf']\n",
      "label: ['artifactclasses']\n",
      "paradigm: ['block']\n",
      "state: ['label']\n",
      "  data=mne.io.read_epochs_eeglab(srcpath)\n",
      "C:\\Users\\DELL\\AppData\\Local\\Temp\\ipykernel_14424\\3542807486.py:14: RuntimeWarning: Data file name in EEG.data (ebs_prep.fdt) is incorrect, the file name must have changed on disk, using the correct file name (study05_p24_prep.fdt).\n",
      "  data=mne.io.read_epochs_eeglab(srcpath)\n"
     ]
    },
    {
     "name": "stdout",
     "output_type": "stream",
     "text": [
      "No baseline correction applied\n",
      "0 projection items activated\n",
      "Ready.\n"
     ]
    },
    {
     "name": "stderr",
     "output_type": "stream",
     "text": [
      "C:\\Users\\DELL\\AppData\\Local\\Temp\\ipykernel_14424\\3542807486.py:14: RuntimeWarning: Not setting positions of 3 eog channels found in montage:\n",
      "['HEOG', 'VEOG', 'REOG']\n",
      "Consider setting the channel types to be of EEG/sEEG/ECoG/DBS/fNIRS using inst.set_channel_types before calling inst.set_montage, or omit these channels when creating your montage.\n",
      "  data=mne.io.read_epochs_eeglab(srcpath)\n"
     ]
    },
    {
     "name": "stdout",
     "output_type": "stream",
     "text": [
      "Setting up band-pass filter from 1 - 63 Hz\n",
      "\n",
      "FIR filter parameters\n",
      "---------------------\n",
      "Designing a one-pass, zero-phase, non-causal bandpass filter:\n",
      "- Windowed time-domain design (firwin) method\n",
      "- Hamming window with 0.0194 passband ripple and 53 dB stopband attenuation\n",
      "- Lower passband edge: 1.00\n",
      "- Lower transition bandwidth: 1.00 Hz (-6 dB cutoff frequency: 0.50 Hz)\n",
      "- Upper passband edge: 63.00 Hz\n",
      "- Upper transition bandwidth: 1.00 Hz (-6 dB cutoff frequency: 63.50 Hz)\n",
      "- Filter length: 423 samples (3.305 sec)\n",
      "\n"
     ]
    },
    {
     "name": "stderr",
     "output_type": "stream",
     "text": [
      "[Parallel(n_jobs=1)]: Using backend SequentialBackend with 1 concurrent workers.\n",
      "[Parallel(n_jobs=1)]: Done   1 out of   1 | elapsed:    0.0s remaining:    0.0s\n",
      "[Parallel(n_jobs=1)]: Done   2 out of   2 | elapsed:    0.0s remaining:    0.0s\n",
      "[Parallel(n_jobs=1)]: Done   3 out of   3 | elapsed:    0.0s remaining:    0.0s\n",
      "[Parallel(n_jobs=1)]: Done   4 out of   4 | elapsed:    0.0s remaining:    0.0s\n",
      "[Parallel(n_jobs=1)]: Done 3927 out of 3927 | elapsed:    1.7s finished\n"
     ]
    },
    {
     "name": "stdout",
     "output_type": "stream",
     "text": [
      "study05_p24_prep.set 1024 0 51 52224 (34, 1024)\n",
      "study05_p24_prep.set 1024 1024 51 52224 (34, 1024)\n",
      "study05_p24_prep.set 1024 2048 51 52224 (34, 1024)\n",
      "study05_p24_prep.set 1024 3072 51 52224 (34, 1024)\n",
      "study05_p24_prep.set 1024 4096 51 52224 (34, 1024)\n",
      "study05_p24_prep.set 1024 5120 51 52224 (34, 1024)\n",
      "study05_p24_prep.set 1024 6144 51 52224 (34, 1024)\n",
      "study05_p24_prep.set 1024 7168 51 52224 (34, 1024)\n",
      "study05_p24_prep.set 1024 8192 51 52224 (34, 1024)\n",
      "study05_p24_prep.set 1024 9216 51 52224 (34, 1024)\n",
      "study05_p24_prep.set 1024 10240 51 52224 (34, 1024)\n",
      "study05_p24_prep.set 1024 11264 51 52224 (34, 1024)\n",
      "study05_p24_prep.set 1024 12288 51 52224 (34, 1024)\n",
      "study05_p24_prep.set 1024 13312 51 52224 (34, 1024)\n",
      "study05_p24_prep.set 1024 14336 51 52224 (34, 1024)\n",
      "study05_p24_prep.set 1024 15360 51 52224 (34, 1024)\n",
      "study05_p24_prep.set 1024 16384 51 52224 (34, 1024)\n",
      "study05_p24_prep.set 1024 17408 51 52224 (34, 1024)\n",
      "study05_p24_prep.set 1024 18432 51 52224 (34, 1024)\n",
      "study05_p24_prep.set 1024 19456 51 52224 (34, 1024)\n",
      "study05_p24_prep.set 1024 20480 51 52224 (34, 1024)\n",
      "study05_p24_prep.set 1024 21504 51 52224 (34, 1024)\n",
      "study05_p24_prep.set 1024 22528 51 52224 (34, 1024)\n",
      "study05_p24_prep.set 1024 23552 51 52224 (34, 1024)\n",
      "study05_p24_prep.set 1024 24576 51 52224 (34, 1024)\n",
      "study05_p24_prep.set 1024 25600 51 52224 (34, 1024)\n",
      "study05_p24_prep.set 1024 26624 51 52224 (34, 1024)\n",
      "study05_p24_prep.set 1024 27648 51 52224 (34, 1024)\n",
      "study05_p24_prep.set 1024 28672 51 52224 (34, 1024)\n",
      "study05_p24_prep.set 1024 29696 51 52224 (34, 1024)\n",
      "study05_p24_prep.set 1024 30720 51 52224 (34, 1024)\n",
      "study05_p24_prep.set 1024 31744 51 52224 (34, 1024)\n",
      "study05_p24_prep.set 1024 32768 51 52224 (34, 1024)\n",
      "study05_p24_prep.set 1024 33792 51 52224 (34, 1024)\n",
      "study05_p24_prep.set 1024 34816 51 52224 (34, 1024)\n",
      "study05_p24_prep.set 1024 35840 51 52224 (34, 1024)\n",
      "study05_p24_prep.set 1024 36864 51 52224 (34, 1024)\n",
      "study05_p24_prep.set 1024 37888 51 52224 (34, 1024)\n",
      "study05_p24_prep.set 1024 38912 51 52224 (34, 1024)\n",
      "study05_p24_prep.set 1024 39936 51 52224 (34, 1024)\n",
      "study05_p24_prep.set 1024 40960 51 52224 (34, 1024)\n",
      "study05_p24_prep.set 1024 41984 51 52224 (34, 1024)\n",
      "study05_p24_prep.set 1024 43008 51 52224 (34, 1024)\n",
      "study05_p24_prep.set 1024 44032 51 52224 (34, 1024)\n",
      "study05_p24_prep.set 1024 45056 51 52224 (34, 1024)\n",
      "study05_p24_prep.set 1024 46080 51 52224 (34, 1024)\n",
      "study05_p24_prep.set 1024 47104 51 52224 (34, 1024)\n",
      "study05_p24_prep.set 1024 48128 51 52224 (34, 1024)\n",
      "study05_p24_prep.set 1024 49152 51 52224 (34, 1024)\n",
      "study05_p24_prep.set 1024 50176 51 52224 (34, 1024)\n",
      "study05_p24_prep.set 1024 51200 51 52224 (34, 1024)\n"
     ]
    },
    {
     "name": "stderr",
     "output_type": "stream",
     "text": [
      "C:\\Users\\DELL\\anaconda3\\lib\\site-packages\\pymatreader\\utils.py:122: UserWarning: Complex objects (like classes) are not supported. They are imported on a best effort base but your mileage will vary.\n",
      "  warn('Complex objects (like classes) are not supported. '\n"
     ]
    },
    {
     "name": "stdout",
     "output_type": "stream",
     "text": [
      "Extracting parameters from C:\\Users\\DELL\\Desktop\\20credit\\EEG_eye_artifact\\wholedata\\study05_p40_prep.set...\n",
      "Not setting metadata\n",
      "53 matching events found\n",
      "No baseline correction applied\n"
     ]
    },
    {
     "name": "stderr",
     "output_type": "stream",
     "text": [
      "C:\\Users\\DELL\\AppData\\Local\\Temp\\ipykernel_14424\\3542807486.py:14: RuntimeWarning: At least one epoch has multiple events. Only the latency of the first event will be retained.\n",
      "  data=mne.io.read_epochs_eeglab(srcpath)\n",
      "C:\\Users\\DELL\\AppData\\Local\\Temp\\ipykernel_14424\\3542807486.py:14: RuntimeWarning: Unknown types found, setting as type EEG:\n",
      "artifact: ['eye-art', 'eye-blink', 'eye-d', 'eye-fix', 'eye-l', 'eye-r', 'eye-u']\n",
      "eoglpf: ['HEOG_lpf', 'REOG_lpf', 'VEOG_lpf']\n",
      "label: ['artifactclasses']\n",
      "paradigm: ['block']\n",
      "state: ['label']\n",
      "  data=mne.io.read_epochs_eeglab(srcpath)\n",
      "C:\\Users\\DELL\\AppData\\Local\\Temp\\ipykernel_14424\\3542807486.py:14: RuntimeWarning: Data file name in EEG.data (ebs_prep.fdt) is incorrect, the file name must have changed on disk, using the correct file name (study05_p40_prep.fdt).\n",
      "  data=mne.io.read_epochs_eeglab(srcpath)\n"
     ]
    },
    {
     "name": "stdout",
     "output_type": "stream",
     "text": [
      "0 projection items activated\n",
      "Ready.\n"
     ]
    },
    {
     "name": "stderr",
     "output_type": "stream",
     "text": [
      "C:\\Users\\DELL\\AppData\\Local\\Temp\\ipykernel_14424\\3542807486.py:14: RuntimeWarning: Not setting positions of 3 eog channels found in montage:\n",
      "['HEOG', 'VEOG', 'REOG']\n",
      "Consider setting the channel types to be of EEG/sEEG/ECoG/DBS/fNIRS using inst.set_channel_types before calling inst.set_montage, or omit these channels when creating your montage.\n",
      "  data=mne.io.read_epochs_eeglab(srcpath)\n"
     ]
    },
    {
     "name": "stdout",
     "output_type": "stream",
     "text": [
      "Setting up band-pass filter from 1 - 63 Hz\n",
      "\n",
      "FIR filter parameters\n",
      "---------------------\n",
      "Designing a one-pass, zero-phase, non-causal bandpass filter:\n",
      "- Windowed time-domain design (firwin) method\n",
      "- Hamming window with 0.0194 passband ripple and 53 dB stopband attenuation\n",
      "- Lower passband edge: 1.00\n",
      "- Lower transition bandwidth: 1.00 Hz (-6 dB cutoff frequency: 0.50 Hz)\n",
      "- Upper passband edge: 63.00 Hz\n",
      "- Upper transition bandwidth: 1.00 Hz (-6 dB cutoff frequency: 63.50 Hz)\n",
      "- Filter length: 423 samples (3.305 sec)\n",
      "\n"
     ]
    },
    {
     "name": "stderr",
     "output_type": "stream",
     "text": [
      "[Parallel(n_jobs=1)]: Using backend SequentialBackend with 1 concurrent workers.\n",
      "[Parallel(n_jobs=1)]: Done   1 out of   1 | elapsed:    0.0s remaining:    0.0s\n",
      "[Parallel(n_jobs=1)]: Done   2 out of   2 | elapsed:    0.0s remaining:    0.0s\n",
      "[Parallel(n_jobs=1)]: Done   3 out of   3 | elapsed:    0.0s remaining:    0.0s\n",
      "[Parallel(n_jobs=1)]: Done   4 out of   4 | elapsed:    0.0s remaining:    0.0s\n",
      "[Parallel(n_jobs=1)]: Done 4081 out of 4081 | elapsed:    1.7s finished\n"
     ]
    },
    {
     "name": "stdout",
     "output_type": "stream",
     "text": [
      "study05_p40_prep.set 1024 0 53 54272 (34, 1024)\n",
      "study05_p40_prep.set 1024 1024 53 54272 (34, 1024)\n",
      "study05_p40_prep.set 1024 2048 53 54272 (34, 1024)\n",
      "study05_p40_prep.set 1024 3072 53 54272 (34, 1024)\n",
      "study05_p40_prep.set 1024 4096 53 54272 (34, 1024)\n",
      "study05_p40_prep.set 1024 5120 53 54272 (34, 1024)\n",
      "study05_p40_prep.set 1024 6144 53 54272 (34, 1024)\n",
      "study05_p40_prep.set 1024 7168 53 54272 (34, 1024)\n",
      "study05_p40_prep.set 1024 8192 53 54272 (34, 1024)\n",
      "study05_p40_prep.set 1024 9216 53 54272 (34, 1024)\n",
      "study05_p40_prep.set 1024 10240 53 54272 (34, 1024)\n",
      "study05_p40_prep.set 1024 11264 53 54272 (34, 1024)\n",
      "study05_p40_prep.set 1024 12288 53 54272 (34, 1024)\n",
      "study05_p40_prep.set 1024 13312 53 54272 (34, 1024)\n",
      "study05_p40_prep.set 1024 14336 53 54272 (34, 1024)\n",
      "study05_p40_prep.set 1024 15360 53 54272 (34, 1024)\n",
      "study05_p40_prep.set 1024 16384 53 54272 (34, 1024)\n",
      "study05_p40_prep.set 1024 17408 53 54272 (34, 1024)\n",
      "study05_p40_prep.set 1024 18432 53 54272 (34, 1024)\n",
      "study05_p40_prep.set 1024 19456 53 54272 (34, 1024)\n",
      "study05_p40_prep.set 1024 20480 53 54272 (34, 1024)\n",
      "study05_p40_prep.set 1024 21504 53 54272 (34, 1024)\n",
      "study05_p40_prep.set 1024 22528 53 54272 (34, 1024)\n",
      "study05_p40_prep.set 1024 23552 53 54272 (34, 1024)\n",
      "study05_p40_prep.set 1024 24576 53 54272 (34, 1024)\n",
      "study05_p40_prep.set 1024 25600 53 54272 (34, 1024)\n",
      "study05_p40_prep.set 1024 26624 53 54272 (34, 1024)\n",
      "study05_p40_prep.set 1024 27648 53 54272 (34, 1024)\n",
      "study05_p40_prep.set 1024 28672 53 54272 (34, 1024)\n",
      "study05_p40_prep.set 1024 29696 53 54272 (34, 1024)\n",
      "study05_p40_prep.set 1024 30720 53 54272 (34, 1024)\n",
      "study05_p40_prep.set 1024 31744 53 54272 (34, 1024)\n",
      "study05_p40_prep.set 1024 32768 53 54272 (34, 1024)\n",
      "study05_p40_prep.set 1024 33792 53 54272 (34, 1024)\n",
      "study05_p40_prep.set 1024 34816 53 54272 (34, 1024)\n",
      "study05_p40_prep.set 1024 35840 53 54272 (34, 1024)\n",
      "study05_p40_prep.set 1024 36864 53 54272 (34, 1024)\n",
      "study05_p40_prep.set 1024 37888 53 54272 (34, 1024)\n",
      "study05_p40_prep.set 1024 38912 53 54272 (34, 1024)\n",
      "study05_p40_prep.set 1024 39936 53 54272 (34, 1024)\n",
      "study05_p40_prep.set 1024 40960 53 54272 (34, 1024)\n",
      "study05_p40_prep.set 1024 41984 53 54272 (34, 1024)\n",
      "study05_p40_prep.set 1024 43008 53 54272 (34, 1024)\n",
      "study05_p40_prep.set 1024 44032 53 54272 (34, 1024)\n",
      "study05_p40_prep.set 1024 45056 53 54272 (34, 1024)\n",
      "study05_p40_prep.set 1024 46080 53 54272 (34, 1024)\n",
      "study05_p40_prep.set 1024 47104 53 54272 (34, 1024)\n",
      "study05_p40_prep.set 1024 48128 53 54272 (34, 1024)\n",
      "study05_p40_prep.set 1024 49152 53 54272 (34, 1024)\n",
      "study05_p40_prep.set 1024 50176 53 54272 (34, 1024)\n",
      "study05_p40_prep.set 1024 51200 53 54272 (34, 1024)\n",
      "study05_p40_prep.set 1024 52224 53 54272 (34, 1024)\n",
      "study05_p40_prep.set 1024 53248 53 54272 (34, 1024)\n"
     ]
    },
    {
     "name": "stderr",
     "output_type": "stream",
     "text": [
      "C:\\Users\\DELL\\anaconda3\\lib\\site-packages\\pymatreader\\utils.py:122: UserWarning: Complex objects (like classes) are not supported. They are imported on a best effort base but your mileage will vary.\n",
      "  warn('Complex objects (like classes) are not supported. '\n"
     ]
    },
    {
     "name": "stdout",
     "output_type": "stream",
     "text": [
      "Extracting parameters from C:\\Users\\DELL\\Desktop\\20credit\\EEG_eye_artifact\\wholedata\\study05_p41_prep.set...\n",
      "Not setting metadata\n",
      "53 matching events found\n"
     ]
    },
    {
     "name": "stderr",
     "output_type": "stream",
     "text": [
      "C:\\Users\\DELL\\AppData\\Local\\Temp\\ipykernel_14424\\3542807486.py:14: RuntimeWarning: At least one epoch has multiple events. Only the latency of the first event will be retained.\n",
      "  data=mne.io.read_epochs_eeglab(srcpath)\n",
      "C:\\Users\\DELL\\AppData\\Local\\Temp\\ipykernel_14424\\3542807486.py:14: RuntimeWarning: Unknown types found, setting as type EEG:\n",
      "artifact: ['eye-art', 'eye-blink', 'eye-d', 'eye-fix', 'eye-l', 'eye-r', 'eye-u']\n",
      "eoglpf: ['HEOG_lpf', 'REOG_lpf', 'VEOG_lpf']\n",
      "label: ['artifactclasses']\n",
      "paradigm: ['block']\n",
      "state: ['label']\n",
      "  data=mne.io.read_epochs_eeglab(srcpath)\n",
      "C:\\Users\\DELL\\AppData\\Local\\Temp\\ipykernel_14424\\3542807486.py:14: RuntimeWarning: Data file name in EEG.data (ebs_prep.fdt) is incorrect, the file name must have changed on disk, using the correct file name (study05_p41_prep.fdt).\n",
      "  data=mne.io.read_epochs_eeglab(srcpath)\n"
     ]
    },
    {
     "name": "stdout",
     "output_type": "stream",
     "text": [
      "No baseline correction applied\n",
      "0 projection items activated\n",
      "Ready.\n"
     ]
    },
    {
     "name": "stderr",
     "output_type": "stream",
     "text": [
      "C:\\Users\\DELL\\AppData\\Local\\Temp\\ipykernel_14424\\3542807486.py:14: RuntimeWarning: Not setting positions of 3 eog channels found in montage:\n",
      "['HEOG', 'VEOG', 'REOG']\n",
      "Consider setting the channel types to be of EEG/sEEG/ECoG/DBS/fNIRS using inst.set_channel_types before calling inst.set_montage, or omit these channels when creating your montage.\n",
      "  data=mne.io.read_epochs_eeglab(srcpath)\n"
     ]
    },
    {
     "name": "stdout",
     "output_type": "stream",
     "text": [
      "Setting up band-pass filter from 1 - 63 Hz\n",
      "\n",
      "FIR filter parameters\n",
      "---------------------\n",
      "Designing a one-pass, zero-phase, non-causal bandpass filter:\n",
      "- Windowed time-domain design (firwin) method\n",
      "- Hamming window with 0.0194 passband ripple and 53 dB stopband attenuation\n",
      "- Lower passband edge: 1.00\n",
      "- Lower transition bandwidth: 1.00 Hz (-6 dB cutoff frequency: 0.50 Hz)\n",
      "- Upper passband edge: 63.00 Hz\n",
      "- Upper transition bandwidth: 1.00 Hz (-6 dB cutoff frequency: 63.50 Hz)\n",
      "- Filter length: 423 samples (3.305 sec)\n",
      "\n"
     ]
    },
    {
     "name": "stderr",
     "output_type": "stream",
     "text": [
      "[Parallel(n_jobs=1)]: Using backend SequentialBackend with 1 concurrent workers.\n",
      "[Parallel(n_jobs=1)]: Done   1 out of   1 | elapsed:    0.0s remaining:    0.0s\n",
      "[Parallel(n_jobs=1)]: Done   2 out of   2 | elapsed:    0.0s remaining:    0.0s\n",
      "[Parallel(n_jobs=1)]: Done   3 out of   3 | elapsed:    0.0s remaining:    0.0s\n",
      "[Parallel(n_jobs=1)]: Done   4 out of   4 | elapsed:    0.0s remaining:    0.0s\n",
      "[Parallel(n_jobs=1)]: Done 4081 out of 4081 | elapsed:    1.9s finished\n"
     ]
    },
    {
     "name": "stdout",
     "output_type": "stream",
     "text": [
      "study05_p41_prep.set 1024 0 53 54272 (34, 1024)\n",
      "study05_p41_prep.set 1024 1024 53 54272 (34, 1024)\n",
      "study05_p41_prep.set 1024 2048 53 54272 (34, 1024)\n",
      "study05_p41_prep.set 1024 3072 53 54272 (34, 1024)\n",
      "study05_p41_prep.set 1024 4096 53 54272 (34, 1024)\n",
      "study05_p41_prep.set 1024 5120 53 54272 (34, 1024)\n",
      "study05_p41_prep.set 1024 6144 53 54272 (34, 1024)\n",
      "study05_p41_prep.set 1024 7168 53 54272 (34, 1024)\n",
      "study05_p41_prep.set 1024 8192 53 54272 (34, 1024)\n",
      "study05_p41_prep.set 1024 9216 53 54272 (34, 1024)\n",
      "study05_p41_prep.set 1024 10240 53 54272 (34, 1024)\n",
      "study05_p41_prep.set 1024 11264 53 54272 (34, 1024)\n",
      "study05_p41_prep.set 1024 12288 53 54272 (34, 1024)\n",
      "study05_p41_prep.set 1024 13312 53 54272 (34, 1024)\n",
      "study05_p41_prep.set 1024 14336 53 54272 (34, 1024)\n",
      "study05_p41_prep.set 1024 15360 53 54272 (34, 1024)\n",
      "study05_p41_prep.set 1024 16384 53 54272 (34, 1024)\n",
      "study05_p41_prep.set 1024 17408 53 54272 (34, 1024)\n",
      "study05_p41_prep.set 1024 18432 53 54272 (34, 1024)\n",
      "study05_p41_prep.set 1024 19456 53 54272 (34, 1024)\n",
      "study05_p41_prep.set 1024 20480 53 54272 (34, 1024)\n",
      "study05_p41_prep.set 1024 21504 53 54272 (34, 1024)\n",
      "study05_p41_prep.set 1024 22528 53 54272 (34, 1024)\n",
      "study05_p41_prep.set 1024 23552 53 54272 (34, 1024)\n",
      "study05_p41_prep.set 1024 24576 53 54272 (34, 1024)\n",
      "study05_p41_prep.set 1024 25600 53 54272 (34, 1024)\n",
      "study05_p41_prep.set 1024 26624 53 54272 (34, 1024)\n",
      "study05_p41_prep.set 1024 27648 53 54272 (34, 1024)\n",
      "study05_p41_prep.set 1024 28672 53 54272 (34, 1024)\n",
      "study05_p41_prep.set 1024 29696 53 54272 (34, 1024)\n",
      "study05_p41_prep.set 1024 30720 53 54272 (34, 1024)\n",
      "study05_p41_prep.set 1024 31744 53 54272 (34, 1024)\n",
      "study05_p41_prep.set 1024 32768 53 54272 (34, 1024)\n",
      "study05_p41_prep.set 1024 33792 53 54272 (34, 1024)\n",
      "study05_p41_prep.set 1024 34816 53 54272 (34, 1024)\n",
      "study05_p41_prep.set 1024 35840 53 54272 (34, 1024)\n",
      "study05_p41_prep.set 1024 36864 53 54272 (34, 1024)\n",
      "study05_p41_prep.set 1024 37888 53 54272 (34, 1024)\n",
      "study05_p41_prep.set 1024 38912 53 54272 (34, 1024)\n",
      "study05_p41_prep.set 1024 39936 53 54272 (34, 1024)\n",
      "study05_p41_prep.set 1024 40960 53 54272 (34, 1024)\n",
      "study05_p41_prep.set 1024 41984 53 54272 (34, 1024)\n",
      "study05_p41_prep.set 1024 43008 53 54272 (34, 1024)\n",
      "study05_p41_prep.set 1024 44032 53 54272 (34, 1024)\n",
      "study05_p41_prep.set 1024 45056 53 54272 (34, 1024)\n",
      "study05_p41_prep.set 1024 46080 53 54272 (34, 1024)\n",
      "study05_p41_prep.set 1024 47104 53 54272 (34, 1024)\n",
      "study05_p41_prep.set 1024 48128 53 54272 (34, 1024)\n",
      "study05_p41_prep.set 1024 49152 53 54272 (34, 1024)\n",
      "study05_p41_prep.set 1024 50176 53 54272 (34, 1024)\n",
      "study05_p41_prep.set 1024 51200 53 54272 (34, 1024)\n",
      "study05_p41_prep.set 1024 52224 53 54272 (34, 1024)\n",
      "study05_p41_prep.set 1024 53248 53 54272 (34, 1024)\n"
     ]
    },
    {
     "name": "stderr",
     "output_type": "stream",
     "text": [
      "C:\\Users\\DELL\\anaconda3\\lib\\site-packages\\pymatreader\\utils.py:122: UserWarning: Complex objects (like classes) are not supported. They are imported on a best effort base but your mileage will vary.\n",
      "  warn('Complex objects (like classes) are not supported. '\n"
     ]
    },
    {
     "name": "stdout",
     "output_type": "stream",
     "text": [
      "Extracting parameters from C:\\Users\\DELL\\Desktop\\20credit\\EEG_eye_artifact\\wholedata\\study05_p42_prep.set...\n",
      "Not setting metadata\n",
      "59 matching events found\n"
     ]
    },
    {
     "name": "stderr",
     "output_type": "stream",
     "text": [
      "C:\\Users\\DELL\\AppData\\Local\\Temp\\ipykernel_14424\\3542807486.py:14: RuntimeWarning: At least one epoch has multiple events. Only the latency of the first event will be retained.\n",
      "  data=mne.io.read_epochs_eeglab(srcpath)\n",
      "C:\\Users\\DELL\\AppData\\Local\\Temp\\ipykernel_14424\\3542807486.py:14: RuntimeWarning: Unknown types found, setting as type EEG:\n",
      "artifact: ['eye-art', 'eye-blink', 'eye-d', 'eye-fix', 'eye-l', 'eye-r', 'eye-u']\n",
      "eoglpf: ['HEOG_lpf', 'REOG_lpf', 'VEOG_lpf']\n",
      "label: ['artifactclasses']\n",
      "paradigm: ['block']\n",
      "state: ['label']\n",
      "  data=mne.io.read_epochs_eeglab(srcpath)\n",
      "C:\\Users\\DELL\\AppData\\Local\\Temp\\ipykernel_14424\\3542807486.py:14: RuntimeWarning: Data file name in EEG.data (ebs_prep.fdt) is incorrect, the file name must have changed on disk, using the correct file name (study05_p42_prep.fdt).\n",
      "  data=mne.io.read_epochs_eeglab(srcpath)\n"
     ]
    },
    {
     "name": "stdout",
     "output_type": "stream",
     "text": [
      "No baseline correction applied\n",
      "0 projection items activated\n",
      "Ready.\n"
     ]
    },
    {
     "name": "stderr",
     "output_type": "stream",
     "text": [
      "C:\\Users\\DELL\\AppData\\Local\\Temp\\ipykernel_14424\\3542807486.py:14: RuntimeWarning: Not setting positions of 3 eog channels found in montage:\n",
      "['HEOG', 'VEOG', 'REOG']\n",
      "Consider setting the channel types to be of EEG/sEEG/ECoG/DBS/fNIRS using inst.set_channel_types before calling inst.set_montage, or omit these channels when creating your montage.\n",
      "  data=mne.io.read_epochs_eeglab(srcpath)\n"
     ]
    },
    {
     "name": "stdout",
     "output_type": "stream",
     "text": [
      "Setting up band-pass filter from 1 - 63 Hz\n",
      "\n",
      "FIR filter parameters\n",
      "---------------------\n",
      "Designing a one-pass, zero-phase, non-causal bandpass filter:\n",
      "- Windowed time-domain design (firwin) method\n",
      "- Hamming window with 0.0194 passband ripple and 53 dB stopband attenuation\n",
      "- Lower passband edge: 1.00\n",
      "- Lower transition bandwidth: 1.00 Hz (-6 dB cutoff frequency: 0.50 Hz)\n",
      "- Upper passband edge: 63.00 Hz\n",
      "- Upper transition bandwidth: 1.00 Hz (-6 dB cutoff frequency: 63.50 Hz)\n",
      "- Filter length: 423 samples (3.305 sec)\n",
      "\n"
     ]
    },
    {
     "name": "stderr",
     "output_type": "stream",
     "text": [
      "[Parallel(n_jobs=1)]: Using backend SequentialBackend with 1 concurrent workers.\n",
      "[Parallel(n_jobs=1)]: Done   1 out of   1 | elapsed:    0.0s remaining:    0.0s\n",
      "[Parallel(n_jobs=1)]: Done   2 out of   2 | elapsed:    0.0s remaining:    0.0s\n",
      "[Parallel(n_jobs=1)]: Done   3 out of   3 | elapsed:    0.0s remaining:    0.0s\n",
      "[Parallel(n_jobs=1)]: Done   4 out of   4 | elapsed:    0.0s remaining:    0.0s\n",
      "[Parallel(n_jobs=1)]: Done 4543 out of 4543 | elapsed:    1.9s finished\n"
     ]
    },
    {
     "name": "stdout",
     "output_type": "stream",
     "text": [
      "study05_p42_prep.set 1024 0 59 60416 (34, 1024)\n",
      "study05_p42_prep.set 1024 1024 59 60416 (34, 1024)\n",
      "study05_p42_prep.set 1024 2048 59 60416 (34, 1024)\n",
      "study05_p42_prep.set 1024 3072 59 60416 (34, 1024)\n",
      "study05_p42_prep.set 1024 4096 59 60416 (34, 1024)\n",
      "study05_p42_prep.set 1024 5120 59 60416 (34, 1024)\n",
      "study05_p42_prep.set 1024 6144 59 60416 (34, 1024)\n",
      "study05_p42_prep.set 1024 7168 59 60416 (34, 1024)\n",
      "study05_p42_prep.set 1024 8192 59 60416 (34, 1024)\n",
      "study05_p42_prep.set 1024 9216 59 60416 (34, 1024)\n",
      "study05_p42_prep.set 1024 10240 59 60416 (34, 1024)\n",
      "study05_p42_prep.set 1024 11264 59 60416 (34, 1024)\n",
      "study05_p42_prep.set 1024 12288 59 60416 (34, 1024)\n",
      "study05_p42_prep.set 1024 13312 59 60416 (34, 1024)\n",
      "study05_p42_prep.set 1024 14336 59 60416 (34, 1024)\n",
      "study05_p42_prep.set 1024 15360 59 60416 (34, 1024)\n",
      "study05_p42_prep.set 1024 16384 59 60416 (34, 1024)\n",
      "study05_p42_prep.set 1024 17408 59 60416 (34, 1024)\n",
      "study05_p42_prep.set 1024 18432 59 60416 (34, 1024)\n",
      "study05_p42_prep.set 1024 19456 59 60416 (34, 1024)\n",
      "study05_p42_prep.set 1024 20480 59 60416 (34, 1024)\n",
      "study05_p42_prep.set 1024 21504 59 60416 (34, 1024)\n",
      "study05_p42_prep.set 1024 22528 59 60416 (34, 1024)\n",
      "study05_p42_prep.set 1024 23552 59 60416 (34, 1024)\n",
      "study05_p42_prep.set 1024 24576 59 60416 (34, 1024)\n",
      "study05_p42_prep.set 1024 25600 59 60416 (34, 1024)\n",
      "study05_p42_prep.set 1024 26624 59 60416 (34, 1024)\n",
      "study05_p42_prep.set 1024 27648 59 60416 (34, 1024)\n",
      "study05_p42_prep.set 1024 28672 59 60416 (34, 1024)\n",
      "study05_p42_prep.set 1024 29696 59 60416 (34, 1024)\n",
      "study05_p42_prep.set 1024 30720 59 60416 (34, 1024)\n",
      "study05_p42_prep.set 1024 31744 59 60416 (34, 1024)\n",
      "study05_p42_prep.set 1024 32768 59 60416 (34, 1024)\n",
      "study05_p42_prep.set 1024 33792 59 60416 (34, 1024)\n",
      "study05_p42_prep.set 1024 34816 59 60416 (34, 1024)\n",
      "study05_p42_prep.set 1024 35840 59 60416 (34, 1024)\n",
      "study05_p42_prep.set 1024 36864 59 60416 (34, 1024)\n",
      "study05_p42_prep.set 1024 37888 59 60416 (34, 1024)\n",
      "study05_p42_prep.set 1024 38912 59 60416 (34, 1024)\n",
      "study05_p42_prep.set 1024 39936 59 60416 (34, 1024)\n",
      "study05_p42_prep.set 1024 40960 59 60416 (34, 1024)\n",
      "study05_p42_prep.set 1024 41984 59 60416 (34, 1024)\n",
      "study05_p42_prep.set 1024 43008 59 60416 (34, 1024)\n",
      "study05_p42_prep.set 1024 44032 59 60416 (34, 1024)\n",
      "study05_p42_prep.set 1024 45056 59 60416 (34, 1024)\n",
      "study05_p42_prep.set 1024 46080 59 60416 (34, 1024)\n",
      "study05_p42_prep.set 1024 47104 59 60416 (34, 1024)\n",
      "study05_p42_prep.set 1024 48128 59 60416 (34, 1024)\n",
      "study05_p42_prep.set 1024 49152 59 60416 (34, 1024)\n",
      "study05_p42_prep.set 1024 50176 59 60416 (34, 1024)\n",
      "study05_p42_prep.set 1024 51200 59 60416 (34, 1024)\n",
      "study05_p42_prep.set 1024 52224 59 60416 (34, 1024)\n",
      "study05_p42_prep.set 1024 53248 59 60416 (34, 1024)\n",
      "study05_p42_prep.set 1024 54272 59 60416 (34, 1024)\n",
      "study05_p42_prep.set 1024 55296 59 60416 (34, 1024)\n",
      "study05_p42_prep.set 1024 56320 59 60416 (34, 1024)\n",
      "study05_p42_prep.set 1024 57344 59 60416 (34, 1024)\n",
      "study05_p42_prep.set 1024 58368 59 60416 (34, 1024)\n",
      "study05_p42_prep.set 1024 59392 59 60416 (34, 1024)\n"
     ]
    },
    {
     "name": "stderr",
     "output_type": "stream",
     "text": [
      "C:\\Users\\DELL\\anaconda3\\lib\\site-packages\\pymatreader\\utils.py:122: UserWarning: Complex objects (like classes) are not supported. They are imported on a best effort base but your mileage will vary.\n",
      "  warn('Complex objects (like classes) are not supported. '\n"
     ]
    },
    {
     "name": "stdout",
     "output_type": "stream",
     "text": [
      "Extracting parameters from C:\\Users\\DELL\\Desktop\\20credit\\EEG_eye_artifact\\wholedata\\study05_p43_prep.set...\n",
      "Not setting metadata\n",
      "59 matching events found\n"
     ]
    },
    {
     "name": "stderr",
     "output_type": "stream",
     "text": [
      "C:\\Users\\DELL\\AppData\\Local\\Temp\\ipykernel_14424\\3542807486.py:14: RuntimeWarning: At least one epoch has multiple events. Only the latency of the first event will be retained.\n",
      "  data=mne.io.read_epochs_eeglab(srcpath)\n",
      "C:\\Users\\DELL\\AppData\\Local\\Temp\\ipykernel_14424\\3542807486.py:14: RuntimeWarning: Unknown types found, setting as type EEG:\n",
      "artifact: ['eye-art', 'eye-blink', 'eye-d', 'eye-fix', 'eye-l', 'eye-r', 'eye-u']\n",
      "eoglpf: ['HEOG_lpf', 'REOG_lpf', 'VEOG_lpf']\n",
      "label: ['artifactclasses']\n",
      "paradigm: ['block']\n",
      "state: ['label']\n",
      "  data=mne.io.read_epochs_eeglab(srcpath)\n",
      "C:\\Users\\DELL\\AppData\\Local\\Temp\\ipykernel_14424\\3542807486.py:14: RuntimeWarning: Data file name in EEG.data (ebs_prep.fdt) is incorrect, the file name must have changed on disk, using the correct file name (study05_p43_prep.fdt).\n",
      "  data=mne.io.read_epochs_eeglab(srcpath)\n"
     ]
    },
    {
     "name": "stdout",
     "output_type": "stream",
     "text": [
      "No baseline correction applied\n",
      "0 projection items activated\n",
      "Ready.\n"
     ]
    },
    {
     "name": "stderr",
     "output_type": "stream",
     "text": [
      "C:\\Users\\DELL\\AppData\\Local\\Temp\\ipykernel_14424\\3542807486.py:14: RuntimeWarning: Not setting positions of 3 eog channels found in montage:\n",
      "['HEOG', 'VEOG', 'REOG']\n",
      "Consider setting the channel types to be of EEG/sEEG/ECoG/DBS/fNIRS using inst.set_channel_types before calling inst.set_montage, or omit these channels when creating your montage.\n",
      "  data=mne.io.read_epochs_eeglab(srcpath)\n"
     ]
    },
    {
     "name": "stdout",
     "output_type": "stream",
     "text": [
      "Setting up band-pass filter from 1 - 63 Hz\n",
      "\n",
      "FIR filter parameters\n",
      "---------------------\n",
      "Designing a one-pass, zero-phase, non-causal bandpass filter:\n",
      "- Windowed time-domain design (firwin) method\n",
      "- Hamming window with 0.0194 passband ripple and 53 dB stopband attenuation\n",
      "- Lower passband edge: 1.00\n",
      "- Lower transition bandwidth: 1.00 Hz (-6 dB cutoff frequency: 0.50 Hz)\n",
      "- Upper passband edge: 63.00 Hz\n",
      "- Upper transition bandwidth: 1.00 Hz (-6 dB cutoff frequency: 63.50 Hz)\n",
      "- Filter length: 423 samples (3.305 sec)\n",
      "\n"
     ]
    },
    {
     "name": "stderr",
     "output_type": "stream",
     "text": [
      "[Parallel(n_jobs=1)]: Using backend SequentialBackend with 1 concurrent workers.\n",
      "[Parallel(n_jobs=1)]: Done   1 out of   1 | elapsed:    0.0s remaining:    0.0s\n",
      "[Parallel(n_jobs=1)]: Done   2 out of   2 | elapsed:    0.0s remaining:    0.0s\n",
      "[Parallel(n_jobs=1)]: Done   3 out of   3 | elapsed:    0.0s remaining:    0.0s\n",
      "[Parallel(n_jobs=1)]: Done   4 out of   4 | elapsed:    0.0s remaining:    0.0s\n",
      "[Parallel(n_jobs=1)]: Done 4543 out of 4543 | elapsed:    2.2s finished\n"
     ]
    },
    {
     "name": "stdout",
     "output_type": "stream",
     "text": [
      "study05_p43_prep.set 1024 0 59 60416 (34, 1024)\n",
      "study05_p43_prep.set 1024 1024 59 60416 (34, 1024)\n",
      "study05_p43_prep.set 1024 2048 59 60416 (34, 1024)\n",
      "study05_p43_prep.set 1024 3072 59 60416 (34, 1024)\n",
      "study05_p43_prep.set 1024 4096 59 60416 (34, 1024)\n",
      "study05_p43_prep.set 1024 5120 59 60416 (34, 1024)\n",
      "study05_p43_prep.set 1024 6144 59 60416 (34, 1024)\n",
      "study05_p43_prep.set 1024 7168 59 60416 (34, 1024)\n",
      "study05_p43_prep.set 1024 8192 59 60416 (34, 1024)\n",
      "study05_p43_prep.set 1024 9216 59 60416 (34, 1024)\n",
      "study05_p43_prep.set 1024 10240 59 60416 (34, 1024)\n",
      "study05_p43_prep.set 1024 11264 59 60416 (34, 1024)\n",
      "study05_p43_prep.set 1024 12288 59 60416 (34, 1024)\n",
      "study05_p43_prep.set 1024 13312 59 60416 (34, 1024)\n",
      "study05_p43_prep.set 1024 14336 59 60416 (34, 1024)\n",
      "study05_p43_prep.set 1024 15360 59 60416 (34, 1024)\n",
      "study05_p43_prep.set 1024 16384 59 60416 (34, 1024)\n",
      "study05_p43_prep.set 1024 17408 59 60416 (34, 1024)\n",
      "study05_p43_prep.set 1024 18432 59 60416 (34, 1024)\n",
      "study05_p43_prep.set 1024 19456 59 60416 (34, 1024)\n",
      "study05_p43_prep.set 1024 20480 59 60416 (34, 1024)\n",
      "study05_p43_prep.set 1024 21504 59 60416 (34, 1024)\n",
      "study05_p43_prep.set 1024 22528 59 60416 (34, 1024)\n",
      "study05_p43_prep.set 1024 23552 59 60416 (34, 1024)\n",
      "study05_p43_prep.set 1024 24576 59 60416 (34, 1024)\n",
      "study05_p43_prep.set 1024 25600 59 60416 (34, 1024)\n",
      "study05_p43_prep.set 1024 26624 59 60416 (34, 1024)\n",
      "study05_p43_prep.set 1024 27648 59 60416 (34, 1024)\n",
      "study05_p43_prep.set 1024 28672 59 60416 (34, 1024)\n",
      "study05_p43_prep.set 1024 29696 59 60416 (34, 1024)\n",
      "study05_p43_prep.set 1024 30720 59 60416 (34, 1024)\n",
      "study05_p43_prep.set 1024 31744 59 60416 (34, 1024)\n",
      "study05_p43_prep.set 1024 32768 59 60416 (34, 1024)\n",
      "study05_p43_prep.set 1024 33792 59 60416 (34, 1024)\n",
      "study05_p43_prep.set 1024 34816 59 60416 (34, 1024)\n",
      "study05_p43_prep.set 1024 35840 59 60416 (34, 1024)\n",
      "study05_p43_prep.set 1024 36864 59 60416 (34, 1024)\n",
      "study05_p43_prep.set 1024 37888 59 60416 (34, 1024)\n",
      "study05_p43_prep.set 1024 38912 59 60416 (34, 1024)\n",
      "study05_p43_prep.set 1024 39936 59 60416 (34, 1024)\n",
      "study05_p43_prep.set 1024 40960 59 60416 (34, 1024)\n",
      "study05_p43_prep.set 1024 41984 59 60416 (34, 1024)\n",
      "study05_p43_prep.set 1024 43008 59 60416 (34, 1024)\n",
      "study05_p43_prep.set 1024 44032 59 60416 (34, 1024)\n",
      "study05_p43_prep.set 1024 45056 59 60416 (34, 1024)\n",
      "study05_p43_prep.set 1024 46080 59 60416 (34, 1024)\n",
      "study05_p43_prep.set 1024 47104 59 60416 (34, 1024)\n",
      "study05_p43_prep.set 1024 48128 59 60416 (34, 1024)\n",
      "study05_p43_prep.set 1024 49152 59 60416 (34, 1024)\n",
      "study05_p43_prep.set 1024 50176 59 60416 (34, 1024)\n",
      "study05_p43_prep.set 1024 51200 59 60416 (34, 1024)\n",
      "study05_p43_prep.set 1024 52224 59 60416 (34, 1024)\n",
      "study05_p43_prep.set 1024 53248 59 60416 (34, 1024)\n",
      "study05_p43_prep.set 1024 54272 59 60416 (34, 1024)\n",
      "study05_p43_prep.set 1024 55296 59 60416 (34, 1024)\n",
      "study05_p43_prep.set 1024 56320 59 60416 (34, 1024)\n",
      "study05_p43_prep.set 1024 57344 59 60416 (34, 1024)\n",
      "study05_p43_prep.set 1024 58368 59 60416 (34, 1024)\n",
      "study05_p43_prep.set 1024 59392 59 60416 (34, 1024)\n"
     ]
    },
    {
     "name": "stderr",
     "output_type": "stream",
     "text": [
      "C:\\Users\\DELL\\anaconda3\\lib\\site-packages\\pymatreader\\utils.py:122: UserWarning: Complex objects (like classes) are not supported. They are imported on a best effort base but your mileage will vary.\n",
      "  warn('Complex objects (like classes) are not supported. '\n"
     ]
    },
    {
     "name": "stdout",
     "output_type": "stream",
     "text": [
      "Extracting parameters from C:\\Users\\DELL\\Desktop\\20credit\\EEG_eye_artifact\\wholedata\\study05_p44_prep.set...\n",
      "Not setting metadata\n",
      "53 matching events found\n"
     ]
    },
    {
     "name": "stderr",
     "output_type": "stream",
     "text": [
      "C:\\Users\\DELL\\AppData\\Local\\Temp\\ipykernel_14424\\3542807486.py:14: RuntimeWarning: At least one epoch has multiple events. Only the latency of the first event will be retained.\n",
      "  data=mne.io.read_epochs_eeglab(srcpath)\n",
      "C:\\Users\\DELL\\AppData\\Local\\Temp\\ipykernel_14424\\3542807486.py:14: RuntimeWarning: Unknown types found, setting as type EEG:\n",
      "artifact: ['eye-art', 'eye-blink', 'eye-d', 'eye-fix', 'eye-l', 'eye-r', 'eye-u']\n",
      "eoglpf: ['HEOG_lpf', 'REOG_lpf', 'VEOG_lpf']\n",
      "label: ['artifactclasses']\n",
      "paradigm: ['block']\n",
      "state: ['label']\n",
      "  data=mne.io.read_epochs_eeglab(srcpath)\n",
      "C:\\Users\\DELL\\AppData\\Local\\Temp\\ipykernel_14424\\3542807486.py:14: RuntimeWarning: Data file name in EEG.data (ebs_prep.fdt) is incorrect, the file name must have changed on disk, using the correct file name (study05_p44_prep.fdt).\n",
      "  data=mne.io.read_epochs_eeglab(srcpath)\n"
     ]
    },
    {
     "name": "stdout",
     "output_type": "stream",
     "text": [
      "No baseline correction applied\n",
      "0 projection items activated\n",
      "Ready.\n"
     ]
    },
    {
     "name": "stderr",
     "output_type": "stream",
     "text": [
      "C:\\Users\\DELL\\AppData\\Local\\Temp\\ipykernel_14424\\3542807486.py:14: RuntimeWarning: Not setting positions of 3 eog channels found in montage:\n",
      "['HEOG', 'VEOG', 'REOG']\n",
      "Consider setting the channel types to be of EEG/sEEG/ECoG/DBS/fNIRS using inst.set_channel_types before calling inst.set_montage, or omit these channels when creating your montage.\n",
      "  data=mne.io.read_epochs_eeglab(srcpath)\n"
     ]
    },
    {
     "name": "stdout",
     "output_type": "stream",
     "text": [
      "Setting up band-pass filter from 1 - 63 Hz\n",
      "\n",
      "FIR filter parameters\n",
      "---------------------\n",
      "Designing a one-pass, zero-phase, non-causal bandpass filter:\n",
      "- Windowed time-domain design (firwin) method\n",
      "- Hamming window with 0.0194 passband ripple and 53 dB stopband attenuation\n",
      "- Lower passband edge: 1.00\n",
      "- Lower transition bandwidth: 1.00 Hz (-6 dB cutoff frequency: 0.50 Hz)\n",
      "- Upper passband edge: 63.00 Hz\n",
      "- Upper transition bandwidth: 1.00 Hz (-6 dB cutoff frequency: 63.50 Hz)\n",
      "- Filter length: 423 samples (3.305 sec)\n",
      "\n"
     ]
    },
    {
     "name": "stderr",
     "output_type": "stream",
     "text": [
      "[Parallel(n_jobs=1)]: Using backend SequentialBackend with 1 concurrent workers.\n",
      "[Parallel(n_jobs=1)]: Done   1 out of   1 | elapsed:    0.0s remaining:    0.0s\n",
      "[Parallel(n_jobs=1)]: Done   2 out of   2 | elapsed:    0.0s remaining:    0.0s\n",
      "[Parallel(n_jobs=1)]: Done   3 out of   3 | elapsed:    0.0s remaining:    0.0s\n",
      "[Parallel(n_jobs=1)]: Done   4 out of   4 | elapsed:    0.0s remaining:    0.0s\n",
      "[Parallel(n_jobs=1)]: Done 4081 out of 4081 | elapsed:    1.8s finished\n"
     ]
    },
    {
     "name": "stdout",
     "output_type": "stream",
     "text": [
      "study05_p44_prep.set 1024 0 53 54272 (34, 1024)\n",
      "study05_p44_prep.set 1024 1024 53 54272 (34, 1024)\n",
      "study05_p44_prep.set 1024 2048 53 54272 (34, 1024)\n",
      "study05_p44_prep.set 1024 3072 53 54272 (34, 1024)\n",
      "study05_p44_prep.set 1024 4096 53 54272 (34, 1024)\n",
      "study05_p44_prep.set 1024 5120 53 54272 (34, 1024)\n",
      "study05_p44_prep.set 1024 6144 53 54272 (34, 1024)\n",
      "study05_p44_prep.set 1024 7168 53 54272 (34, 1024)\n",
      "study05_p44_prep.set 1024 8192 53 54272 (34, 1024)\n",
      "study05_p44_prep.set 1024 9216 53 54272 (34, 1024)\n",
      "study05_p44_prep.set 1024 10240 53 54272 (34, 1024)\n",
      "study05_p44_prep.set 1024 11264 53 54272 (34, 1024)\n",
      "study05_p44_prep.set 1024 12288 53 54272 (34, 1024)\n",
      "study05_p44_prep.set 1024 13312 53 54272 (34, 1024)\n",
      "study05_p44_prep.set 1024 14336 53 54272 (34, 1024)\n",
      "study05_p44_prep.set 1024 15360 53 54272 (34, 1024)\n",
      "study05_p44_prep.set 1024 16384 53 54272 (34, 1024)\n",
      "study05_p44_prep.set 1024 17408 53 54272 (34, 1024)\n",
      "study05_p44_prep.set 1024 18432 53 54272 (34, 1024)\n",
      "study05_p44_prep.set 1024 19456 53 54272 (34, 1024)\n",
      "study05_p44_prep.set 1024 20480 53 54272 (34, 1024)\n",
      "study05_p44_prep.set 1024 21504 53 54272 (34, 1024)\n",
      "study05_p44_prep.set 1024 22528 53 54272 (34, 1024)\n",
      "study05_p44_prep.set 1024 23552 53 54272 (34, 1024)\n",
      "study05_p44_prep.set 1024 24576 53 54272 (34, 1024)\n",
      "study05_p44_prep.set 1024 25600 53 54272 (34, 1024)\n",
      "study05_p44_prep.set 1024 26624 53 54272 (34, 1024)\n",
      "study05_p44_prep.set 1024 27648 53 54272 (34, 1024)\n",
      "study05_p44_prep.set 1024 28672 53 54272 (34, 1024)\n",
      "study05_p44_prep.set 1024 29696 53 54272 (34, 1024)\n",
      "study05_p44_prep.set 1024 30720 53 54272 (34, 1024)\n",
      "study05_p44_prep.set 1024 31744 53 54272 (34, 1024)\n",
      "study05_p44_prep.set 1024 32768 53 54272 (34, 1024)\n",
      "study05_p44_prep.set 1024 33792 53 54272 (34, 1024)\n",
      "study05_p44_prep.set 1024 34816 53 54272 (34, 1024)\n",
      "study05_p44_prep.set 1024 35840 53 54272 (34, 1024)\n",
      "study05_p44_prep.set 1024 36864 53 54272 (34, 1024)\n",
      "study05_p44_prep.set 1024 37888 53 54272 (34, 1024)\n",
      "study05_p44_prep.set 1024 38912 53 54272 (34, 1024)\n",
      "study05_p44_prep.set 1024 39936 53 54272 (34, 1024)\n",
      "study05_p44_prep.set 1024 40960 53 54272 (34, 1024)\n",
      "study05_p44_prep.set 1024 41984 53 54272 (34, 1024)\n",
      "study05_p44_prep.set 1024 43008 53 54272 (34, 1024)\n",
      "study05_p44_prep.set 1024 44032 53 54272 (34, 1024)\n",
      "study05_p44_prep.set 1024 45056 53 54272 (34, 1024)\n",
      "study05_p44_prep.set 1024 46080 53 54272 (34, 1024)\n",
      "study05_p44_prep.set 1024 47104 53 54272 (34, 1024)\n",
      "study05_p44_prep.set 1024 48128 53 54272 (34, 1024)\n",
      "study05_p44_prep.set 1024 49152 53 54272 (34, 1024)\n",
      "study05_p44_prep.set 1024 50176 53 54272 (34, 1024)\n",
      "study05_p44_prep.set 1024 51200 53 54272 (34, 1024)\n",
      "study05_p44_prep.set 1024 52224 53 54272 (34, 1024)\n",
      "study05_p44_prep.set 1024 53248 53 54272 (34, 1024)\n"
     ]
    },
    {
     "name": "stderr",
     "output_type": "stream",
     "text": [
      "C:\\Users\\DELL\\anaconda3\\lib\\site-packages\\pymatreader\\utils.py:122: UserWarning: Complex objects (like classes) are not supported. They are imported on a best effort base but your mileage will vary.\n",
      "  warn('Complex objects (like classes) are not supported. '\n"
     ]
    },
    {
     "name": "stdout",
     "output_type": "stream",
     "text": [
      "Extracting parameters from C:\\Users\\DELL\\Desktop\\20credit\\EEG_eye_artifact\\wholedata\\study05_p45_prep.set...\n",
      "Not setting metadata\n",
      "52 matching events found\n"
     ]
    },
    {
     "name": "stderr",
     "output_type": "stream",
     "text": [
      "C:\\Users\\DELL\\AppData\\Local\\Temp\\ipykernel_14424\\3542807486.py:14: RuntimeWarning: At least one epoch has multiple events. Only the latency of the first event will be retained.\n",
      "  data=mne.io.read_epochs_eeglab(srcpath)\n",
      "C:\\Users\\DELL\\AppData\\Local\\Temp\\ipykernel_14424\\3542807486.py:14: RuntimeWarning: Unknown types found, setting as type EEG:\n",
      "artifact: ['eye-art', 'eye-blink', 'eye-d', 'eye-fix', 'eye-l', 'eye-r', 'eye-u']\n",
      "eoglpf: ['HEOG_lpf', 'REOG_lpf', 'VEOG_lpf']\n",
      "label: ['artifactclasses']\n",
      "paradigm: ['block']\n",
      "state: ['label']\n",
      "  data=mne.io.read_epochs_eeglab(srcpath)\n",
      "C:\\Users\\DELL\\AppData\\Local\\Temp\\ipykernel_14424\\3542807486.py:14: RuntimeWarning: Data file name in EEG.data (ebs_prep.fdt) is incorrect, the file name must have changed on disk, using the correct file name (study05_p45_prep.fdt).\n",
      "  data=mne.io.read_epochs_eeglab(srcpath)\n"
     ]
    },
    {
     "name": "stdout",
     "output_type": "stream",
     "text": [
      "No baseline correction applied\n",
      "0 projection items activated\n",
      "Ready.\n"
     ]
    },
    {
     "name": "stderr",
     "output_type": "stream",
     "text": [
      "C:\\Users\\DELL\\AppData\\Local\\Temp\\ipykernel_14424\\3542807486.py:14: RuntimeWarning: Not setting positions of 3 eog channels found in montage:\n",
      "['HEOG', 'VEOG', 'REOG']\n",
      "Consider setting the channel types to be of EEG/sEEG/ECoG/DBS/fNIRS using inst.set_channel_types before calling inst.set_montage, or omit these channels when creating your montage.\n",
      "  data=mne.io.read_epochs_eeglab(srcpath)\n"
     ]
    },
    {
     "name": "stdout",
     "output_type": "stream",
     "text": [
      "Setting up band-pass filter from 1 - 63 Hz\n",
      "\n",
      "FIR filter parameters\n",
      "---------------------\n",
      "Designing a one-pass, zero-phase, non-causal bandpass filter:\n",
      "- Windowed time-domain design (firwin) method\n",
      "- Hamming window with 0.0194 passband ripple and 53 dB stopband attenuation\n",
      "- Lower passband edge: 1.00\n",
      "- Lower transition bandwidth: 1.00 Hz (-6 dB cutoff frequency: 0.50 Hz)\n",
      "- Upper passband edge: 63.00 Hz\n",
      "- Upper transition bandwidth: 1.00 Hz (-6 dB cutoff frequency: 63.50 Hz)\n",
      "- Filter length: 423 samples (3.305 sec)\n",
      "\n"
     ]
    },
    {
     "name": "stderr",
     "output_type": "stream",
     "text": [
      "[Parallel(n_jobs=1)]: Using backend SequentialBackend with 1 concurrent workers.\n",
      "[Parallel(n_jobs=1)]: Done   1 out of   1 | elapsed:    0.0s remaining:    0.0s\n",
      "[Parallel(n_jobs=1)]: Done   2 out of   2 | elapsed:    0.0s remaining:    0.0s\n",
      "[Parallel(n_jobs=1)]: Done   3 out of   3 | elapsed:    0.0s remaining:    0.0s\n",
      "[Parallel(n_jobs=1)]: Done   4 out of   4 | elapsed:    0.0s remaining:    0.0s\n",
      "[Parallel(n_jobs=1)]: Done 4004 out of 4004 | elapsed:    1.7s finished\n"
     ]
    },
    {
     "name": "stdout",
     "output_type": "stream",
     "text": [
      "study05_p45_prep.set 1024 0 52 53248 (34, 1024)\n",
      "study05_p45_prep.set 1024 1024 52 53248 (34, 1024)\n",
      "study05_p45_prep.set 1024 2048 52 53248 (34, 1024)\n",
      "study05_p45_prep.set 1024 3072 52 53248 (34, 1024)\n",
      "study05_p45_prep.set 1024 4096 52 53248 (34, 1024)\n",
      "study05_p45_prep.set 1024 5120 52 53248 (34, 1024)\n",
      "study05_p45_prep.set 1024 6144 52 53248 (34, 1024)\n",
      "study05_p45_prep.set 1024 7168 52 53248 (34, 1024)\n",
      "study05_p45_prep.set 1024 8192 52 53248 (34, 1024)\n",
      "study05_p45_prep.set 1024 9216 52 53248 (34, 1024)\n",
      "study05_p45_prep.set 1024 10240 52 53248 (34, 1024)\n",
      "study05_p45_prep.set 1024 11264 52 53248 (34, 1024)\n",
      "study05_p45_prep.set 1024 12288 52 53248 (34, 1024)\n",
      "study05_p45_prep.set 1024 13312 52 53248 (34, 1024)\n",
      "study05_p45_prep.set 1024 14336 52 53248 (34, 1024)\n",
      "study05_p45_prep.set 1024 15360 52 53248 (34, 1024)\n",
      "study05_p45_prep.set 1024 16384 52 53248 (34, 1024)\n",
      "study05_p45_prep.set 1024 17408 52 53248 (34, 1024)\n",
      "study05_p45_prep.set 1024 18432 52 53248 (34, 1024)\n",
      "study05_p45_prep.set 1024 19456 52 53248 (34, 1024)\n",
      "study05_p45_prep.set 1024 20480 52 53248 (34, 1024)\n",
      "study05_p45_prep.set 1024 21504 52 53248 (34, 1024)\n",
      "study05_p45_prep.set 1024 22528 52 53248 (34, 1024)\n",
      "study05_p45_prep.set 1024 23552 52 53248 (34, 1024)\n",
      "study05_p45_prep.set 1024 24576 52 53248 (34, 1024)\n",
      "study05_p45_prep.set 1024 25600 52 53248 (34, 1024)\n",
      "study05_p45_prep.set 1024 26624 52 53248 (34, 1024)\n",
      "study05_p45_prep.set 1024 27648 52 53248 (34, 1024)\n",
      "study05_p45_prep.set 1024 28672 52 53248 (34, 1024)\n",
      "study05_p45_prep.set 1024 29696 52 53248 (34, 1024)\n",
      "study05_p45_prep.set 1024 30720 52 53248 (34, 1024)\n",
      "study05_p45_prep.set 1024 31744 52 53248 (34, 1024)\n",
      "study05_p45_prep.set 1024 32768 52 53248 (34, 1024)\n",
      "study05_p45_prep.set 1024 33792 52 53248 (34, 1024)\n",
      "study05_p45_prep.set 1024 34816 52 53248 (34, 1024)\n",
      "study05_p45_prep.set 1024 35840 52 53248 (34, 1024)\n",
      "study05_p45_prep.set 1024 36864 52 53248 (34, 1024)\n",
      "study05_p45_prep.set 1024 37888 52 53248 (34, 1024)\n",
      "study05_p45_prep.set 1024 38912 52 53248 (34, 1024)\n",
      "study05_p45_prep.set 1024 39936 52 53248 (34, 1024)\n",
      "study05_p45_prep.set 1024 40960 52 53248 (34, 1024)\n",
      "study05_p45_prep.set 1024 41984 52 53248 (34, 1024)\n",
      "study05_p45_prep.set 1024 43008 52 53248 (34, 1024)\n",
      "study05_p45_prep.set 1024 44032 52 53248 (34, 1024)\n",
      "study05_p45_prep.set 1024 45056 52 53248 (34, 1024)\n",
      "study05_p45_prep.set 1024 46080 52 53248 (34, 1024)\n",
      "study05_p45_prep.set 1024 47104 52 53248 (34, 1024)\n",
      "study05_p45_prep.set 1024 48128 52 53248 (34, 1024)\n",
      "study05_p45_prep.set 1024 49152 52 53248 (34, 1024)\n",
      "study05_p45_prep.set 1024 50176 52 53248 (34, 1024)\n",
      "study05_p45_prep.set 1024 51200 52 53248 (34, 1024)\n",
      "study05_p45_prep.set 1024 52224 52 53248 (34, 1024)\n"
     ]
    },
    {
     "name": "stderr",
     "output_type": "stream",
     "text": [
      "C:\\Users\\DELL\\anaconda3\\lib\\site-packages\\pymatreader\\utils.py:122: UserWarning: Complex objects (like classes) are not supported. They are imported on a best effort base but your mileage will vary.\n",
      "  warn('Complex objects (like classes) are not supported. '\n"
     ]
    },
    {
     "name": "stdout",
     "output_type": "stream",
     "text": [
      "Extracting parameters from C:\\Users\\DELL\\Desktop\\20credit\\EEG_eye_artifact\\wholedata\\study05_p46_prep.set...\n",
      "Not setting metadata\n"
     ]
    },
    {
     "name": "stderr",
     "output_type": "stream",
     "text": [
      "C:\\Users\\DELL\\AppData\\Local\\Temp\\ipykernel_14424\\3542807486.py:14: RuntimeWarning: At least one epoch has multiple events. Only the latency of the first event will be retained.\n",
      "  data=mne.io.read_epochs_eeglab(srcpath)\n",
      "C:\\Users\\DELL\\AppData\\Local\\Temp\\ipykernel_14424\\3542807486.py:14: RuntimeWarning: Unknown types found, setting as type EEG:\n",
      "artifact: ['eye-art', 'eye-blink', 'eye-d', 'eye-fix', 'eye-l', 'eye-r', 'eye-u']\n",
      "eoglpf: ['HEOG_lpf', 'REOG_lpf', 'VEOG_lpf']\n",
      "label: ['artifactclasses']\n",
      "paradigm: ['block']\n",
      "state: ['label']\n",
      "  data=mne.io.read_epochs_eeglab(srcpath)\n",
      "C:\\Users\\DELL\\AppData\\Local\\Temp\\ipykernel_14424\\3542807486.py:14: RuntimeWarning: Data file name in EEG.data (ebs_prep.fdt) is incorrect, the file name must have changed on disk, using the correct file name (study05_p46_prep.fdt).\n",
      "  data=mne.io.read_epochs_eeglab(srcpath)\n"
     ]
    },
    {
     "name": "stdout",
     "output_type": "stream",
     "text": [
      "59 matching events found\n",
      "No baseline correction applied\n",
      "0 projection items activated\n",
      "Ready.\n"
     ]
    },
    {
     "name": "stderr",
     "output_type": "stream",
     "text": [
      "C:\\Users\\DELL\\AppData\\Local\\Temp\\ipykernel_14424\\3542807486.py:14: RuntimeWarning: Not setting positions of 3 eog channels found in montage:\n",
      "['HEOG', 'VEOG', 'REOG']\n",
      "Consider setting the channel types to be of EEG/sEEG/ECoG/DBS/fNIRS using inst.set_channel_types before calling inst.set_montage, or omit these channels when creating your montage.\n",
      "  data=mne.io.read_epochs_eeglab(srcpath)\n"
     ]
    },
    {
     "name": "stdout",
     "output_type": "stream",
     "text": [
      "Setting up band-pass filter from 1 - 63 Hz\n",
      "\n",
      "FIR filter parameters\n",
      "---------------------\n",
      "Designing a one-pass, zero-phase, non-causal bandpass filter:\n",
      "- Windowed time-domain design (firwin) method\n",
      "- Hamming window with 0.0194 passband ripple and 53 dB stopband attenuation\n",
      "- Lower passband edge: 1.00\n",
      "- Lower transition bandwidth: 1.00 Hz (-6 dB cutoff frequency: 0.50 Hz)\n",
      "- Upper passband edge: 63.00 Hz\n",
      "- Upper transition bandwidth: 1.00 Hz (-6 dB cutoff frequency: 63.50 Hz)\n",
      "- Filter length: 423 samples (3.305 sec)\n",
      "\n"
     ]
    },
    {
     "name": "stderr",
     "output_type": "stream",
     "text": [
      "[Parallel(n_jobs=1)]: Using backend SequentialBackend with 1 concurrent workers.\n",
      "[Parallel(n_jobs=1)]: Done   1 out of   1 | elapsed:    0.0s remaining:    0.0s\n",
      "[Parallel(n_jobs=1)]: Done   2 out of   2 | elapsed:    0.0s remaining:    0.0s\n",
      "[Parallel(n_jobs=1)]: Done   3 out of   3 | elapsed:    0.0s remaining:    0.0s\n",
      "[Parallel(n_jobs=1)]: Done   4 out of   4 | elapsed:    0.0s remaining:    0.0s\n",
      "[Parallel(n_jobs=1)]: Done 4543 out of 4543 | elapsed:    1.9s finished\n"
     ]
    },
    {
     "name": "stdout",
     "output_type": "stream",
     "text": [
      "study05_p46_prep.set 1024 0 59 60416 (34, 1024)\n",
      "study05_p46_prep.set 1024 1024 59 60416 (34, 1024)\n",
      "study05_p46_prep.set 1024 2048 59 60416 (34, 1024)\n",
      "study05_p46_prep.set 1024 3072 59 60416 (34, 1024)\n",
      "study05_p46_prep.set 1024 4096 59 60416 (34, 1024)\n",
      "study05_p46_prep.set 1024 5120 59 60416 (34, 1024)\n",
      "study05_p46_prep.set 1024 6144 59 60416 (34, 1024)\n",
      "study05_p46_prep.set 1024 7168 59 60416 (34, 1024)\n",
      "study05_p46_prep.set 1024 8192 59 60416 (34, 1024)\n",
      "study05_p46_prep.set 1024 9216 59 60416 (34, 1024)\n",
      "study05_p46_prep.set 1024 10240 59 60416 (34, 1024)\n",
      "study05_p46_prep.set 1024 11264 59 60416 (34, 1024)\n",
      "study05_p46_prep.set 1024 12288 59 60416 (34, 1024)\n",
      "study05_p46_prep.set 1024 13312 59 60416 (34, 1024)\n",
      "study05_p46_prep.set 1024 14336 59 60416 (34, 1024)\n",
      "study05_p46_prep.set 1024 15360 59 60416 (34, 1024)\n",
      "study05_p46_prep.set 1024 16384 59 60416 (34, 1024)\n",
      "study05_p46_prep.set 1024 17408 59 60416 (34, 1024)\n",
      "study05_p46_prep.set 1024 18432 59 60416 (34, 1024)\n",
      "study05_p46_prep.set 1024 19456 59 60416 (34, 1024)\n",
      "study05_p46_prep.set 1024 20480 59 60416 (34, 1024)\n",
      "study05_p46_prep.set 1024 21504 59 60416 (34, 1024)\n",
      "study05_p46_prep.set 1024 22528 59 60416 (34, 1024)\n",
      "study05_p46_prep.set 1024 23552 59 60416 (34, 1024)\n",
      "study05_p46_prep.set 1024 24576 59 60416 (34, 1024)\n",
      "study05_p46_prep.set 1024 25600 59 60416 (34, 1024)\n",
      "study05_p46_prep.set 1024 26624 59 60416 (34, 1024)\n",
      "study05_p46_prep.set 1024 27648 59 60416 (34, 1024)\n",
      "study05_p46_prep.set 1024 28672 59 60416 (34, 1024)\n",
      "study05_p46_prep.set 1024 29696 59 60416 (34, 1024)\n",
      "study05_p46_prep.set 1024 30720 59 60416 (34, 1024)\n",
      "study05_p46_prep.set 1024 31744 59 60416 (34, 1024)\n",
      "study05_p46_prep.set 1024 32768 59 60416 (34, 1024)\n",
      "study05_p46_prep.set 1024 33792 59 60416 (34, 1024)\n",
      "study05_p46_prep.set 1024 34816 59 60416 (34, 1024)\n",
      "study05_p46_prep.set 1024 35840 59 60416 (34, 1024)\n",
      "study05_p46_prep.set 1024 36864 59 60416 (34, 1024)\n",
      "study05_p46_prep.set 1024 37888 59 60416 (34, 1024)\n",
      "study05_p46_prep.set 1024 38912 59 60416 (34, 1024)\n",
      "study05_p46_prep.set 1024 39936 59 60416 (34, 1024)\n",
      "study05_p46_prep.set 1024 40960 59 60416 (34, 1024)\n",
      "study05_p46_prep.set 1024 41984 59 60416 (34, 1024)\n",
      "study05_p46_prep.set 1024 43008 59 60416 (34, 1024)\n",
      "study05_p46_prep.set 1024 44032 59 60416 (34, 1024)\n",
      "study05_p46_prep.set 1024 45056 59 60416 (34, 1024)\n",
      "study05_p46_prep.set 1024 46080 59 60416 (34, 1024)\n",
      "study05_p46_prep.set 1024 47104 59 60416 (34, 1024)\n",
      "study05_p46_prep.set 1024 48128 59 60416 (34, 1024)\n",
      "study05_p46_prep.set 1024 49152 59 60416 (34, 1024)\n",
      "study05_p46_prep.set 1024 50176 59 60416 (34, 1024)\n",
      "study05_p46_prep.set 1024 51200 59 60416 (34, 1024)\n",
      "study05_p46_prep.set 1024 52224 59 60416 (34, 1024)\n",
      "study05_p46_prep.set 1024 53248 59 60416 (34, 1024)\n",
      "study05_p46_prep.set 1024 54272 59 60416 (34, 1024)\n",
      "study05_p46_prep.set 1024 55296 59 60416 (34, 1024)\n",
      "study05_p46_prep.set 1024 56320 59 60416 (34, 1024)\n",
      "study05_p46_prep.set 1024 57344 59 60416 (34, 1024)\n",
      "study05_p46_prep.set 1024 58368 59 60416 (34, 1024)\n",
      "study05_p46_prep.set 1024 59392 59 60416 (34, 1024)\n"
     ]
    },
    {
     "name": "stderr",
     "output_type": "stream",
     "text": [
      "C:\\Users\\DELL\\anaconda3\\lib\\site-packages\\pymatreader\\utils.py:122: UserWarning: Complex objects (like classes) are not supported. They are imported on a best effort base but your mileage will vary.\n",
      "  warn('Complex objects (like classes) are not supported. '\n"
     ]
    },
    {
     "name": "stdout",
     "output_type": "stream",
     "text": [
      "Extracting parameters from C:\\Users\\DELL\\Desktop\\20credit\\EEG_eye_artifact\\wholedata\\study05_p47_prep.set...\n",
      "Not setting metadata\n",
      "53 matching events found\n"
     ]
    },
    {
     "name": "stderr",
     "output_type": "stream",
     "text": [
      "C:\\Users\\DELL\\AppData\\Local\\Temp\\ipykernel_14424\\3542807486.py:14: RuntimeWarning: At least one epoch has multiple events. Only the latency of the first event will be retained.\n",
      "  data=mne.io.read_epochs_eeglab(srcpath)\n",
      "C:\\Users\\DELL\\AppData\\Local\\Temp\\ipykernel_14424\\3542807486.py:14: RuntimeWarning: Unknown types found, setting as type EEG:\n",
      "artifact: ['eye-art', 'eye-blink', 'eye-d', 'eye-fix', 'eye-l', 'eye-r', 'eye-u']\n",
      "eoglpf: ['HEOG_lpf', 'REOG_lpf', 'VEOG_lpf']\n",
      "label: ['artifactclasses']\n",
      "paradigm: ['block']\n",
      "state: ['label']\n",
      "  data=mne.io.read_epochs_eeglab(srcpath)\n",
      "C:\\Users\\DELL\\AppData\\Local\\Temp\\ipykernel_14424\\3542807486.py:14: RuntimeWarning: Data file name in EEG.data (ebs_prep.fdt) is incorrect, the file name must have changed on disk, using the correct file name (study05_p47_prep.fdt).\n",
      "  data=mne.io.read_epochs_eeglab(srcpath)\n"
     ]
    },
    {
     "name": "stdout",
     "output_type": "stream",
     "text": [
      "No baseline correction applied\n",
      "0 projection items activated\n",
      "Ready.\n"
     ]
    },
    {
     "name": "stderr",
     "output_type": "stream",
     "text": [
      "C:\\Users\\DELL\\AppData\\Local\\Temp\\ipykernel_14424\\3542807486.py:14: RuntimeWarning: Not setting positions of 3 eog channels found in montage:\n",
      "['HEOG', 'VEOG', 'REOG']\n",
      "Consider setting the channel types to be of EEG/sEEG/ECoG/DBS/fNIRS using inst.set_channel_types before calling inst.set_montage, or omit these channels when creating your montage.\n",
      "  data=mne.io.read_epochs_eeglab(srcpath)\n"
     ]
    },
    {
     "name": "stdout",
     "output_type": "stream",
     "text": [
      "Setting up band-pass filter from 1 - 63 Hz\n",
      "\n",
      "FIR filter parameters\n",
      "---------------------\n",
      "Designing a one-pass, zero-phase, non-causal bandpass filter:\n",
      "- Windowed time-domain design (firwin) method\n",
      "- Hamming window with 0.0194 passband ripple and 53 dB stopband attenuation\n",
      "- Lower passband edge: 1.00\n",
      "- Lower transition bandwidth: 1.00 Hz (-6 dB cutoff frequency: 0.50 Hz)\n",
      "- Upper passband edge: 63.00 Hz\n",
      "- Upper transition bandwidth: 1.00 Hz (-6 dB cutoff frequency: 63.50 Hz)\n",
      "- Filter length: 423 samples (3.305 sec)\n",
      "\n"
     ]
    },
    {
     "name": "stderr",
     "output_type": "stream",
     "text": [
      "[Parallel(n_jobs=1)]: Using backend SequentialBackend with 1 concurrent workers.\n",
      "[Parallel(n_jobs=1)]: Done   1 out of   1 | elapsed:    0.0s remaining:    0.0s\n",
      "[Parallel(n_jobs=1)]: Done   2 out of   2 | elapsed:    0.0s remaining:    0.0s\n",
      "[Parallel(n_jobs=1)]: Done   3 out of   3 | elapsed:    0.0s remaining:    0.0s\n",
      "[Parallel(n_jobs=1)]: Done   4 out of   4 | elapsed:    0.0s remaining:    0.0s\n",
      "[Parallel(n_jobs=1)]: Done 4081 out of 4081 | elapsed:    1.7s finished\n"
     ]
    },
    {
     "name": "stdout",
     "output_type": "stream",
     "text": [
      "study05_p47_prep.set 1024 0 53 54272 (34, 1024)\n",
      "study05_p47_prep.set 1024 1024 53 54272 (34, 1024)\n",
      "study05_p47_prep.set 1024 2048 53 54272 (34, 1024)\n",
      "study05_p47_prep.set 1024 3072 53 54272 (34, 1024)\n",
      "study05_p47_prep.set 1024 4096 53 54272 (34, 1024)\n",
      "study05_p47_prep.set 1024 5120 53 54272 (34, 1024)\n",
      "study05_p47_prep.set 1024 6144 53 54272 (34, 1024)\n",
      "study05_p47_prep.set 1024 7168 53 54272 (34, 1024)\n",
      "study05_p47_prep.set 1024 8192 53 54272 (34, 1024)\n",
      "study05_p47_prep.set 1024 9216 53 54272 (34, 1024)\n",
      "study05_p47_prep.set 1024 10240 53 54272 (34, 1024)\n",
      "study05_p47_prep.set 1024 11264 53 54272 (34, 1024)\n",
      "study05_p47_prep.set 1024 12288 53 54272 (34, 1024)\n",
      "study05_p47_prep.set 1024 13312 53 54272 (34, 1024)\n",
      "study05_p47_prep.set 1024 14336 53 54272 (34, 1024)\n",
      "study05_p47_prep.set 1024 15360 53 54272 (34, 1024)\n",
      "study05_p47_prep.set 1024 16384 53 54272 (34, 1024)\n",
      "study05_p47_prep.set 1024 17408 53 54272 (34, 1024)\n",
      "study05_p47_prep.set 1024 18432 53 54272 (34, 1024)\n",
      "study05_p47_prep.set 1024 19456 53 54272 (34, 1024)\n",
      "study05_p47_prep.set 1024 20480 53 54272 (34, 1024)\n",
      "study05_p47_prep.set 1024 21504 53 54272 (34, 1024)\n",
      "study05_p47_prep.set 1024 22528 53 54272 (34, 1024)\n",
      "study05_p47_prep.set 1024 23552 53 54272 (34, 1024)\n",
      "study05_p47_prep.set 1024 24576 53 54272 (34, 1024)\n",
      "study05_p47_prep.set 1024 25600 53 54272 (34, 1024)\n",
      "study05_p47_prep.set 1024 26624 53 54272 (34, 1024)\n",
      "study05_p47_prep.set 1024 27648 53 54272 (34, 1024)\n",
      "study05_p47_prep.set 1024 28672 53 54272 (34, 1024)\n",
      "study05_p47_prep.set 1024 29696 53 54272 (34, 1024)\n",
      "study05_p47_prep.set 1024 30720 53 54272 (34, 1024)\n",
      "study05_p47_prep.set 1024 31744 53 54272 (34, 1024)\n",
      "study05_p47_prep.set 1024 32768 53 54272 (34, 1024)\n",
      "study05_p47_prep.set 1024 33792 53 54272 (34, 1024)\n",
      "study05_p47_prep.set 1024 34816 53 54272 (34, 1024)\n",
      "study05_p47_prep.set 1024 35840 53 54272 (34, 1024)\n",
      "study05_p47_prep.set 1024 36864 53 54272 (34, 1024)\n",
      "study05_p47_prep.set 1024 37888 53 54272 (34, 1024)\n",
      "study05_p47_prep.set 1024 38912 53 54272 (34, 1024)\n",
      "study05_p47_prep.set 1024 39936 53 54272 (34, 1024)\n",
      "study05_p47_prep.set 1024 40960 53 54272 (34, 1024)\n",
      "study05_p47_prep.set 1024 41984 53 54272 (34, 1024)\n",
      "study05_p47_prep.set 1024 43008 53 54272 (34, 1024)\n",
      "study05_p47_prep.set 1024 44032 53 54272 (34, 1024)\n",
      "study05_p47_prep.set 1024 45056 53 54272 (34, 1024)\n",
      "study05_p47_prep.set 1024 46080 53 54272 (34, 1024)\n",
      "study05_p47_prep.set 1024 47104 53 54272 (34, 1024)\n",
      "study05_p47_prep.set 1024 48128 53 54272 (34, 1024)\n",
      "study05_p47_prep.set 1024 49152 53 54272 (34, 1024)\n",
      "study05_p47_prep.set 1024 50176 53 54272 (34, 1024)\n",
      "study05_p47_prep.set 1024 51200 53 54272 (34, 1024)\n",
      "study05_p47_prep.set 1024 52224 53 54272 (34, 1024)\n",
      "study05_p47_prep.set 1024 53248 53 54272 (34, 1024)\n"
     ]
    },
    {
     "name": "stderr",
     "output_type": "stream",
     "text": [
      "C:\\Users\\DELL\\anaconda3\\lib\\site-packages\\pymatreader\\utils.py:122: UserWarning: Complex objects (like classes) are not supported. They are imported on a best effort base but your mileage will vary.\n",
      "  warn('Complex objects (like classes) are not supported. '\n"
     ]
    },
    {
     "name": "stdout",
     "output_type": "stream",
     "text": [
      "Extracting parameters from C:\\Users\\DELL\\Desktop\\20credit\\EEG_eye_artifact\\wholedata\\study05_p48_prep.set...\n",
      "Not setting metadata\n",
      "54 matching events found\n"
     ]
    },
    {
     "name": "stderr",
     "output_type": "stream",
     "text": [
      "C:\\Users\\DELL\\AppData\\Local\\Temp\\ipykernel_14424\\3542807486.py:14: RuntimeWarning: At least one epoch has multiple events. Only the latency of the first event will be retained.\n",
      "  data=mne.io.read_epochs_eeglab(srcpath)\n",
      "C:\\Users\\DELL\\AppData\\Local\\Temp\\ipykernel_14424\\3542807486.py:14: RuntimeWarning: Unknown types found, setting as type EEG:\n",
      "artifact: ['eye-art', 'eye-blink', 'eye-d', 'eye-fix', 'eye-l', 'eye-r', 'eye-u']\n",
      "eoglpf: ['HEOG_lpf', 'REOG_lpf', 'VEOG_lpf']\n",
      "label: ['artifactclasses']\n",
      "paradigm: ['block']\n",
      "state: ['label']\n",
      "  data=mne.io.read_epochs_eeglab(srcpath)\n",
      "C:\\Users\\DELL\\AppData\\Local\\Temp\\ipykernel_14424\\3542807486.py:14: RuntimeWarning: Data file name in EEG.data (ebs_prep.fdt) is incorrect, the file name must have changed on disk, using the correct file name (study05_p48_prep.fdt).\n",
      "  data=mne.io.read_epochs_eeglab(srcpath)\n"
     ]
    },
    {
     "name": "stdout",
     "output_type": "stream",
     "text": [
      "No baseline correction applied\n",
      "0 projection items activated\n",
      "Ready.\n"
     ]
    },
    {
     "name": "stderr",
     "output_type": "stream",
     "text": [
      "C:\\Users\\DELL\\AppData\\Local\\Temp\\ipykernel_14424\\3542807486.py:14: RuntimeWarning: Not setting positions of 3 eog channels found in montage:\n",
      "['HEOG', 'VEOG', 'REOG']\n",
      "Consider setting the channel types to be of EEG/sEEG/ECoG/DBS/fNIRS using inst.set_channel_types before calling inst.set_montage, or omit these channels when creating your montage.\n",
      "  data=mne.io.read_epochs_eeglab(srcpath)\n"
     ]
    },
    {
     "name": "stdout",
     "output_type": "stream",
     "text": [
      "Setting up band-pass filter from 1 - 63 Hz\n",
      "\n",
      "FIR filter parameters\n",
      "---------------------\n",
      "Designing a one-pass, zero-phase, non-causal bandpass filter:\n",
      "- Windowed time-domain design (firwin) method\n",
      "- Hamming window with 0.0194 passband ripple and 53 dB stopband attenuation\n",
      "- Lower passband edge: 1.00\n",
      "- Lower transition bandwidth: 1.00 Hz (-6 dB cutoff frequency: 0.50 Hz)\n",
      "- Upper passband edge: 63.00 Hz\n",
      "- Upper transition bandwidth: 1.00 Hz (-6 dB cutoff frequency: 63.50 Hz)\n",
      "- Filter length: 423 samples (3.305 sec)\n",
      "\n"
     ]
    },
    {
     "name": "stderr",
     "output_type": "stream",
     "text": [
      "[Parallel(n_jobs=1)]: Using backend SequentialBackend with 1 concurrent workers.\n",
      "[Parallel(n_jobs=1)]: Done   1 out of   1 | elapsed:    0.0s remaining:    0.0s\n",
      "[Parallel(n_jobs=1)]: Done   2 out of   2 | elapsed:    0.0s remaining:    0.0s\n",
      "[Parallel(n_jobs=1)]: Done   3 out of   3 | elapsed:    0.0s remaining:    0.0s\n",
      "[Parallel(n_jobs=1)]: Done   4 out of   4 | elapsed:    0.0s remaining:    0.0s\n",
      "[Parallel(n_jobs=1)]: Done 4158 out of 4158 | elapsed:    1.8s finished\n"
     ]
    },
    {
     "name": "stdout",
     "output_type": "stream",
     "text": [
      "study05_p48_prep.set 1024 0 54 55296 (34, 1024)\n",
      "study05_p48_prep.set 1024 1024 54 55296 (34, 1024)\n",
      "study05_p48_prep.set 1024 2048 54 55296 (34, 1024)\n",
      "study05_p48_prep.set 1024 3072 54 55296 (34, 1024)\n",
      "study05_p48_prep.set 1024 4096 54 55296 (34, 1024)\n",
      "study05_p48_prep.set 1024 5120 54 55296 (34, 1024)\n",
      "study05_p48_prep.set 1024 6144 54 55296 (34, 1024)\n",
      "study05_p48_prep.set 1024 7168 54 55296 (34, 1024)\n",
      "study05_p48_prep.set 1024 8192 54 55296 (34, 1024)\n",
      "study05_p48_prep.set 1024 9216 54 55296 (34, 1024)\n",
      "study05_p48_prep.set 1024 10240 54 55296 (34, 1024)\n",
      "study05_p48_prep.set 1024 11264 54 55296 (34, 1024)\n",
      "study05_p48_prep.set 1024 12288 54 55296 (34, 1024)\n",
      "study05_p48_prep.set 1024 13312 54 55296 (34, 1024)\n",
      "study05_p48_prep.set 1024 14336 54 55296 (34, 1024)\n",
      "study05_p48_prep.set 1024 15360 54 55296 (34, 1024)\n",
      "study05_p48_prep.set 1024 16384 54 55296 (34, 1024)\n",
      "study05_p48_prep.set 1024 17408 54 55296 (34, 1024)\n",
      "study05_p48_prep.set 1024 18432 54 55296 (34, 1024)\n",
      "study05_p48_prep.set 1024 19456 54 55296 (34, 1024)\n",
      "study05_p48_prep.set 1024 20480 54 55296 (34, 1024)\n",
      "study05_p48_prep.set 1024 21504 54 55296 (34, 1024)\n",
      "study05_p48_prep.set 1024 22528 54 55296 (34, 1024)\n",
      "study05_p48_prep.set 1024 23552 54 55296 (34, 1024)\n",
      "study05_p48_prep.set 1024 24576 54 55296 (34, 1024)\n",
      "study05_p48_prep.set 1024 25600 54 55296 (34, 1024)\n",
      "study05_p48_prep.set 1024 26624 54 55296 (34, 1024)\n",
      "study05_p48_prep.set 1024 27648 54 55296 (34, 1024)\n",
      "study05_p48_prep.set 1024 28672 54 55296 (34, 1024)\n",
      "study05_p48_prep.set 1024 29696 54 55296 (34, 1024)\n",
      "study05_p48_prep.set 1024 30720 54 55296 (34, 1024)\n",
      "study05_p48_prep.set 1024 31744 54 55296 (34, 1024)\n",
      "study05_p48_prep.set 1024 32768 54 55296 (34, 1024)\n",
      "study05_p48_prep.set 1024 33792 54 55296 (34, 1024)\n",
      "study05_p48_prep.set 1024 34816 54 55296 (34, 1024)\n",
      "study05_p48_prep.set 1024 35840 54 55296 (34, 1024)\n",
      "study05_p48_prep.set 1024 36864 54 55296 (34, 1024)\n",
      "study05_p48_prep.set 1024 37888 54 55296 (34, 1024)\n",
      "study05_p48_prep.set 1024 38912 54 55296 (34, 1024)\n",
      "study05_p48_prep.set 1024 39936 54 55296 (34, 1024)\n",
      "study05_p48_prep.set 1024 40960 54 55296 (34, 1024)\n",
      "study05_p48_prep.set 1024 41984 54 55296 (34, 1024)\n",
      "study05_p48_prep.set 1024 43008 54 55296 (34, 1024)\n",
      "study05_p48_prep.set 1024 44032 54 55296 (34, 1024)\n",
      "study05_p48_prep.set 1024 45056 54 55296 (34, 1024)\n",
      "study05_p48_prep.set 1024 46080 54 55296 (34, 1024)\n",
      "study05_p48_prep.set 1024 47104 54 55296 (34, 1024)\n",
      "study05_p48_prep.set 1024 48128 54 55296 (34, 1024)\n",
      "study05_p48_prep.set 1024 49152 54 55296 (34, 1024)\n",
      "study05_p48_prep.set 1024 50176 54 55296 (34, 1024)\n",
      "study05_p48_prep.set 1024 51200 54 55296 (34, 1024)\n",
      "study05_p48_prep.set 1024 52224 54 55296 (34, 1024)\n",
      "study05_p48_prep.set 1024 53248 54 55296 (34, 1024)\n",
      "study05_p48_prep.set 1024 54272 54 55296 (34, 1024)\n"
     ]
    },
    {
     "name": "stderr",
     "output_type": "stream",
     "text": [
      "C:\\Users\\DELL\\anaconda3\\lib\\site-packages\\pymatreader\\utils.py:122: UserWarning: Complex objects (like classes) are not supported. They are imported on a best effort base but your mileage will vary.\n",
      "  warn('Complex objects (like classes) are not supported. '\n"
     ]
    },
    {
     "name": "stdout",
     "output_type": "stream",
     "text": [
      "Extracting parameters from C:\\Users\\DELL\\Desktop\\20credit\\EEG_eye_artifact\\wholedata\\study05_p49_prep.set...\n",
      "Not setting metadata\n",
      "41 matching events found\n"
     ]
    },
    {
     "name": "stderr",
     "output_type": "stream",
     "text": [
      "C:\\Users\\DELL\\AppData\\Local\\Temp\\ipykernel_14424\\3542807486.py:14: RuntimeWarning: At least one epoch has multiple events. Only the latency of the first event will be retained.\n",
      "  data=mne.io.read_epochs_eeglab(srcpath)\n",
      "C:\\Users\\DELL\\AppData\\Local\\Temp\\ipykernel_14424\\3542807486.py:14: RuntimeWarning: Unknown types found, setting as type EEG:\n",
      "artifact: ['eye-art', 'eye-blink', 'eye-d', 'eye-fix', 'eye-l', 'eye-r', 'eye-u']\n",
      "eoglpf: ['HEOG_lpf', 'REOG_lpf', 'VEOG_lpf']\n",
      "label: ['artifactclasses']\n",
      "paradigm: ['block']\n",
      "state: ['label']\n",
      "  data=mne.io.read_epochs_eeglab(srcpath)\n",
      "C:\\Users\\DELL\\AppData\\Local\\Temp\\ipykernel_14424\\3542807486.py:14: RuntimeWarning: Data file name in EEG.data (ebs_prep.fdt) is incorrect, the file name must have changed on disk, using the correct file name (study05_p49_prep.fdt).\n",
      "  data=mne.io.read_epochs_eeglab(srcpath)\n"
     ]
    },
    {
     "name": "stdout",
     "output_type": "stream",
     "text": [
      "No baseline correction applied\n",
      "0 projection items activated\n",
      "Ready.\n"
     ]
    },
    {
     "name": "stderr",
     "output_type": "stream",
     "text": [
      "C:\\Users\\DELL\\AppData\\Local\\Temp\\ipykernel_14424\\3542807486.py:14: RuntimeWarning: Not setting positions of 3 eog channels found in montage:\n",
      "['HEOG', 'VEOG', 'REOG']\n",
      "Consider setting the channel types to be of EEG/sEEG/ECoG/DBS/fNIRS using inst.set_channel_types before calling inst.set_montage, or omit these channels when creating your montage.\n",
      "  data=mne.io.read_epochs_eeglab(srcpath)\n"
     ]
    },
    {
     "name": "stdout",
     "output_type": "stream",
     "text": [
      "Setting up band-pass filter from 1 - 63 Hz\n",
      "\n",
      "FIR filter parameters\n",
      "---------------------\n",
      "Designing a one-pass, zero-phase, non-causal bandpass filter:\n",
      "- Windowed time-domain design (firwin) method\n",
      "- Hamming window with 0.0194 passband ripple and 53 dB stopband attenuation\n",
      "- Lower passband edge: 1.00\n",
      "- Lower transition bandwidth: 1.00 Hz (-6 dB cutoff frequency: 0.50 Hz)\n",
      "- Upper passband edge: 63.00 Hz\n",
      "- Upper transition bandwidth: 1.00 Hz (-6 dB cutoff frequency: 63.50 Hz)\n",
      "- Filter length: 423 samples (3.305 sec)\n",
      "\n"
     ]
    },
    {
     "name": "stderr",
     "output_type": "stream",
     "text": [
      "[Parallel(n_jobs=1)]: Using backend SequentialBackend with 1 concurrent workers.\n",
      "[Parallel(n_jobs=1)]: Done   1 out of   1 | elapsed:    0.0s remaining:    0.0s\n",
      "[Parallel(n_jobs=1)]: Done   2 out of   2 | elapsed:    0.0s remaining:    0.0s\n",
      "[Parallel(n_jobs=1)]: Done   3 out of   3 | elapsed:    0.0s remaining:    0.0s\n",
      "[Parallel(n_jobs=1)]: Done   4 out of   4 | elapsed:    0.0s remaining:    0.0s\n",
      "[Parallel(n_jobs=1)]: Done 3157 out of 3157 | elapsed:    1.4s finished\n"
     ]
    },
    {
     "name": "stdout",
     "output_type": "stream",
     "text": [
      "study05_p49_prep.set 1024 0 41 41984 (34, 1024)\n",
      "study05_p49_prep.set 1024 1024 41 41984 (34, 1024)\n",
      "study05_p49_prep.set 1024 2048 41 41984 (34, 1024)\n",
      "study05_p49_prep.set 1024 3072 41 41984 (34, 1024)\n",
      "study05_p49_prep.set 1024 4096 41 41984 (34, 1024)\n",
      "study05_p49_prep.set 1024 5120 41 41984 (34, 1024)\n",
      "study05_p49_prep.set 1024 6144 41 41984 (34, 1024)\n",
      "study05_p49_prep.set 1024 7168 41 41984 (34, 1024)\n",
      "study05_p49_prep.set 1024 8192 41 41984 (34, 1024)\n",
      "study05_p49_prep.set 1024 9216 41 41984 (34, 1024)\n",
      "study05_p49_prep.set 1024 10240 41 41984 (34, 1024)\n",
      "study05_p49_prep.set 1024 11264 41 41984 (34, 1024)\n",
      "study05_p49_prep.set 1024 12288 41 41984 (34, 1024)\n",
      "study05_p49_prep.set 1024 13312 41 41984 (34, 1024)\n",
      "study05_p49_prep.set 1024 14336 41 41984 (34, 1024)\n",
      "study05_p49_prep.set 1024 15360 41 41984 (34, 1024)\n",
      "study05_p49_prep.set 1024 16384 41 41984 (34, 1024)\n",
      "study05_p49_prep.set 1024 17408 41 41984 (34, 1024)\n",
      "study05_p49_prep.set 1024 18432 41 41984 (34, 1024)\n",
      "study05_p49_prep.set 1024 19456 41 41984 (34, 1024)\n",
      "study05_p49_prep.set 1024 20480 41 41984 (34, 1024)\n",
      "study05_p49_prep.set 1024 21504 41 41984 (34, 1024)\n",
      "study05_p49_prep.set 1024 22528 41 41984 (34, 1024)\n",
      "study05_p49_prep.set 1024 23552 41 41984 (34, 1024)\n",
      "study05_p49_prep.set 1024 24576 41 41984 (34, 1024)\n",
      "study05_p49_prep.set 1024 25600 41 41984 (34, 1024)\n",
      "study05_p49_prep.set 1024 26624 41 41984 (34, 1024)\n",
      "study05_p49_prep.set 1024 27648 41 41984 (34, 1024)\n",
      "study05_p49_prep.set 1024 28672 41 41984 (34, 1024)\n",
      "study05_p49_prep.set 1024 29696 41 41984 (34, 1024)\n",
      "study05_p49_prep.set 1024 30720 41 41984 (34, 1024)\n",
      "study05_p49_prep.set 1024 31744 41 41984 (34, 1024)\n",
      "study05_p49_prep.set 1024 32768 41 41984 (34, 1024)\n",
      "study05_p49_prep.set 1024 33792 41 41984 (34, 1024)\n",
      "study05_p49_prep.set 1024 34816 41 41984 (34, 1024)\n",
      "study05_p49_prep.set 1024 35840 41 41984 (34, 1024)\n",
      "study05_p49_prep.set 1024 36864 41 41984 (34, 1024)\n",
      "study05_p49_prep.set 1024 37888 41 41984 (34, 1024)\n",
      "study05_p49_prep.set 1024 38912 41 41984 (34, 1024)\n",
      "study05_p49_prep.set 1024 39936 41 41984 (34, 1024)\n",
      "study05_p49_prep.set 1024 40960 41 41984 (34, 1024)\n"
     ]
    },
    {
     "name": "stderr",
     "output_type": "stream",
     "text": [
      "C:\\Users\\DELL\\anaconda3\\lib\\site-packages\\pymatreader\\utils.py:122: UserWarning: Complex objects (like classes) are not supported. They are imported on a best effort base but your mileage will vary.\n",
      "  warn('Complex objects (like classes) are not supported. '\n"
     ]
    },
    {
     "name": "stdout",
     "output_type": "stream",
     "text": [
      "Extracting parameters from C:\\Users\\DELL\\Desktop\\20credit\\EEG_eye_artifact\\wholedata\\study05_p50_prep.set...\n",
      "Not setting metadata\n",
      "51 matching events found\n"
     ]
    },
    {
     "name": "stderr",
     "output_type": "stream",
     "text": [
      "C:\\Users\\DELL\\AppData\\Local\\Temp\\ipykernel_14424\\3542807486.py:14: RuntimeWarning: At least one epoch has multiple events. Only the latency of the first event will be retained.\n",
      "  data=mne.io.read_epochs_eeglab(srcpath)\n",
      "C:\\Users\\DELL\\AppData\\Local\\Temp\\ipykernel_14424\\3542807486.py:14: RuntimeWarning: Unknown types found, setting as type EEG:\n",
      "artifact: ['eye-art', 'eye-blink', 'eye-d', 'eye-fix', 'eye-l', 'eye-r', 'eye-u']\n",
      "eoglpf: ['HEOG_lpf', 'REOG_lpf', 'VEOG_lpf']\n",
      "label: ['artifactclasses']\n",
      "paradigm: ['block']\n",
      "state: ['label']\n",
      "  data=mne.io.read_epochs_eeglab(srcpath)\n",
      "C:\\Users\\DELL\\AppData\\Local\\Temp\\ipykernel_14424\\3542807486.py:14: RuntimeWarning: Data file name in EEG.data (ebs_prep.fdt) is incorrect, the file name must have changed on disk, using the correct file name (study05_p50_prep.fdt).\n",
      "  data=mne.io.read_epochs_eeglab(srcpath)\n"
     ]
    },
    {
     "name": "stdout",
     "output_type": "stream",
     "text": [
      "No baseline correction applied\n",
      "0 projection items activated\n",
      "Ready.\n"
     ]
    },
    {
     "name": "stderr",
     "output_type": "stream",
     "text": [
      "C:\\Users\\DELL\\AppData\\Local\\Temp\\ipykernel_14424\\3542807486.py:14: RuntimeWarning: Not setting positions of 3 eog channels found in montage:\n",
      "['HEOG', 'VEOG', 'REOG']\n",
      "Consider setting the channel types to be of EEG/sEEG/ECoG/DBS/fNIRS using inst.set_channel_types before calling inst.set_montage, or omit these channels when creating your montage.\n",
      "  data=mne.io.read_epochs_eeglab(srcpath)\n"
     ]
    },
    {
     "name": "stdout",
     "output_type": "stream",
     "text": [
      "Setting up band-pass filter from 1 - 63 Hz\n",
      "\n",
      "FIR filter parameters\n",
      "---------------------\n",
      "Designing a one-pass, zero-phase, non-causal bandpass filter:\n",
      "- Windowed time-domain design (firwin) method\n",
      "- Hamming window with 0.0194 passband ripple and 53 dB stopband attenuation\n",
      "- Lower passband edge: 1.00\n",
      "- Lower transition bandwidth: 1.00 Hz (-6 dB cutoff frequency: 0.50 Hz)\n",
      "- Upper passband edge: 63.00 Hz\n",
      "- Upper transition bandwidth: 1.00 Hz (-6 dB cutoff frequency: 63.50 Hz)\n",
      "- Filter length: 423 samples (3.305 sec)\n",
      "\n"
     ]
    },
    {
     "name": "stderr",
     "output_type": "stream",
     "text": [
      "[Parallel(n_jobs=1)]: Using backend SequentialBackend with 1 concurrent workers.\n",
      "[Parallel(n_jobs=1)]: Done   1 out of   1 | elapsed:    0.0s remaining:    0.0s\n",
      "[Parallel(n_jobs=1)]: Done   2 out of   2 | elapsed:    0.0s remaining:    0.0s\n",
      "[Parallel(n_jobs=1)]: Done   3 out of   3 | elapsed:    0.0s remaining:    0.0s\n",
      "[Parallel(n_jobs=1)]: Done   4 out of   4 | elapsed:    0.0s remaining:    0.0s\n",
      "[Parallel(n_jobs=1)]: Done 3927 out of 3927 | elapsed:    1.7s finished\n"
     ]
    },
    {
     "name": "stdout",
     "output_type": "stream",
     "text": [
      "study05_p50_prep.set 1024 0 51 52224 (34, 1024)\n",
      "study05_p50_prep.set 1024 1024 51 52224 (34, 1024)\n",
      "study05_p50_prep.set 1024 2048 51 52224 (34, 1024)\n",
      "study05_p50_prep.set 1024 3072 51 52224 (34, 1024)\n",
      "study05_p50_prep.set 1024 4096 51 52224 (34, 1024)\n",
      "study05_p50_prep.set 1024 5120 51 52224 (34, 1024)\n",
      "study05_p50_prep.set 1024 6144 51 52224 (34, 1024)\n",
      "study05_p50_prep.set 1024 7168 51 52224 (34, 1024)\n",
      "study05_p50_prep.set 1024 8192 51 52224 (34, 1024)\n",
      "study05_p50_prep.set 1024 9216 51 52224 (34, 1024)\n",
      "study05_p50_prep.set 1024 10240 51 52224 (34, 1024)\n",
      "study05_p50_prep.set 1024 11264 51 52224 (34, 1024)\n",
      "study05_p50_prep.set 1024 12288 51 52224 (34, 1024)\n",
      "study05_p50_prep.set 1024 13312 51 52224 (34, 1024)\n",
      "study05_p50_prep.set 1024 14336 51 52224 (34, 1024)\n",
      "study05_p50_prep.set 1024 15360 51 52224 (34, 1024)\n",
      "study05_p50_prep.set 1024 16384 51 52224 (34, 1024)\n",
      "study05_p50_prep.set 1024 17408 51 52224 (34, 1024)\n",
      "study05_p50_prep.set 1024 18432 51 52224 (34, 1024)\n",
      "study05_p50_prep.set 1024 19456 51 52224 (34, 1024)\n",
      "study05_p50_prep.set 1024 20480 51 52224 (34, 1024)\n",
      "study05_p50_prep.set 1024 21504 51 52224 (34, 1024)\n",
      "study05_p50_prep.set 1024 22528 51 52224 (34, 1024)\n",
      "study05_p50_prep.set 1024 23552 51 52224 (34, 1024)\n",
      "study05_p50_prep.set 1024 24576 51 52224 (34, 1024)\n",
      "study05_p50_prep.set 1024 25600 51 52224 (34, 1024)\n",
      "study05_p50_prep.set 1024 26624 51 52224 (34, 1024)\n",
      "study05_p50_prep.set 1024 27648 51 52224 (34, 1024)\n",
      "study05_p50_prep.set 1024 28672 51 52224 (34, 1024)\n",
      "study05_p50_prep.set 1024 29696 51 52224 (34, 1024)\n",
      "study05_p50_prep.set 1024 30720 51 52224 (34, 1024)\n",
      "study05_p50_prep.set 1024 31744 51 52224 (34, 1024)\n",
      "study05_p50_prep.set 1024 32768 51 52224 (34, 1024)\n",
      "study05_p50_prep.set 1024 33792 51 52224 (34, 1024)\n",
      "study05_p50_prep.set 1024 34816 51 52224 (34, 1024)\n",
      "study05_p50_prep.set 1024 35840 51 52224 (34, 1024)\n",
      "study05_p50_prep.set 1024 36864 51 52224 (34, 1024)\n",
      "study05_p50_prep.set 1024 37888 51 52224 (34, 1024)\n",
      "study05_p50_prep.set 1024 38912 51 52224 (34, 1024)\n",
      "study05_p50_prep.set 1024 39936 51 52224 (34, 1024)\n",
      "study05_p50_prep.set 1024 40960 51 52224 (34, 1024)\n",
      "study05_p50_prep.set 1024 41984 51 52224 (34, 1024)\n",
      "study05_p50_prep.set 1024 43008 51 52224 (34, 1024)\n",
      "study05_p50_prep.set 1024 44032 51 52224 (34, 1024)\n",
      "study05_p50_prep.set 1024 45056 51 52224 (34, 1024)\n",
      "study05_p50_prep.set 1024 46080 51 52224 (34, 1024)\n",
      "study05_p50_prep.set 1024 47104 51 52224 (34, 1024)\n",
      "study05_p50_prep.set 1024 48128 51 52224 (34, 1024)\n",
      "study05_p50_prep.set 1024 49152 51 52224 (34, 1024)\n",
      "study05_p50_prep.set 1024 50176 51 52224 (34, 1024)\n",
      "study05_p50_prep.set 1024 51200 51 52224 (34, 1024)\n"
     ]
    }
   ],
   "source": [
    "for r,d,f in os.walk(path):\n",
    "    for file in f:\n",
    "        if '.set' in file:\n",
    "            temp=file.split('_')\n",
    "            participant_id=temp[1]\n",
    "            folderpath=os.path.join(preprocessedpath,temp[0])\n",
    "            if not os.path.exists(folderpath):\n",
    "                os.makedirs(folderpath)\n",
    "            destpath=os.path.join(folderpath,participant_id)\n",
    "            if not os.path.exists(destpath):\n",
    "               os.makedirs(destpath)\n",
    "            \n",
    "            srcpath=os.path.join(path,file)\n",
    "            data=mne.io.read_epochs_eeglab(srcpath)\n",
    "            data.pick('eeg')\n",
    "            study_num=int(temp[0][-1])\n",
    "            channels=mne.pick_channels(data.ch_names, include=[],exclude=exclude[study_num-1])\n",
    "            data_resampled = data.resample(128)\n",
    "            data_preprocessed=mne.filter.filter_data(data_resampled.get_data(),128,1,63)\n",
    "            x=data_preprocessed\n",
    "            x_df=data.to_data_frame()\n",
    "            labels=x_df['label']\n",
    "            chn=(x.shape)[0]\n",
    "            window=(x.shape)[2]\n",
    "            idx=0\n",
    "            for trail in range(chn):\n",
    "                final_part_data=x[trail]\n",
    "                final_part_data=final_part_data[channels]\n",
    "                print(file,window,idx,chn,chn*window,final_part_data.shape)\n",
    "                label=labels[idx]\n",
    "                idx=idx+window\n",
    "                np.save(os.path.join(destpath,str(trail)+'_'+str(int(label))),final_part_data)"
   ]
  }
 ],
 "metadata": {
  "kernelspec": {
   "display_name": "Python 3 (ipykernel)",
   "language": "python",
   "name": "python3"
  },
  "language_info": {
   "codemirror_mode": {
    "name": "ipython",
    "version": 3
   },
   "file_extension": ".py",
   "mimetype": "text/x-python",
   "name": "python",
   "nbconvert_exporter": "python",
   "pygments_lexer": "ipython3",
   "version": "3.9.12"
  }
 },
 "nbformat": 4,
 "nbformat_minor": 5
}
