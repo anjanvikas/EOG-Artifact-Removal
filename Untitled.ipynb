{
 "cells": [
  {
   "cell_type": "code",
   "execution_count": 2,
   "id": "469480ed",
   "metadata": {},
   "outputs": [],
   "source": [
    "import os\n",
    "import mne\n",
    "import os.path as op\n",
    "import numpy as np\n",
    "from time import time\n",
    "from mne import io, Epochs\n",
    "from matplotlib import pyplot as plt\n",
    "from mne.preprocessing import ICA\n",
    "# from mayavi import mlab\n",
    "from mne.minimum_norm import (make_inverse_operator, apply_inverse,\n",
    "                              write_inverse_operator)\n",
    "\n"
   ]
  },
  {
   "cell_type": "code",
   "execution_count": 3,
   "id": "acde6ca3",
   "metadata": {},
   "outputs": [],
   "source": [
    "\n",
    "path = r\"C:\\Users\\DELL\\Desktop\\20credit\\EEG_eye_artifact\\study01\"\n",
    "\n",
    "\n",
    "\n",
    "    "
   ]
  },
  {
   "cell_type": "code",
   "execution_count": 4,
   "id": "b48cf9b7",
   "metadata": {},
   "outputs": [],
   "source": [
    "folders = []\n",
    "files = []\n",
    "filenames = []\n",
    "setfiles = []\n",
    "fdtfiles = []\n",
    "eventfiles = []\n",
    "headmodels = []\n",
    "participants = []\n",
    "\n",
    "#get files in the folder\n",
    "# r=root, d=directories, f = files\n",
    "for r, d, f, in os.walk(path):\n",
    "    for folder in d:\n",
    "        folders.append(os.path.join(r, folder)) # adds folders to array folders\n",
    "    for file in f:\n",
    "        files.append(os.path.join(r, file)) # adds filespaths to array files\n",
    "        if not '.' in file:\n",
    "            filenames.append(os.path.basename(file)) # adds all filenames without extension (raw)\n",
    "            if file[0:4] not in participants:\n",
    "                participants.append(os.path.basename(file[0:4])) # if participants was already added, it is not added again\n",
    "        if not 'old' in file:\n",
    "            if '.evt' in file:\n",
    "                eventfiles.append(os.path.join(r, file)) # adds the events to array events\n",
    "            if '.sfp' in file:\n",
    "                headmodels.append(os.path.join(r, file))\n",
    "            if '.set' in file:\n",
    "                setfiles.append(os.path.join(r, file))\n",
    "            if '.fdt' in file:\n",
    "                fdtfiles.append(os.path.join(r, file))\n",
    "\n"
   ]
  },
  {
   "cell_type": "code",
   "execution_count": 7,
   "id": "c50c5f97",
   "metadata": {},
   "outputs": [
    {
     "name": "stdout",
     "output_type": "stream",
     "text": [
      "Opening raw data file C:\\Users\\DELL\\Desktop\\20credit\\EEG_eye_artifact\\study01\\study01_p01_prep.set-epo.fif...\n"
     ]
    },
    {
     "name": "stderr",
     "output_type": "stream",
     "text": [
      "C:\\Users\\DELL\\AppData\\Local\\Temp\\ipykernel_12704\\1551561342.py:2: RuntimeWarning: This filename (C:\\Users\\DELL\\Desktop\\20credit\\EEG_eye_artifact\\study01\\study01_p01_prep.set-epo.fif) does not conform to MNE naming conventions. All raw files should end with raw.fif, raw_sss.fif, raw_tsss.fif, _meg.fif, _eeg.fif, _ieeg.fif, raw.fif.gz, raw_sss.fif.gz, raw_tsss.fif.gz, _meg.fif.gz, _eeg.fif.gz or _ieeg.fif.gz\n",
      "  raw = mne.io.read_raw_fif(sample_data_raw_file)\n"
     ]
    },
    {
     "ename": "ValueError",
     "evalue": "No raw data in C:\\Users\\DELL\\Desktop\\20credit\\EEG_eye_artifact\\study01\\study01_p01_prep.set-epo.fif",
     "output_type": "error",
     "traceback": [
      "\u001b[1;31m---------------------------------------------------------------------------\u001b[0m",
      "\u001b[1;31mValueError\u001b[0m                                Traceback (most recent call last)",
      "Input \u001b[1;32mIn [7]\u001b[0m, in \u001b[0;36m<cell line: 2>\u001b[1;34m()\u001b[0m\n\u001b[0;32m      1\u001b[0m sample_data_raw_file \u001b[38;5;241m=\u001b[39m \u001b[38;5;124mr\u001b[39m\u001b[38;5;124m\"\u001b[39m\u001b[38;5;124mC:\u001b[39m\u001b[38;5;124m\\\u001b[39m\u001b[38;5;124mUsers\u001b[39m\u001b[38;5;124m\\\u001b[39m\u001b[38;5;124mDELL\u001b[39m\u001b[38;5;124m\\\u001b[39m\u001b[38;5;124mDesktop\u001b[39m\u001b[38;5;124m\\\u001b[39m\u001b[38;5;124m20credit\u001b[39m\u001b[38;5;124m\\\u001b[39m\u001b[38;5;124mEEG_eye_artifact\u001b[39m\u001b[38;5;124m\\\u001b[39m\u001b[38;5;124mstudy01\u001b[39m\u001b[38;5;124m\\\u001b[39m\u001b[38;5;124mstudy01_p01_prep.set-epo.fif\u001b[39m\u001b[38;5;124m\"\u001b[39m\n\u001b[1;32m----> 2\u001b[0m raw \u001b[38;5;241m=\u001b[39m \u001b[43mmne\u001b[49m\u001b[38;5;241;43m.\u001b[39;49m\u001b[43mio\u001b[49m\u001b[38;5;241;43m.\u001b[39;49m\u001b[43mread_raw_fif\u001b[49m\u001b[43m(\u001b[49m\u001b[43msample_data_raw_file\u001b[49m\u001b[43m)\u001b[49m\n",
      "File \u001b[1;32m~\\anaconda3\\lib\\site-packages\\mne\\io\\fiff\\raw.py:482\u001b[0m, in \u001b[0;36mread_raw_fif\u001b[1;34m(fname, allow_maxshield, preload, on_split_missing, verbose)\u001b[0m\n\u001b[0;32m    442\u001b[0m \u001b[38;5;129m@fill_doc\u001b[39m\n\u001b[0;32m    443\u001b[0m \u001b[38;5;28;01mdef\u001b[39;00m \u001b[38;5;21mread_raw_fif\u001b[39m(fname, allow_maxshield\u001b[38;5;241m=\u001b[39m\u001b[38;5;28;01mFalse\u001b[39;00m, preload\u001b[38;5;241m=\u001b[39m\u001b[38;5;28;01mFalse\u001b[39;00m,\n\u001b[0;32m    444\u001b[0m                  on_split_missing\u001b[38;5;241m=\u001b[39m\u001b[38;5;124m'\u001b[39m\u001b[38;5;124mraise\u001b[39m\u001b[38;5;124m'\u001b[39m, verbose\u001b[38;5;241m=\u001b[39m\u001b[38;5;28;01mNone\u001b[39;00m):\n\u001b[0;32m    445\u001b[0m     \u001b[38;5;124;03m\"\"\"Reader function for Raw FIF data.\u001b[39;00m\n\u001b[0;32m    446\u001b[0m \n\u001b[0;32m    447\u001b[0m \u001b[38;5;124;03m    Parameters\u001b[39;00m\n\u001b[1;32m   (...)\u001b[0m\n\u001b[0;32m    480\u001b[0m \u001b[38;5;124;03m    are updated accordingly.\u001b[39;00m\n\u001b[0;32m    481\u001b[0m \u001b[38;5;124;03m    \"\"\"\u001b[39;00m\n\u001b[1;32m--> 482\u001b[0m     \u001b[38;5;28;01mreturn\u001b[39;00m \u001b[43mRaw\u001b[49m\u001b[43m(\u001b[49m\u001b[43mfname\u001b[49m\u001b[38;5;241;43m=\u001b[39;49m\u001b[43mfname\u001b[49m\u001b[43m,\u001b[49m\u001b[43m \u001b[49m\u001b[43mallow_maxshield\u001b[49m\u001b[38;5;241;43m=\u001b[39;49m\u001b[43mallow_maxshield\u001b[49m\u001b[43m,\u001b[49m\n\u001b[0;32m    483\u001b[0m \u001b[43m               \u001b[49m\u001b[43mpreload\u001b[49m\u001b[38;5;241;43m=\u001b[39;49m\u001b[43mpreload\u001b[49m\u001b[43m,\u001b[49m\u001b[43m \u001b[49m\u001b[43mverbose\u001b[49m\u001b[38;5;241;43m=\u001b[39;49m\u001b[43mverbose\u001b[49m\u001b[43m,\u001b[49m\n\u001b[0;32m    484\u001b[0m \u001b[43m               \u001b[49m\u001b[43mon_split_missing\u001b[49m\u001b[38;5;241;43m=\u001b[39;49m\u001b[43mon_split_missing\u001b[49m\u001b[43m)\u001b[49m\n",
      "File \u001b[1;32m<decorator-gen-245>:12\u001b[0m, in \u001b[0;36m__init__\u001b[1;34m(self, fname, allow_maxshield, preload, on_split_missing, verbose)\u001b[0m\n",
      "File \u001b[1;32m~\\anaconda3\\lib\\site-packages\\mne\\io\\fiff\\raw.py:81\u001b[0m, in \u001b[0;36mRaw.__init__\u001b[1;34m(self, fname, allow_maxshield, preload, on_split_missing, verbose)\u001b[0m\n\u001b[0;32m     78\u001b[0m next_fname \u001b[38;5;241m=\u001b[39m fname\n\u001b[0;32m     79\u001b[0m \u001b[38;5;28;01mwhile\u001b[39;00m next_fname \u001b[38;5;129;01mis\u001b[39;00m \u001b[38;5;129;01mnot\u001b[39;00m \u001b[38;5;28;01mNone\u001b[39;00m:\n\u001b[0;32m     80\u001b[0m     raw, next_fname, buffer_size_sec \u001b[38;5;241m=\u001b[39m \\\n\u001b[1;32m---> 81\u001b[0m         \u001b[38;5;28;43mself\u001b[39;49m\u001b[38;5;241;43m.\u001b[39;49m\u001b[43m_read_raw_file\u001b[49m\u001b[43m(\u001b[49m\u001b[43mnext_fname\u001b[49m\u001b[43m,\u001b[49m\u001b[43m \u001b[49m\u001b[43mallow_maxshield\u001b[49m\u001b[43m,\u001b[49m\n\u001b[0;32m     82\u001b[0m \u001b[43m                            \u001b[49m\u001b[43mpreload\u001b[49m\u001b[43m,\u001b[49m\u001b[43m \u001b[49m\u001b[43mdo_check_ext\u001b[49m\u001b[43m)\u001b[49m\n\u001b[0;32m     83\u001b[0m     do_check_ext \u001b[38;5;241m=\u001b[39m \u001b[38;5;28;01mFalse\u001b[39;00m\n\u001b[0;32m     84\u001b[0m     raws\u001b[38;5;241m.\u001b[39mappend(raw)\n",
      "File \u001b[1;32m<decorator-gen-246>:12\u001b[0m, in \u001b[0;36m_read_raw_file\u001b[1;34m(self, fname, allow_maxshield, preload, do_check_ext, verbose)\u001b[0m\n",
      "File \u001b[1;32m~\\anaconda3\\lib\\site-packages\\mne\\io\\fiff\\raw.py:170\u001b[0m, in \u001b[0;36mRaw._read_raw_file\u001b[1;34m(self, fname, allow_maxshield, preload, do_check_ext, verbose)\u001b[0m\n\u001b[0;32m    168\u001b[0m raw_node \u001b[38;5;241m=\u001b[39m dir_tree_find(meas, FIFF\u001b[38;5;241m.\u001b[39mFIFFB_IAS_RAW_DATA)\n\u001b[0;32m    169\u001b[0m \u001b[38;5;28;01mif\u001b[39;00m (\u001b[38;5;28mlen\u001b[39m(raw_node) \u001b[38;5;241m==\u001b[39m \u001b[38;5;241m0\u001b[39m):\n\u001b[1;32m--> 170\u001b[0m     \u001b[38;5;28;01mraise\u001b[39;00m \u001b[38;5;167;01mValueError\u001b[39;00m(\u001b[38;5;124m'\u001b[39m\u001b[38;5;124mNo raw data in \u001b[39m\u001b[38;5;132;01m%s\u001b[39;00m\u001b[38;5;124m'\u001b[39m \u001b[38;5;241m%\u001b[39m fname_rep)\n\u001b[0;32m    171\u001b[0m _check_maxshield(allow_maxshield)\n\u001b[0;32m    172\u001b[0m \u001b[38;5;28;01mwith\u001b[39;00m info\u001b[38;5;241m.\u001b[39m_unlock():\n",
      "\u001b[1;31mValueError\u001b[0m: No raw data in C:\\Users\\DELL\\Desktop\\20credit\\EEG_eye_artifact\\study01\\study01_p01_prep.set-epo.fif"
     ]
    }
   ],
   "source": [
    "sample_data_raw_file = r\"C:\\Users\\DELL\\Desktop\\20credit\\EEG_eye_artifact\\study01\\study01_p01_prep.set-epo.fif\"\n",
    "raw = mne.io.read_raw_fif(sample_data_raw_file)"
   ]
  },
  {
   "cell_type": "code",
   "execution_count": null,
   "id": "33f0f812",
   "metadata": {},
   "outputs": [],
   "source": [
    "picks = mne.fiff.pick_types(raw.info,meg=True,eeg=True,eog=True)"
   ]
  },
  {
   "cell_type": "code",
   "execution_count": null,
   "id": "52f7f177",
   "metadata": {},
   "outputs": [],
   "source": [
    "events = mne.find_events(raw)"
   ]
  },
  {
   "cell_type": "code",
   "execution_count": null,
   "id": "9e3eea20",
   "metadata": {},
   "outputs": [],
   "source": [
    "epochs = mne.Epochs(raw,events,event_id=1,tmin=-0.2,tmax=0.5,proj=True,picks=picks,baseline=(None,0),preload=True,reject=dict (grad=4000e-13, mag=4e-12, eog=150e-6))"
   ]
  }
 ],
 "metadata": {
  "kernelspec": {
   "display_name": "Python 3 (ipykernel)",
   "language": "python",
   "name": "python3"
  },
  "language_info": {
   "codemirror_mode": {
    "name": "ipython",
    "version": 3
   },
   "file_extension": ".py",
   "mimetype": "text/x-python",
   "name": "python",
   "nbconvert_exporter": "python",
   "pygments_lexer": "ipython3",
   "version": "3.9.12"
  }
 },
 "nbformat": 4,
 "nbformat_minor": 5
}
